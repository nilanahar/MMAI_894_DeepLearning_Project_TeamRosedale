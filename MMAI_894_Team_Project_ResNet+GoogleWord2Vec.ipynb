{
  "cells": [
    {
      "cell_type": "markdown",
      "metadata": {
        "id": "view-in-github",
        "colab_type": "text"
      },
      "source": [
        "<a href=\"https://colab.research.google.com/github/nilanahar/MMAI_894_DeepLearning_Project_TeamRosedale/blob/main/MMAI_894_Team_Project_ResNet%2BGoogleWord2Vec.ipynb\" target=\"_parent\"><img src=\"https://colab.research.google.com/assets/colab-badge.svg\" alt=\"Open In Colab\"/></a>"
      ]
    },
    {
      "cell_type": "markdown",
      "id": "99d86a5c-554c-485e-b4d8-9a555d94b158",
      "metadata": {
        "id": "99d86a5c-554c-485e-b4d8-9a555d94b158"
      },
      "source": [
        "# Set Up Environment"
      ]
    },
    {
      "cell_type": "markdown",
      "id": "kmyD5GpHG5a1",
      "metadata": {
        "id": "kmyD5GpHG5a1"
      },
      "source": [
        "#### Packages to Load"
      ]
    },
    {
      "cell_type": "code",
      "execution_count": null,
      "id": "301dd1ed-b27f-4189-a4a4-ca3cc1796563",
      "metadata": {
        "id": "301dd1ed-b27f-4189-a4a4-ca3cc1796563"
      },
      "outputs": [],
      "source": [
        "from google.colab import drive\n",
        "import pandas as pd\n",
        "import numpy as np\n",
        "import json\n",
        "import joblib\n",
        "import os\n",
        "import re\n",
        "import ast\n",
        "import matplotlib.pyplot as plt\n",
        "\n",
        "from tensorflow.keras.applications.resnet50 import ResNet50, preprocess_input\n",
        "from tensorflow.keras.preprocessing import image\n",
        "from tqdm import tqdm\n",
        "import matplotlib.pyplot as plt\n",
        "import seaborn as sns\n",
        "\n",
        "import nltk\n",
        "nltk.download('wordnet')\n",
        "nltk.download('stopwords')\n",
        "from nltk.stem import WordNetLemmatizer\n",
        "from nltk.corpus import stopwords\n",
        "\n",
        "# from wordcloud import WordCloud\n",
        "# from collections import Counter\n",
        "\n",
        "# import gensim.downloader as api\n",
        "from sklearn.metrics.pairwise import cosine_similarity\n",
        "# from sklearn.preprocessing import StandardScaler\n",
        "# from sklearn.preprocessing import OneHotEncoder\n",
        "from sklearn.preprocessing import LabelEncoder\n",
        "\n",
        "from tensorflow.keras.layers import Input, Embedding, Flatten, Concatenate, Dense, Dropout\n",
        "from tensorflow.keras.models import Model\n",
        "from tensorflow.keras.optimizers import Adam\n",
        "\n",
        "import warnings\n",
        "warnings.filterwarnings(\"ignore\")\n",
        "\n",
        "!pip install optuna\n",
        "import optuna"
      ]
    },
    {
      "cell_type": "code",
      "execution_count": null,
      "id": "NfY7XTcdFKCX",
      "metadata": {
        "id": "NfY7XTcdFKCX"
      },
      "outputs": [],
      "source": [
        "# define my google drive\n",
        "drive.mount(\"/content/drive\", force_remount=True)"
      ]
    },
    {
      "cell_type": "markdown",
      "id": "JqENfxla0BuW",
      "metadata": {
        "id": "JqENfxla0BuW"
      },
      "source": [
        "#### Functions to Use (Must Run)"
      ]
    },
    {
      "cell_type": "code",
      "execution_count": null,
      "id": "XFIL7w8nz_BF",
      "metadata": {
        "id": "XFIL7w8nz_BF"
      },
      "outputs": [],
      "source": [
        "# Function to load multiple JSON data\n",
        "def load_json(file_path):\n",
        "    if file_path: # Check if file_path is not None\n",
        "        with open(file_path, 'r') as f:\n",
        "            return json.load(f)\n",
        "    else:\n",
        "        return None # or handle the None case differently, like returning an empty dictionary\n",
        "\n",
        "def json_to_pdDf(mcq_file_path, oeq_file_path, answers_file_path):\n",
        "    # Now you can use this function to load multiple JSON files\n",
        "    mcq_json_data = load_json(mcq_file_path)\n",
        "    oeq_json_data = load_json(oeq_file_path)\n",
        "\n",
        "    mcq_df = pd.json_normalize(mcq_json_data['questions'])[['image_id', 'question_id', 'question', 'multiple_choices']]\n",
        "    oeq_df = pd.json_normalize(oeq_json_data['questions'])[['image_id', 'question_id', 'question']]\n",
        "\n",
        "    # Check if answers_file_path is None\n",
        "    if answers_file_path is not None:\n",
        "        answers_json_data = load_json(answers_file_path)\n",
        "        answers_df = pd.json_normalize(answers_json_data['annotations'])[['image_id', 'question_id', 'question_type', 'answers', 'multiple_choice_answer', 'answer_type']]\n",
        "    else:\n",
        "        # Create an empty DataFrame if answers_file_path is None\n",
        "        answers_df = pd.DataFrame(columns=['image_id', 'question_id', 'question_type', 'answers', 'multiple_choice_answer', 'answer_type'])\n",
        "\n",
        "    return mcq_df, oeq_df, answers_df\n",
        "\n",
        "\n",
        "def tabularize_answers_df(answers_df):\n",
        "    # Create a unique identifier for each row to track back after transformations\n",
        "    answers_df['index'] = answers_df.index\n",
        "    # Explode the 'answers' column into separate rows, while keeping other columns intact\n",
        "    answers_expanded_df = answers_df.explode('answers')\n",
        "    # normalization as before\n",
        "    answers_details = pd.json_normalize(answers_expanded_df['answers'])\n",
        "    answers_details['index'] = answers_expanded_df.index\n",
        "    # Concatenate back to the actual answers DataFrame\n",
        "    answers_expanded_df = pd.merge(answers_df, answers_details, on='index', how='left')\n",
        "    answers_merged_df = answers_expanded_df[['image_id', 'question_id', 'question_type',\n",
        "                                              'multiple_choice_answer', 'answer_type',\n",
        "                                              'answer', 'answer_id', 'answer_confidence',\n",
        "                                              'index']]\n",
        "    answers_merged_df = answers_merged_df.rename(columns={'multiple_choice_answer': 'target_answer'})\n",
        "\n",
        "    return answers_merged_df\n",
        "\n",
        "# Function to extract features from multiple JSON files\n",
        "def extract_qna_features(mcq_file_path, oeq_file_path, answers_file_path):\n",
        "\n",
        "    mcq_df, oeq_df, answers_df = json_to_pdDf(mcq_file_path, oeq_file_path, answers_file_path)\n",
        "    answers_merged_df = tabularize_answers_df(answers_df)\n",
        "\n",
        "    questions_merged_df = pd.merge(mcq_df, oeq_df, on=['image_id', 'question_id'], how='left', suffixes=('_oeq', '_mcq'))\n",
        "    final_qna_df = pd.merge(questions_merged_df, answers_merged_df, on=['image_id', 'question_id'], how='left')\n",
        "\n",
        "    return mcq_df, oeq_df, answers_merged_df, final_qna_df\n",
        "\n",
        "\n",
        "# Function to extract last five digits from file names\n",
        "def extract_last_five_digits(filename):\n",
        "    match = re.search(r'(\\d{5})\\.png$', filename)\n",
        "    if match:\n",
        "        return match.group(1)\n",
        "    else:\n",
        "        raise ValueError(f\"Filename {filename} does not match the expected pattern.\")\n",
        "\n",
        "def extract_image_features(model, images_file_path):\n",
        "    images_features_dict = {}\n",
        "    for img_name in tqdm(os.listdir(images_file_path)):\n",
        "        img_path = os.path.join(images_file_path, img_name)\n",
        "\n",
        "        # Extract image_id (adjust slice according to your filename structure)\n",
        "        image_id = img_name[-9:-4]  # Example: extracting last 5 digits before file extension\n",
        "\n",
        "        # Load and preprocess the image\n",
        "        img = image.load_img(img_path, target_size=(224, 224))\n",
        "        x = preprocess_input(np.expand_dims(image.img_to_array(img), axis=0))\n",
        "\n",
        "        # Extract features and store them in the dictionary\n",
        "        features = model.predict(x)\n",
        "        images_features_dict[image_id] = features.flatten()\n",
        "\n",
        "    images_features_df = pd.DataFrame.from_dict(images_features_dict, orient='index')\n",
        "    images_features_df.reset_index(inplace=True)\n",
        "    images_features_df.rename(columns={'index': 'image_id'}, inplace=True)\n",
        "\n",
        "    return images_features_df\n",
        "\n",
        "\n",
        "def complete_datasets(qna_df, images_features_df):\n",
        "    qna_df = qna_df.sort_values(by='image_id').reset_index(drop=True)\n",
        "    images_features_df = images_features_df.sort_values(by='image_id').reset_index(drop=True)\n",
        "    images_features_df['image_id'] = images_features_df['image_id'].astype(int)\n",
        "    # Merge the 3 dataframes into one (base dataset is image_df (unique), left join qna on image id)\n",
        "    complete_training_set = pd.merge(images_features_df, qna_df, on='image_id', how='left')\n",
        "    return complete_training_set\n",
        "\n",
        "def preprocess_text(text):\n",
        "    \"\"\"\n",
        "    Improved text preprocessing function that retains context and meaning.\n",
        "    - Converts text to lowercase.\n",
        "    - Removes non-alphabetic characters.\n",
        "    - Tokenizes, removes only non-essential stopwords, and lemmatizes.\n",
        "    \"\"\"\n",
        "    if pd.isnull(text):\n",
        "        return ''\n",
        "\n",
        "    # Convert text to lowercase\n",
        "    text = text.lower()\n",
        "    # Remove non-alphabetic characters (but keep question marks and spaces)\n",
        "    text = re.sub(r'[^a-z\\s\\?]', '', text)\n",
        "    # Tokenize text into words\n",
        "    words = text.split()\n",
        "    # Create a lemmatizer object\n",
        "    lemmatizer = WordNetLemmatizer()\n",
        "    # Define stop words\n",
        "    stop_words = set(stopwords.words('english')) # Define stop_words here\n",
        "    essential_stopwords = {\"how\", \"how many\", \"what\", \"when\", \"why\", \"which\", \"where\", \"who\"}\n",
        "    # Remove stopwords, but retain essential question words\n",
        "    words = [lemmatizer.lemmatize(word) for word in words if word not in stop_words or word in essential_stopwords]\n",
        "    # Join words back into a single string\n",
        "    return ' '.join(words)\n",
        "\n",
        "\n",
        "def get_sentence_embedding(sentence, model):\n",
        "    \"\"\"\n",
        "    Calculates the sentence embedding by averaging the word embeddings of all words in the sentence.\n",
        "    If a word is not found in the model, it's embedding is considered as a zero vector.\n",
        "    \"\"\"\n",
        "    # Convert series to string\n",
        "    if isinstance(sentence, pd.Series):\n",
        "        sentence = ' '.join(sentence.astype(str).tolist())\n",
        "    words = sentence.split()\n",
        "    # Removed .wv since model is already a KeyedVectors object\n",
        "    word_vectors = [model[word] for word in words if word in model]\n",
        "\n",
        "    if len(word_vectors) == 0:\n",
        "        return np.zeros(model.vector_size)\n",
        "\n",
        "    return np.mean(word_vectors, axis=0)\n",
        "\n",
        "\n",
        "# Modified filter_choices_by_cosine_similarity function using Word2Vec\n",
        "def filter_choices_by_word2vec_similarity(row, model):\n",
        "    \"\"\"\n",
        "    Filters multiple-choice options based on their cosine similarity with the question using Word2Vec embeddings.\n",
        "    Args:\n",
        "    - row: A DataFrame row containing a 'question' and 'multiple_choices' columns.\n",
        "    - model: Trained Word2Vec model.\n",
        "\n",
        "    Returns:\n",
        "    - A list of filtered multiple-choice options based on cosine similarity.\n",
        "    \"\"\"\n",
        "    question = row['question']\n",
        "    choices = row['multiple_choices']  # Assume 'multiple_choices' column has a list of answer options\n",
        "\n",
        "    # Step 1: Generate Word2Vec embeddings for the question\n",
        "    question_embedding = get_sentence_embedding(question, model)\n",
        "\n",
        "    # Step 2: Generate Word2Vec embeddings for each choice\n",
        "    choice_embeddings = [get_sentence_embedding(choice, model) for choice in choices]\n",
        "\n",
        "    # Step 3: Calculate cosine similarity between question embedding and each choice embedding\n",
        "    similarity_scores = cosine_similarity([question_embedding], choice_embeddings)[0]\n",
        "\n",
        "    # Step 4: Retain choices with a high similarity score (e.g., > 0.3)\n",
        "    threshold = 0.3\n",
        "    filtered_choices = [choices[i] for i, score in enumerate(similarity_scores) if score >= threshold]\n",
        "\n",
        "    # Step 5: If no choices pass the threshold, keep original choices to avoid empty options\n",
        "    return filtered_choices if filtered_choices else choices\n",
        "\n",
        "# Step 1: Concatenate List into a Single Sentence for Each Row\n",
        "def concatenate_list_to_sentence(row, list_column):\n",
        "    \"\"\"\n",
        "    Concatenate all words in a list (in a single row) into a single string.\n",
        "    Args:\n",
        "    - row: A single row of the DataFrame.\n",
        "    - list_column: Column name containing lists of words.\n",
        "\n",
        "    Returns:\n",
        "    - A single concatenated string of all words in the list.\n",
        "    \"\"\"\n",
        "    return \" \".join(row[list_column])  # Join words with a space separator\n"
      ]
    },
    {
      "cell_type": "markdown",
      "id": "mq3M6CaMGwRV",
      "metadata": {
        "id": "mq3M6CaMGwRV"
      },
      "source": [
        "#### Define Constants"
      ]
    },
    {
      "cell_type": "code",
      "execution_count": null,
      "id": "5ZAVikrzGvS1",
      "metadata": {
        "id": "5ZAVikrzGvS1"
      },
      "outputs": [],
      "source": [
        "### Load the pre-trained model that you wish to use to extract image features ###\n",
        "# model = ResNet50(weights='imagenet', include_top=False, pooling='avg')\n",
        "\n",
        "# wxord2vec_model = api.load('word2vec-google-news-300')\n",
        "# joblib.dump(word2vec_model, \"/content/drive/MyDrive/Colab Notebooks/894/Training/(2)_word2vec_model_for_2.2.joblib\")\n",
        "# model = joblib.load(\"/content/drive/MyDrive/Colab Notebooks/894/Training/(2)_word2vec_model_for_2.2.joblib\")"
      ]
    },
    {
      "cell_type": "markdown",
      "id": "QEB6H69uLOY-",
      "metadata": {
        "id": "QEB6H69uLOY-",
        "jp-MarkdownHeadingCollapsed": true
      },
      "source": [
        "# Step 1: Data Collection & Feature Extraction"
      ]
    },
    {
      "cell_type": "markdown",
      "id": "cI1E0BnDG7bk",
      "metadata": {
        "id": "cI1E0BnDG7bk"
      },
      "source": [
        "#### Set Directories"
      ]
    },
    {
      "cell_type": "code",
      "execution_count": null,
      "id": "qHO729Co0PsO",
      "metadata": {
        "id": "qHO729Co0PsO"
      },
      "outputs": [],
      "source": [
        "# Define the file path (adjust it to match your folder structure)\n",
        "training_mcq_file_path = \"/content/drive/MyDrive/Colab Notebooks/894/Training/Data/MultipleChoice_abstract_v002_train2015_questions.json\"\n",
        "training_oeq_file_path = \"/content/drive/MyDrive/Colab Notebooks/894/Training/Data/OpenEnded_abstract_v002_train2015_questions.json\"\n",
        "training_answers_file_path = \"/content/drive/MyDrive/Colab Notebooks/894/Training/Data/abstract_v002_train2015_annotations.json\"\n",
        "training_images_file_path = \"/content/drive/MyDrive/Colab Notebooks/894/Training/Data/scene_img_abstract_v002_train2015\"\n",
        "\n",
        "validation_mcq_file_path = \"/content/drive/MyDrive/Colab Notebooks/894/Validation/Data/MultipleChoice_abstract_v002_val2015_questions.json\"\n",
        "validation_oeq_file_path = \"/content/drive/MyDrive/Colab Notebooks/894/Validation/Data/OpenEnded_abstract_v002_val2015_questions.json\"\n",
        "validation_answers_file_path = \"/content/drive/MyDrive/Colab Notebooks/894/Validation/Data/abstract_v002_val2015_annotations.json\"\n",
        "validation_images_file_path = \"/content/drive/MyDrive/Colab Notebooks/894/Validation/Data/scene_img_abstract_v002_val2015\"\n",
        "\n",
        "testing_mcq_file_path = \"/content/drive/MyDrive/Colab Notebooks/894/Testing/Data/MultipleChoice_abstract_v002_test2015_questions.json\"\n",
        "testing_oeq_file_path = \"/content/drive/MyDrive/Colab Notebooks/894/Testing/Data/OpenEnded_abstract_v002_test2015_questions.json\"\n",
        "testing_images_file_path = \"/content/drive/MyDrive/Colab Notebooks/894/Testing/Data/scene_img_abstract_v002_test2015\""
      ]
    },
    {
      "cell_type": "markdown",
      "id": "67pkaTrTLT0r",
      "metadata": {
        "id": "67pkaTrTLT0r"
      },
      "source": [
        "### 1.1 Training Datasets"
      ]
    },
    {
      "cell_type": "markdown",
      "id": "bfT1XMxxLeLP",
      "metadata": {
        "id": "bfT1XMxxLeLP"
      },
      "source": [
        "#### 1.1.1 Extracting Questions & Answers & Features"
      ]
    },
    {
      "cell_type": "code",
      "execution_count": null,
      "id": "JoL3pix9BMQ_",
      "metadata": {
        "id": "JoL3pix9BMQ_"
      },
      "outputs": [],
      "source": [
        "train_mcq_df, train_oeq_df, train_answers_merged_df, train_final_qna_df = extract_qna_features(training_mcq_file_path, training_oeq_file_path, training_answers_file_path)\n",
        "train_final_qna_df.head(5)"
      ]
    },
    {
      "cell_type": "markdown",
      "id": "Simpozq0Tk0N",
      "metadata": {
        "id": "Simpozq0Tk0N"
      },
      "source": [
        "##### Save Workspace"
      ]
    },
    {
      "cell_type": "code",
      "execution_count": null,
      "id": "XzizcLGY5iqQ",
      "metadata": {
        "id": "XzizcLGY5iqQ"
      },
      "outputs": [],
      "source": [
        "# Save the dataframes to Google Drive\n",
        "joblib.dump(train_final_qna_df, \"/content/drive/MyDrive/Colab Notebooks/894/Training/questions_answers_features.joblib\")"
      ]
    },
    {
      "cell_type": "markdown",
      "id": "KHi7tEUojGD1",
      "metadata": {
        "id": "KHi7tEUojGD1"
      },
      "source": [
        "#### 1.1.2 Extracting Images' Features\n"
      ]
    },
    {
      "cell_type": "code",
      "execution_count": null,
      "id": "lenwrOQzm2pT",
      "metadata": {
        "id": "lenwrOQzm2pT"
      },
      "outputs": [],
      "source": [
        "train_images_features_df = extract_image_features(model, training_images_file_path)"
      ]
    },
    {
      "cell_type": "markdown",
      "id": "2E-f3B7XTvyv",
      "metadata": {
        "id": "2E-f3B7XTvyv"
      },
      "source": [
        "##### Save Workspace"
      ]
    },
    {
      "cell_type": "code",
      "execution_count": null,
      "id": "818z9tPN-6nA",
      "metadata": {
        "id": "818z9tPN-6nA"
      },
      "outputs": [],
      "source": [
        "joblib.dump(train_images_features_df, \"/content/drive/MyDrive/Colab Notebooks/894/Training/images_features.joblib\")"
      ]
    },
    {
      "cell_type": "markdown",
      "id": "dsnI40JNka76",
      "metadata": {
        "id": "dsnI40JNka76"
      },
      "source": [
        "#### 1.1.3 Complete Training Dataset"
      ]
    },
    {
      "cell_type": "markdown",
      "id": "xKKJ0zZ2T-LX",
      "metadata": {
        "id": "xKKJ0zZ2T-LX"
      },
      "source": [
        "##### Load Workspace"
      ]
    },
    {
      "cell_type": "code",
      "execution_count": null,
      "id": "hVFe_SP5UA9p",
      "metadata": {
        "id": "hVFe_SP5UA9p"
      },
      "outputs": [],
      "source": [
        "train_qna_df = joblib.load(\"/content/drive/MyDrive/Colab Notebooks/894/Training/questions_answers_features.joblib\")\n",
        "train_images_df = joblib.load(\"/content/drive/MyDrive/Colab Notebooks/894/Training/images_features.joblib\")\n",
        "train_images_df.shape"
      ]
    },
    {
      "cell_type": "code",
      "execution_count": null,
      "id": "u5uUg4B2G_Cx",
      "metadata": {
        "id": "u5uUg4B2G_Cx"
      },
      "outputs": [],
      "source": [
        "train_complete_df = complete_datasets(train_qna_df, train_images_df)\n",
        "train_complete_df.head()"
      ]
    },
    {
      "cell_type": "markdown",
      "id": "Ia-YmIhXV_NW",
      "metadata": {
        "id": "Ia-YmIhXV_NW"
      },
      "source": [
        "##### Save Workspace"
      ]
    },
    {
      "cell_type": "code",
      "execution_count": null,
      "id": "0sMp1erBWBUn",
      "metadata": {
        "id": "0sMp1erBWBUn"
      },
      "outputs": [],
      "source": [
        "joblib.dump(train_complete_df, \"/content/drive/MyDrive/Colab Notebooks/894/Training/complete_training_set_tabular.joblib\")"
      ]
    },
    {
      "cell_type": "markdown",
      "id": "YxBCXfZvEh4N",
      "metadata": {
        "id": "YxBCXfZvEh4N"
      },
      "source": [
        "### 1.2 Validation Datasets"
      ]
    },
    {
      "cell_type": "markdown",
      "id": "DEKBb460E6-a",
      "metadata": {
        "id": "DEKBb460E6-a"
      },
      "source": [
        "#### 1.2.1 Extracting Questions & Answers\n"
      ]
    },
    {
      "cell_type": "code",
      "execution_count": null,
      "id": "Ghg64p_OFGMP",
      "metadata": {
        "id": "Ghg64p_OFGMP"
      },
      "outputs": [],
      "source": [
        "valid_mcq_df, valid_oeq_df, valid_answers_merged_df, valid_final_qna_df = extract_qna_features(validation_mcq_file_path, validation_oeq_file_path, validation_answers_file_path)\n",
        "valid_final_qna_df.head()"
      ]
    },
    {
      "cell_type": "markdown",
      "id": "k0Cw6wJZFqss",
      "metadata": {
        "id": "k0Cw6wJZFqss"
      },
      "source": [
        "##### Save Workspace"
      ]
    },
    {
      "cell_type": "code",
      "execution_count": null,
      "id": "ElSsAHlrFfbH",
      "metadata": {
        "id": "ElSsAHlrFfbH"
      },
      "outputs": [],
      "source": [
        "joblib.dump(valid_final_qna_df, \"/content/drive/MyDrive/Colab Notebooks/894/Validation/questions_answers_features.joblib\")"
      ]
    },
    {
      "cell_type": "markdown",
      "id": "QM2K8_a_GXHO",
      "metadata": {
        "id": "QM2K8_a_GXHO"
      },
      "source": [
        "#### 1.2.2 Extracting Images' Features"
      ]
    },
    {
      "cell_type": "code",
      "execution_count": null,
      "id": "UGbene9WGa4a",
      "metadata": {
        "id": "UGbene9WGa4a"
      },
      "outputs": [],
      "source": [
        "valid_images_features_df = extract_image_features(model, validation_images_file_path)"
      ]
    },
    {
      "cell_type": "code",
      "execution_count": null,
      "id": "PUYpVssHgeHj",
      "metadata": {
        "id": "PUYpVssHgeHj"
      },
      "outputs": [],
      "source": [
        "valid_images_features_df.shape"
      ]
    },
    {
      "cell_type": "markdown",
      "id": "qxw1ofbeGcoW",
      "metadata": {
        "id": "qxw1ofbeGcoW"
      },
      "source": [
        "##### Save Workspace"
      ]
    },
    {
      "cell_type": "code",
      "execution_count": null,
      "id": "GlGFRjaBTu4G",
      "metadata": {
        "id": "GlGFRjaBTu4G"
      },
      "outputs": [],
      "source": [
        "joblib.dump(valid_images_features_df, \"/content/drive/MyDrive/Colab Notebooks/894/Validation/images_features.joblib\")"
      ]
    },
    {
      "cell_type": "markdown",
      "id": "aDBA6K7iWDwe",
      "metadata": {
        "id": "aDBA6K7iWDwe"
      },
      "source": [
        "#### 1.2.3  Complete Validation Dataset"
      ]
    },
    {
      "cell_type": "markdown",
      "id": "L4wIk9c2XcfD",
      "metadata": {
        "id": "L4wIk9c2XcfD"
      },
      "source": [
        "##### Load Workspace"
      ]
    },
    {
      "cell_type": "code",
      "execution_count": null,
      "id": "JKOlMEwlXHXr",
      "metadata": {
        "id": "JKOlMEwlXHXr"
      },
      "outputs": [],
      "source": [
        "valid_qna_df = joblib.load(\"/content/drive/MyDrive/Colab Notebooks/894/Validation/questions_answers_features.joblib\")\n",
        "valid_images_df = joblib.load(\"/content/drive/MyDrive/Colab Notebooks/894/Validation/images_features.joblib\")\n",
        "valid_images_df.shape"
      ]
    },
    {
      "cell_type": "code",
      "execution_count": null,
      "id": "U0NLRsUZXVPW",
      "metadata": {
        "id": "U0NLRsUZXVPW"
      },
      "outputs": [],
      "source": [
        "valid_complete_df = complete_datasets(valid_qna_df, valid_images_df)\n",
        "valid_complete_df.head()"
      ]
    },
    {
      "cell_type": "markdown",
      "id": "ydFJ9dP6Xao1",
      "metadata": {
        "id": "ydFJ9dP6Xao1"
      },
      "source": [
        "##### Save Workspace"
      ]
    },
    {
      "cell_type": "code",
      "execution_count": null,
      "id": "_240VErpXgEV",
      "metadata": {
        "id": "_240VErpXgEV"
      },
      "outputs": [],
      "source": [
        "joblib.dump(valid_complete_df, \"/content/drive/MyDrive/Colab Notebooks/894/Validation/complete_validation_set_tabular.joblib\")"
      ]
    },
    {
      "cell_type": "markdown",
      "id": "k3pAq_F9EzT9",
      "metadata": {
        "id": "k3pAq_F9EzT9"
      },
      "source": [
        "### 1.3 Testing Datasets"
      ]
    },
    {
      "cell_type": "markdown",
      "id": "tPwLG3LRYy0a",
      "metadata": {
        "id": "tPwLG3LRYy0a"
      },
      "source": [
        "#### 1.3.1 Extracting Questions & Answers"
      ]
    },
    {
      "cell_type": "code",
      "execution_count": null,
      "id": "ESNH3E6hYwy8",
      "metadata": {
        "id": "ESNH3E6hYwy8"
      },
      "outputs": [],
      "source": [
        "test_mcq_df, test_oeq_df, test_answers_df = json_to_pdDf(testing_mcq_file_path, testing_oeq_file_path, None)\n",
        "test_final_qna_df = pd.merge(test_mcq_df, test_oeq_df, on=['image_id', 'question_id'], how='left', suffixes=('_oeq', '_mcq'))\n",
        "test_final_qna_df.head()"
      ]
    },
    {
      "cell_type": "markdown",
      "id": "v3zIV0-RcUlB",
      "metadata": {
        "id": "v3zIV0-RcUlB"
      },
      "source": [
        "##### Save Workspace"
      ]
    },
    {
      "cell_type": "code",
      "execution_count": null,
      "id": "EQiJGqmVcW2Y",
      "metadata": {
        "id": "EQiJGqmVcW2Y"
      },
      "outputs": [],
      "source": [
        "joblib.dump(test_final_qna_df, \"/content/drive/MyDrive/Colab Notebooks/894/Testing/questions_answers_features.joblib\")"
      ]
    },
    {
      "cell_type": "markdown",
      "id": "H_DhTgJMY8ar",
      "metadata": {
        "id": "H_DhTgJMY8ar"
      },
      "source": [
        "#### 1.3.2 Extracting Images' Features"
      ]
    },
    {
      "cell_type": "code",
      "execution_count": null,
      "id": "2_uq7USmZEfL",
      "metadata": {
        "id": "2_uq7USmZEfL"
      },
      "outputs": [],
      "source": [
        "test_images_features_df = extract_image_features(model, testing_images_file_path)"
      ]
    },
    {
      "cell_type": "markdown",
      "id": "3Z5IsgPVfUa4",
      "metadata": {
        "id": "3Z5IsgPVfUa4"
      },
      "source": [
        "##### Save Workspace"
      ]
    },
    {
      "cell_type": "code",
      "execution_count": null,
      "id": "WSyv3NqtfWcr",
      "metadata": {
        "id": "WSyv3NqtfWcr"
      },
      "outputs": [],
      "source": [
        "joblib.dump(test_images_features_df, \"/content/drive/MyDrive/Colab Notebooks/894/Testing/images_features.joblib\")"
      ]
    },
    {
      "cell_type": "markdown",
      "id": "Gfe5otnzZART",
      "metadata": {
        "id": "Gfe5otnzZART"
      },
      "source": [
        "#### 1.3.3 Complete Testing Dataset"
      ]
    },
    {
      "cell_type": "markdown",
      "id": "YBj_hjOyfXXD",
      "metadata": {
        "id": "YBj_hjOyfXXD"
      },
      "source": [
        "##### Load Workspace"
      ]
    },
    {
      "cell_type": "code",
      "execution_count": null,
      "id": "DNMtyLiHZaC1",
      "metadata": {
        "id": "DNMtyLiHZaC1"
      },
      "outputs": [],
      "source": [
        "test_qna_df = joblib.load(\"/content/drive/MyDrive/Colab Notebooks/894/Testing/questions_answers_features.joblib\")\n",
        "test_images_df = joblib.load(\"/content/drive/MyDrive/Colab Notebooks/894/Testing/images_features.joblib\")\n",
        "test_images_df.shape"
      ]
    },
    {
      "cell_type": "code",
      "execution_count": null,
      "id": "2zXHef6If8Mz",
      "metadata": {
        "id": "2zXHef6If8Mz"
      },
      "outputs": [],
      "source": [
        "test_complete_df = complete_datasets(valid_qna_df, valid_images_df)\n",
        "test_complete_df.head()"
      ]
    },
    {
      "cell_type": "markdown",
      "id": "zK9QNC3ogAwI",
      "metadata": {
        "id": "zK9QNC3ogAwI"
      },
      "source": [
        "##### Save Workspace"
      ]
    },
    {
      "cell_type": "code",
      "execution_count": null,
      "id": "OBQM--QpgDgH",
      "metadata": {
        "id": "OBQM--QpgDgH"
      },
      "outputs": [],
      "source": [
        "joblib.dump(test_complete_df, \"/content/drive/MyDrive/Colab Notebooks/894/Testing/complete_testing_set_tabular.joblib\")"
      ]
    },
    {
      "cell_type": "markdown",
      "id": "HBKIzj7jYrot",
      "metadata": {
        "id": "HBKIzj7jYrot"
      },
      "source": [
        "\n",
        "\n",
        "\n",
        "\n",
        "\n",
        "\n",
        "\n",
        "\n",
        "<space>"
      ]
    },
    {
      "cell_type": "markdown",
      "id": "CG6_RRVrj904",
      "metadata": {
        "id": "CG6_RRVrj904",
        "jp-MarkdownHeadingCollapsed": true
      },
      "source": [
        "# Step 2: Exploratory Data Analysis & Feature Engineering"
      ]
    },
    {
      "cell_type": "markdown",
      "id": "nefD4PWaIkui",
      "metadata": {
        "id": "nefD4PWaIkui"
      },
      "source": [
        "##### Load Workspace"
      ]
    },
    {
      "cell_type": "code",
      "execution_count": null,
      "id": "T7gJA_VDIm9i",
      "metadata": {
        "id": "T7gJA_VDIm9i"
      },
      "outputs": [],
      "source": [
        "df_train = joblib.load(\"/content/drive/MyDrive/Colab Notebooks/894/Training/complete_training_set_tabular.joblib\")\n",
        "df_valid = joblib.load(\"/content/drive/MyDrive/Colab Notebooks/894/Validation/complete_validation_set_tabular.joblib\")\n",
        "df_train.head()"
      ]
    },
    {
      "cell_type": "markdown",
      "id": "dsDEVKcPkyg5",
      "metadata": {
        "id": "dsDEVKcPkyg5"
      },
      "source": [
        "### 2.1 Visualization & Insights"
      ]
    },
    {
      "cell_type": "markdown",
      "id": "FvPMWSkMx72Y",
      "metadata": {
        "id": "FvPMWSkMx72Y"
      },
      "source": [
        "##### Keeping only one question column since question_oeq = question_mcq"
      ]
    },
    {
      "cell_type": "code",
      "execution_count": null,
      "id": "dEE7vmVVJ_6B",
      "metadata": {
        "id": "dEE7vmVVJ_6B"
      },
      "outputs": [],
      "source": [
        "# Check if two specific columns are identical in the DataFrame\n",
        "are_questions_columns_equal = df_train['question_oeq'].equals(df_train['question_mcq'])  # Replace 'question_x' and 'question_y' with your actual column names\n",
        "\n",
        "# Print the result\n",
        "print(\"Are 'question_oeq' and 'question_mcq' identical? : \", \"Yes\" if are_questions_columns_equal else \"No\")"
      ]
    },
    {
      "cell_type": "code",
      "execution_count": null,
      "id": "hNT6oLU3Kk3Y",
      "metadata": {
        "id": "hNT6oLU3Kk3Y"
      },
      "outputs": [],
      "source": [
        "df_train['question'] = df_train['question_oeq']\n",
        "df_valid['question'] = df_valid['question_oeq']\n",
        "\n",
        "df_train = df_train.drop(columns=['question_oeq', 'question_mcq'])\n",
        "df_valid = df_valid.drop(columns=['question_oeq', 'question_mcq'])"
      ]
    },
    {
      "cell_type": "markdown",
      "id": "4OxsO-E2MxP4",
      "metadata": {
        "id": "4OxsO-E2MxP4"
      },
      "source": [
        "##### Questions' Length Visualization"
      ]
    },
    {
      "cell_type": "code",
      "execution_count": null,
      "id": "3uWScLKbC_Fk",
      "metadata": {
        "id": "3uWScLKbC_Fk"
      },
      "outputs": [],
      "source": [
        "# Analyze Question Length\n",
        "df_train['question_length'] = df_train['question'].apply(lambda x: len(x.split()))\n",
        "df_valid['question_length'] = df_valid['question'].apply(lambda x: len(x.split()))\n",
        "plt.figure(figsize=(10, 6))\n",
        "sns.histplot(df_train['question_length'], kde=True, color='skyblue')\n",
        "plt.title('Distribution of Question Length')\n",
        "plt.xlabel('Number of Words in Question')\n",
        "plt.ylabel('Frequency')\n",
        "plt.show()"
      ]
    },
    {
      "cell_type": "markdown",
      "id": "H7_kS4wZM1Ah",
      "metadata": {
        "id": "H7_kS4wZM1Ah"
      },
      "source": [
        "##### Questions' Common Words"
      ]
    },
    {
      "cell_type": "code",
      "execution_count": null,
      "id": "ro4tAVh74hfL",
      "metadata": {
        "id": "ro4tAVh74hfL"
      },
      "outputs": [],
      "source": [
        "# # Most common words in question\n",
        "# question_text = df_train['question']\n",
        "# question_words = question_text.split()\n",
        "# word_counts = Counter(question_words)\n",
        "# common_words = word_counts.most_common(20)\n",
        "# print(\"\\nMost Common Words in Questions:\")\n",
        "# for word, count in common_words:\n",
        "#     print(f\"{word}: {count}\")"
      ]
    },
    {
      "cell_type": "markdown",
      "id": "gkfz_boHNJV_",
      "metadata": {
        "id": "gkfz_boHNJV_"
      },
      "source": [
        "##### Save Workspace"
      ]
    },
    {
      "cell_type": "code",
      "execution_count": null,
      "id": "Ii4-REw1NJV_",
      "metadata": {
        "id": "Ii4-REw1NJV_"
      },
      "outputs": [],
      "source": [
        "joblib.dump(df_train, \"/content/drive/MyDrive/Colab Notebooks/894/Training/(1)_dfTrain_unique_2.1.joblib\")\n",
        "joblib.dump(df_valid, \"/content/drive/MyDrive/Colab Notebooks/894/Validation/(1)_dfValid_unique_2.1.joblib\")"
      ]
    },
    {
      "cell_type": "markdown",
      "id": "4Jut1ObrELOa",
      "metadata": {
        "id": "4Jut1ObrELOa"
      },
      "source": [
        "### 2.2 Feature Engineering & Embeddings/Encodings"
      ]
    },
    {
      "cell_type": "markdown",
      "id": "_MYovSLPCwVm",
      "metadata": {
        "id": "_MYovSLPCwVm"
      },
      "source": [
        "##### Load Workspace"
      ]
    },
    {
      "cell_type": "code",
      "execution_count": null,
      "id": "JskWxMsICoU7",
      "metadata": {
        "id": "JskWxMsICoU7"
      },
      "outputs": [],
      "source": [
        "df_train = joblib.load(\"/content/drive/MyDrive/Colab Notebooks/894/Training/(1)_dfTrain_unique_2.1.joblib\")\n",
        "df_valid = joblib.load(\"/content/drive/MyDrive/Colab Notebooks/894/Validation/(1)_dfValid_unique_2.1.joblib\")\n",
        "df_train.head()"
      ]
    },
    {
      "cell_type": "markdown",
      "id": "soAmykJVxvyS",
      "metadata": {
        "id": "soAmykJVxvyS"
      },
      "source": [
        "##### 2.2.1 Questions Text's Features' Engineering"
      ]
    },
    {
      "cell_type": "code",
      "execution_count": null,
      "id": "JKZ104S0s_s1",
      "metadata": {
        "id": "JKZ104S0s_s1"
      },
      "outputs": [],
      "source": [
        "df_train['question_clean'] = df_train['question'].apply(preprocess_text)\n",
        "df_valid['question_clean'] = df_valid['question'].apply(preprocess_text)\n",
        "df_train[['question', 'question_clean']]"
      ]
    },
    {
      "cell_type": "code",
      "execution_count": null,
      "id": "ZymhU96Yv8q_",
      "metadata": {
        "id": "ZymhU96Yv8q_"
      },
      "outputs": [],
      "source": [
        "# Apply the get_sentence_embedding function to each row of the 'question_clean' column\n",
        "df_train['question_embedding'] = df_train['question_clean'].apply(lambda x: get_sentence_embedding(x, model))\n",
        "df_valid['question_embedding'] = df_valid['question_clean'].apply(lambda x: get_sentence_embedding(x, model))\n",
        "df_train.head()"
      ]
    },
    {
      "cell_type": "markdown",
      "id": "pQBL1mcg_hNq",
      "metadata": {
        "id": "pQBL1mcg_hNq"
      },
      "source": [
        "##### 2.2.2 Answers Text's Features' Engineering"
      ]
    },
    {
      "cell_type": "code",
      "execution_count": null,
      "id": "OEbf9IT1_vEE",
      "metadata": {
        "id": "OEbf9IT1_vEE"
      },
      "outputs": [],
      "source": [
        "df_train['answer_clean'] = df_train['answer'].apply(preprocess_text)\n",
        "df_valid['answer_clean'] = df_valid['answer'].apply(preprocess_text)\n",
        "df_train[['answer', 'answer_clean']]"
      ]
    },
    {
      "cell_type": "code",
      "execution_count": null,
      "id": "UNNUDClP2ELE",
      "metadata": {
        "id": "UNNUDClP2ELE"
      },
      "outputs": [],
      "source": [
        "# Apply the get_sentence_embedding function to each row of the 'question_clean' column\n",
        "df_train['answer_embedding'] = df_train['answer_clean'].apply(lambda x: get_sentence_embedding(x, model))\n",
        "df_valid['answer_embedding'] = df_valid['answer_clean'].apply(lambda x: get_sentence_embedding(x, model))\n",
        "df_train.head()"
      ]
    },
    {
      "cell_type": "markdown",
      "id": "B44W2H3j6yh1",
      "metadata": {
        "id": "B44W2H3j6yh1"
      },
      "source": [
        "##### 2.2.3 Multiple Choices List's Features' Engineering"
      ]
    },
    {
      "cell_type": "code",
      "execution_count": null,
      "id": "X6Wauxh24gWV",
      "metadata": {
        "id": "X6Wauxh24gWV"
      },
      "outputs": [],
      "source": [
        "df_train['filtered_multiple_choices'] = df_train.apply(lambda row: filter_choices_by_word2vec_similarity(row, model), axis=1)\n",
        "df_valid['filtered_multiple_choices'] = df_valid.apply(lambda row: filter_choices_by_word2vec_similarity(row, model), axis=1)\n",
        "df_train[['multiple_choices', 'filtered_multiple_choices']]"
      ]
    },
    {
      "cell_type": "code",
      "execution_count": null,
      "id": "Rm6FQAR971Ht",
      "metadata": {
        "id": "Rm6FQAR971Ht"
      },
      "outputs": [],
      "source": [
        "df_train['filtered_multiple_choice_corpus'] = df_train.apply(lambda row: concatenate_list_to_sentence(row, 'filtered_multiple_choices'), axis=1)\n",
        "df_valid['filtered_multiple_choice_corpus'] = df_valid.apply(lambda row: concatenate_list_to_sentence(row, 'filtered_multiple_choices'), axis=1)\n",
        "df_train[['filtered_multiple_choices', 'filtered_multiple_choice_corpus']]"
      ]
    },
    {
      "cell_type": "code",
      "execution_count": null,
      "id": "aGw6SX3tCy0K",
      "metadata": {
        "id": "aGw6SX3tCy0K"
      },
      "outputs": [],
      "source": [
        "# Apply the get_sentence_embedding function to each row of the 'question_clean' column\n",
        "df_train['filtered_choices_embedding'] = df_train['filtered_multiple_choice_corpus'].apply(lambda x: get_sentence_embedding(x, model))\n",
        "df_valid['filtered_choices_embedding'] = df_valid['filtered_multiple_choice_corpus'].apply(lambda x: get_sentence_embedding(x, model))\n",
        "df_train.head()"
      ]
    },
    {
      "cell_type": "markdown",
      "id": "GJC-3fD_xZhs",
      "metadata": {
        "id": "GJC-3fD_xZhs"
      },
      "source": [
        "##### 2.2.4 Encoding Selected Categorical Features"
      ]
    },
    {
      "cell_type": "code",
      "execution_count": null,
      "id": "bS1HgRqDvV2t",
      "metadata": {
        "id": "bS1HgRqDvV2t"
      },
      "outputs": [],
      "source": [
        "# Initialize the LabelEncoder\n",
        "label_encoder_answer_type = LabelEncoder()\n",
        "label_encoder_confidence = LabelEncoder()\n",
        "\n",
        "# Encode answer_type and answer_confidence separately\n",
        "df_train['answer_type_encoded'] = label_encoder_answer_type.fit_transform(df_train['answer_type'])\n",
        "df_valid['answer_type_encoded'] = label_encoder_answer_type.transform(df_valid['answer_type'])\n",
        "\n",
        "df_train['answer_confidence_encoded'] = label_encoder_confidence.fit_transform(df_train['answer_confidence'])\n",
        "df_valid['answer_confidence_encoded'] = label_encoder_confidence.transform(df_valid['answer_confidence'])\n",
        "\n",
        "df_train"
      ]
    },
    {
      "cell_type": "markdown",
      "id": "TRJnmDuyMf-I",
      "metadata": {
        "id": "TRJnmDuyMf-I"
      },
      "source": [
        "##### Save Workspace"
      ]
    },
    {
      "cell_type": "code",
      "execution_count": null,
      "id": "z93IqQdNLrWT",
      "metadata": {
        "id": "z93IqQdNLrWT"
      },
      "outputs": [],
      "source": [
        "joblib.dump(df_train, \"/content/drive/MyDrive/Colab Notebooks/894/Training/(2)_dfTrain_w2v_2.2.joblib\")\n",
        "joblib.dump(df_valid, \"/content/drive/MyDrive/Colab Notebooks/894/Validation/(2)_dfValid_w2v_2.2.joblib\")"
      ]
    },
    {
      "cell_type": "markdown",
      "id": "zm8NnHf0XPKR",
      "metadata": {
        "id": "zm8NnHf0XPKR"
      },
      "source": [
        "# Step 3: Model Architecture & Training"
      ]
    },
    {
      "cell_type": "markdown",
      "id": "jFBmJy5jXjJZ",
      "metadata": {
        "id": "jFBmJy5jXjJZ"
      },
      "source": [
        "##### Load Workspace"
      ]
    },
    {
      "cell_type": "code",
      "execution_count": null,
      "id": "MHJdgAx_qmZI",
      "metadata": {
        "id": "MHJdgAx_qmZI"
      },
      "outputs": [],
      "source": [
        "df_train = joblib.load(\"/content/drive/MyDrive/Colab Notebooks/894/Training/(2)_dfTrain_w2v_2.2.joblib\")\n",
        "df_valid = joblib.load(\"/content/drive/MyDrive/Colab Notebooks/894/Validation/(2)_dfValid_w2v_2.2.joblib\")\n",
        "\n",
        "df_train.head()"
      ]
    },
    {
      "cell_type": "code",
      "execution_count": null,
      "id": "_upQ_mRGySuz",
      "metadata": {
        "id": "_upQ_mRGySuz"
      },
      "outputs": [],
      "source": [
        "# df_train.head().to_csv(\"/content/drive/MyDrive/Colab Notebooks/894/Training/(2)_dfTrain_2.2.csv\", index=False)"
      ]
    },
    {
      "cell_type": "markdown",
      "id": "BAsXr8d4-vbD",
      "metadata": {
        "id": "BAsXr8d4-vbD"
      },
      "source": [
        "### 3.1 Remove ID & Transformed Features"
      ]
    },
    {
      "cell_type": "code",
      "execution_count": null,
      "id": "x5tD308562H7",
      "metadata": {
        "id": "x5tD308562H7"
      },
      "outputs": [],
      "source": [
        "id_features = ['index', 'image_id', 'question_id', 'answer_id', 'question_length']\n",
        "\n",
        "categorical_features = [  'question', 'question_clean', 'question_type',\n",
        "                          'multiple_choices',  'filtered_multiple_choices', 'filtered_multiple_choice_corpus',\n",
        "                          'answer', 'answer_clean', 'answer_confidence', 'answer_type']\n",
        "\n",
        "numerical_features = [col for col in df_train.columns if col not in categorical_features + id_features]"
      ]
    },
    {
      "cell_type": "code",
      "execution_count": null,
      "id": "8bOZFO_i8Nk2",
      "metadata": {
        "id": "8bOZFO_i8Nk2"
      },
      "outputs": [],
      "source": [
        "df_train = df_train.drop(columns=id_features + categorical_features)\n",
        "df_valid = df_valid.drop(columns=id_features + categorical_features)"
      ]
    },
    {
      "cell_type": "markdown",
      "id": "xVAU86BkIe4Z",
      "metadata": {
        "id": "xVAU86BkIe4Z"
      },
      "source": [
        "##### Save Workspace"
      ]
    },
    {
      "cell_type": "code",
      "execution_count": null,
      "id": "kvKEysUyIGTA",
      "metadata": {
        "id": "kvKEysUyIGTA"
      },
      "outputs": [],
      "source": [
        "joblib.dump(df_train, \"/content/drive/MyDrive/Colab Notebooks/894/Training/(3)_dfTrain_3.1.joblib\")\n",
        "joblib.dump(df_valid, \"/content/drive/MyDrive/Colab Notebooks/894/Validation/(3)_dfValid_3.1.joblib\")"
      ]
    },
    {
      "cell_type": "markdown",
      "id": "5zq76B2I47b6",
      "metadata": {
        "id": "5zq76B2I47b6"
      },
      "source": [
        "### 3.2 Reducing Dimensionality (Principal Component Analysis (PCA))"
      ]
    },
    {
      "cell_type": "markdown",
      "id": "WhIHsMWtIhBy",
      "metadata": {
        "id": "WhIHsMWtIhBy"
      },
      "source": [
        "##### Load Workspace"
      ]
    },
    {
      "cell_type": "code",
      "execution_count": 3,
      "id": "fUH3b-rDIirq",
      "metadata": {
        "id": "fUH3b-rDIirq",
        "colab": {
          "base_uri": "https://localhost:8080/",
          "height": 516
        },
        "outputId": "c6f100c9-b017-4f6e-c587-d282e8a85f51"
      },
      "outputs": [
        {
          "output_type": "execute_result",
          "data": {
            "text/plain": [
              "          0         1         2         3         4         5         6  \\\n",
              "0  0.037811  1.084643  0.125582  2.314969  0.325828  0.302625  0.976951   \n",
              "1  0.037811  1.084643  0.125582  2.314969  0.325828  0.302625  0.976951   \n",
              "2  0.037811  1.084643  0.125582  2.314969  0.325828  0.302625  0.976951   \n",
              "3  0.037811  1.084643  0.125582  2.314969  0.325828  0.302625  0.976951   \n",
              "4  0.037811  1.084643  0.125582  2.314969  0.325828  0.302625  0.976951   \n",
              "\n",
              "          7         8         9  ...      2044      2045    2046      2047  \\\n",
              "0  0.753177  0.227697  0.383851  ...  3.750608  4.098589  1.6235  0.379023   \n",
              "1  0.753177  0.227697  0.383851  ...  3.750608  4.098589  1.6235  0.379023   \n",
              "2  0.753177  0.227697  0.383851  ...  3.750608  4.098589  1.6235  0.379023   \n",
              "3  0.753177  0.227697  0.383851  ...  3.750608  4.098589  1.6235  0.379023   \n",
              "4  0.753177  0.227697  0.383851  ...  3.750608  4.098589  1.6235  0.379023   \n",
              "\n",
              "   target_answer                                 question_embedding  \\\n",
              "0            tan  [0.065460205, 0.088765465, 0.0744222, 0.099446...   \n",
              "1            tan  [0.065460205, 0.088765465, 0.0744222, 0.099446...   \n",
              "2            tan  [0.065460205, 0.088765465, 0.0744222, 0.099446...   \n",
              "3            tan  [0.065460205, 0.088765465, 0.0744222, 0.099446...   \n",
              "4    monkey bars  [-0.017578125, 0.0061683655, 0.07950846, 0.121...   \n",
              "\n",
              "                                    answer_embedding  \\\n",
              "0  [0.007873535, 0.12890625, 0.02734375, 0.152343...   \n",
              "1  [0.19140625, 0.05126953, -0.055419922, 0.06591...   \n",
              "2  [0.059326172, 0.18457031, -0.029785156, 0.0336...   \n",
              "3  [0.007873535, 0.12890625, 0.02734375, 0.152343...   \n",
              "4  [-0.07119751, -0.01184082, -0.099731445, 0.209...   \n",
              "\n",
              "                          filtered_choices_embedding  answer_type_encoded  \\\n",
              "0  [0.0076060575, -0.006476122, 0.04698271, 0.114...                    1   \n",
              "1  [0.0076060575, -0.006476122, 0.04698271, 0.114...                    1   \n",
              "2  [0.0076060575, -0.006476122, 0.04698271, 0.114...                    1   \n",
              "3  [0.0076060575, -0.006476122, 0.04698271, 0.114...                    1   \n",
              "4  [0.0013631185, -0.073649086, -0.0022786458, 0....                    1   \n",
              "\n",
              "   answer_confidence_encoded  \n",
              "0                          2  \n",
              "1                          2  \n",
              "2                          2  \n",
              "3                          2  \n",
              "4                          2  \n",
              "\n",
              "[5 rows x 2054 columns]"
            ],
            "text/html": [
              "\n",
              "  <div id=\"df-180d735e-c690-487e-9e31-938906eca72b\" class=\"colab-df-container\">\n",
              "    <div>\n",
              "<style scoped>\n",
              "    .dataframe tbody tr th:only-of-type {\n",
              "        vertical-align: middle;\n",
              "    }\n",
              "\n",
              "    .dataframe tbody tr th {\n",
              "        vertical-align: top;\n",
              "    }\n",
              "\n",
              "    .dataframe thead th {\n",
              "        text-align: right;\n",
              "    }\n",
              "</style>\n",
              "<table border=\"1\" class=\"dataframe\">\n",
              "  <thead>\n",
              "    <tr style=\"text-align: right;\">\n",
              "      <th></th>\n",
              "      <th>0</th>\n",
              "      <th>1</th>\n",
              "      <th>2</th>\n",
              "      <th>3</th>\n",
              "      <th>4</th>\n",
              "      <th>5</th>\n",
              "      <th>6</th>\n",
              "      <th>7</th>\n",
              "      <th>8</th>\n",
              "      <th>9</th>\n",
              "      <th>...</th>\n",
              "      <th>2044</th>\n",
              "      <th>2045</th>\n",
              "      <th>2046</th>\n",
              "      <th>2047</th>\n",
              "      <th>target_answer</th>\n",
              "      <th>question_embedding</th>\n",
              "      <th>answer_embedding</th>\n",
              "      <th>filtered_choices_embedding</th>\n",
              "      <th>answer_type_encoded</th>\n",
              "      <th>answer_confidence_encoded</th>\n",
              "    </tr>\n",
              "  </thead>\n",
              "  <tbody>\n",
              "    <tr>\n",
              "      <th>0</th>\n",
              "      <td>0.037811</td>\n",
              "      <td>1.084643</td>\n",
              "      <td>0.125582</td>\n",
              "      <td>2.314969</td>\n",
              "      <td>0.325828</td>\n",
              "      <td>0.302625</td>\n",
              "      <td>0.976951</td>\n",
              "      <td>0.753177</td>\n",
              "      <td>0.227697</td>\n",
              "      <td>0.383851</td>\n",
              "      <td>...</td>\n",
              "      <td>3.750608</td>\n",
              "      <td>4.098589</td>\n",
              "      <td>1.6235</td>\n",
              "      <td>0.379023</td>\n",
              "      <td>tan</td>\n",
              "      <td>[0.065460205, 0.088765465, 0.0744222, 0.099446...</td>\n",
              "      <td>[0.007873535, 0.12890625, 0.02734375, 0.152343...</td>\n",
              "      <td>[0.0076060575, -0.006476122, 0.04698271, 0.114...</td>\n",
              "      <td>1</td>\n",
              "      <td>2</td>\n",
              "    </tr>\n",
              "    <tr>\n",
              "      <th>1</th>\n",
              "      <td>0.037811</td>\n",
              "      <td>1.084643</td>\n",
              "      <td>0.125582</td>\n",
              "      <td>2.314969</td>\n",
              "      <td>0.325828</td>\n",
              "      <td>0.302625</td>\n",
              "      <td>0.976951</td>\n",
              "      <td>0.753177</td>\n",
              "      <td>0.227697</td>\n",
              "      <td>0.383851</td>\n",
              "      <td>...</td>\n",
              "      <td>3.750608</td>\n",
              "      <td>4.098589</td>\n",
              "      <td>1.6235</td>\n",
              "      <td>0.379023</td>\n",
              "      <td>tan</td>\n",
              "      <td>[0.065460205, 0.088765465, 0.0744222, 0.099446...</td>\n",
              "      <td>[0.19140625, 0.05126953, -0.055419922, 0.06591...</td>\n",
              "      <td>[0.0076060575, -0.006476122, 0.04698271, 0.114...</td>\n",
              "      <td>1</td>\n",
              "      <td>2</td>\n",
              "    </tr>\n",
              "    <tr>\n",
              "      <th>2</th>\n",
              "      <td>0.037811</td>\n",
              "      <td>1.084643</td>\n",
              "      <td>0.125582</td>\n",
              "      <td>2.314969</td>\n",
              "      <td>0.325828</td>\n",
              "      <td>0.302625</td>\n",
              "      <td>0.976951</td>\n",
              "      <td>0.753177</td>\n",
              "      <td>0.227697</td>\n",
              "      <td>0.383851</td>\n",
              "      <td>...</td>\n",
              "      <td>3.750608</td>\n",
              "      <td>4.098589</td>\n",
              "      <td>1.6235</td>\n",
              "      <td>0.379023</td>\n",
              "      <td>tan</td>\n",
              "      <td>[0.065460205, 0.088765465, 0.0744222, 0.099446...</td>\n",
              "      <td>[0.059326172, 0.18457031, -0.029785156, 0.0336...</td>\n",
              "      <td>[0.0076060575, -0.006476122, 0.04698271, 0.114...</td>\n",
              "      <td>1</td>\n",
              "      <td>2</td>\n",
              "    </tr>\n",
              "    <tr>\n",
              "      <th>3</th>\n",
              "      <td>0.037811</td>\n",
              "      <td>1.084643</td>\n",
              "      <td>0.125582</td>\n",
              "      <td>2.314969</td>\n",
              "      <td>0.325828</td>\n",
              "      <td>0.302625</td>\n",
              "      <td>0.976951</td>\n",
              "      <td>0.753177</td>\n",
              "      <td>0.227697</td>\n",
              "      <td>0.383851</td>\n",
              "      <td>...</td>\n",
              "      <td>3.750608</td>\n",
              "      <td>4.098589</td>\n",
              "      <td>1.6235</td>\n",
              "      <td>0.379023</td>\n",
              "      <td>tan</td>\n",
              "      <td>[0.065460205, 0.088765465, 0.0744222, 0.099446...</td>\n",
              "      <td>[0.007873535, 0.12890625, 0.02734375, 0.152343...</td>\n",
              "      <td>[0.0076060575, -0.006476122, 0.04698271, 0.114...</td>\n",
              "      <td>1</td>\n",
              "      <td>2</td>\n",
              "    </tr>\n",
              "    <tr>\n",
              "      <th>4</th>\n",
              "      <td>0.037811</td>\n",
              "      <td>1.084643</td>\n",
              "      <td>0.125582</td>\n",
              "      <td>2.314969</td>\n",
              "      <td>0.325828</td>\n",
              "      <td>0.302625</td>\n",
              "      <td>0.976951</td>\n",
              "      <td>0.753177</td>\n",
              "      <td>0.227697</td>\n",
              "      <td>0.383851</td>\n",
              "      <td>...</td>\n",
              "      <td>3.750608</td>\n",
              "      <td>4.098589</td>\n",
              "      <td>1.6235</td>\n",
              "      <td>0.379023</td>\n",
              "      <td>monkey bars</td>\n",
              "      <td>[-0.017578125, 0.0061683655, 0.07950846, 0.121...</td>\n",
              "      <td>[-0.07119751, -0.01184082, -0.099731445, 0.209...</td>\n",
              "      <td>[0.0013631185, -0.073649086, -0.0022786458, 0....</td>\n",
              "      <td>1</td>\n",
              "      <td>2</td>\n",
              "    </tr>\n",
              "  </tbody>\n",
              "</table>\n",
              "<p>5 rows × 2054 columns</p>\n",
              "</div>\n",
              "    <div class=\"colab-df-buttons\">\n",
              "\n",
              "  <div class=\"colab-df-container\">\n",
              "    <button class=\"colab-df-convert\" onclick=\"convertToInteractive('df-180d735e-c690-487e-9e31-938906eca72b')\"\n",
              "            title=\"Convert this dataframe to an interactive table.\"\n",
              "            style=\"display:none;\">\n",
              "\n",
              "  <svg xmlns=\"http://www.w3.org/2000/svg\" height=\"24px\" viewBox=\"0 -960 960 960\">\n",
              "    <path d=\"M120-120v-720h720v720H120Zm60-500h600v-160H180v160Zm220 220h160v-160H400v160Zm0 220h160v-160H400v160ZM180-400h160v-160H180v160Zm440 0h160v-160H620v160ZM180-180h160v-160H180v160Zm440 0h160v-160H620v160Z\"/>\n",
              "  </svg>\n",
              "    </button>\n",
              "\n",
              "  <style>\n",
              "    .colab-df-container {\n",
              "      display:flex;\n",
              "      gap: 12px;\n",
              "    }\n",
              "\n",
              "    .colab-df-convert {\n",
              "      background-color: #E8F0FE;\n",
              "      border: none;\n",
              "      border-radius: 50%;\n",
              "      cursor: pointer;\n",
              "      display: none;\n",
              "      fill: #1967D2;\n",
              "      height: 32px;\n",
              "      padding: 0 0 0 0;\n",
              "      width: 32px;\n",
              "    }\n",
              "\n",
              "    .colab-df-convert:hover {\n",
              "      background-color: #E2EBFA;\n",
              "      box-shadow: 0px 1px 2px rgba(60, 64, 67, 0.3), 0px 1px 3px 1px rgba(60, 64, 67, 0.15);\n",
              "      fill: #174EA6;\n",
              "    }\n",
              "\n",
              "    .colab-df-buttons div {\n",
              "      margin-bottom: 4px;\n",
              "    }\n",
              "\n",
              "    [theme=dark] .colab-df-convert {\n",
              "      background-color: #3B4455;\n",
              "      fill: #D2E3FC;\n",
              "    }\n",
              "\n",
              "    [theme=dark] .colab-df-convert:hover {\n",
              "      background-color: #434B5C;\n",
              "      box-shadow: 0px 1px 3px 1px rgba(0, 0, 0, 0.15);\n",
              "      filter: drop-shadow(0px 1px 2px rgba(0, 0, 0, 0.3));\n",
              "      fill: #FFFFFF;\n",
              "    }\n",
              "  </style>\n",
              "\n",
              "    <script>\n",
              "      const buttonEl =\n",
              "        document.querySelector('#df-180d735e-c690-487e-9e31-938906eca72b button.colab-df-convert');\n",
              "      buttonEl.style.display =\n",
              "        google.colab.kernel.accessAllowed ? 'block' : 'none';\n",
              "\n",
              "      async function convertToInteractive(key) {\n",
              "        const element = document.querySelector('#df-180d735e-c690-487e-9e31-938906eca72b');\n",
              "        const dataTable =\n",
              "          await google.colab.kernel.invokeFunction('convertToInteractive',\n",
              "                                                    [key], {});\n",
              "        if (!dataTable) return;\n",
              "\n",
              "        const docLinkHtml = 'Like what you see? Visit the ' +\n",
              "          '<a target=\"_blank\" href=https://colab.research.google.com/notebooks/data_table.ipynb>data table notebook</a>'\n",
              "          + ' to learn more about interactive tables.';\n",
              "        element.innerHTML = '';\n",
              "        dataTable['output_type'] = 'display_data';\n",
              "        await google.colab.output.renderOutput(dataTable, element);\n",
              "        const docLink = document.createElement('div');\n",
              "        docLink.innerHTML = docLinkHtml;\n",
              "        element.appendChild(docLink);\n",
              "      }\n",
              "    </script>\n",
              "  </div>\n",
              "\n",
              "\n",
              "<div id=\"df-f747bcde-eccc-43ad-973f-00889756582c\">\n",
              "  <button class=\"colab-df-quickchart\" onclick=\"quickchart('df-f747bcde-eccc-43ad-973f-00889756582c')\"\n",
              "            title=\"Suggest charts\"\n",
              "            style=\"display:none;\">\n",
              "\n",
              "<svg xmlns=\"http://www.w3.org/2000/svg\" height=\"24px\"viewBox=\"0 0 24 24\"\n",
              "     width=\"24px\">\n",
              "    <g>\n",
              "        <path d=\"M19 3H5c-1.1 0-2 .9-2 2v14c0 1.1.9 2 2 2h14c1.1 0 2-.9 2-2V5c0-1.1-.9-2-2-2zM9 17H7v-7h2v7zm4 0h-2V7h2v10zm4 0h-2v-4h2v4z\"/>\n",
              "    </g>\n",
              "</svg>\n",
              "  </button>\n",
              "\n",
              "<style>\n",
              "  .colab-df-quickchart {\n",
              "      --bg-color: #E8F0FE;\n",
              "      --fill-color: #1967D2;\n",
              "      --hover-bg-color: #E2EBFA;\n",
              "      --hover-fill-color: #174EA6;\n",
              "      --disabled-fill-color: #AAA;\n",
              "      --disabled-bg-color: #DDD;\n",
              "  }\n",
              "\n",
              "  [theme=dark] .colab-df-quickchart {\n",
              "      --bg-color: #3B4455;\n",
              "      --fill-color: #D2E3FC;\n",
              "      --hover-bg-color: #434B5C;\n",
              "      --hover-fill-color: #FFFFFF;\n",
              "      --disabled-bg-color: #3B4455;\n",
              "      --disabled-fill-color: #666;\n",
              "  }\n",
              "\n",
              "  .colab-df-quickchart {\n",
              "    background-color: var(--bg-color);\n",
              "    border: none;\n",
              "    border-radius: 50%;\n",
              "    cursor: pointer;\n",
              "    display: none;\n",
              "    fill: var(--fill-color);\n",
              "    height: 32px;\n",
              "    padding: 0;\n",
              "    width: 32px;\n",
              "  }\n",
              "\n",
              "  .colab-df-quickchart:hover {\n",
              "    background-color: var(--hover-bg-color);\n",
              "    box-shadow: 0 1px 2px rgba(60, 64, 67, 0.3), 0 1px 3px 1px rgba(60, 64, 67, 0.15);\n",
              "    fill: var(--button-hover-fill-color);\n",
              "  }\n",
              "\n",
              "  .colab-df-quickchart-complete:disabled,\n",
              "  .colab-df-quickchart-complete:disabled:hover {\n",
              "    background-color: var(--disabled-bg-color);\n",
              "    fill: var(--disabled-fill-color);\n",
              "    box-shadow: none;\n",
              "  }\n",
              "\n",
              "  .colab-df-spinner {\n",
              "    border: 2px solid var(--fill-color);\n",
              "    border-color: transparent;\n",
              "    border-bottom-color: var(--fill-color);\n",
              "    animation:\n",
              "      spin 1s steps(1) infinite;\n",
              "  }\n",
              "\n",
              "  @keyframes spin {\n",
              "    0% {\n",
              "      border-color: transparent;\n",
              "      border-bottom-color: var(--fill-color);\n",
              "      border-left-color: var(--fill-color);\n",
              "    }\n",
              "    20% {\n",
              "      border-color: transparent;\n",
              "      border-left-color: var(--fill-color);\n",
              "      border-top-color: var(--fill-color);\n",
              "    }\n",
              "    30% {\n",
              "      border-color: transparent;\n",
              "      border-left-color: var(--fill-color);\n",
              "      border-top-color: var(--fill-color);\n",
              "      border-right-color: var(--fill-color);\n",
              "    }\n",
              "    40% {\n",
              "      border-color: transparent;\n",
              "      border-right-color: var(--fill-color);\n",
              "      border-top-color: var(--fill-color);\n",
              "    }\n",
              "    60% {\n",
              "      border-color: transparent;\n",
              "      border-right-color: var(--fill-color);\n",
              "    }\n",
              "    80% {\n",
              "      border-color: transparent;\n",
              "      border-right-color: var(--fill-color);\n",
              "      border-bottom-color: var(--fill-color);\n",
              "    }\n",
              "    90% {\n",
              "      border-color: transparent;\n",
              "      border-bottom-color: var(--fill-color);\n",
              "    }\n",
              "  }\n",
              "</style>\n",
              "\n",
              "  <script>\n",
              "    async function quickchart(key) {\n",
              "      const quickchartButtonEl =\n",
              "        document.querySelector('#' + key + ' button');\n",
              "      quickchartButtonEl.disabled = true;  // To prevent multiple clicks.\n",
              "      quickchartButtonEl.classList.add('colab-df-spinner');\n",
              "      try {\n",
              "        const charts = await google.colab.kernel.invokeFunction(\n",
              "            'suggestCharts', [key], {});\n",
              "      } catch (error) {\n",
              "        console.error('Error during call to suggestCharts:', error);\n",
              "      }\n",
              "      quickchartButtonEl.classList.remove('colab-df-spinner');\n",
              "      quickchartButtonEl.classList.add('colab-df-quickchart-complete');\n",
              "    }\n",
              "    (() => {\n",
              "      let quickchartButtonEl =\n",
              "        document.querySelector('#df-f747bcde-eccc-43ad-973f-00889756582c button');\n",
              "      quickchartButtonEl.style.display =\n",
              "        google.colab.kernel.accessAllowed ? 'block' : 'none';\n",
              "    })();\n",
              "  </script>\n",
              "</div>\n",
              "\n",
              "    </div>\n",
              "  </div>\n"
            ],
            "application/vnd.google.colaboratory.intrinsic+json": {
              "type": "dataframe",
              "variable_name": "df_train"
            }
          },
          "metadata": {},
          "execution_count": 3
        }
      ],
      "source": [
        "df_train = joblib.load(\"/content/drive/MyDrive/Colab Notebooks/894/Training/(3)_dfTrain_3.1.joblib\")\n",
        "df_valid = joblib.load(\"/content/drive/MyDrive/Colab Notebooks/894/Validation/(3)_dfValid_3.1.joblib\")\n",
        "\n",
        "# df_train = joblib.load(\"/Users/nila/Library/CloudStorage/GoogleDrive-nilaa.nahar@gmail.com/My Drive/Colab Notebooks/894/Training/(3)_dfTrain_3.1.joblib\")\n",
        "# df_valid = joblib.load(\"/Users/nila/Library/CloudStorage/GoogleDrive-nilaa.nahar@gmail.com/My Drive/Colab Notebooks/894/Validation/(3)_dfValid_3.1.joblib\")\n",
        "\n",
        "df_train.head()"
      ]
    },
    {
      "cell_type": "markdown",
      "id": "lvwftcwJuE2I",
      "metadata": {
        "id": "lvwftcwJuE2I"
      },
      "source": [
        "##### Find out what is the optimal number of principal components you need for each feature"
      ]
    },
    {
      "cell_type": "code",
      "execution_count": null,
      "id": "rTtdkOCeUe8F",
      "metadata": {
        "id": "rTtdkOCeUe8F"
      },
      "outputs": [],
      "source": [
        "from sklearn.decomposition import PCA\n",
        "\n",
        "# Calculate explained variance for image input\n",
        "pca_image_full = PCA().fit(df_train.iloc[:, :2048].values)\n",
        "explained_variance_ratio_image = np.cumsum(pca_image_full.explained_variance_ratio_)\n",
        "\n",
        "# Calculate explained variance for filtered choices embedding\n",
        "pca_filtered_choices_full = PCA().fit(np.vstack(df_train['filtered_choices_embedding'].values))\n",
        "explained_variance_ratio_filtered_choices = np.cumsum(pca_filtered_choices_full.explained_variance_ratio_)\n",
        "\n",
        "# Plot cumulative explained variance for image input\n",
        "plt.figure(figsize=(10, 6))\n",
        "plt.plot(np.arange(1, len(explained_variance_ratio_image) + 1), explained_variance_ratio_image, label='Image Input')\n",
        "plt.plot(np.arange(1, len(explained_variance_ratio_filtered_choices) + 1), explained_variance_ratio_filtered_choices, label='Filtered Choices Embedding')\n",
        "plt.xlabel('Number of Components')\n",
        "plt.ylabel('Cumulative Explained Variance')\n",
        "plt.title('Explained Variance vs Number of PCA Components')\n",
        "plt.axhline(y=0.90, color='r', linestyle='--', label='90% Variance Explained')\n",
        "plt.axhline(y=0.95, color='g', linestyle='--', label='95% Variance Explained')\n",
        "plt.legend()\n",
        "plt.grid(True)\n",
        "plt.show()\n",
        "\n",
        "# Determine the number of components for 90% and 95% explained variance\n",
        "n_components_image_90 = np.argmax(explained_variance_ratio_image >= 0.90) + 1\n",
        "n_components_image_95 = np.argmax(explained_variance_ratio_image >= 0.95) + 1\n",
        "\n",
        "n_components_filtered_choices_90 = np.argmax(explained_variance_ratio_filtered_choices >= 0.90) + 1\n",
        "n_components_filtered_choices_95 = np.argmax(explained_variance_ratio_filtered_choices >= 0.95) + 1\n",
        "\n",
        "print(f\"Number of components for 90% variance (Image Input): {n_components_image_90}\")\n",
        "print(f\"Number of components for 95% variance (Image Input): {n_components_image_95}\")\n",
        "print(f\"Number of components for 90% variance (Filtered Choices): {n_components_filtered_choices_90}\")\n",
        "print(f\"Number of components for 95% variance (Filtered Choices): {n_components_filtered_choices_95}\")\n"
      ]
    },
    {
      "cell_type": "code",
      "execution_count": null,
      "id": "9pGMFqYiV-Bg",
      "metadata": {
        "id": "9pGMFqYiV-Bg"
      },
      "outputs": [],
      "source": [
        "# prompt: do the same pca above to questions and answers embedding\n",
        "\n",
        "# Calculate explained variance for question embedding\n",
        "pca_question_full = PCA().fit(np.vstack(df_train['question_embedding'].values))\n",
        "explained_variance_ratio_question = np.cumsum(pca_question_full.explained_variance_ratio_)\n",
        "\n",
        "# Calculate explained variance for answer embedding\n",
        "pca_answer_full = PCA().fit(np.vstack(df_train['answer_embedding'].values))\n",
        "explained_variance_ratio_answer = np.cumsum(pca_answer_full.explained_variance_ratio_)\n",
        "\n",
        "\n",
        "# Plot cumulative explained variance for question and answer embeddings\n",
        "plt.figure(figsize=(10, 6))\n",
        "plt.plot(np.arange(1, len(explained_variance_ratio_question) + 1), explained_variance_ratio_question, label='Question Embedding')\n",
        "plt.plot(np.arange(1, len(explained_variance_ratio_answer) + 1), explained_variance_ratio_answer, label='Answer Embedding')\n",
        "plt.xlabel('Number of Components')\n",
        "plt.ylabel('Cumulative Explained Variance')\n",
        "plt.title('Explained Variance vs Number of PCA Components')\n",
        "plt.axhline(y=0.90, color='r', linestyle='--', label='90% Variance Explained')\n",
        "plt.axhline(y=0.95, color='g', linestyle='--', label='95% Variance Explained')\n",
        "plt.legend()\n",
        "plt.grid(True)\n",
        "plt.show()\n",
        "\n",
        "# Determine the number of components for 90% and 95% explained variance\n",
        "n_components_question_90 = np.argmax(explained_variance_ratio_question >= 0.90) + 1\n",
        "n_components_question_95 = np.argmax(explained_variance_ratio_question >= 0.95) + 1\n",
        "\n",
        "n_components_answer_90 = np.argmax(explained_variance_ratio_answer >= 0.90) + 1\n",
        "n_components_answer_95 = np.argmax(explained_variance_ratio_answer >= 0.95) + 1\n",
        "\n",
        "\n",
        "print(f\"Number of components for 90% variance (Question Embedding): {n_components_question_90}\")\n",
        "print(f\"Number of components for 95% variance (Question Embedding): {n_components_question_95}\")\n",
        "print(f\"Number of components for 90% variance (Answer Embedding): {n_components_answer_90}\")\n",
        "print(f\"Number of components for 95% variance (Answer Embedding): {n_components_answer_95}\")\n"
      ]
    },
    {
      "cell_type": "markdown",
      "id": "s-ToR4rfuObA",
      "metadata": {
        "id": "s-ToR4rfuObA"
      },
      "source": [
        "##### Use the optimal number of features (captures 95% variance) to compute your final PCs"
      ]
    },
    {
      "cell_type": "code",
      "execution_count": 4,
      "id": "LdPaCjahpdOQ",
      "metadata": {
        "id": "LdPaCjahpdOQ"
      },
      "outputs": [],
      "source": [
        "from sklearn.decomposition import PCA\n",
        "\n",
        "# Define the number of principal components for PCA\n",
        "n_components_image = 452  # Reduce image input dimensions from 2048 to 452\n",
        "n_components_filtered_choices = 131  # Reduce filtered_choices_embedding_input from 300 to 131\n",
        "n_components_questions = 150  # Reduce question_embedding_input from 300 to 150\n",
        "n_components_answers = 134  # Reduce answer_embedding_input from 300 to 134\n",
        "\n",
        "# Apply PCA to image input\n",
        "pca_image = PCA(n_components=n_components_image)\n",
        "image_train_pca = pca_image.fit_transform(df_train.iloc[:, :2048].values)\n",
        "image_valid_pca = pca_image.transform(df_valid.iloc[:, :2048].values)\n",
        "\n",
        "# Apply PCA to question embedding\n",
        "pca_questions = PCA(n_components=n_components_questions)\n",
        "question_train_pca = pca_questions.fit_transform(np.vstack(df_train['question_embedding'].values))\n",
        "question_valid_pca = pca_questions.transform(np.vstack(df_valid['question_embedding'].values))\n",
        "\n",
        "# Apply PCA to answer embedding\n",
        "pca_answers = PCA(n_components=n_components_answers)\n",
        "answer_train_pca = pca_answers.fit_transform(np.vstack(df_train['answer_embedding'].values))\n",
        "answer_valid_pca = pca_answers.transform(np.vstack(df_valid['answer_embedding'].values))\n",
        "\n",
        "# Apply PCA to filtered choices embedding\n",
        "pca_filtered_choices = PCA(n_components=n_components_filtered_choices)\n",
        "filtered_choices_train_pca = pca_filtered_choices.fit_transform(np.vstack(df_train['filtered_choices_embedding'].values))\n",
        "filtered_choices_valid_pca = pca_filtered_choices.transform(np.vstack(df_valid['filtered_choices_embedding'].values))"
      ]
    },
    {
      "cell_type": "code",
      "source": [
        "# Function to convert PCA result to DataFrame with preserved index\n",
        "def pca_to_df(pca_result, df_original, prefix):\n",
        "    \"\"\" Convert PCA results (NumPy array) to Pandas DataFrame and preserve the original DataFrame's index \"\"\"\n",
        "    df_pca = pd.DataFrame(pca_result, index=df_original.index,\n",
        "                          columns=[f'{prefix}_pca_{i}' for i in range(pca_result.shape[1])])\n",
        "    return df_pca\n",
        "\n",
        "# Convert the PCA results to DataFrames with preserved row indices\n",
        "df_image_train_pca = pca_to_df(image_train_pca, df_train, 'image')\n",
        "df_image_valid_pca = pca_to_df(image_valid_pca, df_valid, 'image')\n",
        "df_filtered_choices_train_pca = pca_to_df(filtered_choices_train_pca, df_train, 'filtered_choices')\n",
        "df_filtered_choices_valid_pca = pca_to_df(filtered_choices_valid_pca, df_valid, 'filtered_choices')\n",
        "df_questions_train_pca = pca_to_df(question_train_pca, df_train, 'questions')\n",
        "df_questions_valid_pca = pca_to_df(question_valid_pca, df_valid, 'questions')\n",
        "df_answers_train_pca = pca_to_df(answer_train_pca, df_train, 'answers')\n",
        "df_answers_valid_pca = pca_to_df(answer_valid_pca, df_valid, 'answers')"
      ],
      "metadata": {
        "id": "HcRFKJWywueT"
      },
      "id": "HcRFKJWywueT",
      "execution_count": 5,
      "outputs": []
    },
    {
      "cell_type": "code",
      "source": [
        "df_train['target_answer'].head()"
      ],
      "metadata": {
        "colab": {
          "base_uri": "https://localhost:8080/",
          "height": 241
        },
        "id": "byfSSERuy0m5",
        "outputId": "6e279985-0b51-4f89-994a-e79b4ecf2a9f"
      },
      "id": "byfSSERuy0m5",
      "execution_count": 6,
      "outputs": [
        {
          "output_type": "execute_result",
          "data": {
            "text/plain": [
              "0            tan\n",
              "1            tan\n",
              "2            tan\n",
              "3            tan\n",
              "4    monkey bars\n",
              "Name: target_answer, dtype: object"
            ],
            "text/html": [
              "<div>\n",
              "<style scoped>\n",
              "    .dataframe tbody tr th:only-of-type {\n",
              "        vertical-align: middle;\n",
              "    }\n",
              "\n",
              "    .dataframe tbody tr th {\n",
              "        vertical-align: top;\n",
              "    }\n",
              "\n",
              "    .dataframe thead th {\n",
              "        text-align: right;\n",
              "    }\n",
              "</style>\n",
              "<table border=\"1\" class=\"dataframe\">\n",
              "  <thead>\n",
              "    <tr style=\"text-align: right;\">\n",
              "      <th></th>\n",
              "      <th>target_answer</th>\n",
              "    </tr>\n",
              "  </thead>\n",
              "  <tbody>\n",
              "    <tr>\n",
              "      <th>0</th>\n",
              "      <td>tan</td>\n",
              "    </tr>\n",
              "    <tr>\n",
              "      <th>1</th>\n",
              "      <td>tan</td>\n",
              "    </tr>\n",
              "    <tr>\n",
              "      <th>2</th>\n",
              "      <td>tan</td>\n",
              "    </tr>\n",
              "    <tr>\n",
              "      <th>3</th>\n",
              "      <td>tan</td>\n",
              "    </tr>\n",
              "    <tr>\n",
              "      <th>4</th>\n",
              "      <td>monkey bars</td>\n",
              "    </tr>\n",
              "  </tbody>\n",
              "</table>\n",
              "</div><br><label><b>dtype:</b> object</label>"
            ]
          },
          "metadata": {},
          "execution_count": 6
        }
      ]
    },
    {
      "cell_type": "code",
      "source": [
        "# Concatenate PCA results with the original `target_answer` column\n",
        "df_train_pca = pd.concat([df_train[['target_answer', 'answer_type_encoded', 'answer_confidence_encoded']], df_image_train_pca, df_questions_train_pca, df_answers_train_pca, df_filtered_choices_train_pca], axis=1)\n",
        "df_valid_pca = pd.concat([df_valid[['target_answer', 'answer_type_encoded', 'answer_confidence_encoded']], df_image_valid_pca, df_questions_valid_pca, df_answers_valid_pca, df_filtered_choices_valid_pca], axis=1)\n",
        "df_valid_pca.head()"
      ],
      "metadata": {
        "colab": {
          "base_uri": "https://localhost:8080/",
          "height": 256
        },
        "id": "sOSk3fJlnhaU",
        "outputId": "8b22c236-3160-421d-a4f6-2262efbef1bf"
      },
      "id": "sOSk3fJlnhaU",
      "execution_count": 7,
      "outputs": [
        {
          "output_type": "execute_result",
          "data": {
            "text/plain": [
              "  target_answer  answer_type_encoded  answer_confidence_encoded  image_pca_0  \\\n",
              "0            no                    2                          2   -17.421425   \n",
              "1            no                    2                          2   -17.421425   \n",
              "2            no                    2                          2   -17.421425   \n",
              "3           yes                    2                          2   -17.421425   \n",
              "4            no                    2                          2   -17.421425   \n",
              "\n",
              "   image_pca_1  image_pca_2  image_pca_3  image_pca_4  image_pca_5  \\\n",
              "0    -8.676399     1.046292    -7.151888     2.624744     -6.54362   \n",
              "1    -8.676399     1.046292    -7.151888     2.624744     -6.54362   \n",
              "2    -8.676399     1.046292    -7.151888     2.624744     -6.54362   \n",
              "3    -8.676399     1.046292    -7.151888     2.624744     -6.54362   \n",
              "4    -8.676399     1.046292    -7.151888     2.624744     -6.54362   \n",
              "\n",
              "   image_pca_6  ...  filtered_choices_pca_121  filtered_choices_pca_122  \\\n",
              "0    -7.088371  ...                  0.029088                  0.009248   \n",
              "1    -7.088371  ...                  0.029088                  0.009248   \n",
              "2    -7.088371  ...                  0.029088                  0.009248   \n",
              "3    -7.088371  ...                  0.056799                 -0.044716   \n",
              "4    -7.088371  ...                  0.029088                  0.009248   \n",
              "\n",
              "   filtered_choices_pca_123  filtered_choices_pca_124  \\\n",
              "0                 -0.038447                  0.018845   \n",
              "1                 -0.038447                  0.018845   \n",
              "2                 -0.038447                  0.018845   \n",
              "3                 -0.057458                  0.005188   \n",
              "4                 -0.038447                  0.018845   \n",
              "\n",
              "   filtered_choices_pca_125  filtered_choices_pca_126  \\\n",
              "0                  0.048154                 -0.006325   \n",
              "1                  0.048154                 -0.006325   \n",
              "2                  0.048154                 -0.006325   \n",
              "3                  0.082895                 -0.003959   \n",
              "4                  0.048154                 -0.006325   \n",
              "\n",
              "   filtered_choices_pca_127  filtered_choices_pca_128  \\\n",
              "0                  0.005365                  0.070331   \n",
              "1                  0.005365                  0.070331   \n",
              "2                  0.005365                  0.070331   \n",
              "3                 -0.008489                  0.039941   \n",
              "4                  0.005365                  0.070331   \n",
              "\n",
              "   filtered_choices_pca_129  filtered_choices_pca_130  \n",
              "0                 -0.026675                 -0.041262  \n",
              "1                 -0.026675                 -0.041262  \n",
              "2                 -0.026675                 -0.041262  \n",
              "3                  0.023345                 -0.019131  \n",
              "4                 -0.026675                 -0.041262  \n",
              "\n",
              "[5 rows x 870 columns]"
            ],
            "text/html": [
              "\n",
              "  <div id=\"df-b6ece570-6659-4fa0-90d3-c55891c1cb50\" class=\"colab-df-container\">\n",
              "    <div>\n",
              "<style scoped>\n",
              "    .dataframe tbody tr th:only-of-type {\n",
              "        vertical-align: middle;\n",
              "    }\n",
              "\n",
              "    .dataframe tbody tr th {\n",
              "        vertical-align: top;\n",
              "    }\n",
              "\n",
              "    .dataframe thead th {\n",
              "        text-align: right;\n",
              "    }\n",
              "</style>\n",
              "<table border=\"1\" class=\"dataframe\">\n",
              "  <thead>\n",
              "    <tr style=\"text-align: right;\">\n",
              "      <th></th>\n",
              "      <th>target_answer</th>\n",
              "      <th>answer_type_encoded</th>\n",
              "      <th>answer_confidence_encoded</th>\n",
              "      <th>image_pca_0</th>\n",
              "      <th>image_pca_1</th>\n",
              "      <th>image_pca_2</th>\n",
              "      <th>image_pca_3</th>\n",
              "      <th>image_pca_4</th>\n",
              "      <th>image_pca_5</th>\n",
              "      <th>image_pca_6</th>\n",
              "      <th>...</th>\n",
              "      <th>filtered_choices_pca_121</th>\n",
              "      <th>filtered_choices_pca_122</th>\n",
              "      <th>filtered_choices_pca_123</th>\n",
              "      <th>filtered_choices_pca_124</th>\n",
              "      <th>filtered_choices_pca_125</th>\n",
              "      <th>filtered_choices_pca_126</th>\n",
              "      <th>filtered_choices_pca_127</th>\n",
              "      <th>filtered_choices_pca_128</th>\n",
              "      <th>filtered_choices_pca_129</th>\n",
              "      <th>filtered_choices_pca_130</th>\n",
              "    </tr>\n",
              "  </thead>\n",
              "  <tbody>\n",
              "    <tr>\n",
              "      <th>0</th>\n",
              "      <td>no</td>\n",
              "      <td>2</td>\n",
              "      <td>2</td>\n",
              "      <td>-17.421425</td>\n",
              "      <td>-8.676399</td>\n",
              "      <td>1.046292</td>\n",
              "      <td>-7.151888</td>\n",
              "      <td>2.624744</td>\n",
              "      <td>-6.54362</td>\n",
              "      <td>-7.088371</td>\n",
              "      <td>...</td>\n",
              "      <td>0.029088</td>\n",
              "      <td>0.009248</td>\n",
              "      <td>-0.038447</td>\n",
              "      <td>0.018845</td>\n",
              "      <td>0.048154</td>\n",
              "      <td>-0.006325</td>\n",
              "      <td>0.005365</td>\n",
              "      <td>0.070331</td>\n",
              "      <td>-0.026675</td>\n",
              "      <td>-0.041262</td>\n",
              "    </tr>\n",
              "    <tr>\n",
              "      <th>1</th>\n",
              "      <td>no</td>\n",
              "      <td>2</td>\n",
              "      <td>2</td>\n",
              "      <td>-17.421425</td>\n",
              "      <td>-8.676399</td>\n",
              "      <td>1.046292</td>\n",
              "      <td>-7.151888</td>\n",
              "      <td>2.624744</td>\n",
              "      <td>-6.54362</td>\n",
              "      <td>-7.088371</td>\n",
              "      <td>...</td>\n",
              "      <td>0.029088</td>\n",
              "      <td>0.009248</td>\n",
              "      <td>-0.038447</td>\n",
              "      <td>0.018845</td>\n",
              "      <td>0.048154</td>\n",
              "      <td>-0.006325</td>\n",
              "      <td>0.005365</td>\n",
              "      <td>0.070331</td>\n",
              "      <td>-0.026675</td>\n",
              "      <td>-0.041262</td>\n",
              "    </tr>\n",
              "    <tr>\n",
              "      <th>2</th>\n",
              "      <td>no</td>\n",
              "      <td>2</td>\n",
              "      <td>2</td>\n",
              "      <td>-17.421425</td>\n",
              "      <td>-8.676399</td>\n",
              "      <td>1.046292</td>\n",
              "      <td>-7.151888</td>\n",
              "      <td>2.624744</td>\n",
              "      <td>-6.54362</td>\n",
              "      <td>-7.088371</td>\n",
              "      <td>...</td>\n",
              "      <td>0.029088</td>\n",
              "      <td>0.009248</td>\n",
              "      <td>-0.038447</td>\n",
              "      <td>0.018845</td>\n",
              "      <td>0.048154</td>\n",
              "      <td>-0.006325</td>\n",
              "      <td>0.005365</td>\n",
              "      <td>0.070331</td>\n",
              "      <td>-0.026675</td>\n",
              "      <td>-0.041262</td>\n",
              "    </tr>\n",
              "    <tr>\n",
              "      <th>3</th>\n",
              "      <td>yes</td>\n",
              "      <td>2</td>\n",
              "      <td>2</td>\n",
              "      <td>-17.421425</td>\n",
              "      <td>-8.676399</td>\n",
              "      <td>1.046292</td>\n",
              "      <td>-7.151888</td>\n",
              "      <td>2.624744</td>\n",
              "      <td>-6.54362</td>\n",
              "      <td>-7.088371</td>\n",
              "      <td>...</td>\n",
              "      <td>0.056799</td>\n",
              "      <td>-0.044716</td>\n",
              "      <td>-0.057458</td>\n",
              "      <td>0.005188</td>\n",
              "      <td>0.082895</td>\n",
              "      <td>-0.003959</td>\n",
              "      <td>-0.008489</td>\n",
              "      <td>0.039941</td>\n",
              "      <td>0.023345</td>\n",
              "      <td>-0.019131</td>\n",
              "    </tr>\n",
              "    <tr>\n",
              "      <th>4</th>\n",
              "      <td>no</td>\n",
              "      <td>2</td>\n",
              "      <td>2</td>\n",
              "      <td>-17.421425</td>\n",
              "      <td>-8.676399</td>\n",
              "      <td>1.046292</td>\n",
              "      <td>-7.151888</td>\n",
              "      <td>2.624744</td>\n",
              "      <td>-6.54362</td>\n",
              "      <td>-7.088371</td>\n",
              "      <td>...</td>\n",
              "      <td>0.029088</td>\n",
              "      <td>0.009248</td>\n",
              "      <td>-0.038447</td>\n",
              "      <td>0.018845</td>\n",
              "      <td>0.048154</td>\n",
              "      <td>-0.006325</td>\n",
              "      <td>0.005365</td>\n",
              "      <td>0.070331</td>\n",
              "      <td>-0.026675</td>\n",
              "      <td>-0.041262</td>\n",
              "    </tr>\n",
              "  </tbody>\n",
              "</table>\n",
              "<p>5 rows × 870 columns</p>\n",
              "</div>\n",
              "    <div class=\"colab-df-buttons\">\n",
              "\n",
              "  <div class=\"colab-df-container\">\n",
              "    <button class=\"colab-df-convert\" onclick=\"convertToInteractive('df-b6ece570-6659-4fa0-90d3-c55891c1cb50')\"\n",
              "            title=\"Convert this dataframe to an interactive table.\"\n",
              "            style=\"display:none;\">\n",
              "\n",
              "  <svg xmlns=\"http://www.w3.org/2000/svg\" height=\"24px\" viewBox=\"0 -960 960 960\">\n",
              "    <path d=\"M120-120v-720h720v720H120Zm60-500h600v-160H180v160Zm220 220h160v-160H400v160Zm0 220h160v-160H400v160ZM180-400h160v-160H180v160Zm440 0h160v-160H620v160ZM180-180h160v-160H180v160Zm440 0h160v-160H620v160Z\"/>\n",
              "  </svg>\n",
              "    </button>\n",
              "\n",
              "  <style>\n",
              "    .colab-df-container {\n",
              "      display:flex;\n",
              "      gap: 12px;\n",
              "    }\n",
              "\n",
              "    .colab-df-convert {\n",
              "      background-color: #E8F0FE;\n",
              "      border: none;\n",
              "      border-radius: 50%;\n",
              "      cursor: pointer;\n",
              "      display: none;\n",
              "      fill: #1967D2;\n",
              "      height: 32px;\n",
              "      padding: 0 0 0 0;\n",
              "      width: 32px;\n",
              "    }\n",
              "\n",
              "    .colab-df-convert:hover {\n",
              "      background-color: #E2EBFA;\n",
              "      box-shadow: 0px 1px 2px rgba(60, 64, 67, 0.3), 0px 1px 3px 1px rgba(60, 64, 67, 0.15);\n",
              "      fill: #174EA6;\n",
              "    }\n",
              "\n",
              "    .colab-df-buttons div {\n",
              "      margin-bottom: 4px;\n",
              "    }\n",
              "\n",
              "    [theme=dark] .colab-df-convert {\n",
              "      background-color: #3B4455;\n",
              "      fill: #D2E3FC;\n",
              "    }\n",
              "\n",
              "    [theme=dark] .colab-df-convert:hover {\n",
              "      background-color: #434B5C;\n",
              "      box-shadow: 0px 1px 3px 1px rgba(0, 0, 0, 0.15);\n",
              "      filter: drop-shadow(0px 1px 2px rgba(0, 0, 0, 0.3));\n",
              "      fill: #FFFFFF;\n",
              "    }\n",
              "  </style>\n",
              "\n",
              "    <script>\n",
              "      const buttonEl =\n",
              "        document.querySelector('#df-b6ece570-6659-4fa0-90d3-c55891c1cb50 button.colab-df-convert');\n",
              "      buttonEl.style.display =\n",
              "        google.colab.kernel.accessAllowed ? 'block' : 'none';\n",
              "\n",
              "      async function convertToInteractive(key) {\n",
              "        const element = document.querySelector('#df-b6ece570-6659-4fa0-90d3-c55891c1cb50');\n",
              "        const dataTable =\n",
              "          await google.colab.kernel.invokeFunction('convertToInteractive',\n",
              "                                                    [key], {});\n",
              "        if (!dataTable) return;\n",
              "\n",
              "        const docLinkHtml = 'Like what you see? Visit the ' +\n",
              "          '<a target=\"_blank\" href=https://colab.research.google.com/notebooks/data_table.ipynb>data table notebook</a>'\n",
              "          + ' to learn more about interactive tables.';\n",
              "        element.innerHTML = '';\n",
              "        dataTable['output_type'] = 'display_data';\n",
              "        await google.colab.output.renderOutput(dataTable, element);\n",
              "        const docLink = document.createElement('div');\n",
              "        docLink.innerHTML = docLinkHtml;\n",
              "        element.appendChild(docLink);\n",
              "      }\n",
              "    </script>\n",
              "  </div>\n",
              "\n",
              "\n",
              "<div id=\"df-bfdafd8d-a0d1-466c-8bc0-959412654abe\">\n",
              "  <button class=\"colab-df-quickchart\" onclick=\"quickchart('df-bfdafd8d-a0d1-466c-8bc0-959412654abe')\"\n",
              "            title=\"Suggest charts\"\n",
              "            style=\"display:none;\">\n",
              "\n",
              "<svg xmlns=\"http://www.w3.org/2000/svg\" height=\"24px\"viewBox=\"0 0 24 24\"\n",
              "     width=\"24px\">\n",
              "    <g>\n",
              "        <path d=\"M19 3H5c-1.1 0-2 .9-2 2v14c0 1.1.9 2 2 2h14c1.1 0 2-.9 2-2V5c0-1.1-.9-2-2-2zM9 17H7v-7h2v7zm4 0h-2V7h2v10zm4 0h-2v-4h2v4z\"/>\n",
              "    </g>\n",
              "</svg>\n",
              "  </button>\n",
              "\n",
              "<style>\n",
              "  .colab-df-quickchart {\n",
              "      --bg-color: #E8F0FE;\n",
              "      --fill-color: #1967D2;\n",
              "      --hover-bg-color: #E2EBFA;\n",
              "      --hover-fill-color: #174EA6;\n",
              "      --disabled-fill-color: #AAA;\n",
              "      --disabled-bg-color: #DDD;\n",
              "  }\n",
              "\n",
              "  [theme=dark] .colab-df-quickchart {\n",
              "      --bg-color: #3B4455;\n",
              "      --fill-color: #D2E3FC;\n",
              "      --hover-bg-color: #434B5C;\n",
              "      --hover-fill-color: #FFFFFF;\n",
              "      --disabled-bg-color: #3B4455;\n",
              "      --disabled-fill-color: #666;\n",
              "  }\n",
              "\n",
              "  .colab-df-quickchart {\n",
              "    background-color: var(--bg-color);\n",
              "    border: none;\n",
              "    border-radius: 50%;\n",
              "    cursor: pointer;\n",
              "    display: none;\n",
              "    fill: var(--fill-color);\n",
              "    height: 32px;\n",
              "    padding: 0;\n",
              "    width: 32px;\n",
              "  }\n",
              "\n",
              "  .colab-df-quickchart:hover {\n",
              "    background-color: var(--hover-bg-color);\n",
              "    box-shadow: 0 1px 2px rgba(60, 64, 67, 0.3), 0 1px 3px 1px rgba(60, 64, 67, 0.15);\n",
              "    fill: var(--button-hover-fill-color);\n",
              "  }\n",
              "\n",
              "  .colab-df-quickchart-complete:disabled,\n",
              "  .colab-df-quickchart-complete:disabled:hover {\n",
              "    background-color: var(--disabled-bg-color);\n",
              "    fill: var(--disabled-fill-color);\n",
              "    box-shadow: none;\n",
              "  }\n",
              "\n",
              "  .colab-df-spinner {\n",
              "    border: 2px solid var(--fill-color);\n",
              "    border-color: transparent;\n",
              "    border-bottom-color: var(--fill-color);\n",
              "    animation:\n",
              "      spin 1s steps(1) infinite;\n",
              "  }\n",
              "\n",
              "  @keyframes spin {\n",
              "    0% {\n",
              "      border-color: transparent;\n",
              "      border-bottom-color: var(--fill-color);\n",
              "      border-left-color: var(--fill-color);\n",
              "    }\n",
              "    20% {\n",
              "      border-color: transparent;\n",
              "      border-left-color: var(--fill-color);\n",
              "      border-top-color: var(--fill-color);\n",
              "    }\n",
              "    30% {\n",
              "      border-color: transparent;\n",
              "      border-left-color: var(--fill-color);\n",
              "      border-top-color: var(--fill-color);\n",
              "      border-right-color: var(--fill-color);\n",
              "    }\n",
              "    40% {\n",
              "      border-color: transparent;\n",
              "      border-right-color: var(--fill-color);\n",
              "      border-top-color: var(--fill-color);\n",
              "    }\n",
              "    60% {\n",
              "      border-color: transparent;\n",
              "      border-right-color: var(--fill-color);\n",
              "    }\n",
              "    80% {\n",
              "      border-color: transparent;\n",
              "      border-right-color: var(--fill-color);\n",
              "      border-bottom-color: var(--fill-color);\n",
              "    }\n",
              "    90% {\n",
              "      border-color: transparent;\n",
              "      border-bottom-color: var(--fill-color);\n",
              "    }\n",
              "  }\n",
              "</style>\n",
              "\n",
              "  <script>\n",
              "    async function quickchart(key) {\n",
              "      const quickchartButtonEl =\n",
              "        document.querySelector('#' + key + ' button');\n",
              "      quickchartButtonEl.disabled = true;  // To prevent multiple clicks.\n",
              "      quickchartButtonEl.classList.add('colab-df-spinner');\n",
              "      try {\n",
              "        const charts = await google.colab.kernel.invokeFunction(\n",
              "            'suggestCharts', [key], {});\n",
              "      } catch (error) {\n",
              "        console.error('Error during call to suggestCharts:', error);\n",
              "      }\n",
              "      quickchartButtonEl.classList.remove('colab-df-spinner');\n",
              "      quickchartButtonEl.classList.add('colab-df-quickchart-complete');\n",
              "    }\n",
              "    (() => {\n",
              "      let quickchartButtonEl =\n",
              "        document.querySelector('#df-bfdafd8d-a0d1-466c-8bc0-959412654abe button');\n",
              "      quickchartButtonEl.style.display =\n",
              "        google.colab.kernel.accessAllowed ? 'block' : 'none';\n",
              "    })();\n",
              "  </script>\n",
              "</div>\n",
              "\n",
              "    </div>\n",
              "  </div>\n"
            ],
            "application/vnd.google.colaboratory.intrinsic+json": {
              "type": "dataframe",
              "variable_name": "df_valid_pca"
            }
          },
          "metadata": {},
          "execution_count": 7
        }
      ]
    },
    {
      "cell_type": "markdown",
      "source": [
        "##### Save Workspace"
      ],
      "metadata": {
        "id": "JTBRzC0xpdHg"
      },
      "id": "JTBRzC0xpdHg"
    },
    {
      "cell_type": "code",
      "source": [
        "joblib.dump(df_train_pca, \"/content/drive/MyDrive/Colab Notebooks/894/Training/(4)_dfTrain_3.2.joblib\")\n",
        "joblib.dump(df_valid_pca, \"/content/drive/MyDrive/Colab Notebooks/894/Validation/(4)_dfValid_3.2.joblib\")"
      ],
      "metadata": {
        "colab": {
          "base_uri": "https://localhost:8080/"
        },
        "id": "96-oy4lPpO2u",
        "outputId": "fe18d28b-ce91-4fe6-b780-8380b37be574"
      },
      "id": "96-oy4lPpO2u",
      "execution_count": 8,
      "outputs": [
        {
          "output_type": "execute_result",
          "data": {
            "text/plain": [
              "['/content/drive/MyDrive/Colab Notebooks/894/Validation/(4)_dfValid_3.2.joblib']"
            ]
          },
          "metadata": {},
          "execution_count": 8
        }
      ]
    },
    {
      "cell_type": "code",
      "source": [
        "df_train = df_train_pca\n",
        "df_valid = df_valid_pca"
      ],
      "metadata": {
        "id": "--gwQmQ6QOIt"
      },
      "id": "--gwQmQ6QOIt",
      "execution_count": 18,
      "outputs": []
    },
    {
      "cell_type": "code",
      "source": [
        "# del pca_image, pca_questions, pca_answers, pca_filtered_choices\n",
        "# del image_train_pca, image_valid_pca, question_train_pca, question_valid_pca, answer_train_pca, answer_valid_pca, filtered_choices_train_pca, filtered_choices_valid_pca\n",
        "# del df_image_train_pca, df_image_valid_pca, df_questions_train_pca, df_questions_valid_pca, df_answers_train_pca, df_answers_valid_pca, df_filtered_choices_train_pca, df_filtered_choices_valid_pca\n",
        "# del df_train_pca, df_valid_pca"
      ],
      "metadata": {
        "id": "r2QfQlAf0AXD"
      },
      "id": "r2QfQlAf0AXD",
      "execution_count": 19,
      "outputs": []
    },
    {
      "cell_type": "markdown",
      "id": "xTrSQUP32wZn",
      "metadata": {
        "id": "xTrSQUP32wZn"
      },
      "source": [
        "### 3.3 Model Architecture & Training"
      ]
    },
    {
      "cell_type": "markdown",
      "source": [
        "##### Load Workspace"
      ],
      "metadata": {
        "id": "VLZmzEAwpjZg"
      },
      "id": "VLZmzEAwpjZg"
    },
    {
      "cell_type": "code",
      "source": [
        "df_train = joblib.load(\"/content/drive/MyDrive/Colab Notebooks/894/Training/(4)_dfTrain_3.2.joblib\")\n",
        "df_valid = joblib.load(\"/content/drive/MyDrive/Colab Notebooks/894/Validation/(4)_dfValid_3.2.joblib\")\n",
        "\n",
        "df_train.head()"
      ],
      "metadata": {
        "id": "HJDW1M0ppcgH"
      },
      "id": "HJDW1M0ppcgH",
      "execution_count": null,
      "outputs": []
    },
    {
      "cell_type": "code",
      "source": [
        "# Define the number of principal components for PCA\n",
        "n_components_image = 452\n",
        "n_components_filtered_choices = 131\n",
        "n_components_questions = 150\n",
        "n_components_answers = 134"
      ],
      "metadata": {
        "id": "A0OfI00vrjpq"
      },
      "id": "A0OfI00vrjpq",
      "execution_count": 20,
      "outputs": []
    },
    {
      "cell_type": "markdown",
      "source": [
        "##### Build the Model Architecture"
      ],
      "metadata": {
        "id": "o8X-4SNx7MtX"
      },
      "id": "o8X-4SNx7MtX"
    },
    {
      "cell_type": "code",
      "execution_count": 24,
      "id": "e7y0Iog2IsdG",
      "metadata": {
        "id": "e7y0Iog2IsdG",
        "colab": {
          "base_uri": "https://localhost:8080/",
          "height": 783
        },
        "outputId": "cb70a170-8976-4216-ab19-992d7b12a911"
      },
      "outputs": [
        {
          "output_type": "stream",
          "name": "stdout",
          "text": [
            "Mismatch in number of classes: Train Labels: 2521, Validation Labels: 1568\n",
            "Shape of adjusted `valid_labels`: (300000, 2521)\n",
            "Final shape of `train_labels`: (600000, 2521)\n",
            "Final shape of `valid_labels`: (300000, 2521)\n"
          ]
        },
        {
          "output_type": "display_data",
          "data": {
            "text/plain": [
              "\u001b[1mModel: \"functional_1\"\u001b[0m\n"
            ],
            "text/html": [
              "<pre style=\"white-space:pre;overflow-x:auto;line-height:normal;font-family:Menlo,'DejaVu Sans Mono',consolas,'Courier New',monospace\"><span style=\"font-weight: bold\">Model: \"functional_1\"</span>\n",
              "</pre>\n"
            ]
          },
          "metadata": {}
        },
        {
          "output_type": "display_data",
          "data": {
            "text/plain": [
              "┏━━━━━━━━━━━━━━━━━━━━━━━━━━━┳━━━━━━━━━━━━━━━━━━━━━━━━┳━━━━━━━━━━━━━━━━┳━━━━━━━━━━━━━━━━━━━━━━━━┓\n",
              "┃\u001b[1m \u001b[0m\u001b[1mLayer (type)             \u001b[0m\u001b[1m \u001b[0m┃\u001b[1m \u001b[0m\u001b[1mOutput Shape          \u001b[0m\u001b[1m \u001b[0m┃\u001b[1m \u001b[0m\u001b[1m       Param #\u001b[0m\u001b[1m \u001b[0m┃\u001b[1m \u001b[0m\u001b[1mConnected to          \u001b[0m\u001b[1m \u001b[0m┃\n",
              "┡━━━━━━━━━━━━━━━━━━━━━━━━━━━╇━━━━━━━━━━━━━━━━━━━━━━━━╇━━━━━━━━━━━━━━━━╇━━━━━━━━━━━━━━━━━━━━━━━━┩\n",
              "│ question_embedding_input  │ (\u001b[38;5;45mNone\u001b[0m, \u001b[38;5;34m150\u001b[0m)            │              \u001b[38;5;34m0\u001b[0m │ -                      │\n",
              "│ (\u001b[38;5;33mInputLayer\u001b[0m)              │                        │                │                        │\n",
              "├───────────────────────────┼────────────────────────┼────────────────┼────────────────────────┤\n",
              "│ answer_embedding_input    │ (\u001b[38;5;45mNone\u001b[0m, \u001b[38;5;34m134\u001b[0m)            │              \u001b[38;5;34m0\u001b[0m │ -                      │\n",
              "│ (\u001b[38;5;33mInputLayer\u001b[0m)              │                        │                │                        │\n",
              "├───────────────────────────┼────────────────────────┼────────────────┼────────────────────────┤\n",
              "│ image_input (\u001b[38;5;33mInputLayer\u001b[0m)  │ (\u001b[38;5;45mNone\u001b[0m, \u001b[38;5;34m452\u001b[0m)            │              \u001b[38;5;34m0\u001b[0m │ -                      │\n",
              "├───────────────────────────┼────────────────────────┼────────────────┼────────────────────────┤\n",
              "│ filtered_choices_embeddi… │ (\u001b[38;5;45mNone\u001b[0m, \u001b[38;5;34m131\u001b[0m)            │              \u001b[38;5;34m0\u001b[0m │ -                      │\n",
              "│ (\u001b[38;5;33mInputLayer\u001b[0m)              │                        │                │                        │\n",
              "├───────────────────────────┼────────────────────────┼────────────────┼────────────────────────┤\n",
              "│ answer_type_encoded       │ (\u001b[38;5;45mNone\u001b[0m, \u001b[38;5;34m1\u001b[0m)              │              \u001b[38;5;34m0\u001b[0m │ -                      │\n",
              "│ (\u001b[38;5;33mInputLayer\u001b[0m)              │                        │                │                        │\n",
              "├───────────────────────────┼────────────────────────┼────────────────┼────────────────────────┤\n",
              "│ answer_confidence_encoded │ (\u001b[38;5;45mNone\u001b[0m, \u001b[38;5;34m1\u001b[0m)              │              \u001b[38;5;34m0\u001b[0m │ -                      │\n",
              "│ (\u001b[38;5;33mInputLayer\u001b[0m)              │                        │                │                        │\n",
              "├───────────────────────────┼────────────────────────┼────────────────┼────────────────────────┤\n",
              "│ concatenate_1             │ (\u001b[38;5;45mNone\u001b[0m, \u001b[38;5;34m869\u001b[0m)            │              \u001b[38;5;34m0\u001b[0m │ question_embedding_in… │\n",
              "│ (\u001b[38;5;33mConcatenate\u001b[0m)             │                        │                │ answer_embedding_inpu… │\n",
              "│                           │                        │                │ image_input[\u001b[38;5;34m0\u001b[0m][\u001b[38;5;34m0\u001b[0m],     │\n",
              "│                           │                        │                │ filtered_choices_embe… │\n",
              "│                           │                        │                │ answer_type_encoded[\u001b[38;5;34m0\u001b[0m… │\n",
              "│                           │                        │                │ answer_confidence_enc… │\n",
              "├───────────────────────────┼────────────────────────┼────────────────┼────────────────────────┤\n",
              "│ dense_3 (\u001b[38;5;33mDense\u001b[0m)           │ (\u001b[38;5;45mNone\u001b[0m, \u001b[38;5;34m64\u001b[0m)             │         \u001b[38;5;34m55,680\u001b[0m │ concatenate_1[\u001b[38;5;34m0\u001b[0m][\u001b[38;5;34m0\u001b[0m]    │\n",
              "├───────────────────────────┼────────────────────────┼────────────────┼────────────────────────┤\n",
              "│ dropout_2 (\u001b[38;5;33mDropout\u001b[0m)       │ (\u001b[38;5;45mNone\u001b[0m, \u001b[38;5;34m64\u001b[0m)             │              \u001b[38;5;34m0\u001b[0m │ dense_3[\u001b[38;5;34m0\u001b[0m][\u001b[38;5;34m0\u001b[0m]          │\n",
              "├───────────────────────────┼────────────────────────┼────────────────┼────────────────────────┤\n",
              "│ dense_4 (\u001b[38;5;33mDense\u001b[0m)           │ (\u001b[38;5;45mNone\u001b[0m, \u001b[38;5;34m32\u001b[0m)             │          \u001b[38;5;34m2,080\u001b[0m │ dropout_2[\u001b[38;5;34m0\u001b[0m][\u001b[38;5;34m0\u001b[0m]        │\n",
              "├───────────────────────────┼────────────────────────┼────────────────┼────────────────────────┤\n",
              "│ dropout_3 (\u001b[38;5;33mDropout\u001b[0m)       │ (\u001b[38;5;45mNone\u001b[0m, \u001b[38;5;34m32\u001b[0m)             │              \u001b[38;5;34m0\u001b[0m │ dense_4[\u001b[38;5;34m0\u001b[0m][\u001b[38;5;34m0\u001b[0m]          │\n",
              "├───────────────────────────┼────────────────────────┼────────────────┼────────────────────────┤\n",
              "│ dense_5 (\u001b[38;5;33mDense\u001b[0m)           │ (\u001b[38;5;45mNone\u001b[0m, \u001b[38;5;34m2521\u001b[0m)           │         \u001b[38;5;34m83,193\u001b[0m │ dropout_3[\u001b[38;5;34m0\u001b[0m][\u001b[38;5;34m0\u001b[0m]        │\n",
              "└───────────────────────────┴────────────────────────┴────────────────┴────────────────────────┘\n"
            ],
            "text/html": [
              "<pre style=\"white-space:pre;overflow-x:auto;line-height:normal;font-family:Menlo,'DejaVu Sans Mono',consolas,'Courier New',monospace\">┏━━━━━━━━━━━━━━━━━━━━━━━━━━━┳━━━━━━━━━━━━━━━━━━━━━━━━┳━━━━━━━━━━━━━━━━┳━━━━━━━━━━━━━━━━━━━━━━━━┓\n",
              "┃<span style=\"font-weight: bold\"> Layer (type)              </span>┃<span style=\"font-weight: bold\"> Output Shape           </span>┃<span style=\"font-weight: bold\">        Param # </span>┃<span style=\"font-weight: bold\"> Connected to           </span>┃\n",
              "┡━━━━━━━━━━━━━━━━━━━━━━━━━━━╇━━━━━━━━━━━━━━━━━━━━━━━━╇━━━━━━━━━━━━━━━━╇━━━━━━━━━━━━━━━━━━━━━━━━┩\n",
              "│ question_embedding_input  │ (<span style=\"color: #00d7ff; text-decoration-color: #00d7ff\">None</span>, <span style=\"color: #00af00; text-decoration-color: #00af00\">150</span>)            │              <span style=\"color: #00af00; text-decoration-color: #00af00\">0</span> │ -                      │\n",
              "│ (<span style=\"color: #0087ff; text-decoration-color: #0087ff\">InputLayer</span>)              │                        │                │                        │\n",
              "├───────────────────────────┼────────────────────────┼────────────────┼────────────────────────┤\n",
              "│ answer_embedding_input    │ (<span style=\"color: #00d7ff; text-decoration-color: #00d7ff\">None</span>, <span style=\"color: #00af00; text-decoration-color: #00af00\">134</span>)            │              <span style=\"color: #00af00; text-decoration-color: #00af00\">0</span> │ -                      │\n",
              "│ (<span style=\"color: #0087ff; text-decoration-color: #0087ff\">InputLayer</span>)              │                        │                │                        │\n",
              "├───────────────────────────┼────────────────────────┼────────────────┼────────────────────────┤\n",
              "│ image_input (<span style=\"color: #0087ff; text-decoration-color: #0087ff\">InputLayer</span>)  │ (<span style=\"color: #00d7ff; text-decoration-color: #00d7ff\">None</span>, <span style=\"color: #00af00; text-decoration-color: #00af00\">452</span>)            │              <span style=\"color: #00af00; text-decoration-color: #00af00\">0</span> │ -                      │\n",
              "├───────────────────────────┼────────────────────────┼────────────────┼────────────────────────┤\n",
              "│ filtered_choices_embeddi… │ (<span style=\"color: #00d7ff; text-decoration-color: #00d7ff\">None</span>, <span style=\"color: #00af00; text-decoration-color: #00af00\">131</span>)            │              <span style=\"color: #00af00; text-decoration-color: #00af00\">0</span> │ -                      │\n",
              "│ (<span style=\"color: #0087ff; text-decoration-color: #0087ff\">InputLayer</span>)              │                        │                │                        │\n",
              "├───────────────────────────┼────────────────────────┼────────────────┼────────────────────────┤\n",
              "│ answer_type_encoded       │ (<span style=\"color: #00d7ff; text-decoration-color: #00d7ff\">None</span>, <span style=\"color: #00af00; text-decoration-color: #00af00\">1</span>)              │              <span style=\"color: #00af00; text-decoration-color: #00af00\">0</span> │ -                      │\n",
              "│ (<span style=\"color: #0087ff; text-decoration-color: #0087ff\">InputLayer</span>)              │                        │                │                        │\n",
              "├───────────────────────────┼────────────────────────┼────────────────┼────────────────────────┤\n",
              "│ answer_confidence_encoded │ (<span style=\"color: #00d7ff; text-decoration-color: #00d7ff\">None</span>, <span style=\"color: #00af00; text-decoration-color: #00af00\">1</span>)              │              <span style=\"color: #00af00; text-decoration-color: #00af00\">0</span> │ -                      │\n",
              "│ (<span style=\"color: #0087ff; text-decoration-color: #0087ff\">InputLayer</span>)              │                        │                │                        │\n",
              "├───────────────────────────┼────────────────────────┼────────────────┼────────────────────────┤\n",
              "│ concatenate_1             │ (<span style=\"color: #00d7ff; text-decoration-color: #00d7ff\">None</span>, <span style=\"color: #00af00; text-decoration-color: #00af00\">869</span>)            │              <span style=\"color: #00af00; text-decoration-color: #00af00\">0</span> │ question_embedding_in… │\n",
              "│ (<span style=\"color: #0087ff; text-decoration-color: #0087ff\">Concatenate</span>)             │                        │                │ answer_embedding_inpu… │\n",
              "│                           │                        │                │ image_input[<span style=\"color: #00af00; text-decoration-color: #00af00\">0</span>][<span style=\"color: #00af00; text-decoration-color: #00af00\">0</span>],     │\n",
              "│                           │                        │                │ filtered_choices_embe… │\n",
              "│                           │                        │                │ answer_type_encoded[<span style=\"color: #00af00; text-decoration-color: #00af00\">0</span>… │\n",
              "│                           │                        │                │ answer_confidence_enc… │\n",
              "├───────────────────────────┼────────────────────────┼────────────────┼────────────────────────┤\n",
              "│ dense_3 (<span style=\"color: #0087ff; text-decoration-color: #0087ff\">Dense</span>)           │ (<span style=\"color: #00d7ff; text-decoration-color: #00d7ff\">None</span>, <span style=\"color: #00af00; text-decoration-color: #00af00\">64</span>)             │         <span style=\"color: #00af00; text-decoration-color: #00af00\">55,680</span> │ concatenate_1[<span style=\"color: #00af00; text-decoration-color: #00af00\">0</span>][<span style=\"color: #00af00; text-decoration-color: #00af00\">0</span>]    │\n",
              "├───────────────────────────┼────────────────────────┼────────────────┼────────────────────────┤\n",
              "│ dropout_2 (<span style=\"color: #0087ff; text-decoration-color: #0087ff\">Dropout</span>)       │ (<span style=\"color: #00d7ff; text-decoration-color: #00d7ff\">None</span>, <span style=\"color: #00af00; text-decoration-color: #00af00\">64</span>)             │              <span style=\"color: #00af00; text-decoration-color: #00af00\">0</span> │ dense_3[<span style=\"color: #00af00; text-decoration-color: #00af00\">0</span>][<span style=\"color: #00af00; text-decoration-color: #00af00\">0</span>]          │\n",
              "├───────────────────────────┼────────────────────────┼────────────────┼────────────────────────┤\n",
              "│ dense_4 (<span style=\"color: #0087ff; text-decoration-color: #0087ff\">Dense</span>)           │ (<span style=\"color: #00d7ff; text-decoration-color: #00d7ff\">None</span>, <span style=\"color: #00af00; text-decoration-color: #00af00\">32</span>)             │          <span style=\"color: #00af00; text-decoration-color: #00af00\">2,080</span> │ dropout_2[<span style=\"color: #00af00; text-decoration-color: #00af00\">0</span>][<span style=\"color: #00af00; text-decoration-color: #00af00\">0</span>]        │\n",
              "├───────────────────────────┼────────────────────────┼────────────────┼────────────────────────┤\n",
              "│ dropout_3 (<span style=\"color: #0087ff; text-decoration-color: #0087ff\">Dropout</span>)       │ (<span style=\"color: #00d7ff; text-decoration-color: #00d7ff\">None</span>, <span style=\"color: #00af00; text-decoration-color: #00af00\">32</span>)             │              <span style=\"color: #00af00; text-decoration-color: #00af00\">0</span> │ dense_4[<span style=\"color: #00af00; text-decoration-color: #00af00\">0</span>][<span style=\"color: #00af00; text-decoration-color: #00af00\">0</span>]          │\n",
              "├───────────────────────────┼────────────────────────┼────────────────┼────────────────────────┤\n",
              "│ dense_5 (<span style=\"color: #0087ff; text-decoration-color: #0087ff\">Dense</span>)           │ (<span style=\"color: #00d7ff; text-decoration-color: #00d7ff\">None</span>, <span style=\"color: #00af00; text-decoration-color: #00af00\">2521</span>)           │         <span style=\"color: #00af00; text-decoration-color: #00af00\">83,193</span> │ dropout_3[<span style=\"color: #00af00; text-decoration-color: #00af00\">0</span>][<span style=\"color: #00af00; text-decoration-color: #00af00\">0</span>]        │\n",
              "└───────────────────────────┴────────────────────────┴────────────────┴────────────────────────┘\n",
              "</pre>\n"
            ]
          },
          "metadata": {}
        },
        {
          "output_type": "display_data",
          "data": {
            "text/plain": [
              "\u001b[1m Total params: \u001b[0m\u001b[38;5;34m140,953\u001b[0m (550.60 KB)\n"
            ],
            "text/html": [
              "<pre style=\"white-space:pre;overflow-x:auto;line-height:normal;font-family:Menlo,'DejaVu Sans Mono',consolas,'Courier New',monospace\"><span style=\"font-weight: bold\"> Total params: </span><span style=\"color: #00af00; text-decoration-color: #00af00\">140,953</span> (550.60 KB)\n",
              "</pre>\n"
            ]
          },
          "metadata": {}
        },
        {
          "output_type": "display_data",
          "data": {
            "text/plain": [
              "\u001b[1m Trainable params: \u001b[0m\u001b[38;5;34m140,953\u001b[0m (550.60 KB)\n"
            ],
            "text/html": [
              "<pre style=\"white-space:pre;overflow-x:auto;line-height:normal;font-family:Menlo,'DejaVu Sans Mono',consolas,'Courier New',monospace\"><span style=\"font-weight: bold\"> Trainable params: </span><span style=\"color: #00af00; text-decoration-color: #00af00\">140,953</span> (550.60 KB)\n",
              "</pre>\n"
            ]
          },
          "metadata": {}
        },
        {
          "output_type": "display_data",
          "data": {
            "text/plain": [
              "\u001b[1m Non-trainable params: \u001b[0m\u001b[38;5;34m0\u001b[0m (0.00 B)\n"
            ],
            "text/html": [
              "<pre style=\"white-space:pre;overflow-x:auto;line-height:normal;font-family:Menlo,'DejaVu Sans Mono',consolas,'Courier New',monospace\"><span style=\"font-weight: bold\"> Non-trainable params: </span><span style=\"color: #00af00; text-decoration-color: #00af00\">0</span> (0.00 B)\n",
              "</pre>\n"
            ]
          },
          "metadata": {}
        },
        {
          "output_type": "stream",
          "name": "stdout",
          "text": [
            "None\n"
          ]
        }
      ],
      "source": [
        "# Define input layers for PCA-transformed inputs\n",
        "question_embedding_input = Input(shape=(n_components_questions,), name='question_embedding_input')  # Use PCA components shape\n",
        "answer_embedding_input = Input(shape=(n_components_answers,), name='answer_embedding_input')  # Use PCA components shape\n",
        "filtered_choices_embedding_input = Input(shape=(n_components_filtered_choices,), name='filtered_choices_embedding_input')  # Use PCA components shape\n",
        "image_input = Input(shape=(n_components_image,), name='image_input')  # Use PCA components shape\n",
        "\n",
        "answer_type_input = Input(shape=(1,), name='answer_type_encoded')  # One-dimensional label-encoded feature\n",
        "answer_confidence_input = Input(shape=(1,), name='answer_confidence_encoded')  # One-dimensional label-encoded feature\n",
        "\n",
        "# Step 3: Concatenate all inputs\n",
        "combined = Concatenate()([question_embedding_input, answer_embedding_input, image_input,\n",
        "                          filtered_choices_embedding_input, answer_type_input, answer_confidence_input])\n",
        "\n",
        "# Create dense layers and dropout layers for the combined inputs\n",
        "x = Dense(64, activation='relu')(combined)\n",
        "x = Dropout(0.3)(x)\n",
        "x = Dense(32, activation='relu')(x)\n",
        "x = Dropout(0.3)(x)\n",
        "\n",
        "# One-hot encode the target labels for training and validation\n",
        "train_labels = pd.get_dummies(df_train['target_answer']).values\n",
        "valid_labels = pd.get_dummies(df_valid['target_answer']).values\n",
        "\n",
        "# Check that the validation labels have the same number of classes as training labels\n",
        "if valid_labels.shape[1] != train_labels.shape[1]:\n",
        "    print(f\"Mismatch in number of classes: Train Labels: {train_labels.shape[1]}, Validation Labels: {valid_labels.shape[1]}\")\n",
        "    # Create a new zero-filled array with the same number of columns as train_labels\n",
        "    new_valid_labels = np.zeros((valid_labels.shape[0], train_labels.shape[1]))\n",
        "    # Fill the new array with the original valid_labels values where classes exist\n",
        "    new_valid_labels[:, :valid_labels.shape[1]] = valid_labels  # Copy existing classes\n",
        "    print(f\"Shape of adjusted `valid_labels`: {new_valid_labels.shape}\")\n",
        "    valid_labels = new_valid_labels\n",
        "\n",
        "print(f\"Final shape of `train_labels`: {train_labels.shape}\")\n",
        "print(f\"Final shape of `valid_labels`: {valid_labels.shape}\")\n",
        "\n",
        "# Define the number of classes for output\n",
        "num_classes = train_labels.shape[1]  # Get the correct number of classes from train_labels shape\n",
        "output = Dense(num_classes, activation='softmax')(x)\n",
        "\n",
        "model = Model(inputs=[question_embedding_input, answer_embedding_input, image_input,\n",
        "                      filtered_choices_embedding_input, answer_type_input, answer_confidence_input], outputs=output)\n",
        "\n",
        "model.compile(optimizer=Adam(learning_rate=0.0005), loss='categorical_crossentropy', metrics=['accuracy'])\n",
        "print(model.summary())"
      ]
    },
    {
      "cell_type": "markdown",
      "id": "gqiOcBJwuc5-",
      "metadata": {
        "id": "gqiOcBJwuc5-"
      },
      "source": [
        "##### Training the model"
      ]
    },
    {
      "cell_type": "code",
      "execution_count": null,
      "id": "XrrWRU_Ermj-",
      "metadata": {
        "id": "XrrWRU_Ermj-",
        "colab": {
          "base_uri": "https://localhost:8080/"
        },
        "outputId": "2ae365e1-2ecd-4947-91f9-68ae23372f11"
      },
      "outputs": [
        {
          "output_type": "stream",
          "name": "stdout",
          "text": [
            "Epoch 1/10\n",
            "\u001b[1m 9754/37500\u001b[0m \u001b[32m━━━━━\u001b[0m\u001b[37m━━━━━━━━━━━━━━━\u001b[0m \u001b[1m48s\u001b[0m 2ms/step - accuracy: 0.6291 - loss: 1.7890"
          ]
        }
      ],
      "source": [
        "# Step 3: Prepare PCA-Transformed Training Inputs\n",
        "train_inputs = {\n",
        "    'question_embedding_input': df_train.filter(like='questions_pca').values,  # Select columns with 'questions_pca' in the name\n",
        "    'answer_embedding_input': df_train.filter(like='answers_pca').values,  # Select columns with 'answers_pca' in the name\n",
        "    'filtered_choices_embedding_input': df_train.filter(like='filtered_choices_pca').values,  # Select columns with 'filtered_choices_pca' in the name\n",
        "    'image_input': df_train.filter(like='image_pca').values,  # Select columns with 'image_pca' in the name\n",
        "    'answer_type_encoded': np.reshape(df_train['answer_type_encoded'].values, (-1, 1)),  # Reshape to (num_samples, 1)\n",
        "    'answer_confidence_encoded': np.reshape(df_train['answer_confidence_encoded'].values, (-1, 1))  # Reshape to (num_samples, 1)\n",
        "}\n",
        "\n",
        "# Apply the same PCA transformation to validation inputs using column filtering\n",
        "valid_inputs = {\n",
        "    'question_embedding_input': df_valid.filter(like='questions_pca').values,  # Select columns with 'questions_pca' in the name\n",
        "    'answer_embedding_input': df_valid.filter(like='answers_pca').values,  # Select columns with 'answers_pca' in the name\n",
        "    'filtered_choices_embedding_input': df_valid.filter(like='filtered_choices_pca').values,  # Select columns with 'filtered_choices_pca' in the name\n",
        "    'image_input': df_valid.filter(like='image_pca').values,  # Select columns with 'image_pca' in the name\n",
        "    'answer_type_encoded': np.reshape(df_valid['answer_type_encoded'].values, (-1, 1)),  # Reshape to (num_samples, 1)\n",
        "    'answer_confidence_encoded': np.reshape(df_valid['answer_confidence_encoded'].values, (-1, 1))  # Reshape to (num_samples, 1)\n",
        "}\n",
        "\n",
        "# Step 4: Train the simplified model using PCA-transformed inputs\n",
        "history = model.fit(train_inputs, train_labels, validation_data=(valid_inputs, valid_labels), epochs=10, batch_size=16)\n"
      ]
    },
    {
      "cell_type": "markdown",
      "source": [
        "##### Saving the model"
      ],
      "metadata": {
        "id": "d5vMHtiz7YzP"
      },
      "id": "d5vMHtiz7YzP"
    },
    {
      "cell_type": "code",
      "source": [
        "# Save the trained model to a file\n",
        "model.save('/content/drive/MyDrive/Colab Notebooks/894/Training/(5)_SimpleModel_3.4.h5')"
      ],
      "metadata": {
        "id": "n7pEl1DG4b0O"
      },
      "id": "n7pEl1DG4b0O",
      "execution_count": null,
      "outputs": []
    },
    {
      "cell_type": "code",
      "source": [
        "# Save the history to a text file\n",
        "with open('/content/drive/MyDrive/Colab Notebooks/894/Training/(5)_SimpleModel_3.4_training_history.txt', 'w') as f:\n",
        "    f.write(\"Training and Validation Performance:\\n\")\n",
        "    for key, values in history.history.items():\n",
        "        f.write(f\"{key}: {values}\\n\")\n"
      ],
      "metadata": {
        "id": "mYGkBAbN5U8L"
      },
      "id": "mYGkBAbN5U8L",
      "execution_count": null,
      "outputs": []
    },
    {
      "cell_type": "markdown",
      "source": [
        "# Step 4: Hyperparameter Tuning"
      ],
      "metadata": {
        "id": "b9BX61zW8XFy"
      },
      "id": "b9BX61zW8XFy"
    },
    {
      "cell_type": "markdown",
      "source": [
        "##### Load Workspace\n"
      ],
      "metadata": {
        "id": "y7hiJ8Pf8jgO"
      },
      "id": "y7hiJ8Pf8jgO"
    },
    {
      "cell_type": "code",
      "source": [
        "from tensorflow.keras.models import load_model\n",
        "model = load_model('/content/drive/MyDrive/Colab Notebooks/894/Training/(5)_SimpleModel_3.4.h5')\n",
        "\n",
        "df_train = joblib.load(\"/content/drive/MyDrive/Colab Notebooks/894/Training/(4)_dfTrain_3.2.joblib\")\n",
        "df_valid = joblib.load(\"/content/drive/MyDrive/Colab Notebooks/894/Validation/(4)_dfValid_3.2.joblib\")\n",
        "\n",
        "df_train.head()"
      ],
      "metadata": {
        "id": "IfzJu2Yk8i2C"
      },
      "id": "IfzJu2Yk8i2C",
      "execution_count": null,
      "outputs": []
    },
    {
      "cell_type": "code",
      "source": [
        "# Define the objective function for Optuna\n",
        "def objective(trial):\n",
        "    # Hyperparameters to tune\n",
        "    n_units_layer1 = trial.suggest_int('n_units_layer1', 32, 64)  # Number of units in first Dense layer\n",
        "    n_units_layer2 = trial.suggest_int('n_units_layer2', 16, 32)   # Number of units in second Dense layer\n",
        "    dropout_rate = trial.suggest_float('dropout_rate', 0.2, 0.5)   # Dropout rate\n",
        "    learning_rate = trial.suggest_float('learning_rate', 1e-5, 1e-3, log=True)  # Learning rate for Adam optimizer\n",
        "\n",
        "    # Define the model architecture (similar to your previous one)\n",
        "    question_embedding_input = Input(shape=(n_components_questions,), name='question_embedding_input')\n",
        "    answer_embedding_input = Input(shape=(n_components_answers,), name='answer_embedding_input')\n",
        "    filtered_choices_embedding_input = Input(shape=(n_components_filtered_choices,), name='filtered_choices_embedding_input')\n",
        "    image_input = Input(shape=(n_components_image,), name='image_input')\n",
        "\n",
        "    # Concatenate the PCA-transformed inputs\n",
        "    combined = Concatenate()([question_embedding_input, answer_embedding_input, image_input, filtered_choices_embedding_input])\n",
        "\n",
        "    # Fully connected layers with dynamic units and dropout\n",
        "    x = Dense(n_units_layer1, activation='relu')(combined)\n",
        "    x = Dropout(dropout_rate)(x)\n",
        "    x = Dense(n_units_layer2, activation='relu')(x)\n",
        "    x = Dropout(dropout_rate)(x)\n",
        "\n",
        "    # Output layer (number of classes)\n",
        "    output = Dense(num_classes, activation='softmax')(x)\n",
        "\n",
        "    # Create the model\n",
        "    model = Model(inputs=[question_embedding_input, answer_embedding_input, image_input,\n",
        "                          filtered_choices_embedding_input], outputs=output)\n",
        "\n",
        "    # Compile the model\n",
        "    model.compile(optimizer=Adam(learning_rate=learning_rate), loss='categorical_crossentropy', metrics=['accuracy'])\n",
        "\n",
        "    # Train the model with early stopping to prevent overfitting\n",
        "    model.fit(train_inputs, train_labels, validation_data=(valid_inputs, valid_labels),\n",
        "              epochs=10, batch_size=16, verbose=0)\n",
        "\n",
        "    # Evaluate the model on validation data\n",
        "    val_loss, val_accuracy = model.evaluate(valid_inputs, valid_labels, verbose=0)\n",
        "\n",
        "    # Return the validation accuracy as the objective value\n",
        "    return val_accuracy\n",
        "\n",
        "# Create the study object\n",
        "study = optuna.create_study(direction='maximize')\n",
        "\n",
        "# Start optimization\n",
        "study.optimize(objective, n_trials=100)  # Number of trials can be adjusted"
      ],
      "metadata": {
        "id": "2WxmY5GD9KJx"
      },
      "id": "2WxmY5GD9KJx",
      "execution_count": null,
      "outputs": []
    }
  ],
  "metadata": {
    "accelerator": "GPU",
    "colab": {
      "collapsed_sections": [
        "QEB6H69uLOY-",
        "k3pAq_F9EzT9",
        "CG6_RRVrj904",
        "BAsXr8d4-vbD"
      ],
      "gpuType": "A100",
      "machine_shape": "hm",
      "provenance": [],
      "include_colab_link": true
    },
    "kernelspec": {
      "display_name": "Python 3 (ipykernel)",
      "language": "python",
      "name": "python3"
    },
    "language_info": {
      "codemirror_mode": {
        "name": "ipython",
        "version": 3
      },
      "file_extension": ".py",
      "mimetype": "text/x-python",
      "name": "python",
      "nbconvert_exporter": "python",
      "pygments_lexer": "ipython3",
      "version": "3.12.7"
    }
  },
  "nbformat": 4,
  "nbformat_minor": 5
}