{
  "cells": [
    {
      "cell_type": "markdown",
      "metadata": {
        "id": "view-in-github",
        "colab_type": "text"
      },
      "source": [
        "<a href=\"https://colab.research.google.com/github/nilanahar/MMAI_894_DeepLearning_Project_TeamRosedale/blob/main/MMAI_894_Team_Project_ResNet%2BGoogleWord2Vec.ipynb\" target=\"_parent\"><img src=\"https://colab.research.google.com/assets/colab-badge.svg\" alt=\"Open In Colab\"/></a>"
      ]
    },
    {
      "cell_type": "markdown",
      "id": "99d86a5c-554c-485e-b4d8-9a555d94b158",
      "metadata": {
        "id": "99d86a5c-554c-485e-b4d8-9a555d94b158"
      },
      "source": [
        "# Set Up Environment"
      ]
    },
    {
      "cell_type": "markdown",
      "id": "kmyD5GpHG5a1",
      "metadata": {
        "id": "kmyD5GpHG5a1"
      },
      "source": [
        "#### Packages to Load"
      ]
    },
    {
      "cell_type": "code",
      "execution_count": 29,
      "id": "301dd1ed-b27f-4189-a4a4-ca3cc1796563",
      "metadata": {
        "colab": {
          "base_uri": "https://localhost:8080/"
        },
        "id": "301dd1ed-b27f-4189-a4a4-ca3cc1796563",
        "outputId": "025a2a0f-610f-4bba-8668-80ccb0fdf485"
      },
      "outputs": [
        {
          "output_type": "stream",
          "name": "stderr",
          "text": [
            "[nltk_data] Downloading package wordnet to /root/nltk_data...\n",
            "[nltk_data]   Package wordnet is already up-to-date!\n",
            "[nltk_data] Downloading package stopwords to /root/nltk_data...\n",
            "[nltk_data]   Package stopwords is already up-to-date!\n"
          ]
        },
        {
          "output_type": "stream",
          "name": "stdout",
          "text": [
            "Requirement already satisfied: optuna in /usr/local/lib/python3.10/dist-packages (4.0.0)\n",
            "Requirement already satisfied: alembic>=1.5.0 in /usr/local/lib/python3.10/dist-packages (from optuna) (1.13.3)\n",
            "Requirement already satisfied: colorlog in /usr/local/lib/python3.10/dist-packages (from optuna) (6.8.2)\n",
            "Requirement already satisfied: numpy in /usr/local/lib/python3.10/dist-packages (from optuna) (1.26.4)\n",
            "Requirement already satisfied: packaging>=20.0 in /usr/local/lib/python3.10/dist-packages (from optuna) (24.1)\n",
            "Requirement already satisfied: sqlalchemy>=1.3.0 in /usr/local/lib/python3.10/dist-packages (from optuna) (2.0.35)\n",
            "Requirement already satisfied: tqdm in /usr/local/lib/python3.10/dist-packages (from optuna) (4.66.5)\n",
            "Requirement already satisfied: PyYAML in /usr/local/lib/python3.10/dist-packages (from optuna) (6.0.2)\n",
            "Requirement already satisfied: Mako in /usr/local/lib/python3.10/dist-packages (from alembic>=1.5.0->optuna) (1.3.5)\n",
            "Requirement already satisfied: typing-extensions>=4 in /usr/local/lib/python3.10/dist-packages (from alembic>=1.5.0->optuna) (4.12.2)\n",
            "Requirement already satisfied: greenlet!=0.4.17 in /usr/local/lib/python3.10/dist-packages (from sqlalchemy>=1.3.0->optuna) (3.1.1)\n",
            "Requirement already satisfied: MarkupSafe>=0.9.2 in /usr/local/lib/python3.10/dist-packages (from Mako->alembic>=1.5.0->optuna) (2.1.5)\n"
          ]
        }
      ],
      "source": [
        "from google.colab import drive\n",
        "import pandas as pd\n",
        "import numpy as np\n",
        "import json\n",
        "import joblib\n",
        "import os\n",
        "import re\n",
        "import ast\n",
        "import matplotlib.pyplot as plt\n",
        "\n",
        "from tensorflow.keras.applications.resnet50 import ResNet50, preprocess_input\n",
        "from tensorflow.keras.preprocessing import image\n",
        "from tqdm import tqdm\n",
        "import matplotlib.pyplot as plt\n",
        "import seaborn as sns\n",
        "\n",
        "import nltk\n",
        "nltk.download('wordnet')\n",
        "nltk.download('stopwords')\n",
        "from nltk.stem import WordNetLemmatizer\n",
        "from nltk.corpus import stopwords\n",
        "\n",
        "# from wordcloud import WordCloud\n",
        "# from collections import Counter\n",
        "\n",
        "# import gensim.downloader as api\n",
        "from sklearn.metrics.pairwise import cosine_similarity\n",
        "# from sklearn.preprocessing import StandardScaler\n",
        "# from sklearn.preprocessing import OneHotEncoder\n",
        "from sklearn.preprocessing import LabelEncoder\n",
        "\n",
        "from tensorflow.keras.layers import Input, Embedding, Flatten, Concatenate, Dense, Dropout\n",
        "from tensorflow.keras.models import Model\n",
        "from tensorflow.keras.optimizers import Adam\n",
        "\n",
        "import warnings\n",
        "warnings.filterwarnings(\"ignore\")\n",
        "\n",
        "!pip install optuna\n",
        "import optuna"
      ]
    },
    {
      "cell_type": "code",
      "execution_count": 8,
      "id": "NfY7XTcdFKCX",
      "metadata": {
        "id": "NfY7XTcdFKCX",
        "colab": {
          "base_uri": "https://localhost:8080/"
        },
        "outputId": "0adc4f09-a89a-4a0e-ef10-6432f90a7b7a"
      },
      "outputs": [
        {
          "output_type": "stream",
          "name": "stdout",
          "text": [
            "Mounted at /content/drive\n"
          ]
        }
      ],
      "source": [
        "# define my google drive\n",
        "drive.mount(\"/content/drive\", force_remount=True)"
      ]
    },
    {
      "cell_type": "markdown",
      "id": "JqENfxla0BuW",
      "metadata": {
        "id": "JqENfxla0BuW"
      },
      "source": [
        "#### Functions to Use (Must Run)"
      ]
    },
    {
      "cell_type": "code",
      "execution_count": 30,
      "id": "XFIL7w8nz_BF",
      "metadata": {
        "id": "XFIL7w8nz_BF"
      },
      "outputs": [],
      "source": [
        "# Function to load multiple JSON data\n",
        "def load_json(file_path):\n",
        "    if file_path: # Check if file_path is not None\n",
        "        with open(file_path, 'r') as f:\n",
        "            return json.load(f)\n",
        "    else:\n",
        "        return None # or handle the None case differently, like returning an empty dictionary\n",
        "\n",
        "def json_to_pdDf(mcq_file_path, oeq_file_path, answers_file_path):\n",
        "    # Now you can use this function to load multiple JSON files\n",
        "    mcq_json_data = load_json(mcq_file_path)\n",
        "    oeq_json_data = load_json(oeq_file_path)\n",
        "\n",
        "    mcq_df = pd.json_normalize(mcq_json_data['questions'])[['image_id', 'question_id', 'question', 'multiple_choices']]\n",
        "    oeq_df = pd.json_normalize(oeq_json_data['questions'])[['image_id', 'question_id', 'question']]\n",
        "\n",
        "    # Check if answers_file_path is None\n",
        "    if answers_file_path is not None:\n",
        "        answers_json_data = load_json(answers_file_path)\n",
        "        answers_df = pd.json_normalize(answers_json_data['annotations'])[['image_id', 'question_id', 'question_type', 'answers', 'multiple_choice_answer', 'answer_type']]\n",
        "    else:\n",
        "        # Create an empty DataFrame if answers_file_path is None\n",
        "        answers_df = pd.DataFrame(columns=['image_id', 'question_id', 'question_type', 'answers', 'multiple_choice_answer', 'answer_type'])\n",
        "\n",
        "    return mcq_df, oeq_df, answers_df\n",
        "\n",
        "\n",
        "def tabularize_answers_df(answers_df):\n",
        "    # Create a unique identifier for each row to track back after transformations\n",
        "    answers_df['index'] = answers_df.index\n",
        "    # Explode the 'answers' column into separate rows, while keeping other columns intact\n",
        "    answers_expanded_df = answers_df.explode('answers')\n",
        "    # normalization as before\n",
        "    answers_details = pd.json_normalize(answers_expanded_df['answers'])\n",
        "    answers_details['index'] = answers_expanded_df.index\n",
        "    # Concatenate back to the actual answers DataFrame\n",
        "    answers_expanded_df = pd.merge(answers_df, answers_details, on='index', how='left')\n",
        "    answers_merged_df = answers_expanded_df[['image_id', 'question_id', 'question_type',\n",
        "                                              'multiple_choice_answer', 'answer_type',\n",
        "                                              'answer', 'answer_id', 'answer_confidence',\n",
        "                                              'index']]\n",
        "    answers_merged_df = answers_merged_df.rename(columns={'multiple_choice_answer': 'target_answer'})\n",
        "\n",
        "    return answers_merged_df\n",
        "\n",
        "# Function to extract features from multiple JSON files\n",
        "def extract_qna_features(mcq_file_path, oeq_file_path, answers_file_path):\n",
        "\n",
        "    mcq_df, oeq_df, answers_df = json_to_pdDf(mcq_file_path, oeq_file_path, answers_file_path)\n",
        "    answers_merged_df = tabularize_answers_df(answers_df)\n",
        "\n",
        "    questions_merged_df = pd.merge(mcq_df, oeq_df, on=['image_id', 'question_id'], how='left', suffixes=('_oeq', '_mcq'))\n",
        "    final_qna_df = pd.merge(questions_merged_df, answers_merged_df, on=['image_id', 'question_id'], how='left')\n",
        "\n",
        "    return mcq_df, oeq_df, answers_merged_df, final_qna_df\n",
        "\n",
        "\n",
        "# Function to extract last five digits from file names\n",
        "def extract_last_five_digits(filename):\n",
        "    match = re.search(r'(\\d{5})\\.png$', filename)\n",
        "    if match:\n",
        "        return match.group(1)\n",
        "    else:\n",
        "        raise ValueError(f\"Filename {filename} does not match the expected pattern.\")\n",
        "\n",
        "def extract_image_features(model, images_file_path):\n",
        "    images_features_dict = {}\n",
        "    for img_name in tqdm(os.listdir(images_file_path)):\n",
        "        img_path = os.path.join(images_file_path, img_name)\n",
        "\n",
        "        # Extract image_id (adjust slice according to your filename structure)\n",
        "        image_id = img_name[-9:-4]  # Example: extracting last 5 digits before file extension\n",
        "\n",
        "        # Load and preprocess the image\n",
        "        img = image.load_img(img_path, target_size=(224, 224))\n",
        "        x = preprocess_input(np.expand_dims(image.img_to_array(img), axis=0))\n",
        "\n",
        "        # Extract features and store them in the dictionary\n",
        "        features = model.predict(x)\n",
        "        images_features_dict[image_id] = features.flatten()\n",
        "\n",
        "    images_features_df = pd.DataFrame.from_dict(images_features_dict, orient='index')\n",
        "    images_features_df.reset_index(inplace=True)\n",
        "    images_features_df.rename(columns={'index': 'image_id'}, inplace=True)\n",
        "\n",
        "    return images_features_df\n",
        "\n",
        "\n",
        "def complete_datasets(qna_df, images_features_df):\n",
        "    qna_df = qna_df.sort_values(by='image_id').reset_index(drop=True)\n",
        "    images_features_df = images_features_df.sort_values(by='image_id').reset_index(drop=True)\n",
        "    images_features_df['image_id'] = images_features_df['image_id'].astype(int)\n",
        "    # Merge the 3 dataframes into one (base dataset is image_df (unique), left join qna on image id)\n",
        "    complete_training_set = pd.merge(images_features_df, qna_df, on='image_id', how='left')\n",
        "    return complete_training_set\n",
        "\n",
        "def preprocess_text(text):\n",
        "    \"\"\"\n",
        "    Improved text preprocessing function that retains context and meaning.\n",
        "    - Converts text to lowercase.\n",
        "    - Removes non-alphabetic characters.\n",
        "    - Tokenizes, removes only non-essential stopwords, and lemmatizes.\n",
        "    \"\"\"\n",
        "    if pd.isnull(text):\n",
        "        return ''\n",
        "\n",
        "    # Convert text to lowercase\n",
        "    text = text.lower()\n",
        "    # Remove non-alphabetic characters (but keep question marks and spaces)\n",
        "    text = re.sub(r'[^a-z\\s\\?]', '', text)\n",
        "    # Tokenize text into words\n",
        "    words = text.split()\n",
        "    # Create a lemmatizer object\n",
        "    lemmatizer = WordNetLemmatizer()\n",
        "    # Define stop words\n",
        "    stop_words = set(stopwords.words('english')) # Define stop_words here\n",
        "    essential_stopwords = {\"how\", \"how many\", \"what\", \"when\", \"why\", \"which\", \"where\", \"who\"}\n",
        "    # Remove stopwords, but retain essential question words\n",
        "    words = [lemmatizer.lemmatize(word) for word in words if word not in stop_words or word in essential_stopwords]\n",
        "    # Join words back into a single string\n",
        "    return ' '.join(words)\n",
        "\n",
        "\n",
        "def get_sentence_embedding(sentence, model):\n",
        "    \"\"\"\n",
        "    Calculates the sentence embedding by averaging the word embeddings of all words in the sentence.\n",
        "    If a word is not found in the model, it's embedding is considered as a zero vector.\n",
        "    \"\"\"\n",
        "    # Convert series to string\n",
        "    if isinstance(sentence, pd.Series):\n",
        "        sentence = ' '.join(sentence.astype(str).tolist())\n",
        "    words = sentence.split()\n",
        "    # Removed .wv since model is already a KeyedVectors object\n",
        "    word_vectors = [model[word] for word in words if word in model]\n",
        "\n",
        "    if len(word_vectors) == 0:\n",
        "        return np.zeros(model.vector_size)\n",
        "\n",
        "    return np.mean(word_vectors, axis=0)\n",
        "\n",
        "\n",
        "# Modified filter_choices_by_cosine_similarity function using Word2Vec\n",
        "def filter_choices_by_word2vec_similarity(row, model):\n",
        "    \"\"\"\n",
        "    Filters multiple-choice options based on their cosine similarity with the question using Word2Vec embeddings.\n",
        "    Args:\n",
        "    - row: A DataFrame row containing a 'question' and 'multiple_choices' columns.\n",
        "    - model: Trained Word2Vec model.\n",
        "\n",
        "    Returns:\n",
        "    - A list of filtered multiple-choice options based on cosine similarity.\n",
        "    \"\"\"\n",
        "    question = row['question']\n",
        "    choices = row['multiple_choices']  # Assume 'multiple_choices' column has a list of answer options\n",
        "\n",
        "    # Step 1: Generate Word2Vec embeddings for the question\n",
        "    question_embedding = get_sentence_embedding(question, model)\n",
        "\n",
        "    # Step 2: Generate Word2Vec embeddings for each choice\n",
        "    choice_embeddings = [get_sentence_embedding(choice, model) for choice in choices]\n",
        "\n",
        "    # Step 3: Calculate cosine similarity between question embedding and each choice embedding\n",
        "    similarity_scores = cosine_similarity([question_embedding], choice_embeddings)[0]\n",
        "\n",
        "    # Step 4: Retain choices with a high similarity score (e.g., > 0.3)\n",
        "    threshold = 0.3\n",
        "    filtered_choices = [choices[i] for i, score in enumerate(similarity_scores) if score >= threshold]\n",
        "\n",
        "    # Step 5: If no choices pass the threshold, keep original choices to avoid empty options\n",
        "    return filtered_choices if filtered_choices else choices\n",
        "\n",
        "# Step 1: Concatenate List into a Single Sentence for Each Row\n",
        "def concatenate_list_to_sentence(row, list_column):\n",
        "    \"\"\"\n",
        "    Concatenate all words in a list (in a single row) into a single string.\n",
        "    Args:\n",
        "    - row: A single row of the DataFrame.\n",
        "    - list_column: Column name containing lists of words.\n",
        "\n",
        "    Returns:\n",
        "    - A single concatenated string of all words in the list.\n",
        "    \"\"\"\n",
        "    return \" \".join(row[list_column])  # Join words with a space separator\n"
      ]
    },
    {
      "cell_type": "markdown",
      "id": "mq3M6CaMGwRV",
      "metadata": {
        "id": "mq3M6CaMGwRV"
      },
      "source": [
        "#### Define Constants"
      ]
    },
    {
      "cell_type": "code",
      "execution_count": 32,
      "id": "5ZAVikrzGvS1",
      "metadata": {
        "id": "5ZAVikrzGvS1",
        "colab": {
          "base_uri": "https://localhost:8080/"
        },
        "outputId": "2b16b03f-1753-4e35-c97d-ad3b576ff278"
      },
      "outputs": [
        {
          "output_type": "stream",
          "name": "stdout",
          "text": [
            "Downloading data from https://storage.googleapis.com/tensorflow/keras-applications/resnet/resnet50_weights_tf_dim_ordering_tf_kernels_notop.h5\n",
            "\u001b[1m94765736/94765736\u001b[0m \u001b[32m━━━━━━━━━━━━━━━━━━━━\u001b[0m\u001b[37m\u001b[0m \u001b[1m6s\u001b[0m 0us/step\n"
          ]
        }
      ],
      "source": [
        "model = ResNet50(weights='imagenet', include_top=False)\n",
        "# wxord2vec_model = api.load('word2vec-google-news-300')\n",
        "# joblib.dump(word2vec_model, \"/content/drive/MyDrive/Colab Notebooks/894/Training/(2)_word2vec_model_for_2.2.joblib\")\n",
        "# model = joblib.load(\"/content/drive/MyDrive/Colab Notebooks/894/Training/(2)_word2vec_model_for_2.2.joblib\")"
      ]
    },
    {
      "cell_type": "code",
      "execution_count": null,
      "id": "x5tD308562H7",
      "metadata": {
        "id": "x5tD308562H7"
      },
      "outputs": [],
      "source": [
        "id_features = ['index', 'image_id', 'question_id', 'answer_id', 'question_length']\n",
        "\n",
        "categorical_features = [  'question', 'question_clean', 'question_type',\n",
        "                          'multiple_choices',  'filtered_multiple_choices', 'filtered_multiple_choice_corpus',\n",
        "                          'answer', 'answer_clean', 'answer_confidence', 'answer_type']\n",
        "\n",
        "numerical_features = [col for col in df_train.columns if col not in categorical_features + id_features]"
      ]
    },
    {
      "cell_type": "markdown",
      "id": "QEB6H69uLOY-",
      "metadata": {
        "id": "QEB6H69uLOY-",
        "jp-MarkdownHeadingCollapsed": true
      },
      "source": [
        "# Step 1: Data Collection & Feature Extraction"
      ]
    },
    {
      "cell_type": "markdown",
      "id": "cI1E0BnDG7bk",
      "metadata": {
        "id": "cI1E0BnDG7bk"
      },
      "source": [
        "#### Set Directories"
      ]
    },
    {
      "cell_type": "code",
      "execution_count": 33,
      "id": "qHO729Co0PsO",
      "metadata": {
        "id": "qHO729Co0PsO"
      },
      "outputs": [],
      "source": [
        "# Define the file path (adjust it to match your folder structure)\n",
        "training_mcq_file_path = \"/content/drive/MyDrive/Colab Notebooks/894/Training/Data/MultipleChoice_abstract_v002_train2015_questions.json\"\n",
        "training_oeq_file_path = \"/content/drive/MyDrive/Colab Notebooks/894/Training/Data/OpenEnded_abstract_v002_train2015_questions.json\"\n",
        "training_answers_file_path = \"/content/drive/MyDrive/Colab Notebooks/894/Training/Data/abstract_v002_train2015_annotations.json\"\n",
        "training_images_file_path = \"/content/drive/MyDrive/Colab Notebooks/894/Training/Data/scene_img_abstract_v002_train2015\"\n",
        "\n",
        "validation_mcq_file_path = \"/content/drive/MyDrive/Colab Notebooks/894/Validation/Data/MultipleChoice_abstract_v002_val2015_questions.json\"\n",
        "validation_oeq_file_path = \"/content/drive/MyDrive/Colab Notebooks/894/Validation/Data/OpenEnded_abstract_v002_val2015_questions.json\"\n",
        "validation_answers_file_path = \"/content/drive/MyDrive/Colab Notebooks/894/Validation/Data/abstract_v002_val2015_annotations.json\"\n",
        "validation_images_file_path = \"/content/drive/MyDrive/Colab Notebooks/894/Validation/Data/scene_img_abstract_v002_val2015\"\n",
        "\n",
        "testing_mcq_file_path = \"/content/drive/MyDrive/Colab Notebooks/894/Testing/Data/MultipleChoice_abstract_v002_test2015_questions.json\"\n",
        "testing_oeq_file_path = \"/content/drive/MyDrive/Colab Notebooks/894/Testing/Data/OpenEnded_abstract_v002_test2015_questions.json\"\n",
        "testing_images_file_path = \"/content/drive/MyDrive/Colab Notebooks/894/Testing/Data/scene_img_abstract_v002_test2015\""
      ]
    },
    {
      "cell_type": "markdown",
      "id": "67pkaTrTLT0r",
      "metadata": {
        "id": "67pkaTrTLT0r"
      },
      "source": [
        "### 1.1 Training Datasets"
      ]
    },
    {
      "cell_type": "markdown",
      "id": "bfT1XMxxLeLP",
      "metadata": {
        "id": "bfT1XMxxLeLP"
      },
      "source": [
        "#### 1.1.1 Extracting Questions & Answers & Features"
      ]
    },
    {
      "cell_type": "code",
      "execution_count": null,
      "id": "JoL3pix9BMQ_",
      "metadata": {
        "id": "JoL3pix9BMQ_"
      },
      "outputs": [],
      "source": [
        "train_mcq_df, train_oeq_df, train_answers_merged_df, train_final_qna_df = extract_qna_features(training_mcq_file_path, training_oeq_file_path, training_answers_file_path)\n",
        "train_final_qna_df.head(5)"
      ]
    },
    {
      "cell_type": "markdown",
      "id": "Simpozq0Tk0N",
      "metadata": {
        "id": "Simpozq0Tk0N"
      },
      "source": [
        "##### Save Workspace"
      ]
    },
    {
      "cell_type": "code",
      "execution_count": null,
      "id": "XzizcLGY5iqQ",
      "metadata": {
        "id": "XzizcLGY5iqQ"
      },
      "outputs": [],
      "source": [
        "# Save the dataframes to Google Drive\n",
        "joblib.dump(train_final_qna_df, \"/content/drive/MyDrive/Colab Notebooks/894/Training/questions_answers_features.joblib\")"
      ]
    },
    {
      "cell_type": "markdown",
      "id": "KHi7tEUojGD1",
      "metadata": {
        "id": "KHi7tEUojGD1"
      },
      "source": [
        "#### 1.1.2 Extracting Images' Features\n"
      ]
    },
    {
      "cell_type": "code",
      "execution_count": null,
      "id": "lenwrOQzm2pT",
      "metadata": {
        "id": "lenwrOQzm2pT"
      },
      "outputs": [],
      "source": [
        "train_images_features_df = extract_image_features(model, training_images_file_path)"
      ]
    },
    {
      "cell_type": "markdown",
      "id": "2E-f3B7XTvyv",
      "metadata": {
        "id": "2E-f3B7XTvyv"
      },
      "source": [
        "##### Save Workspace"
      ]
    },
    {
      "cell_type": "code",
      "execution_count": null,
      "id": "818z9tPN-6nA",
      "metadata": {
        "id": "818z9tPN-6nA"
      },
      "outputs": [],
      "source": [
        "joblib.dump(train_images_features_df, \"/content/drive/MyDrive/Colab Notebooks/894/Training/images_features.joblib\")"
      ]
    },
    {
      "cell_type": "markdown",
      "id": "dsnI40JNka76",
      "metadata": {
        "id": "dsnI40JNka76"
      },
      "source": [
        "#### 1.1.3 Complete Training Dataset"
      ]
    },
    {
      "cell_type": "markdown",
      "id": "xKKJ0zZ2T-LX",
      "metadata": {
        "id": "xKKJ0zZ2T-LX"
      },
      "source": [
        "##### Load Workspace"
      ]
    },
    {
      "cell_type": "code",
      "execution_count": null,
      "id": "hVFe_SP5UA9p",
      "metadata": {
        "id": "hVFe_SP5UA9p"
      },
      "outputs": [],
      "source": [
        "train_qna_df = joblib.load(\"/content/drive/MyDrive/Colab Notebooks/894/Training/questions_answers_features.joblib\")\n",
        "train_images_df = joblib.load(\"/content/drive/MyDrive/Colab Notebooks/894/Training/images_features.joblib\")\n",
        "train_images_df.shape"
      ]
    },
    {
      "cell_type": "code",
      "execution_count": null,
      "id": "u5uUg4B2G_Cx",
      "metadata": {
        "id": "u5uUg4B2G_Cx"
      },
      "outputs": [],
      "source": [
        "train_complete_df = complete_datasets(train_qna_df, train_images_df)\n",
        "train_complete_df.head()"
      ]
    },
    {
      "cell_type": "markdown",
      "id": "Ia-YmIhXV_NW",
      "metadata": {
        "id": "Ia-YmIhXV_NW"
      },
      "source": [
        "##### Save Workspace"
      ]
    },
    {
      "cell_type": "code",
      "execution_count": null,
      "id": "0sMp1erBWBUn",
      "metadata": {
        "id": "0sMp1erBWBUn"
      },
      "outputs": [],
      "source": [
        "joblib.dump(train_complete_df, \"/content/drive/MyDrive/Colab Notebooks/894/Training/complete_training_set_tabular.joblib\")"
      ]
    },
    {
      "cell_type": "markdown",
      "id": "YxBCXfZvEh4N",
      "metadata": {
        "id": "YxBCXfZvEh4N"
      },
      "source": [
        "### 1.2 Validation Datasets"
      ]
    },
    {
      "cell_type": "markdown",
      "id": "DEKBb460E6-a",
      "metadata": {
        "id": "DEKBb460E6-a"
      },
      "source": [
        "#### 1.2.1 Extracting Questions & Answers\n"
      ]
    },
    {
      "cell_type": "code",
      "execution_count": null,
      "id": "Ghg64p_OFGMP",
      "metadata": {
        "id": "Ghg64p_OFGMP"
      },
      "outputs": [],
      "source": [
        "valid_mcq_df, valid_oeq_df, valid_answers_merged_df, valid_final_qna_df = extract_qna_features(validation_mcq_file_path, validation_oeq_file_path, validation_answers_file_path)\n",
        "valid_final_qna_df.head()"
      ]
    },
    {
      "cell_type": "markdown",
      "id": "k0Cw6wJZFqss",
      "metadata": {
        "id": "k0Cw6wJZFqss"
      },
      "source": [
        "##### Save Workspace"
      ]
    },
    {
      "cell_type": "code",
      "execution_count": null,
      "id": "ElSsAHlrFfbH",
      "metadata": {
        "id": "ElSsAHlrFfbH"
      },
      "outputs": [],
      "source": [
        "joblib.dump(valid_final_qna_df, \"/content/drive/MyDrive/Colab Notebooks/894/Validation/questions_answers_features.joblib\")"
      ]
    },
    {
      "cell_type": "markdown",
      "id": "QM2K8_a_GXHO",
      "metadata": {
        "id": "QM2K8_a_GXHO"
      },
      "source": [
        "#### 1.2.2 Extracting Images' Features"
      ]
    },
    {
      "cell_type": "code",
      "execution_count": null,
      "id": "UGbene9WGa4a",
      "metadata": {
        "id": "UGbene9WGa4a"
      },
      "outputs": [],
      "source": [
        "valid_images_features_df = extract_image_features(model, validation_images_file_path)"
      ]
    },
    {
      "cell_type": "code",
      "execution_count": null,
      "id": "PUYpVssHgeHj",
      "metadata": {
        "id": "PUYpVssHgeHj"
      },
      "outputs": [],
      "source": [
        "valid_images_features_df.shape"
      ]
    },
    {
      "cell_type": "markdown",
      "id": "qxw1ofbeGcoW",
      "metadata": {
        "id": "qxw1ofbeGcoW"
      },
      "source": [
        "##### Save Workspace"
      ]
    },
    {
      "cell_type": "code",
      "execution_count": null,
      "id": "GlGFRjaBTu4G",
      "metadata": {
        "id": "GlGFRjaBTu4G"
      },
      "outputs": [],
      "source": [
        "joblib.dump(valid_images_features_df, \"/content/drive/MyDrive/Colab Notebooks/894/Validation/images_features.joblib\")"
      ]
    },
    {
      "cell_type": "markdown",
      "id": "aDBA6K7iWDwe",
      "metadata": {
        "id": "aDBA6K7iWDwe"
      },
      "source": [
        "#### 1.2.3  Complete Validation Dataset"
      ]
    },
    {
      "cell_type": "markdown",
      "id": "L4wIk9c2XcfD",
      "metadata": {
        "id": "L4wIk9c2XcfD"
      },
      "source": [
        "##### Load Workspace"
      ]
    },
    {
      "cell_type": "code",
      "execution_count": null,
      "id": "JKOlMEwlXHXr",
      "metadata": {
        "id": "JKOlMEwlXHXr"
      },
      "outputs": [],
      "source": [
        "valid_qna_df = joblib.load(\"/content/drive/MyDrive/Colab Notebooks/894/Validation/questions_answers_features.joblib\")\n",
        "valid_images_df = joblib.load(\"/content/drive/MyDrive/Colab Notebooks/894/Validation/images_features.joblib\")\n",
        "valid_images_df.shape"
      ]
    },
    {
      "cell_type": "code",
      "execution_count": null,
      "id": "U0NLRsUZXVPW",
      "metadata": {
        "id": "U0NLRsUZXVPW"
      },
      "outputs": [],
      "source": [
        "valid_complete_df = complete_datasets(valid_qna_df, valid_images_df)\n",
        "valid_complete_df.head()"
      ]
    },
    {
      "cell_type": "markdown",
      "id": "ydFJ9dP6Xao1",
      "metadata": {
        "id": "ydFJ9dP6Xao1"
      },
      "source": [
        "##### Save Workspace"
      ]
    },
    {
      "cell_type": "code",
      "execution_count": null,
      "id": "_240VErpXgEV",
      "metadata": {
        "id": "_240VErpXgEV"
      },
      "outputs": [],
      "source": [
        "joblib.dump(valid_complete_df, \"/content/drive/MyDrive/Colab Notebooks/894/Validation/complete_validation_set_tabular.joblib\")"
      ]
    },
    {
      "cell_type": "markdown",
      "id": "k3pAq_F9EzT9",
      "metadata": {
        "id": "k3pAq_F9EzT9"
      },
      "source": [
        "### 1.3 Testing Datasets"
      ]
    },
    {
      "cell_type": "markdown",
      "id": "tPwLG3LRYy0a",
      "metadata": {
        "id": "tPwLG3LRYy0a"
      },
      "source": [
        "#### 1.3.1 Extracting Questions & Answers"
      ]
    },
    {
      "cell_type": "code",
      "execution_count": 34,
      "id": "ESNH3E6hYwy8",
      "metadata": {
        "id": "ESNH3E6hYwy8",
        "colab": {
          "base_uri": "https://localhost:8080/",
          "height": 206
        },
        "outputId": "698c5f5b-a3e6-4f03-bcc3-5521c2e19d22"
      },
      "outputs": [
        {
          "output_type": "execute_result",
          "data": {
            "text/plain": [
              "   image_id  question_id                            question_oeq  \\\n",
              "0     39456       394560              What color are the chairs?   \n",
              "1     39456       394561                      Is the man asleep?   \n",
              "2     39456       394562                   What is on the table?   \n",
              "3     47922       479220  How many bushes are in the background?   \n",
              "4     47922       479221                  What are they playing?   \n",
              "\n",
              "                                    multiple_choices  \\\n",
              "0  [red, 4, 3, plates, brown, yellow, green, stan...   \n",
              "1  [3, blue, 4, no, anger, white, 2, red, yes, on...   \n",
              "2  [white, on sidewalk, salt and pepper, 3, yes, ...   \n",
              "3  [blue, 1, 3, 40, dog, 10, 2, sun rays, red, ye...   \n",
              "4  [yes, soccer, on man's head, frisbee, golf, mo...   \n",
              "\n",
              "                             question_mcq  \n",
              "0              What color are the chairs?  \n",
              "1                      Is the man asleep?  \n",
              "2                   What is on the table?  \n",
              "3  How many bushes are in the background?  \n",
              "4                  What are they playing?  "
            ],
            "text/html": [
              "\n",
              "  <div id=\"df-c9e06ace-ff97-4dab-9bff-aa10bc07ee97\" class=\"colab-df-container\">\n",
              "    <div>\n",
              "<style scoped>\n",
              "    .dataframe tbody tr th:only-of-type {\n",
              "        vertical-align: middle;\n",
              "    }\n",
              "\n",
              "    .dataframe tbody tr th {\n",
              "        vertical-align: top;\n",
              "    }\n",
              "\n",
              "    .dataframe thead th {\n",
              "        text-align: right;\n",
              "    }\n",
              "</style>\n",
              "<table border=\"1\" class=\"dataframe\">\n",
              "  <thead>\n",
              "    <tr style=\"text-align: right;\">\n",
              "      <th></th>\n",
              "      <th>image_id</th>\n",
              "      <th>question_id</th>\n",
              "      <th>question_oeq</th>\n",
              "      <th>multiple_choices</th>\n",
              "      <th>question_mcq</th>\n",
              "    </tr>\n",
              "  </thead>\n",
              "  <tbody>\n",
              "    <tr>\n",
              "      <th>0</th>\n",
              "      <td>39456</td>\n",
              "      <td>394560</td>\n",
              "      <td>What color are the chairs?</td>\n",
              "      <td>[red, 4, 3, plates, brown, yellow, green, stan...</td>\n",
              "      <td>What color are the chairs?</td>\n",
              "    </tr>\n",
              "    <tr>\n",
              "      <th>1</th>\n",
              "      <td>39456</td>\n",
              "      <td>394561</td>\n",
              "      <td>Is the man asleep?</td>\n",
              "      <td>[3, blue, 4, no, anger, white, 2, red, yes, on...</td>\n",
              "      <td>Is the man asleep?</td>\n",
              "    </tr>\n",
              "    <tr>\n",
              "      <th>2</th>\n",
              "      <td>39456</td>\n",
              "      <td>394562</td>\n",
              "      <td>What is on the table?</td>\n",
              "      <td>[white, on sidewalk, salt and pepper, 3, yes, ...</td>\n",
              "      <td>What is on the table?</td>\n",
              "    </tr>\n",
              "    <tr>\n",
              "      <th>3</th>\n",
              "      <td>47922</td>\n",
              "      <td>479220</td>\n",
              "      <td>How many bushes are in the background?</td>\n",
              "      <td>[blue, 1, 3, 40, dog, 10, 2, sun rays, red, ye...</td>\n",
              "      <td>How many bushes are in the background?</td>\n",
              "    </tr>\n",
              "    <tr>\n",
              "      <th>4</th>\n",
              "      <td>47922</td>\n",
              "      <td>479221</td>\n",
              "      <td>What are they playing?</td>\n",
              "      <td>[yes, soccer, on man's head, frisbee, golf, mo...</td>\n",
              "      <td>What are they playing?</td>\n",
              "    </tr>\n",
              "  </tbody>\n",
              "</table>\n",
              "</div>\n",
              "    <div class=\"colab-df-buttons\">\n",
              "\n",
              "  <div class=\"colab-df-container\">\n",
              "    <button class=\"colab-df-convert\" onclick=\"convertToInteractive('df-c9e06ace-ff97-4dab-9bff-aa10bc07ee97')\"\n",
              "            title=\"Convert this dataframe to an interactive table.\"\n",
              "            style=\"display:none;\">\n",
              "\n",
              "  <svg xmlns=\"http://www.w3.org/2000/svg\" height=\"24px\" viewBox=\"0 -960 960 960\">\n",
              "    <path d=\"M120-120v-720h720v720H120Zm60-500h600v-160H180v160Zm220 220h160v-160H400v160Zm0 220h160v-160H400v160ZM180-400h160v-160H180v160Zm440 0h160v-160H620v160ZM180-180h160v-160H180v160Zm440 0h160v-160H620v160Z\"/>\n",
              "  </svg>\n",
              "    </button>\n",
              "\n",
              "  <style>\n",
              "    .colab-df-container {\n",
              "      display:flex;\n",
              "      gap: 12px;\n",
              "    }\n",
              "\n",
              "    .colab-df-convert {\n",
              "      background-color: #E8F0FE;\n",
              "      border: none;\n",
              "      border-radius: 50%;\n",
              "      cursor: pointer;\n",
              "      display: none;\n",
              "      fill: #1967D2;\n",
              "      height: 32px;\n",
              "      padding: 0 0 0 0;\n",
              "      width: 32px;\n",
              "    }\n",
              "\n",
              "    .colab-df-convert:hover {\n",
              "      background-color: #E2EBFA;\n",
              "      box-shadow: 0px 1px 2px rgba(60, 64, 67, 0.3), 0px 1px 3px 1px rgba(60, 64, 67, 0.15);\n",
              "      fill: #174EA6;\n",
              "    }\n",
              "\n",
              "    .colab-df-buttons div {\n",
              "      margin-bottom: 4px;\n",
              "    }\n",
              "\n",
              "    [theme=dark] .colab-df-convert {\n",
              "      background-color: #3B4455;\n",
              "      fill: #D2E3FC;\n",
              "    }\n",
              "\n",
              "    [theme=dark] .colab-df-convert:hover {\n",
              "      background-color: #434B5C;\n",
              "      box-shadow: 0px 1px 3px 1px rgba(0, 0, 0, 0.15);\n",
              "      filter: drop-shadow(0px 1px 2px rgba(0, 0, 0, 0.3));\n",
              "      fill: #FFFFFF;\n",
              "    }\n",
              "  </style>\n",
              "\n",
              "    <script>\n",
              "      const buttonEl =\n",
              "        document.querySelector('#df-c9e06ace-ff97-4dab-9bff-aa10bc07ee97 button.colab-df-convert');\n",
              "      buttonEl.style.display =\n",
              "        google.colab.kernel.accessAllowed ? 'block' : 'none';\n",
              "\n",
              "      async function convertToInteractive(key) {\n",
              "        const element = document.querySelector('#df-c9e06ace-ff97-4dab-9bff-aa10bc07ee97');\n",
              "        const dataTable =\n",
              "          await google.colab.kernel.invokeFunction('convertToInteractive',\n",
              "                                                    [key], {});\n",
              "        if (!dataTable) return;\n",
              "\n",
              "        const docLinkHtml = 'Like what you see? Visit the ' +\n",
              "          '<a target=\"_blank\" href=https://colab.research.google.com/notebooks/data_table.ipynb>data table notebook</a>'\n",
              "          + ' to learn more about interactive tables.';\n",
              "        element.innerHTML = '';\n",
              "        dataTable['output_type'] = 'display_data';\n",
              "        await google.colab.output.renderOutput(dataTable, element);\n",
              "        const docLink = document.createElement('div');\n",
              "        docLink.innerHTML = docLinkHtml;\n",
              "        element.appendChild(docLink);\n",
              "      }\n",
              "    </script>\n",
              "  </div>\n",
              "\n",
              "\n",
              "<div id=\"df-1ce42f17-2289-42a0-ab38-4b43200beea2\">\n",
              "  <button class=\"colab-df-quickchart\" onclick=\"quickchart('df-1ce42f17-2289-42a0-ab38-4b43200beea2')\"\n",
              "            title=\"Suggest charts\"\n",
              "            style=\"display:none;\">\n",
              "\n",
              "<svg xmlns=\"http://www.w3.org/2000/svg\" height=\"24px\"viewBox=\"0 0 24 24\"\n",
              "     width=\"24px\">\n",
              "    <g>\n",
              "        <path d=\"M19 3H5c-1.1 0-2 .9-2 2v14c0 1.1.9 2 2 2h14c1.1 0 2-.9 2-2V5c0-1.1-.9-2-2-2zM9 17H7v-7h2v7zm4 0h-2V7h2v10zm4 0h-2v-4h2v4z\"/>\n",
              "    </g>\n",
              "</svg>\n",
              "  </button>\n",
              "\n",
              "<style>\n",
              "  .colab-df-quickchart {\n",
              "      --bg-color: #E8F0FE;\n",
              "      --fill-color: #1967D2;\n",
              "      --hover-bg-color: #E2EBFA;\n",
              "      --hover-fill-color: #174EA6;\n",
              "      --disabled-fill-color: #AAA;\n",
              "      --disabled-bg-color: #DDD;\n",
              "  }\n",
              "\n",
              "  [theme=dark] .colab-df-quickchart {\n",
              "      --bg-color: #3B4455;\n",
              "      --fill-color: #D2E3FC;\n",
              "      --hover-bg-color: #434B5C;\n",
              "      --hover-fill-color: #FFFFFF;\n",
              "      --disabled-bg-color: #3B4455;\n",
              "      --disabled-fill-color: #666;\n",
              "  }\n",
              "\n",
              "  .colab-df-quickchart {\n",
              "    background-color: var(--bg-color);\n",
              "    border: none;\n",
              "    border-radius: 50%;\n",
              "    cursor: pointer;\n",
              "    display: none;\n",
              "    fill: var(--fill-color);\n",
              "    height: 32px;\n",
              "    padding: 0;\n",
              "    width: 32px;\n",
              "  }\n",
              "\n",
              "  .colab-df-quickchart:hover {\n",
              "    background-color: var(--hover-bg-color);\n",
              "    box-shadow: 0 1px 2px rgba(60, 64, 67, 0.3), 0 1px 3px 1px rgba(60, 64, 67, 0.15);\n",
              "    fill: var(--button-hover-fill-color);\n",
              "  }\n",
              "\n",
              "  .colab-df-quickchart-complete:disabled,\n",
              "  .colab-df-quickchart-complete:disabled:hover {\n",
              "    background-color: var(--disabled-bg-color);\n",
              "    fill: var(--disabled-fill-color);\n",
              "    box-shadow: none;\n",
              "  }\n",
              "\n",
              "  .colab-df-spinner {\n",
              "    border: 2px solid var(--fill-color);\n",
              "    border-color: transparent;\n",
              "    border-bottom-color: var(--fill-color);\n",
              "    animation:\n",
              "      spin 1s steps(1) infinite;\n",
              "  }\n",
              "\n",
              "  @keyframes spin {\n",
              "    0% {\n",
              "      border-color: transparent;\n",
              "      border-bottom-color: var(--fill-color);\n",
              "      border-left-color: var(--fill-color);\n",
              "    }\n",
              "    20% {\n",
              "      border-color: transparent;\n",
              "      border-left-color: var(--fill-color);\n",
              "      border-top-color: var(--fill-color);\n",
              "    }\n",
              "    30% {\n",
              "      border-color: transparent;\n",
              "      border-left-color: var(--fill-color);\n",
              "      border-top-color: var(--fill-color);\n",
              "      border-right-color: var(--fill-color);\n",
              "    }\n",
              "    40% {\n",
              "      border-color: transparent;\n",
              "      border-right-color: var(--fill-color);\n",
              "      border-top-color: var(--fill-color);\n",
              "    }\n",
              "    60% {\n",
              "      border-color: transparent;\n",
              "      border-right-color: var(--fill-color);\n",
              "    }\n",
              "    80% {\n",
              "      border-color: transparent;\n",
              "      border-right-color: var(--fill-color);\n",
              "      border-bottom-color: var(--fill-color);\n",
              "    }\n",
              "    90% {\n",
              "      border-color: transparent;\n",
              "      border-bottom-color: var(--fill-color);\n",
              "    }\n",
              "  }\n",
              "</style>\n",
              "\n",
              "  <script>\n",
              "    async function quickchart(key) {\n",
              "      const quickchartButtonEl =\n",
              "        document.querySelector('#' + key + ' button');\n",
              "      quickchartButtonEl.disabled = true;  // To prevent multiple clicks.\n",
              "      quickchartButtonEl.classList.add('colab-df-spinner');\n",
              "      try {\n",
              "        const charts = await google.colab.kernel.invokeFunction(\n",
              "            'suggestCharts', [key], {});\n",
              "      } catch (error) {\n",
              "        console.error('Error during call to suggestCharts:', error);\n",
              "      }\n",
              "      quickchartButtonEl.classList.remove('colab-df-spinner');\n",
              "      quickchartButtonEl.classList.add('colab-df-quickchart-complete');\n",
              "    }\n",
              "    (() => {\n",
              "      let quickchartButtonEl =\n",
              "        document.querySelector('#df-1ce42f17-2289-42a0-ab38-4b43200beea2 button');\n",
              "      quickchartButtonEl.style.display =\n",
              "        google.colab.kernel.accessAllowed ? 'block' : 'none';\n",
              "    })();\n",
              "  </script>\n",
              "</div>\n",
              "\n",
              "    </div>\n",
              "  </div>\n"
            ],
            "application/vnd.google.colaboratory.intrinsic+json": {
              "type": "dataframe",
              "variable_name": "test_final_qna_df",
              "summary": "{\n  \"name\": \"test_final_qna_df\",\n  \"rows\": 60000,\n  \"fields\": [\n    {\n      \"column\": \"image_id\",\n      \"properties\": {\n        \"dtype\": \"number\",\n        \"std\": 5773,\n        \"min\": 30000,\n        \"max\": 49999,\n        \"num_unique_values\": 20000,\n        \"samples\": [\n          39815,\n          35060,\n          38293\n        ],\n        \"semantic_type\": \"\",\n        \"description\": \"\"\n      }\n    },\n    {\n      \"column\": \"question_id\",\n      \"properties\": {\n        \"dtype\": \"number\",\n        \"std\": 57735,\n        \"min\": 300000,\n        \"max\": 499992,\n        \"num_unique_values\": 60000,\n        \"samples\": [\n          431830,\n          392882,\n          348881\n        ],\n        \"semantic_type\": \"\",\n        \"description\": \"\"\n      }\n    },\n    {\n      \"column\": \"question_oeq\",\n      \"properties\": {\n        \"dtype\": \"string\",\n        \"num_unique_values\": 31174,\n        \"samples\": [\n          \"Is the man bird watching?\",\n          \"IS the dog thirsty?\",\n          \"Is the man sitting on the pillows?\"\n        ],\n        \"semantic_type\": \"\",\n        \"description\": \"\"\n      }\n    },\n    {\n      \"column\": \"multiple_choices\",\n      \"properties\": {\n        \"dtype\": \"object\",\n        \"semantic_type\": \"\",\n        \"description\": \"\"\n      }\n    },\n    {\n      \"column\": \"question_mcq\",\n      \"properties\": {\n        \"dtype\": \"string\",\n        \"num_unique_values\": 31174,\n        \"samples\": [\n          \"Is the man bird watching?\",\n          \"IS the dog thirsty?\",\n          \"Is the man sitting on the pillows?\"\n        ],\n        \"semantic_type\": \"\",\n        \"description\": \"\"\n      }\n    }\n  ]\n}"
            }
          },
          "metadata": {},
          "execution_count": 34
        }
      ],
      "source": [
        "test_mcq_df, test_oeq_df, test_answers_df = json_to_pdDf(testing_mcq_file_path, testing_oeq_file_path, None)\n",
        "test_final_qna_df = pd.merge(test_mcq_df, test_oeq_df, on=['image_id', 'question_id'], how='left', suffixes=('_oeq', '_mcq'))\n",
        "test_final_qna_df.head()"
      ]
    },
    {
      "cell_type": "markdown",
      "id": "v3zIV0-RcUlB",
      "metadata": {
        "id": "v3zIV0-RcUlB"
      },
      "source": [
        "##### Save Workspace"
      ]
    },
    {
      "cell_type": "code",
      "execution_count": 35,
      "id": "EQiJGqmVcW2Y",
      "metadata": {
        "id": "EQiJGqmVcW2Y",
        "colab": {
          "base_uri": "https://localhost:8080/"
        },
        "outputId": "0eac7c3e-9a9e-44db-8a1e-60d121401b84"
      },
      "outputs": [
        {
          "output_type": "execute_result",
          "data": {
            "text/plain": [
              "['/content/drive/MyDrive/Colab Notebooks/894/Testing/questions_answers_features.joblib']"
            ]
          },
          "metadata": {},
          "execution_count": 35
        }
      ],
      "source": [
        "joblib.dump(test_final_qna_df, \"/content/drive/MyDrive/Colab Notebooks/894/Testing/questions_answers_features.joblib\")"
      ]
    },
    {
      "cell_type": "markdown",
      "id": "H_DhTgJMY8ar",
      "metadata": {
        "id": "H_DhTgJMY8ar"
      },
      "source": [
        "#### 1.3.2 Extracting Images' Features"
      ]
    },
    {
      "cell_type": "code",
      "execution_count": null,
      "id": "2_uq7USmZEfL",
      "metadata": {
        "id": "2_uq7USmZEfL",
        "collapsed": true
      },
      "outputs": [],
      "source": [
        "test_images_features_df = extract_image_features(model, testing_images_file_path)"
      ]
    },
    {
      "cell_type": "markdown",
      "id": "3Z5IsgPVfUa4",
      "metadata": {
        "id": "3Z5IsgPVfUa4"
      },
      "source": [
        "##### Save Workspace"
      ]
    },
    {
      "cell_type": "code",
      "execution_count": null,
      "id": "WSyv3NqtfWcr",
      "metadata": {
        "id": "WSyv3NqtfWcr"
      },
      "outputs": [],
      "source": [
        "joblib.dump(test_images_features_df, \"/content/drive/MyDrive/Colab Notebooks/894/Testing/images_features.joblib\")"
      ]
    },
    {
      "cell_type": "markdown",
      "id": "Gfe5otnzZART",
      "metadata": {
        "id": "Gfe5otnzZART"
      },
      "source": [
        "#### 1.3.3 Complete Testing Dataset"
      ]
    },
    {
      "cell_type": "markdown",
      "id": "YBj_hjOyfXXD",
      "metadata": {
        "id": "YBj_hjOyfXXD"
      },
      "source": [
        "##### Load Workspace"
      ]
    },
    {
      "cell_type": "code",
      "execution_count": null,
      "id": "DNMtyLiHZaC1",
      "metadata": {
        "id": "DNMtyLiHZaC1"
      },
      "outputs": [],
      "source": [
        "test_qna_df = joblib.load(\"/content/drive/MyDrive/Colab Notebooks/894/Testing/questions_answers_features.joblib\")\n",
        "test_images_df = joblib.load(\"/content/drive/MyDrive/Colab Notebooks/894/Testing/images_features.joblib\")\n",
        "test_images_df.shape"
      ]
    },
    {
      "cell_type": "code",
      "execution_count": null,
      "id": "2zXHef6If8Mz",
      "metadata": {
        "id": "2zXHef6If8Mz"
      },
      "outputs": [],
      "source": [
        "test_complete_df = complete_datasets(valid_qna_df, valid_images_df)\n",
        "test_complete_df.head()"
      ]
    },
    {
      "cell_type": "markdown",
      "id": "zK9QNC3ogAwI",
      "metadata": {
        "id": "zK9QNC3ogAwI"
      },
      "source": [
        "##### Save Workspace"
      ]
    },
    {
      "cell_type": "code",
      "execution_count": null,
      "id": "OBQM--QpgDgH",
      "metadata": {
        "id": "OBQM--QpgDgH"
      },
      "outputs": [],
      "source": [
        "joblib.dump(test_complete_df, \"/content/drive/MyDrive/Colab Notebooks/894/Testing/complete_testing_set_tabular.joblib\")"
      ]
    },
    {
      "cell_type": "markdown",
      "id": "HBKIzj7jYrot",
      "metadata": {
        "id": "HBKIzj7jYrot"
      },
      "source": [
        "\n",
        "\n",
        "\n",
        "\n",
        "\n",
        "\n",
        "\n",
        "\n",
        "<space>"
      ]
    },
    {
      "cell_type": "markdown",
      "id": "CG6_RRVrj904",
      "metadata": {
        "id": "CG6_RRVrj904",
        "jp-MarkdownHeadingCollapsed": true
      },
      "source": [
        "# Step 2: Exploratory Data Analysis & Feature Engineering"
      ]
    },
    {
      "cell_type": "markdown",
      "id": "nefD4PWaIkui",
      "metadata": {
        "id": "nefD4PWaIkui"
      },
      "source": [
        "##### Load Workspace"
      ]
    },
    {
      "cell_type": "code",
      "execution_count": null,
      "id": "T7gJA_VDIm9i",
      "metadata": {
        "id": "T7gJA_VDIm9i"
      },
      "outputs": [],
      "source": [
        "df_train = joblib.load(\"/content/drive/MyDrive/Colab Notebooks/894/Training/complete_training_set_tabular.joblib\")\n",
        "df_valid = joblib.load(\"/content/drive/MyDrive/Colab Notebooks/894/Validation/complete_validation_set_tabular.joblib\")\n",
        "df_train.head()"
      ]
    },
    {
      "cell_type": "markdown",
      "id": "dsDEVKcPkyg5",
      "metadata": {
        "id": "dsDEVKcPkyg5"
      },
      "source": [
        "### 2.1 Visualization & Insights"
      ]
    },
    {
      "cell_type": "markdown",
      "id": "FvPMWSkMx72Y",
      "metadata": {
        "id": "FvPMWSkMx72Y"
      },
      "source": [
        "##### Keeping only one question column since question_oeq = question_mcq"
      ]
    },
    {
      "cell_type": "code",
      "execution_count": null,
      "id": "dEE7vmVVJ_6B",
      "metadata": {
        "id": "dEE7vmVVJ_6B"
      },
      "outputs": [],
      "source": [
        "# Check if two specific columns are identical in the DataFrame\n",
        "are_questions_columns_equal = df_train['question_oeq'].equals(df_train['question_mcq'])  # Replace 'question_x' and 'question_y' with your actual column names\n",
        "\n",
        "# Print the result\n",
        "print(\"Are 'question_oeq' and 'question_mcq' identical? : \", \"Yes\" if are_questions_columns_equal else \"No\")"
      ]
    },
    {
      "cell_type": "code",
      "execution_count": null,
      "id": "hNT6oLU3Kk3Y",
      "metadata": {
        "id": "hNT6oLU3Kk3Y"
      },
      "outputs": [],
      "source": [
        "df_train['question'] = df_train['question_oeq']\n",
        "df_valid['question'] = df_valid['question_oeq']\n",
        "\n",
        "df_train = df_train.drop(columns=['question_oeq', 'question_mcq'])\n",
        "df_valid = df_valid.drop(columns=['question_oeq', 'question_mcq'])"
      ]
    },
    {
      "cell_type": "markdown",
      "id": "4OxsO-E2MxP4",
      "metadata": {
        "id": "4OxsO-E2MxP4"
      },
      "source": [
        "##### Questions' Length Visualization"
      ]
    },
    {
      "cell_type": "code",
      "execution_count": null,
      "id": "3uWScLKbC_Fk",
      "metadata": {
        "id": "3uWScLKbC_Fk"
      },
      "outputs": [],
      "source": [
        "# Analyze Question Length\n",
        "df_train['question_length'] = df_train['question'].apply(lambda x: len(x.split()))\n",
        "df_valid['question_length'] = df_valid['question'].apply(lambda x: len(x.split()))\n",
        "plt.figure(figsize=(10, 6))\n",
        "sns.histplot(df_train['question_length'], kde=True, color='skyblue')\n",
        "plt.title('Distribution of Question Length')\n",
        "plt.xlabel('Number of Words in Question')\n",
        "plt.ylabel('Frequency')\n",
        "plt.show()"
      ]
    },
    {
      "cell_type": "markdown",
      "id": "H7_kS4wZM1Ah",
      "metadata": {
        "id": "H7_kS4wZM1Ah"
      },
      "source": [
        "##### Questions' Common Words"
      ]
    },
    {
      "cell_type": "code",
      "execution_count": null,
      "id": "ro4tAVh74hfL",
      "metadata": {
        "id": "ro4tAVh74hfL"
      },
      "outputs": [],
      "source": [
        "# # Most common words in question\n",
        "# question_text = df_train['question']\n",
        "# question_words = question_text.split()\n",
        "# word_counts = Counter(question_words)\n",
        "# common_words = word_counts.most_common(20)\n",
        "# print(\"\\nMost Common Words in Questions:\")\n",
        "# for word, count in common_words:\n",
        "#     print(f\"{word}: {count}\")"
      ]
    },
    {
      "cell_type": "markdown",
      "id": "gkfz_boHNJV_",
      "metadata": {
        "id": "gkfz_boHNJV_"
      },
      "source": [
        "##### Save Workspace"
      ]
    },
    {
      "cell_type": "code",
      "execution_count": null,
      "id": "Ii4-REw1NJV_",
      "metadata": {
        "id": "Ii4-REw1NJV_"
      },
      "outputs": [],
      "source": [
        "joblib.dump(df_train, \"/content/drive/MyDrive/Colab Notebooks/894/Training/(1)_dfTrain_unique_2.1.joblib\")\n",
        "joblib.dump(df_valid, \"/content/drive/MyDrive/Colab Notebooks/894/Validation/(1)_dfValid_unique_2.1.joblib\")"
      ]
    },
    {
      "cell_type": "markdown",
      "id": "4Jut1ObrELOa",
      "metadata": {
        "id": "4Jut1ObrELOa"
      },
      "source": [
        "### 2.2 Embeddings/Encodings"
      ]
    },
    {
      "cell_type": "markdown",
      "id": "_MYovSLPCwVm",
      "metadata": {
        "id": "_MYovSLPCwVm"
      },
      "source": [
        "##### Load Workspace"
      ]
    },
    {
      "cell_type": "code",
      "execution_count": null,
      "id": "JskWxMsICoU7",
      "metadata": {
        "id": "JskWxMsICoU7"
      },
      "outputs": [],
      "source": [
        "df_train = joblib.load(\"/content/drive/MyDrive/Colab Notebooks/894/Training/(1)_dfTrain_unique_2.1.joblib\")\n",
        "df_valid = joblib.load(\"/content/drive/MyDrive/Colab Notebooks/894/Validation/(1)_dfValid_unique_2.1.joblib\")\n",
        "df_train.head()"
      ]
    },
    {
      "cell_type": "markdown",
      "id": "soAmykJVxvyS",
      "metadata": {
        "id": "soAmykJVxvyS"
      },
      "source": [
        "##### 2.2.1 Questions Text's Features' Engineering"
      ]
    },
    {
      "cell_type": "code",
      "execution_count": null,
      "id": "JKZ104S0s_s1",
      "metadata": {
        "id": "JKZ104S0s_s1"
      },
      "outputs": [],
      "source": [
        "df_train['question_clean'] = df_train['question'].apply(preprocess_text)\n",
        "df_valid['question_clean'] = df_valid['question'].apply(preprocess_text)\n",
        "df_train[['question', 'question_clean']]"
      ]
    },
    {
      "cell_type": "code",
      "execution_count": null,
      "id": "ZymhU96Yv8q_",
      "metadata": {
        "id": "ZymhU96Yv8q_"
      },
      "outputs": [],
      "source": [
        "# Apply the get_sentence_embedding function to each row of the 'question_clean' column\n",
        "df_train['question_embedding'] = df_train['question_clean'].apply(lambda x: get_sentence_embedding(x, model))\n",
        "df_valid['question_embedding'] = df_valid['question_clean'].apply(lambda x: get_sentence_embedding(x, model))\n",
        "df_train.head()"
      ]
    },
    {
      "cell_type": "markdown",
      "id": "pQBL1mcg_hNq",
      "metadata": {
        "id": "pQBL1mcg_hNq"
      },
      "source": [
        "##### 2.2.2 Answers Text's Features' Engineering"
      ]
    },
    {
      "cell_type": "code",
      "execution_count": null,
      "id": "OEbf9IT1_vEE",
      "metadata": {
        "id": "OEbf9IT1_vEE"
      },
      "outputs": [],
      "source": [
        "df_train['answer_clean'] = df_train['answer'].apply(preprocess_text)\n",
        "df_valid['answer_clean'] = df_valid['answer'].apply(preprocess_text)\n",
        "df_train[['answer', 'answer_clean']]"
      ]
    },
    {
      "cell_type": "code",
      "execution_count": null,
      "id": "UNNUDClP2ELE",
      "metadata": {
        "id": "UNNUDClP2ELE"
      },
      "outputs": [],
      "source": [
        "# Apply the get_sentence_embedding function to each row of the 'question_clean' column\n",
        "df_train['answer_embedding'] = df_train['answer_clean'].apply(lambda x: get_sentence_embedding(x, model))\n",
        "df_valid['answer_embedding'] = df_valid['answer_clean'].apply(lambda x: get_sentence_embedding(x, model))\n",
        "df_train.head()"
      ]
    },
    {
      "cell_type": "markdown",
      "id": "B44W2H3j6yh1",
      "metadata": {
        "id": "B44W2H3j6yh1"
      },
      "source": [
        "##### 2.2.3 Multiple Choices List's Features' Engineering"
      ]
    },
    {
      "cell_type": "code",
      "execution_count": null,
      "id": "X6Wauxh24gWV",
      "metadata": {
        "id": "X6Wauxh24gWV"
      },
      "outputs": [],
      "source": [
        "df_train['filtered_multiple_choices'] = df_train.apply(lambda row: filter_choices_by_word2vec_similarity(row, model), axis=1)\n",
        "df_valid['filtered_multiple_choices'] = df_valid.apply(lambda row: filter_choices_by_word2vec_similarity(row, model), axis=1)\n",
        "df_train[['multiple_choices', 'filtered_multiple_choices']]"
      ]
    },
    {
      "cell_type": "code",
      "execution_count": null,
      "id": "Rm6FQAR971Ht",
      "metadata": {
        "id": "Rm6FQAR971Ht"
      },
      "outputs": [],
      "source": [
        "df_train['filtered_multiple_choice_corpus'] = df_train.apply(lambda row: concatenate_list_to_sentence(row, 'filtered_multiple_choices'), axis=1)\n",
        "df_valid['filtered_multiple_choice_corpus'] = df_valid.apply(lambda row: concatenate_list_to_sentence(row, 'filtered_multiple_choices'), axis=1)\n",
        "df_train[['filtered_multiple_choices', 'filtered_multiple_choice_corpus']]"
      ]
    },
    {
      "cell_type": "code",
      "execution_count": null,
      "id": "aGw6SX3tCy0K",
      "metadata": {
        "id": "aGw6SX3tCy0K"
      },
      "outputs": [],
      "source": [
        "# Apply the get_sentence_embedding function to each row of the 'question_clean' column\n",
        "df_train['filtered_choices_embedding'] = df_train['filtered_multiple_choice_corpus'].apply(lambda x: get_sentence_embedding(x, model))\n",
        "df_valid['filtered_choices_embedding'] = df_valid['filtered_multiple_choice_corpus'].apply(lambda x: get_sentence_embedding(x, model))\n",
        "df_train.head()"
      ]
    },
    {
      "cell_type": "markdown",
      "id": "GJC-3fD_xZhs",
      "metadata": {
        "id": "GJC-3fD_xZhs"
      },
      "source": [
        "##### 2.2.4 Encoding Selected Categorical Features"
      ]
    },
    {
      "cell_type": "code",
      "execution_count": null,
      "id": "bS1HgRqDvV2t",
      "metadata": {
        "id": "bS1HgRqDvV2t"
      },
      "outputs": [],
      "source": [
        "# Initialize the LabelEncoder\n",
        "label_encoder_answer_type = LabelEncoder()\n",
        "label_encoder_confidence = LabelEncoder()\n",
        "\n",
        "# Encode answer_type and answer_confidence separately\n",
        "df_train['answer_type_encoded'] = label_encoder_answer_type.fit_transform(df_train['answer_type'])\n",
        "df_valid['answer_type_encoded'] = label_encoder_answer_type.transform(df_valid['answer_type'])\n",
        "\n",
        "df_train['answer_confidence_encoded'] = label_encoder_confidence.fit_transform(df_train['answer_confidence'])\n",
        "df_valid['answer_confidence_encoded'] = label_encoder_confidence.transform(df_valid['answer_confidence'])\n",
        "\n",
        "df_train"
      ]
    },
    {
      "cell_type": "markdown",
      "id": "BAsXr8d4-vbD",
      "metadata": {
        "id": "BAsXr8d4-vbD"
      },
      "source": [
        "##### Remove ID & Transformed Features"
      ]
    },
    {
      "cell_type": "code",
      "execution_count": null,
      "id": "8bOZFO_i8Nk2",
      "metadata": {
        "id": "8bOZFO_i8Nk2"
      },
      "outputs": [],
      "source": [
        "df_train = df_train.drop(columns=id_features + categorical_features)\n",
        "df_valid = df_valid.drop(columns=id_features + categorical_features)"
      ]
    },
    {
      "cell_type": "markdown",
      "id": "TRJnmDuyMf-I",
      "metadata": {
        "id": "TRJnmDuyMf-I"
      },
      "source": [
        "##### Save Workspace"
      ]
    },
    {
      "cell_type": "code",
      "execution_count": null,
      "id": "z93IqQdNLrWT",
      "metadata": {
        "id": "z93IqQdNLrWT"
      },
      "outputs": [],
      "source": [
        "joblib.dump(df_train, \"/content/drive/MyDrive/Colab Notebooks/894/Training/(2)_dfTrain_w2v_2.2.joblib\")\n",
        "joblib.dump(df_valid, \"/content/drive/MyDrive/Colab Notebooks/894/Validation/(2)_dfValid_w2v_2.2.joblib\")\n",
        "joblib.dump(label_encoder_answer_type, \"/content/drive/MyDrive/Colab Notebooks/894/Training/(2)_label_encoder_answer_type_2.2.joblib\")\n",
        "joblib.dump(label_encoder_confidence, \"/content/drive/MyDrive/Colab Notebooks/894/Training/(2)_label_encoder_confidence_2.2.joblib\")"
      ]
    },
    {
      "cell_type": "markdown",
      "id": "5zq76B2I47b6",
      "metadata": {
        "id": "5zq76B2I47b6"
      },
      "source": [
        "### 2.3 Reducing Dimensionality (Principal Component Analysis (PCA))"
      ]
    },
    {
      "cell_type": "markdown",
      "id": "WhIHsMWtIhBy",
      "metadata": {
        "id": "WhIHsMWtIhBy"
      },
      "source": [
        "##### Load Workspace"
      ]
    },
    {
      "cell_type": "code",
      "execution_count": null,
      "id": "MHJdgAx_qmZI",
      "metadata": {
        "id": "MHJdgAx_qmZI"
      },
      "outputs": [],
      "source": [
        "df_train = joblib.load(\"/content/drive/MyDrive/Colab Notebooks/894/Training/(2)_dfTrain_w2v_2.2.joblib\")\n",
        "df_valid = joblib.load(\"/content/drive/MyDrive/Colab Notebooks/894/Validation/(2)_dfValid_w2v_2.2.joblib\")\n",
        "\n",
        "df_train.head()"
      ]
    },
    {
      "cell_type": "markdown",
      "id": "lvwftcwJuE2I",
      "metadata": {
        "id": "lvwftcwJuE2I"
      },
      "source": [
        "##### Find out what is the optimal number of principal components you need for each feature"
      ]
    },
    {
      "cell_type": "code",
      "execution_count": null,
      "id": "rTtdkOCeUe8F",
      "metadata": {
        "id": "rTtdkOCeUe8F"
      },
      "outputs": [],
      "source": [
        "from sklearn.decomposition import PCA\n",
        "\n",
        "# Calculate explained variance for image input\n",
        "pca_image_full = PCA().fit(df_train.iloc[:, :2048].values)\n",
        "explained_variance_ratio_image = np.cumsum(pca_image_full.explained_variance_ratio_)\n",
        "\n",
        "# Calculate explained variance for filtered choices embedding\n",
        "pca_filtered_choices_full = PCA().fit(np.vstack(df_train['filtered_choices_embedding'].values))\n",
        "explained_variance_ratio_filtered_choices = np.cumsum(pca_filtered_choices_full.explained_variance_ratio_)\n",
        "\n",
        "# Plot cumulative explained variance for image input\n",
        "plt.figure(figsize=(10, 6))\n",
        "plt.plot(np.arange(1, len(explained_variance_ratio_image) + 1), explained_variance_ratio_image, label='Image Input')\n",
        "plt.plot(np.arange(1, len(explained_variance_ratio_filtered_choices) + 1), explained_variance_ratio_filtered_choices, label='Filtered Choices Embedding')\n",
        "plt.xlabel('Number of Components')\n",
        "plt.ylabel('Cumulative Explained Variance')\n",
        "plt.title('Explained Variance vs Number of PCA Components')\n",
        "plt.axhline(y=0.90, color='r', linestyle='--', label='90% Variance Explained')\n",
        "plt.axhline(y=0.95, color='g', linestyle='--', label='95% Variance Explained')\n",
        "plt.legend()\n",
        "plt.grid(True)\n",
        "plt.show()\n",
        "\n",
        "# Determine the number of components for 90% and 95% explained variance\n",
        "n_components_image_90 = np.argmax(explained_variance_ratio_image >= 0.90) + 1\n",
        "n_components_image_95 = np.argmax(explained_variance_ratio_image >= 0.95) + 1\n",
        "\n",
        "n_components_filtered_choices_90 = np.argmax(explained_variance_ratio_filtered_choices >= 0.90) + 1\n",
        "n_components_filtered_choices_95 = np.argmax(explained_variance_ratio_filtered_choices >= 0.95) + 1\n",
        "\n",
        "print(f\"Number of components for 90% variance (Image Input): {n_components_image_90}\")\n",
        "print(f\"Number of components for 95% variance (Image Input): {n_components_image_95}\")\n",
        "print(f\"Number of components for 90% variance (Filtered Choices): {n_components_filtered_choices_90}\")\n",
        "print(f\"Number of components for 95% variance (Filtered Choices): {n_components_filtered_choices_95}\")\n"
      ]
    },
    {
      "cell_type": "code",
      "execution_count": null,
      "id": "9pGMFqYiV-Bg",
      "metadata": {
        "id": "9pGMFqYiV-Bg"
      },
      "outputs": [],
      "source": [
        "# prompt: do the same pca above to questions and answers embedding\n",
        "\n",
        "# Calculate explained variance for question embedding\n",
        "pca_question_full = PCA().fit(np.vstack(df_train['question_embedding'].values))\n",
        "explained_variance_ratio_question = np.cumsum(pca_question_full.explained_variance_ratio_)\n",
        "\n",
        "# Calculate explained variance for answer embedding\n",
        "pca_answer_full = PCA().fit(np.vstack(df_train['answer_embedding'].values))\n",
        "explained_variance_ratio_answer = np.cumsum(pca_answer_full.explained_variance_ratio_)\n",
        "\n",
        "\n",
        "# Plot cumulative explained variance for question and answer embeddings\n",
        "plt.figure(figsize=(10, 6))\n",
        "plt.plot(np.arange(1, len(explained_variance_ratio_question) + 1), explained_variance_ratio_question, label='Question Embedding')\n",
        "plt.plot(np.arange(1, len(explained_variance_ratio_answer) + 1), explained_variance_ratio_answer, label='Answer Embedding')\n",
        "plt.xlabel('Number of Components')\n",
        "plt.ylabel('Cumulative Explained Variance')\n",
        "plt.title('Explained Variance vs Number of PCA Components')\n",
        "plt.axhline(y=0.90, color='r', linestyle='--', label='90% Variance Explained')\n",
        "plt.axhline(y=0.95, color='g', linestyle='--', label='95% Variance Explained')\n",
        "plt.legend()\n",
        "plt.grid(True)\n",
        "plt.show()\n",
        "\n",
        "# Determine the number of components for 90% and 95% explained variance\n",
        "n_components_question_90 = np.argmax(explained_variance_ratio_question >= 0.90) + 1\n",
        "n_components_question_95 = np.argmax(explained_variance_ratio_question >= 0.95) + 1\n",
        "\n",
        "n_components_answer_90 = np.argmax(explained_variance_ratio_answer >= 0.90) + 1\n",
        "n_components_answer_95 = np.argmax(explained_variance_ratio_answer >= 0.95) + 1\n",
        "\n",
        "\n",
        "print(f\"Number of components for 90% variance (Question Embedding): {n_components_question_90}\")\n",
        "print(f\"Number of components for 95% variance (Question Embedding): {n_components_question_95}\")\n",
        "print(f\"Number of components for 90% variance (Answer Embedding): {n_components_answer_90}\")\n",
        "print(f\"Number of components for 95% variance (Answer Embedding): {n_components_answer_95}\")\n"
      ]
    },
    {
      "cell_type": "markdown",
      "id": "s-ToR4rfuObA",
      "metadata": {
        "id": "s-ToR4rfuObA"
      },
      "source": [
        "##### Use the optimal number of features (captures 95% variance) to compute your final PCs"
      ]
    },
    {
      "cell_type": "code",
      "execution_count": null,
      "id": "LdPaCjahpdOQ",
      "metadata": {
        "id": "LdPaCjahpdOQ"
      },
      "outputs": [],
      "source": [
        "from sklearn.decomposition import PCA\n",
        "\n",
        "# Define the number of principal components for PCA\n",
        "n_components_image = 452  # Reduce image input dimensions from 2048 to 452\n",
        "n_components_filtered_choices = 131  # Reduce filtered_choices_embedding_input from 300 to 131\n",
        "n_components_questions = 150  # Reduce question_embedding_input from 300 to 150\n",
        "n_components_answers = 134  # Reduce answer_embedding_input from 300 to 134\n",
        "\n",
        "# Apply PCA to image input\n",
        "pca_image = PCA(n_components=n_components_image)\n",
        "image_train_pca = pca_image.fit_transform(df_train.iloc[:, :2048].values)\n",
        "image_valid_pca = pca_image.transform(df_valid.iloc[:, :2048].values)\n",
        "\n",
        "# Apply PCA to question embedding\n",
        "pca_questions = PCA(n_components=n_components_questions)\n",
        "question_train_pca = pca_questions.fit_transform(np.vstack(df_train['question_embedding'].values))\n",
        "question_valid_pca = pca_questions.transform(np.vstack(df_valid['question_embedding'].values))\n",
        "\n",
        "# Apply PCA to answer embedding\n",
        "pca_answers = PCA(n_components=n_components_answers)\n",
        "answer_train_pca = pca_answers.fit_transform(np.vstack(df_train['answer_embedding'].values))\n",
        "answer_valid_pca = pca_answers.transform(np.vstack(df_valid['answer_embedding'].values))\n",
        "\n",
        "# Apply PCA to filtered choices embedding\n",
        "pca_filtered_choices = PCA(n_components=n_components_filtered_choices)\n",
        "filtered_choices_train_pca = pca_filtered_choices.fit_transform(np.vstack(df_train['filtered_choices_embedding'].values))\n",
        "filtered_choices_valid_pca = pca_filtered_choices.transform(np.vstack(df_valid['filtered_choices_embedding'].values))"
      ]
    },
    {
      "cell_type": "code",
      "source": [
        "# Function to convert PCA result to DataFrame with preserved index\n",
        "def pca_to_df(pca_result, df_original, prefix):\n",
        "    \"\"\" Convert PCA results (NumPy array) to Pandas DataFrame and preserve the original DataFrame's index \"\"\"\n",
        "    df_pca = pd.DataFrame(pca_result, index=df_original.index,\n",
        "                          columns=[f'{prefix}_pca_{i}' for i in range(pca_result.shape[1])])\n",
        "    return df_pca\n",
        "\n",
        "# Convert the PCA results to DataFrames with preserved row indices\n",
        "df_image_train_pca = pca_to_df(image_train_pca, df_train, 'image')\n",
        "df_image_valid_pca = pca_to_df(image_valid_pca, df_valid, 'image')\n",
        "df_filtered_choices_train_pca = pca_to_df(filtered_choices_train_pca, df_train, 'filtered_choices')\n",
        "df_filtered_choices_valid_pca = pca_to_df(filtered_choices_valid_pca, df_valid, 'filtered_choices')\n",
        "df_questions_train_pca = pca_to_df(question_train_pca, df_train, 'questions')\n",
        "df_questions_valid_pca = pca_to_df(question_valid_pca, df_valid, 'questions')\n",
        "df_answers_train_pca = pca_to_df(answer_train_pca, df_train, 'answers')\n",
        "df_answers_valid_pca = pca_to_df(answer_valid_pca, df_valid, 'answers')"
      ],
      "metadata": {
        "id": "HcRFKJWywueT"
      },
      "id": "HcRFKJWywueT",
      "execution_count": null,
      "outputs": []
    },
    {
      "cell_type": "code",
      "source": [
        "# Concatenate PCA results with the original `target_answer` column\n",
        "df_train_pca = pd.concat([df_train[['target_answer', 'answer_type_encoded', 'answer_confidence_encoded']], df_image_train_pca, df_questions_train_pca, df_answers_train_pca, df_filtered_choices_train_pca], axis=1)\n",
        "df_valid_pca = pd.concat([df_valid[['target_answer', 'answer_type_encoded', 'answer_confidence_encoded']], df_image_valid_pca, df_questions_valid_pca, df_answers_valid_pca, df_filtered_choices_valid_pca], axis=1)\n",
        "df_valid_pca.head()"
      ],
      "metadata": {
        "id": "sOSk3fJlnhaU"
      },
      "id": "sOSk3fJlnhaU",
      "execution_count": null,
      "outputs": []
    },
    {
      "cell_type": "code",
      "source": [
        "df_train = df_train_pca\n",
        "df_valid = df_valid_pca"
      ],
      "metadata": {
        "id": "--gwQmQ6QOIt"
      },
      "id": "--gwQmQ6QOIt",
      "execution_count": null,
      "outputs": []
    },
    {
      "cell_type": "markdown",
      "id": "xVAU86BkIe4Z",
      "metadata": {
        "id": "xVAU86BkIe4Z"
      },
      "source": [
        "##### Save Workspace"
      ]
    },
    {
      "cell_type": "code",
      "execution_count": null,
      "id": "kvKEysUyIGTA",
      "metadata": {
        "id": "kvKEysUyIGTA"
      },
      "outputs": [],
      "source": [
        "joblib.dump(df_train, \"/content/drive/MyDrive/Colab Notebooks/894/Training/(3)_dfTrain_2.3.joblib\")\n",
        "joblib.dump(df_valid, \"/content/drive/MyDrive/Colab Notebooks/894/Validation/(3)_dfValid_2.3.joblib\")\n",
        "\n",
        "# joblib.dump(pca_image, \"/content/drive/MyDrive/Colab Notebooks/894/Training/(4)_pca_image_3.2.joblib\")\n",
        "# joblib.dump(pca_questions, \"/content/drive/MyDrive/Colab Notebooks/894/Training/(4)_pca_questions_3.2.joblib\")\n",
        "# joblib.dump(pca_answers, \"/content/drive/MyDrive/Colab Notebooks/894/Training/(4)_pca_answers_3.2.joblib\")\n",
        "# joblib.dump(pca_filtered_choices, \"/content/drive/MyDrive/Colab Notebooks/894/Training/(4)_pca_filtered_choices_3.2.joblib\""
      ]
    },
    {
      "cell_type": "markdown",
      "id": "zm8NnHf0XPKR",
      "metadata": {
        "id": "zm8NnHf0XPKR"
      },
      "source": [
        "# Step 3: Model Architecture, Training & Hyperparameter Tuning"
      ]
    },
    {
      "cell_type": "markdown",
      "id": "jFBmJy5jXjJZ",
      "metadata": {
        "id": "jFBmJy5jXjJZ"
      },
      "source": [
        "##### Load Workspace"
      ]
    },
    {
      "cell_type": "code",
      "execution_count": null,
      "id": "fUH3b-rDIirq",
      "metadata": {
        "id": "fUH3b-rDIirq"
      },
      "outputs": [],
      "source": [
        "df_train = joblib.load(\"/content/drive/MyDrive/Colab Notebooks/894/Training/(3)_dfTrain_2.3.joblib\")\n",
        "df_valid = joblib.load(\"/content/drive/MyDrive/Colab Notebooks/894/Validation/(3)_dfValid_2.3.joblib\")\n",
        "\n",
        "# df_train = joblib.load(\"/Users/nila/Library/CloudStorage/GoogleDrive-nilaa.nahar@gmail.com/My Drive/Colab Notebooks/894/Training/(3)_dfTrain_3.1.joblib\")\n",
        "# df_valid = joblib.load(\"/Users/nila/Library/CloudStorage/GoogleDrive-nilaa.nahar@gmail.com/My Drive/Colab Notebooks/894/Validation/(3)_dfValid_3.1.joblib\")\n",
        "\n",
        "df_train.head()"
      ]
    },
    {
      "cell_type": "markdown",
      "id": "xTrSQUP32wZn",
      "metadata": {
        "id": "xTrSQUP32wZn"
      },
      "source": [
        "### 3.1 Model Architecture"
      ]
    },
    {
      "cell_type": "markdown",
      "source": [
        "##### Load Workspace"
      ],
      "metadata": {
        "id": "VLZmzEAwpjZg"
      },
      "id": "VLZmzEAwpjZg"
    },
    {
      "cell_type": "code",
      "source": [
        "df_train = joblib.load(\"/content/drive/MyDrive/Colab Notebooks/894/Training/(4)_dfTrain_3.2.joblib\")\n",
        "df_valid = joblib.load(\"/content/drive/MyDrive/Colab Notebooks/894/Validation/(4)_dfValid_3.2.joblib\")\n",
        "\n",
        "df_train.head()"
      ],
      "metadata": {
        "id": "HJDW1M0ppcgH"
      },
      "id": "HJDW1M0ppcgH",
      "execution_count": null,
      "outputs": []
    },
    {
      "cell_type": "code",
      "source": [
        "# Define the number of principal components for PCA\n",
        "n_components_image = 452\n",
        "n_components_filtered_choices = 131\n",
        "n_components_questions = 150\n",
        "n_components_answers = 134"
      ],
      "metadata": {
        "id": "A0OfI00vrjpq"
      },
      "id": "A0OfI00vrjpq",
      "execution_count": null,
      "outputs": []
    },
    {
      "cell_type": "code",
      "execution_count": null,
      "id": "e7y0Iog2IsdG",
      "metadata": {
        "id": "e7y0Iog2IsdG"
      },
      "outputs": [],
      "source": [
        "# Define input layers for PCA-transformed inputs\n",
        "question_embedding_input = Input(shape=(n_components_questions,), name='question_embedding_input')  # Use PCA components shape\n",
        "answer_embedding_input = Input(shape=(n_components_answers,), name='answer_embedding_input')  # Use PCA components shape\n",
        "filtered_choices_embedding_input = Input(shape=(n_components_filtered_choices,), name='filtered_choices_embedding_input')  # Use PCA components shape\n",
        "image_input = Input(shape=(n_components_image,), name='image_input')  # Use PCA components shape\n",
        "\n",
        "answer_type_input = Input(shape=(1,), name='answer_type_encoded')  # One-dimensional label-encoded feature\n",
        "answer_confidence_input = Input(shape=(1,), name='answer_confidence_encoded')  # One-dimensional label-encoded feature\n",
        "\n",
        "# Step 3: Concatenate all inputs\n",
        "combined = Concatenate()([question_embedding_input, answer_embedding_input, image_input,\n",
        "                          filtered_choices_embedding_input, answer_type_input, answer_confidence_input])\n",
        "\n",
        "# Create dense layers and dropout layers for the combined inputs\n",
        "x = Dense(64, activation='relu')(combined)\n",
        "x = Dropout(0.3)(x)\n",
        "x = Dense(32, activation='relu')(x)\n",
        "x = Dropout(0.3)(x)\n",
        "\n",
        "# One-hot encode the target labels for training and validation\n",
        "train_labels = pd.get_dummies(df_train['target_answer']).values\n",
        "valid_labels = pd.get_dummies(df_valid['target_answer']).values\n",
        "\n",
        "# Check that the validation labels have the same number of classes as training labels\n",
        "if valid_labels.shape[1] != train_labels.shape[1]:\n",
        "    print(f\"Mismatch in number of classes: Train Labels: {train_labels.shape[1]}, Validation Labels: {valid_labels.shape[1]}\")\n",
        "    # Create a new zero-filled array with the same number of columns as train_labels\n",
        "    new_valid_labels = np.zeros((valid_labels.shape[0], train_labels.shape[1]))\n",
        "    # Fill the new array with the original valid_labels values where classes exist\n",
        "    new_valid_labels[:, :valid_labels.shape[1]] = valid_labels  # Copy existing classes\n",
        "    print(f\"Shape of adjusted `valid_labels`: {new_valid_labels.shape}\")\n",
        "    valid_labels = new_valid_labels\n",
        "\n",
        "print(f\"Final shape of `train_labels`: {train_labels.shape}\")\n",
        "print(f\"Final shape of `valid_labels`: {valid_labels.shape}\")\n",
        "\n",
        "# Define the number of classes for output\n",
        "num_classes = train_labels.shape[1]  # Get the correct number of classes from train_labels shape\n",
        "output = Dense(num_classes, activation='softmax')(x)\n",
        "\n",
        "model = Model(inputs=[question_embedding_input, answer_embedding_input, image_input,\n",
        "                      filtered_choices_embedding_input, answer_type_input, answer_confidence_input], outputs=output)\n",
        "\n",
        "model.compile(optimizer=Adam(learning_rate=0.0005), loss='categorical_crossentropy', metrics=['accuracy'])\n",
        "print(model.summary())"
      ]
    },
    {
      "cell_type": "markdown",
      "id": "gqiOcBJwuc5-",
      "metadata": {
        "id": "gqiOcBJwuc5-"
      },
      "source": [
        "### 3.2 Model Training"
      ]
    },
    {
      "cell_type": "code",
      "execution_count": null,
      "id": "XrrWRU_Ermj-",
      "metadata": {
        "id": "XrrWRU_Ermj-"
      },
      "outputs": [],
      "source": [
        "# Step 3: Prepare PCA-Transformed Training Inputs\n",
        "train_inputs = {\n",
        "    'question_embedding_input': df_train.filter(like='questions_pca').values,  # Select columns with 'questions_pca' in the name\n",
        "    'answer_embedding_input': df_train.filter(like='answers_pca').values,  # Select columns with 'answers_pca' in the name\n",
        "    'filtered_choices_embedding_input': df_train.filter(like='filtered_choices_pca').values,  # Select columns with 'filtered_choices_pca' in the name\n",
        "    'image_input': df_train.filter(like='image_pca').values,  # Select columns with 'image_pca' in the name\n",
        "    'answer_type_encoded': np.reshape(df_train['answer_type_encoded'].values, (-1, 1)),  # Reshape to (num_samples, 1)\n",
        "    'answer_confidence_encoded': np.reshape(df_train['answer_confidence_encoded'].values, (-1, 1))  # Reshape to (num_samples, 1)\n",
        "}\n",
        "\n",
        "# Apply the same PCA transformation to validation inputs using column filtering\n",
        "valid_inputs = {\n",
        "    'question_embedding_input': df_valid.filter(like='questions_pca').values,  # Select columns with 'questions_pca' in the name\n",
        "    'answer_embedding_input': df_valid.filter(like='answers_pca').values,  # Select columns with 'answers_pca' in the name\n",
        "    'filtered_choices_embedding_input': df_valid.filter(like='filtered_choices_pca').values,  # Select columns with 'filtered_choices_pca' in the name\n",
        "    'image_input': df_valid.filter(like='image_pca').values,  # Select columns with 'image_pca' in the name\n",
        "    'answer_type_encoded': np.reshape(df_valid['answer_type_encoded'].values, (-1, 1)),  # Reshape to (num_samples, 1)\n",
        "    'answer_confidence_encoded': np.reshape(df_valid['answer_confidence_encoded'].values, (-1, 1))  # Reshape to (num_samples, 1)\n",
        "}\n",
        "\n",
        "# Step 4: Train the simplified model using PCA-transformed inputs\n",
        "history = model.fit(train_inputs, train_labels, validation_data=(valid_inputs, valid_labels), epochs=10, batch_size=16)\n"
      ]
    },
    {
      "cell_type": "markdown",
      "source": [
        "##### Saving the model"
      ],
      "metadata": {
        "id": "d5vMHtiz7YzP"
      },
      "id": "d5vMHtiz7YzP"
    },
    {
      "cell_type": "code",
      "source": [
        "# Save the trained model to a file\n",
        "model.save('/content/drive/MyDrive/Colab Notebooks/894/Training/(4)_SimpleModel_3.2.h5')"
      ],
      "metadata": {
        "id": "n7pEl1DG4b0O"
      },
      "id": "n7pEl1DG4b0O",
      "execution_count": null,
      "outputs": []
    },
    {
      "cell_type": "code",
      "source": [
        "# Save the history to a text file\n",
        "with open('/content/drive/MyDrive/Colab Notebooks/894/Training/(4)_SimpleModel_3.2_training_history.txt', 'w') as f:\n",
        "    f.write(\"Training and Validation Performance:\\n\")\n",
        "    for key, values in history.history.items():\n",
        "        f.write(f\"{key}: {values}\\n\")\n"
      ],
      "metadata": {
        "id": "mYGkBAbN5U8L"
      },
      "id": "mYGkBAbN5U8L",
      "execution_count": null,
      "outputs": []
    },
    {
      "cell_type": "markdown",
      "source": [
        "### 3.3. Hyperparameter Tuning (Optuna)"
      ],
      "metadata": {
        "id": "b9BX61zW8XFy"
      },
      "id": "b9BX61zW8XFy"
    },
    {
      "cell_type": "markdown",
      "source": [
        "##### Load Workspace\n"
      ],
      "metadata": {
        "id": "y7hiJ8Pf8jgO"
      },
      "id": "y7hiJ8Pf8jgO"
    },
    {
      "cell_type": "code",
      "source": [
        "from tensorflow.keras.models import load_model\n",
        "model = load_model('/content/drive/MyDrive/Colab Notebooks/894/Training/(4)_SimpleModel_3.2.h5')\n",
        "\n",
        "df_train = joblib.load(\"/content/drive/MyDrive/Colab Notebooks/894/Training/(3)_dfTrain_2.3.joblib\")\n",
        "df_valid = joblib.load(\"/content/drive/MyDrive/Colab Notebooks/894/Validation/(3)_dfValid_2.3.joblib\")\n",
        "\n",
        "df_train.head()"
      ],
      "metadata": {
        "colab": {
          "base_uri": "https://localhost:8080/",
          "height": 273
        },
        "id": "IfzJu2Yk8i2C",
        "outputId": "7c0fe9c1-f022-4920-8e95-99d20b210034"
      },
      "id": "IfzJu2Yk8i2C",
      "execution_count": 9,
      "outputs": [
        {
          "output_type": "stream",
          "name": "stderr",
          "text": [
            "WARNING:absl:Compiled the loaded model, but the compiled metrics have yet to be built. `model.compile_metrics` will be empty until you train or evaluate the model.\n"
          ]
        },
        {
          "output_type": "execute_result",
          "data": {
            "text/plain": [
              "  target_answer  answer_type_encoded  answer_confidence_encoded  image_pca_0  \\\n",
              "0           tan                    1                          2     6.439533   \n",
              "1           tan                    1                          2     6.439657   \n",
              "2           tan                    1                          2     6.439657   \n",
              "3           tan                    1                          2     6.439657   \n",
              "4   monkey bars                    1                          2     6.439657   \n",
              "\n",
              "   image_pca_1  image_pca_2  image_pca_3  image_pca_4  image_pca_5  \\\n",
              "0     1.479186     7.466555     4.448799     0.212724     5.184660   \n",
              "1     1.478976     7.466766     4.448922     0.212704     5.184577   \n",
              "2     1.479007     7.465891     4.448575     0.212389     5.184010   \n",
              "3     1.478999     7.465737     4.448606     0.212629     5.184058   \n",
              "4     1.478979     7.465677     4.448548     0.212789     5.184362   \n",
              "\n",
              "   image_pca_6  ...  filtered_choices_pca_121  filtered_choices_pca_122  \\\n",
              "0    -9.161225  ...                  0.004861                  0.012495   \n",
              "1    -9.160582  ...                  0.004861                  0.012495   \n",
              "2    -9.161281  ...                  0.004861                  0.012495   \n",
              "3    -9.161361  ...                  0.004861                  0.012495   \n",
              "4    -9.161155  ...                 -0.033575                 -0.004703   \n",
              "\n",
              "   filtered_choices_pca_123  filtered_choices_pca_124  \\\n",
              "0                  0.020905                 -0.032322   \n",
              "1                  0.020905                 -0.032322   \n",
              "2                  0.020905                 -0.032322   \n",
              "3                  0.020905                 -0.032322   \n",
              "4                  0.007514                  0.006816   \n",
              "\n",
              "   filtered_choices_pca_125  filtered_choices_pca_126  \\\n",
              "0                  0.008106                 -0.018028   \n",
              "1                  0.008106                 -0.018028   \n",
              "2                  0.008106                 -0.018028   \n",
              "3                  0.008106                 -0.018028   \n",
              "4                 -0.019907                 -0.010409   \n",
              "\n",
              "   filtered_choices_pca_127  filtered_choices_pca_128  \\\n",
              "0                 -0.006436                  0.013486   \n",
              "1                 -0.006436                  0.013486   \n",
              "2                 -0.006436                  0.013486   \n",
              "3                 -0.006436                  0.013486   \n",
              "4                  0.007188                  0.009800   \n",
              "\n",
              "   filtered_choices_pca_129  filtered_choices_pca_130  \n",
              "0                  0.026080                  0.001254  \n",
              "1                  0.026080                  0.001254  \n",
              "2                  0.026080                  0.001254  \n",
              "3                  0.026080                  0.001254  \n",
              "4                 -0.007322                  0.012842  \n",
              "\n",
              "[5 rows x 870 columns]"
            ],
            "text/html": [
              "\n",
              "  <div id=\"df-effe976e-6992-410b-8d4a-6f244c5585bb\" class=\"colab-df-container\">\n",
              "    <div>\n",
              "<style scoped>\n",
              "    .dataframe tbody tr th:only-of-type {\n",
              "        vertical-align: middle;\n",
              "    }\n",
              "\n",
              "    .dataframe tbody tr th {\n",
              "        vertical-align: top;\n",
              "    }\n",
              "\n",
              "    .dataframe thead th {\n",
              "        text-align: right;\n",
              "    }\n",
              "</style>\n",
              "<table border=\"1\" class=\"dataframe\">\n",
              "  <thead>\n",
              "    <tr style=\"text-align: right;\">\n",
              "      <th></th>\n",
              "      <th>target_answer</th>\n",
              "      <th>answer_type_encoded</th>\n",
              "      <th>answer_confidence_encoded</th>\n",
              "      <th>image_pca_0</th>\n",
              "      <th>image_pca_1</th>\n",
              "      <th>image_pca_2</th>\n",
              "      <th>image_pca_3</th>\n",
              "      <th>image_pca_4</th>\n",
              "      <th>image_pca_5</th>\n",
              "      <th>image_pca_6</th>\n",
              "      <th>...</th>\n",
              "      <th>filtered_choices_pca_121</th>\n",
              "      <th>filtered_choices_pca_122</th>\n",
              "      <th>filtered_choices_pca_123</th>\n",
              "      <th>filtered_choices_pca_124</th>\n",
              "      <th>filtered_choices_pca_125</th>\n",
              "      <th>filtered_choices_pca_126</th>\n",
              "      <th>filtered_choices_pca_127</th>\n",
              "      <th>filtered_choices_pca_128</th>\n",
              "      <th>filtered_choices_pca_129</th>\n",
              "      <th>filtered_choices_pca_130</th>\n",
              "    </tr>\n",
              "  </thead>\n",
              "  <tbody>\n",
              "    <tr>\n",
              "      <th>0</th>\n",
              "      <td>tan</td>\n",
              "      <td>1</td>\n",
              "      <td>2</td>\n",
              "      <td>6.439533</td>\n",
              "      <td>1.479186</td>\n",
              "      <td>7.466555</td>\n",
              "      <td>4.448799</td>\n",
              "      <td>0.212724</td>\n",
              "      <td>5.184660</td>\n",
              "      <td>-9.161225</td>\n",
              "      <td>...</td>\n",
              "      <td>0.004861</td>\n",
              "      <td>0.012495</td>\n",
              "      <td>0.020905</td>\n",
              "      <td>-0.032322</td>\n",
              "      <td>0.008106</td>\n",
              "      <td>-0.018028</td>\n",
              "      <td>-0.006436</td>\n",
              "      <td>0.013486</td>\n",
              "      <td>0.026080</td>\n",
              "      <td>0.001254</td>\n",
              "    </tr>\n",
              "    <tr>\n",
              "      <th>1</th>\n",
              "      <td>tan</td>\n",
              "      <td>1</td>\n",
              "      <td>2</td>\n",
              "      <td>6.439657</td>\n",
              "      <td>1.478976</td>\n",
              "      <td>7.466766</td>\n",
              "      <td>4.448922</td>\n",
              "      <td>0.212704</td>\n",
              "      <td>5.184577</td>\n",
              "      <td>-9.160582</td>\n",
              "      <td>...</td>\n",
              "      <td>0.004861</td>\n",
              "      <td>0.012495</td>\n",
              "      <td>0.020905</td>\n",
              "      <td>-0.032322</td>\n",
              "      <td>0.008106</td>\n",
              "      <td>-0.018028</td>\n",
              "      <td>-0.006436</td>\n",
              "      <td>0.013486</td>\n",
              "      <td>0.026080</td>\n",
              "      <td>0.001254</td>\n",
              "    </tr>\n",
              "    <tr>\n",
              "      <th>2</th>\n",
              "      <td>tan</td>\n",
              "      <td>1</td>\n",
              "      <td>2</td>\n",
              "      <td>6.439657</td>\n",
              "      <td>1.479007</td>\n",
              "      <td>7.465891</td>\n",
              "      <td>4.448575</td>\n",
              "      <td>0.212389</td>\n",
              "      <td>5.184010</td>\n",
              "      <td>-9.161281</td>\n",
              "      <td>...</td>\n",
              "      <td>0.004861</td>\n",
              "      <td>0.012495</td>\n",
              "      <td>0.020905</td>\n",
              "      <td>-0.032322</td>\n",
              "      <td>0.008106</td>\n",
              "      <td>-0.018028</td>\n",
              "      <td>-0.006436</td>\n",
              "      <td>0.013486</td>\n",
              "      <td>0.026080</td>\n",
              "      <td>0.001254</td>\n",
              "    </tr>\n",
              "    <tr>\n",
              "      <th>3</th>\n",
              "      <td>tan</td>\n",
              "      <td>1</td>\n",
              "      <td>2</td>\n",
              "      <td>6.439657</td>\n",
              "      <td>1.478999</td>\n",
              "      <td>7.465737</td>\n",
              "      <td>4.448606</td>\n",
              "      <td>0.212629</td>\n",
              "      <td>5.184058</td>\n",
              "      <td>-9.161361</td>\n",
              "      <td>...</td>\n",
              "      <td>0.004861</td>\n",
              "      <td>0.012495</td>\n",
              "      <td>0.020905</td>\n",
              "      <td>-0.032322</td>\n",
              "      <td>0.008106</td>\n",
              "      <td>-0.018028</td>\n",
              "      <td>-0.006436</td>\n",
              "      <td>0.013486</td>\n",
              "      <td>0.026080</td>\n",
              "      <td>0.001254</td>\n",
              "    </tr>\n",
              "    <tr>\n",
              "      <th>4</th>\n",
              "      <td>monkey bars</td>\n",
              "      <td>1</td>\n",
              "      <td>2</td>\n",
              "      <td>6.439657</td>\n",
              "      <td>1.478979</td>\n",
              "      <td>7.465677</td>\n",
              "      <td>4.448548</td>\n",
              "      <td>0.212789</td>\n",
              "      <td>5.184362</td>\n",
              "      <td>-9.161155</td>\n",
              "      <td>...</td>\n",
              "      <td>-0.033575</td>\n",
              "      <td>-0.004703</td>\n",
              "      <td>0.007514</td>\n",
              "      <td>0.006816</td>\n",
              "      <td>-0.019907</td>\n",
              "      <td>-0.010409</td>\n",
              "      <td>0.007188</td>\n",
              "      <td>0.009800</td>\n",
              "      <td>-0.007322</td>\n",
              "      <td>0.012842</td>\n",
              "    </tr>\n",
              "  </tbody>\n",
              "</table>\n",
              "<p>5 rows × 870 columns</p>\n",
              "</div>\n",
              "    <div class=\"colab-df-buttons\">\n",
              "\n",
              "  <div class=\"colab-df-container\">\n",
              "    <button class=\"colab-df-convert\" onclick=\"convertToInteractive('df-effe976e-6992-410b-8d4a-6f244c5585bb')\"\n",
              "            title=\"Convert this dataframe to an interactive table.\"\n",
              "            style=\"display:none;\">\n",
              "\n",
              "  <svg xmlns=\"http://www.w3.org/2000/svg\" height=\"24px\" viewBox=\"0 -960 960 960\">\n",
              "    <path d=\"M120-120v-720h720v720H120Zm60-500h600v-160H180v160Zm220 220h160v-160H400v160Zm0 220h160v-160H400v160ZM180-400h160v-160H180v160Zm440 0h160v-160H620v160ZM180-180h160v-160H180v160Zm440 0h160v-160H620v160Z\"/>\n",
              "  </svg>\n",
              "    </button>\n",
              "\n",
              "  <style>\n",
              "    .colab-df-container {\n",
              "      display:flex;\n",
              "      gap: 12px;\n",
              "    }\n",
              "\n",
              "    .colab-df-convert {\n",
              "      background-color: #E8F0FE;\n",
              "      border: none;\n",
              "      border-radius: 50%;\n",
              "      cursor: pointer;\n",
              "      display: none;\n",
              "      fill: #1967D2;\n",
              "      height: 32px;\n",
              "      padding: 0 0 0 0;\n",
              "      width: 32px;\n",
              "    }\n",
              "\n",
              "    .colab-df-convert:hover {\n",
              "      background-color: #E2EBFA;\n",
              "      box-shadow: 0px 1px 2px rgba(60, 64, 67, 0.3), 0px 1px 3px 1px rgba(60, 64, 67, 0.15);\n",
              "      fill: #174EA6;\n",
              "    }\n",
              "\n",
              "    .colab-df-buttons div {\n",
              "      margin-bottom: 4px;\n",
              "    }\n",
              "\n",
              "    [theme=dark] .colab-df-convert {\n",
              "      background-color: #3B4455;\n",
              "      fill: #D2E3FC;\n",
              "    }\n",
              "\n",
              "    [theme=dark] .colab-df-convert:hover {\n",
              "      background-color: #434B5C;\n",
              "      box-shadow: 0px 1px 3px 1px rgba(0, 0, 0, 0.15);\n",
              "      filter: drop-shadow(0px 1px 2px rgba(0, 0, 0, 0.3));\n",
              "      fill: #FFFFFF;\n",
              "    }\n",
              "  </style>\n",
              "\n",
              "    <script>\n",
              "      const buttonEl =\n",
              "        document.querySelector('#df-effe976e-6992-410b-8d4a-6f244c5585bb button.colab-df-convert');\n",
              "      buttonEl.style.display =\n",
              "        google.colab.kernel.accessAllowed ? 'block' : 'none';\n",
              "\n",
              "      async function convertToInteractive(key) {\n",
              "        const element = document.querySelector('#df-effe976e-6992-410b-8d4a-6f244c5585bb');\n",
              "        const dataTable =\n",
              "          await google.colab.kernel.invokeFunction('convertToInteractive',\n",
              "                                                    [key], {});\n",
              "        if (!dataTable) return;\n",
              "\n",
              "        const docLinkHtml = 'Like what you see? Visit the ' +\n",
              "          '<a target=\"_blank\" href=https://colab.research.google.com/notebooks/data_table.ipynb>data table notebook</a>'\n",
              "          + ' to learn more about interactive tables.';\n",
              "        element.innerHTML = '';\n",
              "        dataTable['output_type'] = 'display_data';\n",
              "        await google.colab.output.renderOutput(dataTable, element);\n",
              "        const docLink = document.createElement('div');\n",
              "        docLink.innerHTML = docLinkHtml;\n",
              "        element.appendChild(docLink);\n",
              "      }\n",
              "    </script>\n",
              "  </div>\n",
              "\n",
              "\n",
              "<div id=\"df-1ae96079-52ab-4803-9766-99bd60b41e57\">\n",
              "  <button class=\"colab-df-quickchart\" onclick=\"quickchart('df-1ae96079-52ab-4803-9766-99bd60b41e57')\"\n",
              "            title=\"Suggest charts\"\n",
              "            style=\"display:none;\">\n",
              "\n",
              "<svg xmlns=\"http://www.w3.org/2000/svg\" height=\"24px\"viewBox=\"0 0 24 24\"\n",
              "     width=\"24px\">\n",
              "    <g>\n",
              "        <path d=\"M19 3H5c-1.1 0-2 .9-2 2v14c0 1.1.9 2 2 2h14c1.1 0 2-.9 2-2V5c0-1.1-.9-2-2-2zM9 17H7v-7h2v7zm4 0h-2V7h2v10zm4 0h-2v-4h2v4z\"/>\n",
              "    </g>\n",
              "</svg>\n",
              "  </button>\n",
              "\n",
              "<style>\n",
              "  .colab-df-quickchart {\n",
              "      --bg-color: #E8F0FE;\n",
              "      --fill-color: #1967D2;\n",
              "      --hover-bg-color: #E2EBFA;\n",
              "      --hover-fill-color: #174EA6;\n",
              "      --disabled-fill-color: #AAA;\n",
              "      --disabled-bg-color: #DDD;\n",
              "  }\n",
              "\n",
              "  [theme=dark] .colab-df-quickchart {\n",
              "      --bg-color: #3B4455;\n",
              "      --fill-color: #D2E3FC;\n",
              "      --hover-bg-color: #434B5C;\n",
              "      --hover-fill-color: #FFFFFF;\n",
              "      --disabled-bg-color: #3B4455;\n",
              "      --disabled-fill-color: #666;\n",
              "  }\n",
              "\n",
              "  .colab-df-quickchart {\n",
              "    background-color: var(--bg-color);\n",
              "    border: none;\n",
              "    border-radius: 50%;\n",
              "    cursor: pointer;\n",
              "    display: none;\n",
              "    fill: var(--fill-color);\n",
              "    height: 32px;\n",
              "    padding: 0;\n",
              "    width: 32px;\n",
              "  }\n",
              "\n",
              "  .colab-df-quickchart:hover {\n",
              "    background-color: var(--hover-bg-color);\n",
              "    box-shadow: 0 1px 2px rgba(60, 64, 67, 0.3), 0 1px 3px 1px rgba(60, 64, 67, 0.15);\n",
              "    fill: var(--button-hover-fill-color);\n",
              "  }\n",
              "\n",
              "  .colab-df-quickchart-complete:disabled,\n",
              "  .colab-df-quickchart-complete:disabled:hover {\n",
              "    background-color: var(--disabled-bg-color);\n",
              "    fill: var(--disabled-fill-color);\n",
              "    box-shadow: none;\n",
              "  }\n",
              "\n",
              "  .colab-df-spinner {\n",
              "    border: 2px solid var(--fill-color);\n",
              "    border-color: transparent;\n",
              "    border-bottom-color: var(--fill-color);\n",
              "    animation:\n",
              "      spin 1s steps(1) infinite;\n",
              "  }\n",
              "\n",
              "  @keyframes spin {\n",
              "    0% {\n",
              "      border-color: transparent;\n",
              "      border-bottom-color: var(--fill-color);\n",
              "      border-left-color: var(--fill-color);\n",
              "    }\n",
              "    20% {\n",
              "      border-color: transparent;\n",
              "      border-left-color: var(--fill-color);\n",
              "      border-top-color: var(--fill-color);\n",
              "    }\n",
              "    30% {\n",
              "      border-color: transparent;\n",
              "      border-left-color: var(--fill-color);\n",
              "      border-top-color: var(--fill-color);\n",
              "      border-right-color: var(--fill-color);\n",
              "    }\n",
              "    40% {\n",
              "      border-color: transparent;\n",
              "      border-right-color: var(--fill-color);\n",
              "      border-top-color: var(--fill-color);\n",
              "    }\n",
              "    60% {\n",
              "      border-color: transparent;\n",
              "      border-right-color: var(--fill-color);\n",
              "    }\n",
              "    80% {\n",
              "      border-color: transparent;\n",
              "      border-right-color: var(--fill-color);\n",
              "      border-bottom-color: var(--fill-color);\n",
              "    }\n",
              "    90% {\n",
              "      border-color: transparent;\n",
              "      border-bottom-color: var(--fill-color);\n",
              "    }\n",
              "  }\n",
              "</style>\n",
              "\n",
              "  <script>\n",
              "    async function quickchart(key) {\n",
              "      const quickchartButtonEl =\n",
              "        document.querySelector('#' + key + ' button');\n",
              "      quickchartButtonEl.disabled = true;  // To prevent multiple clicks.\n",
              "      quickchartButtonEl.classList.add('colab-df-spinner');\n",
              "      try {\n",
              "        const charts = await google.colab.kernel.invokeFunction(\n",
              "            'suggestCharts', [key], {});\n",
              "      } catch (error) {\n",
              "        console.error('Error during call to suggestCharts:', error);\n",
              "      }\n",
              "      quickchartButtonEl.classList.remove('colab-df-spinner');\n",
              "      quickchartButtonEl.classList.add('colab-df-quickchart-complete');\n",
              "    }\n",
              "    (() => {\n",
              "      let quickchartButtonEl =\n",
              "        document.querySelector('#df-1ae96079-52ab-4803-9766-99bd60b41e57 button');\n",
              "      quickchartButtonEl.style.display =\n",
              "        google.colab.kernel.accessAllowed ? 'block' : 'none';\n",
              "    })();\n",
              "  </script>\n",
              "</div>\n",
              "\n",
              "    </div>\n",
              "  </div>\n"
            ],
            "application/vnd.google.colaboratory.intrinsic+json": {
              "type": "dataframe",
              "variable_name": "df_train"
            }
          },
          "metadata": {},
          "execution_count": 9
        }
      ]
    },
    {
      "cell_type": "code",
      "source": [
        "# Define the number of principal components for PCA\n",
        "n_components_image = 452\n",
        "n_components_filtered_choices = 131\n",
        "n_components_questions = 150\n",
        "n_components_answers = 134"
      ],
      "metadata": {
        "id": "bLVIfxT2XRWU"
      },
      "id": "bLVIfxT2XRWU",
      "execution_count": 4,
      "outputs": []
    },
    {
      "cell_type": "code",
      "source": [
        "# Step 3: Prepare PCA-Transformed Training Inputs\n",
        "train_inputs = {\n",
        "    'question_embedding_input': df_train.filter(like='questions_pca').values,  # Select columns with 'questions_pca' in the name\n",
        "    'answer_embedding_input': df_train.filter(like='answers_pca').values,  # Select columns with 'answers_pca' in the name\n",
        "    'filtered_choices_embedding_input': df_train.filter(like='filtered_choices_pca').values,  # Select columns with 'filtered_choices_pca' in the name\n",
        "    'image_input': df_train.filter(like='image_pca').values,  # Select columns with 'image_pca' in the name\n",
        "    'answer_type_encoded': np.reshape(df_train['answer_type_encoded'].values, (-1, 1)),  # Reshape to (num_samples, 1)\n",
        "    'answer_confidence_encoded': np.reshape(df_train['answer_confidence_encoded'].values, (-1, 1))  # Reshape to (num_samples, 1)\n",
        "}\n",
        "\n",
        "# Apply the same PCA transformation to validation inputs using column filtering\n",
        "valid_inputs = {\n",
        "    'question_embedding_input': df_valid.filter(like='questions_pca').values,  # Select columns with 'questions_pca' in the name\n",
        "    'answer_embedding_input': df_valid.filter(like='answers_pca').values,  # Select columns with 'answers_pca' in the name\n",
        "    'filtered_choices_embedding_input': df_valid.filter(like='filtered_choices_pca').values,  # Select columns with 'filtered_choices_pca' in the name\n",
        "    'image_input': df_valid.filter(like='image_pca').values,  # Select columns with 'image_pca' in the name\n",
        "    'answer_type_encoded': np.reshape(df_valid['answer_type_encoded'].values, (-1, 1)),  # Reshape to (num_samples, 1)\n",
        "    'answer_confidence_encoded': np.reshape(df_valid['answer_confidence_encoded'].values, (-1, 1))  # Reshape to (num_samples, 1)\n",
        "}"
      ],
      "metadata": {
        "id": "HotLxfupX1fl"
      },
      "id": "HotLxfupX1fl",
      "execution_count": 5,
      "outputs": []
    },
    {
      "cell_type": "code",
      "source": [
        "# Define the objective function for Optuna\n",
        "def objective(trial):\n",
        "    # Hyperparameters to tune\n",
        "    n_units_layer1 = trial.suggest_int('n_units_layer1', 32, 64)  # Number of units in first Dense layer\n",
        "    n_units_layer2 = trial.suggest_int('n_units_layer2', 16, 32)   # Number of units in second Dense layer\n",
        "    dropout_rate = trial.suggest_float('dropout_rate', 0.2, 0.5)   # Dropout rate\n",
        "    learning_rate = trial.suggest_float('learning_rate', 1e-5, 1e-3, log=True)  # Learning rate for Adam optimizer\n",
        "\n",
        "    # Define the model architecture (similar to your previous one)\n",
        "    question_embedding_input = Input(shape=(n_components_questions,), name='question_embedding_input')\n",
        "    answer_embedding_input = Input(shape=(n_components_answers,), name='answer_embedding_input')\n",
        "    filtered_choices_embedding_input = Input(shape=(n_components_filtered_choices,), name='filtered_choices_embedding_input')\n",
        "    image_input = Input(shape=(n_components_image,), name='image_input')\n",
        "\n",
        "    answer_type_input = Input(shape=(1,), name='answer_type_encoded')  # One-dimensional label-encoded feature\n",
        "    answer_confidence_input = Input(shape=(1,), name='answer_confidence_encoded')  # One-dimensional label-encoded feature\n",
        "\n",
        "    # Step 3: Concatenate all inputs\n",
        "    combined = Concatenate()([question_embedding_input, answer_embedding_input, image_input,\n",
        "                              filtered_choices_embedding_input, answer_type_input, answer_confidence_input])\n",
        "\n",
        "\n",
        "    # Fully connected layers with dynamic units and dropout\n",
        "    x = Dense(n_units_layer1, activation='relu')(combined)\n",
        "    x = Dropout(dropout_rate)(x)\n",
        "    x = Dense(n_units_layer2, activation='relu')(x)\n",
        "    x = Dropout(dropout_rate)(x)\n",
        "\n",
        "    # One-hot encode the target labels for training and validation\n",
        "    train_labels = pd.get_dummies(df_train['target_answer']).values\n",
        "    valid_labels = pd.get_dummies(df_valid['target_answer']).values\n",
        "\n",
        "    # Check that the validation labels have the same number of classes as training labels\n",
        "    if valid_labels.shape[1] != train_labels.shape[1]:\n",
        "        print(f\"Mismatch in number of classes: Train Labels: {train_labels.shape[1]}, Validation Labels: {valid_labels.shape[1]}\")\n",
        "        # Create a new zero-filled array with the same number of columns as train_labels\n",
        "        new_valid_labels = np.zeros((valid_labels.shape[0], train_labels.shape[1]))\n",
        "        # Fill the new array with the original valid_labels values where classes exist\n",
        "        new_valid_labels[:, :valid_labels.shape[1]] = valid_labels  # Copy existing classes\n",
        "        print(f\"Shape of adjusted `valid_labels`: {new_valid_labels.shape}\")\n",
        "        valid_labels = new_valid_labels\n",
        "\n",
        "    # Output layer (number of classes)\n",
        "    # Define the number of classes for output\n",
        "    num_classes = train_labels.shape[1]  # Get the correct number of classes from train_labels shape\n",
        "    output = Dense(num_classes, activation='softmax')(x)\n",
        "\n",
        "    model = Model(inputs=[question_embedding_input, answer_embedding_input, image_input,\n",
        "                      filtered_choices_embedding_input, answer_type_input, answer_confidence_input], outputs=output)\n",
        "\n",
        "    # Compile the model\n",
        "    model.compile(optimizer=Adam(learning_rate=learning_rate), loss='categorical_crossentropy', metrics=['accuracy'])\n",
        "\n",
        "    # Train the model with early stopping to prevent overfitting\n",
        "    model.fit(train_inputs, train_labels, validation_data=(valid_inputs, valid_labels),\n",
        "              epochs=10, batch_size=16, verbose=0)\n",
        "\n",
        "    # Evaluate the model on validation data\n",
        "    val_loss, val_accuracy = model.evaluate(valid_inputs, valid_labels, verbose=0)\n",
        "\n",
        "    # Return the validation accuracy as the objective value\n",
        "    return val_accuracy\n",
        "\n",
        "# Create the study object\n",
        "study = optuna.create_study(direction='maximize')\n",
        "\n",
        "# Start optimization\n",
        "study.optimize(objective, n_trials=10)  # Number of trials can be adjusted"
      ],
      "metadata": {
        "colab": {
          "base_uri": "https://localhost:8080/"
        },
        "id": "2WxmY5GD9KJx",
        "outputId": "83e8ce1c-55b3-4a3f-b149-bc229f42bf7f"
      },
      "id": "2WxmY5GD9KJx",
      "execution_count": 6,
      "outputs": [
        {
          "metadata": {
            "tags": null
          },
          "name": "stderr",
          "output_type": "stream",
          "text": [
            "[I 2024-10-12 02:01:43,412] A new study created in memory with name: no-name-0a488691-8bf1-43af-a480-c9e243866366\n"
          ]
        },
        {
          "metadata": {
            "tags": null
          },
          "name": "stdout",
          "output_type": "stream",
          "text": [
            "Mismatch in number of classes: Train Labels: 2521, Validation Labels: 1568\n",
            "Shape of adjusted `valid_labels`: (300000, 2521)\n"
          ]
        },
        {
          "metadata": {
            "tags": null
          },
          "name": "stderr",
          "output_type": "stream",
          "text": [
            "[I 2024-10-12 02:16:46,882] Trial 0 finished with value: 7.333333633141592e-05 and parameters: {'n_units_layer1': 35, 'n_units_layer2': 17, 'dropout_rate': 0.31024918585842665, 'learning_rate': 0.0006113162127228869}. Best is trial 0 with value: 7.333333633141592e-05.\n"
          ]
        },
        {
          "metadata": {
            "tags": null
          },
          "name": "stdout",
          "output_type": "stream",
          "text": [
            "Mismatch in number of classes: Train Labels: 2521, Validation Labels: 1568\n",
            "Shape of adjusted `valid_labels`: (300000, 2521)\n"
          ]
        },
        {
          "metadata": {
            "tags": null
          },
          "name": "stderr",
          "output_type": "stream",
          "text": [
            "[I 2024-10-12 02:32:11,284] Trial 1 finished with value: 2.9999999242136255e-05 and parameters: {'n_units_layer1': 39, 'n_units_layer2': 26, 'dropout_rate': 0.312064511699935, 'learning_rate': 0.00028480355340472724}. Best is trial 0 with value: 7.333333633141592e-05.\n"
          ]
        },
        {
          "metadata": {
            "tags": null
          },
          "name": "stdout",
          "output_type": "stream",
          "text": [
            "Mismatch in number of classes: Train Labels: 2521, Validation Labels: 1568\n",
            "Shape of adjusted `valid_labels`: (300000, 2521)\n"
          ]
        },
        {
          "metadata": {
            "tags": null
          },
          "name": "stderr",
          "output_type": "stream",
          "text": [
            "[I 2024-10-12 02:47:24,454] Trial 2 finished with value: 4.333333345130086e-05 and parameters: {'n_units_layer1': 55, 'n_units_layer2': 28, 'dropout_rate': 0.31236853176225754, 'learning_rate': 1.2028330114961096e-05}. Best is trial 0 with value: 7.333333633141592e-05.\n"
          ]
        },
        {
          "metadata": {
            "tags": null
          },
          "name": "stdout",
          "output_type": "stream",
          "text": [
            "Mismatch in number of classes: Train Labels: 2521, Validation Labels: 1568\n",
            "Shape of adjusted `valid_labels`: (300000, 2521)\n"
          ]
        },
        {
          "metadata": {
            "tags": null
          },
          "name": "stderr",
          "output_type": "stream",
          "text": [
            "[I 2024-10-12 03:02:29,757] Trial 3 finished with value: 2.6666666599339806e-05 and parameters: {'n_units_layer1': 34, 'n_units_layer2': 20, 'dropout_rate': 0.23068281993938045, 'learning_rate': 0.0005612470438088822}. Best is trial 0 with value: 7.333333633141592e-05.\n"
          ]
        },
        {
          "metadata": {
            "tags": null
          },
          "name": "stdout",
          "output_type": "stream",
          "text": [
            "Mismatch in number of classes: Train Labels: 2521, Validation Labels: 1568\n",
            "Shape of adjusted `valid_labels`: (300000, 2521)\n"
          ]
        },
        {
          "metadata": {
            "tags": null
          },
          "name": "stderr",
          "output_type": "stream",
          "text": [
            "[I 2024-10-12 03:17:39,047] Trial 4 finished with value: 6.666666740784422e-05 and parameters: {'n_units_layer1': 64, 'n_units_layer2': 19, 'dropout_rate': 0.2824495791945499, 'learning_rate': 0.00030178163890673404}. Best is trial 0 with value: 7.333333633141592e-05.\n"
          ]
        },
        {
          "metadata": {
            "tags": null
          },
          "name": "stdout",
          "output_type": "stream",
          "text": [
            "Mismatch in number of classes: Train Labels: 2521, Validation Labels: 1568\n",
            "Shape of adjusted `valid_labels`: (300000, 2521)\n"
          ]
        },
        {
          "metadata": {
            "tags": null
          },
          "name": "stderr",
          "output_type": "stream",
          "text": [
            "[I 2024-10-12 03:32:50,312] Trial 5 finished with value: 1.3333333299669903e-05 and parameters: {'n_units_layer1': 56, 'n_units_layer2': 27, 'dropout_rate': 0.3194002948816634, 'learning_rate': 9.993558034669476e-05}. Best is trial 0 with value: 7.333333633141592e-05.\n"
          ]
        },
        {
          "metadata": {
            "tags": null
          },
          "name": "stdout",
          "output_type": "stream",
          "text": [
            "Mismatch in number of classes: Train Labels: 2521, Validation Labels: 1568\n",
            "Shape of adjusted `valid_labels`: (300000, 2521)\n"
          ]
        },
        {
          "metadata": {
            "tags": null
          },
          "name": "stderr",
          "output_type": "stream",
          "text": [
            "[I 2024-10-12 03:47:59,036] Trial 6 finished with value: 6.666666740784422e-05 and parameters: {'n_units_layer1': 52, 'n_units_layer2': 17, 'dropout_rate': 0.23573627342499245, 'learning_rate': 0.00014631100351412206}. Best is trial 0 with value: 7.333333633141592e-05.\n"
          ]
        },
        {
          "metadata": {
            "tags": null
          },
          "name": "stdout",
          "output_type": "stream",
          "text": [
            "Mismatch in number of classes: Train Labels: 2521, Validation Labels: 1568\n",
            "Shape of adjusted `valid_labels`: (300000, 2521)\n"
          ]
        },
        {
          "metadata": {
            "tags": null
          },
          "name": "stderr",
          "output_type": "stream",
          "text": [
            "[I 2024-10-12 04:03:20,435] Trial 7 finished with value: 0.00013000000035390258 and parameters: {'n_units_layer1': 46, 'n_units_layer2': 30, 'dropout_rate': 0.4514204506946587, 'learning_rate': 0.00026099928221019915}. Best is trial 7 with value: 0.00013000000035390258.\n"
          ]
        },
        {
          "metadata": {
            "tags": null
          },
          "name": "stdout",
          "output_type": "stream",
          "text": [
            "Mismatch in number of classes: Train Labels: 2521, Validation Labels: 1568\n",
            "Shape of adjusted `valid_labels`: (300000, 2521)\n"
          ]
        },
        {
          "output_type": "stream",
          "name": "stderr",
          "text": [
            "[I 2024-10-12 04:18:38,130] Trial 8 finished with value: 7.666666351724416e-05 and parameters: {'n_units_layer1': 32, 'n_units_layer2': 31, 'dropout_rate': 0.39821827370251006, 'learning_rate': 0.0004299855941768864}. Best is trial 7 with value: 0.00013000000035390258.\n"
          ]
        },
        {
          "output_type": "stream",
          "name": "stdout",
          "text": [
            "Mismatch in number of classes: Train Labels: 2521, Validation Labels: 1568\n",
            "Shape of adjusted `valid_labels`: (300000, 2521)\n"
          ]
        },
        {
          "output_type": "stream",
          "name": "stderr",
          "text": [
            "[I 2024-10-12 04:33:56,503] Trial 9 finished with value: 9.666667028795928e-05 and parameters: {'n_units_layer1': 36, 'n_units_layer2': 22, 'dropout_rate': 0.3932058022139764, 'learning_rate': 0.00016700785057080454}. Best is trial 7 with value: 0.00013000000035390258.\n"
          ]
        }
      ]
    },
    {
      "cell_type": "markdown",
      "source": [
        "### Final Model Fit"
      ],
      "metadata": {
        "id": "RycRegLbC0Wt"
      },
      "id": "RycRegLbC0Wt"
    },
    {
      "cell_type": "code",
      "source": [
        "# Trial 7 finished with value: 0.00013000000035390258 and parameters: {'n_units_layer1': 46, 'n_units_layer2': 30, 'dropout_rate': 0.4514204506946587, 'learning_rate': 0.00026099928221019915}. Best is trial 7 with value: 0.00013000000035390258.\n",
        "\n",
        "# Manually set the best hyperparameters\n",
        "best_params = {\n",
        "    'n_units_layer1': 46,\n",
        "    'n_units_layer2': 30,\n",
        "    'dropout_rate': 0.4514,\n",
        "    'learning_rate': 0.0002609,\n",
        "    'batch_size': 16\n",
        "}"
      ],
      "metadata": {
        "id": "a_UNAc-Z_Dnd"
      },
      "id": "a_UNAc-Z_Dnd",
      "execution_count": 20,
      "outputs": []
    },
    {
      "cell_type": "code",
      "source": [
        "\n",
        "# Define input layers for PCA-transformed inputs\n",
        "question_embedding_input = Input(shape=(n_components_questions,), name='question_embedding_input')  # Use PCA components shape\n",
        "answer_embedding_input = Input(shape=(n_components_answers,), name='answer_embedding_input')  # Use PCA components shape\n",
        "filtered_choices_embedding_input = Input(shape=(n_components_filtered_choices,), name='filtered_choices_embedding_input')  # Use PCA components shape\n",
        "image_input = Input(shape=(n_components_image,), name='image_input')  # Use PCA components shape\n",
        "\n",
        "answer_type_input = Input(shape=(1,), name='answer_type_encoded')  # One-dimensional label-encoded feature\n",
        "answer_confidence_input = Input(shape=(1,), name='answer_confidence_encoded')  # One-dimensional label-encoded feature\n",
        "\n",
        "combined = Concatenate()([question_embedding_input, answer_embedding_input, image_input,\n",
        "                          filtered_choices_embedding_input, answer_type_input, answer_confidence_input])\n",
        "\n",
        "# Manually set the best hyperparameters\n",
        "best_params = {\n",
        "    'n_units_layer1': 64,        # Example number of units in first Dense layer\n",
        "    'n_units_layer2': 32,        # Example number of units in second Dense layer\n",
        "    'dropout_rate': 0.3,         # Example dropout rate\n",
        "    'learning_rate': 0.0001,     # Example learning rate\n",
        "    'batch_size': 16             # Example batch size\n",
        "}\n",
        "# Fully connected layers with the best hyperparameters\n",
        "x = Dense(best_params['n_units_layer1'], activation='relu')(combined)\n",
        "x = Dropout(best_params['dropout_rate'])(x)\n",
        "x = Dense(best_params['n_units_layer2'], activation='relu')(x)\n",
        "x = Dropout(best_params['dropout_rate'])(x)\n",
        "\n",
        "# Output layer (softmax for classification)\n",
        "num_classes = train_labels.shape[1]  # Number of classes from one-hot encoded labels\n",
        "output = Dense(num_classes, activation='softmax')(x)\n",
        "\n",
        "# Compile the model with the best learning rate\n",
        "final_model = Model(inputs=[question_embedding_input, answer_embedding_input, image_input,\n",
        "                      filtered_choices_embedding_input, answer_type_input, answer_confidence_input], outputs=output)\n",
        "\n",
        "final_model.compile(optimizer=Adam(learning_rate=best_params['learning_rate']),\n",
        "              loss='categorical_crossentropy', metrics=['accuracy'])\n",
        "\n",
        "\n",
        "# One-hot encode the target labels for training and validation\n",
        "train_labels = pd.get_dummies(df_train['target_answer']).values\n",
        "valid_labels = pd.get_dummies(df_valid['target_answer']).values\n",
        "\n",
        "# Ensure validation labels match the shape of training labels (if necessary)\n",
        "if valid_labels.shape[1] != train_labels.shape[1]:\n",
        "    new_valid_labels = np.zeros((valid_labels.shape[0], train_labels.shape[1]))\n",
        "    new_valid_labels[:, :valid_labels.shape[1]] = valid_labels\n",
        "    valid_labels = new_valid_labels\n",
        "\n",
        "# Step 3: Prepare PCA-Transformed Training Inputs\n",
        "train_inputs = {\n",
        "    'question_embedding_input': df_train.filter(like='questions_pca').values,  # Select columns with 'questions_pca' in the name\n",
        "    'answer_embedding_input': df_train.filter(like='answers_pca').values,  # Select columns with 'answers_pca' in the name\n",
        "    'filtered_choices_embedding_input': df_train.filter(like='filtered_choices_pca').values,  # Select columns with 'filtered_choices_pca' in the name\n",
        "    'image_input': df_train.filter(like='image_pca').values,  # Select columns with 'image_pca' in the name\n",
        "    'answer_type_encoded': np.reshape(df_train['answer_type_encoded'].values, (-1, 1)),  # Reshape to (num_samples, 1)\n",
        "    'answer_confidence_encoded': np.reshape(df_train['answer_confidence_encoded'].values, (-1, 1))  # Reshape to (num_samples, 1)\n",
        "}\n",
        "\n",
        "# Apply the same PCA transformation to validation inputs using column filtering\n",
        "valid_inputs = {\n",
        "    'question_embedding_input': df_valid.filter(like='questions_pca').values,  # Select columns with 'questions_pca' in the name\n",
        "    'answer_embedding_input': df_valid.filter(like='answers_pca').values,  # Select columns with 'answers_pca' in the name\n",
        "    'filtered_choices_embedding_input': df_valid.filter(like='filtered_choices_pca').values,  # Select columns with 'filtered_choices_pca' in the name\n",
        "    'image_input': df_valid.filter(like='image_pca').values,  # Select columns with 'image_pca' in the name\n",
        "    'answer_type_encoded': np.reshape(df_valid['answer_type_encoded'].values, (-1, 1)),  # Reshape to (num_samples, 1)\n",
        "    'answer_confidence_encoded': np.reshape(df_valid['answer_confidence_encoded'].values, (-1, 1))  # Reshape to (num_samples, 1)\n",
        "}\n",
        "\n",
        "final_modelmodel.fit(train_inputs, train_labels, validation_data=(valid_inputs, valid_labels), epochs=10, batch_size=16)\n"
      ],
      "metadata": {
        "colab": {
          "base_uri": "https://localhost:8080/"
        },
        "id": "TDEKsP99_obl",
        "outputId": "f5b813d4-b1d0-46cd-f5e9-eb1bdebe2300"
      },
      "id": "TDEKsP99_obl",
      "execution_count": 23,
      "outputs": [
        {
          "output_type": "stream",
          "name": "stdout",
          "text": [
            "Epoch 1/10\n",
            "\u001b[1m37500/37500\u001b[0m \u001b[32m━━━━━━━━━━━━━━━━━━━━\u001b[0m\u001b[37m\u001b[0m \u001b[1m110s\u001b[0m 3ms/step - accuracy: 0.3414 - loss: 3.5390 - val_accuracy: 4.3333e-05 - val_loss: 41.0209\n",
            "Epoch 2/10\n",
            "\u001b[1m37500/37500\u001b[0m \u001b[32m━━━━━━━━━━━━━━━━━━━━\u001b[0m\u001b[37m\u001b[0m \u001b[1m92s\u001b[0m 2ms/step - accuracy: 0.5725 - loss: 2.0894 - val_accuracy: 3.6667e-05 - val_loss: 55.2265\n",
            "Epoch 3/10\n",
            "\u001b[1m37500/37500\u001b[0m \u001b[32m━━━━━━━━━━━━━━━━━━━━\u001b[0m\u001b[37m\u001b[0m \u001b[1m92s\u001b[0m 2ms/step - accuracy: 0.6262 - loss: 1.8003 - val_accuracy: 3.3333e-05 - val_loss: 64.8920\n",
            "Epoch 4/10\n",
            "\u001b[1m37500/37500\u001b[0m \u001b[32m━━━━━━━━━━━━━━━━━━━━\u001b[0m\u001b[37m\u001b[0m \u001b[1m93s\u001b[0m 2ms/step - accuracy: 0.6428 - loss: 1.6860 - val_accuracy: 5.0000e-05 - val_loss: 72.8419\n",
            "Epoch 5/10\n",
            "\u001b[1m37500/37500\u001b[0m \u001b[32m━━━━━━━━━━━━━━━━━━━━\u001b[0m\u001b[37m\u001b[0m \u001b[1m92s\u001b[0m 2ms/step - accuracy: 0.6513 - loss: 1.6250 - val_accuracy: 4.0000e-05 - val_loss: 83.1177\n",
            "Epoch 6/10\n",
            "\u001b[1m37500/37500\u001b[0m \u001b[32m━━━━━━━━━━━━━━━━━━━━\u001b[0m\u001b[37m\u001b[0m \u001b[1m93s\u001b[0m 2ms/step - accuracy: 0.6579 - loss: 1.5794 - val_accuracy: 4.3333e-05 - val_loss: 88.9093\n",
            "Epoch 7/10\n",
            "\u001b[1m37500/37500\u001b[0m \u001b[32m━━━━━━━━━━━━━━━━━━━━\u001b[0m\u001b[37m\u001b[0m \u001b[1m93s\u001b[0m 2ms/step - accuracy: 0.6613 - loss: 1.5557 - val_accuracy: 5.3333e-05 - val_loss: 95.5061\n",
            "Epoch 8/10\n",
            "\u001b[1m37500/37500\u001b[0m \u001b[32m━━━━━━━━━━━━━━━━━━━━\u001b[0m\u001b[37m\u001b[0m \u001b[1m93s\u001b[0m 2ms/step - accuracy: 0.6636 - loss: 1.5335 - val_accuracy: 6.0000e-05 - val_loss: 101.7371\n",
            "Epoch 9/10\n",
            "\u001b[1m37500/37500\u001b[0m \u001b[32m━━━━━━━━━━━━━━━━━━━━\u001b[0m\u001b[37m\u001b[0m \u001b[1m92s\u001b[0m 2ms/step - accuracy: 0.6639 - loss: 1.5276 - val_accuracy: 5.0000e-05 - val_loss: 106.5972\n",
            "Epoch 10/10\n",
            "\u001b[1m37500/37500\u001b[0m \u001b[32m━━━━━━━━━━━━━━━━━━━━\u001b[0m\u001b[37m\u001b[0m \u001b[1m92s\u001b[0m 2ms/step - accuracy: 0.6654 - loss: 1.5138 - val_accuracy: 5.0000e-05 - val_loss: 111.6022\n"
          ]
        },
        {
          "output_type": "execute_result",
          "data": {
            "text/plain": [
              "<keras.src.callbacks.history.History at 0x7bc470388ac0>"
            ]
          },
          "metadata": {},
          "execution_count": 23
        }
      ]
    },
    {
      "cell_type": "code",
      "source": [
        "# Save the trained model to a file\n",
        "model.save('/content/drive/MyDrive/Colab Notebooks/894/Training/(5)_FinalModel_4.0.h5')"
      ],
      "metadata": {
        "colab": {
          "base_uri": "https://localhost:8080/"
        },
        "id": "bCKrXfYCM5TM",
        "outputId": "f85b8623-e397-4712-b43a-5a51ed713f95"
      },
      "id": "bCKrXfYCM5TM",
      "execution_count": 24,
      "outputs": [
        {
          "output_type": "stream",
          "name": "stderr",
          "text": [
            "WARNING:absl:You are saving your model as an HDF5 file via `model.save()` or `keras.saving.save_model(model)`. This file format is considered legacy. We recommend using instead the native Keras format, e.g. `model.save('my_model.keras')` or `keras.saving.save_model(model, 'my_model.keras')`. \n"
          ]
        }
      ]
    },
    {
      "cell_type": "code",
      "source": [
        "del df_train, df_valid\n",
        "del question_embedding_input, answer_embedding_input, image_input, filtered_choices_embedding_input, answer_type_input, answer_confidence_input, combined, x, output\n",
        "del train_inputs, valid_inputs, train_labels, valid_labels\n",
        "del n_components_image, n_components_filtered_choices, n_components_questions, n_components_answers\n",
        "del best_params, new_valid_labels, num_classes, study, stopwords"
      ],
      "metadata": {
        "id": "GDG0PRd9NQF-"
      },
      "id": "GDG0PRd9NQF-",
      "execution_count": 28,
      "outputs": []
    },
    {
      "cell_type": "markdown",
      "source": [
        "### Final Model's Accuracy: 0.665 on Validation Set\n",
        "\n",
        "\n",
        "---\n",
        "\n",
        "\n",
        "\n",
        "\n",
        "---\n",
        "\n",
        "\n",
        "\n",
        "---\n",
        "\n"
      ],
      "metadata": {
        "id": "KK23Y_hOWHDT"
      },
      "id": "KK23Y_hOWHDT"
    },
    {
      "cell_type": "markdown",
      "source": [
        "# Step 5: Testing & Performance (Not Applicable)"
      ],
      "metadata": {
        "id": "aXbQh6PzQ0xa"
      },
      "id": "aXbQh6PzQ0xa"
    },
    {
      "cell_type": "markdown",
      "source": [
        "##### Load Workspace"
      ],
      "metadata": {
        "id": "gxetBaYoRGr6"
      },
      "id": "gxetBaYoRGr6"
    },
    {
      "cell_type": "code",
      "source": [
        "final_model = load_model('/content/drive/MyDrive/Colab Notebooks/894/Training/(6)_FinalModel_4.0.h5')\n",
        "label_encoder_answer_type = joblib.load('/content/drive/MyDrive/Colab Notebooks/894/Training/(6)_FinalModel_4.0_label_encoder_answer_type.joblib')\n",
        "label_encoder_confidence = joblib.load('/content/drive/MyDrive/Colab Notebooks/894/Training/(6)_FinalModel_4.0_label_encoder_confidence.joblib')\n",
        "pca_image = joblib.load('/content/drive/MyDrive/Colab Notebooks/894/Training/(4)_pca_image_3.2.job\n",
        "pca_questions = joblib('/content/drive/MyDrive/Colab Notebooks/894/Training/(4)_pca_questions_3.2.job\n",
        "pca_answers = joblib.load('/content/drive/MyDrive/Colab Notebooks/894/Training/(4)_pca_answers_3.2.joblib')\n",
        "pca_filtered_choices = joblib.load('/content/drive/MyDrive/Colab Notebooks/894/Training/(4)_pca_filtered_choices_3.2.joblib')"
      ],
      "metadata": {
        "id": "-77m9TWdQ4vg"
      },
      "id": "-77m9TWdQ4vg",
      "execution_count": null,
      "outputs": []
    },
    {
      "cell_type": "code",
      "source": [
        "df_test['question'] = df_test['question_oeq']\n",
        "df_test = df_test.drop(columns=['question_oeq'])\n",
        "\n",
        "df_test['question_clean'] = df_test['question'].apply(preprocess_text)\n",
        "df_test['question_embedding'] = df_test['question_clean'].apply(lambda x: get_sentence_embedding(x, model))\n",
        "\n",
        "df_test['answer_clean'] = df_test['answer'].apply(preprocess_text)\n",
        "df_test['answer_embedding'] = df_test['answer_clean'].apply(lambda x: get_sentence_embedding(x, model))\n",
        "\n",
        "df_test['filtered_multiple_choices'] = df_test.apply(lambda row: filter_choices_by_word2vec_similarity(row, model), axis=1)\n",
        "df_test['filtered_multiple_choice_corpus'] = df_test.apply(lambda row: concatenate_list_to_sentence(row, 'filtered_multiple_choices'), axis=1)\n",
        "df_test['filtered_choices_embedding'] = df_test.apply(lambda x: get_sentence_embedding(x, model), axis=1)\n",
        "\n",
        "df_test['answer_type_encoded'] = label_encoder_answer_type.transform(df_test['answer_type'])\n",
        "df_test['answer_confidence_encoded'] = label_encoder_confidence.transform(df_test['answer_confidence'])"
      ],
      "metadata": {
        "id": "iBEHyDluO2lz"
      },
      "id": "iBEHyDluO2lz",
      "execution_count": null,
      "outputs": []
    },
    {
      "cell_type": "code",
      "source": [
        "df_test = df_test.drop(columns=id_features + categorical_features)"
      ],
      "metadata": {
        "id": "a3elfH_cRg3A"
      },
      "id": "a3elfH_cRg3A",
      "execution_count": null,
      "outputs": []
    },
    {
      "cell_type": "code",
      "source": [
        "df_image_test_pca = pca_image.transform(df_test.iloc[:, :2048].values)\n",
        "df_questions_test_pca = pca_questions.transform(np.vstack(df_test['question_embedding'].values))\n",
        "df_answers_test_pca = pca_answers.transform(np.vstack(df_test['answer_embedding'].values))\n",
        "df_filtered_choices_test_pca = pca_filtered_choices.transform(np.vstack(df_test['filtered_choices_embedding'].values))\n",
        "\n",
        "df_test_pca = pd.concat([df_test[['answer_type_encoded', 'answer_confidence_encoded']], df_image_test_pca, df_questions_test_pca, df_answers_test_pca, df_filtered_choices_test_pca], axis=1)"
      ],
      "metadata": {
        "id": "PqEEp6KwR0Qt"
      },
      "id": "PqEEp6KwR0Qt",
      "execution_count": null,
      "outputs": []
    },
    {
      "cell_type": "code",
      "source": [
        "# # Evaluate the final model on the test set\n",
        "# test_loss, test_accuracy = final_model.evaluate([np.stack(df_test['question_bert_embedding'].values),\n",
        "#                                                  np.stack(df_test['answer_embedding'].values),\n",
        "#                                                  np.stack(df_test['filtered_choices_embedding'].values),\n",
        "#                                                  np.stack(df_test['image_features'].values),\n",
        "#                                                  np.stack(df_test['answer_type_encoded'].values),\n",
        "#                                                  np.stack(df_test['answer_confidence_encoded'].values)],\n",
        "#                                                 test_labels,\n",
        "#                                                 verbose=0)\n",
        "#\n",
        "# print(f\"Test Accuracy: {test_accuracy}\")\n",
        "#"
      ],
      "metadata": {
        "id": "5P4TrhhEBUPv"
      },
      "id": "5P4TrhhEBUPv",
      "execution_count": null,
      "outputs": []
    }
  ],
  "metadata": {
    "accelerator": "GPU",
    "colab": {
      "collapsed_sections": [
        "aXbQh6PzQ0xa"
      ],
      "gpuType": "A100",
      "machine_shape": "hm",
      "provenance": [],
      "include_colab_link": true
    },
    "kernelspec": {
      "display_name": "Python 3 (ipykernel)",
      "language": "python",
      "name": "python3"
    },
    "language_info": {
      "codemirror_mode": {
        "name": "ipython",
        "version": 3
      },
      "file_extension": ".py",
      "mimetype": "text/x-python",
      "name": "python",
      "nbconvert_exporter": "python",
      "pygments_lexer": "ipython3",
      "version": "3.12.7"
    }
  },
  "nbformat": 4,
  "nbformat_minor": 5
}