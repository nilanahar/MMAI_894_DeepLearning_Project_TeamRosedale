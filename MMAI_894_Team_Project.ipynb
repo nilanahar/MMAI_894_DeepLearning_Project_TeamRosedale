{
  "cells": [
    {
      "cell_type": "markdown",
      "metadata": {
        "id": "view-in-github",
        "colab_type": "text"
      },
      "source": [
        "<a href=\"https://colab.research.google.com/github/nilanahar/MMAI_894_DeepLearning_Project_TeamRosedale/blob/main/MMAI_894_Team_Project.ipynb\" target=\"_parent\"><img src=\"https://colab.research.google.com/assets/colab-badge.svg\" alt=\"Open In Colab\"/></a>"
      ]
    },
    {
      "cell_type": "markdown",
      "id": "99d86a5c-554c-485e-b4d8-9a555d94b158",
      "metadata": {
        "id": "99d86a5c-554c-485e-b4d8-9a555d94b158"
      },
      "source": [
        "# Set Up Environment"
      ]
    },
    {
      "cell_type": "markdown",
      "id": "kmyD5GpHG5a1",
      "metadata": {
        "id": "kmyD5GpHG5a1"
      },
      "source": [
        "#### Packages to Load"
      ]
    },
    {
      "cell_type": "code",
      "execution_count": null,
      "id": "301dd1ed-b27f-4189-a4a4-ca3cc1796563",
      "metadata": {
        "id": "301dd1ed-b27f-4189-a4a4-ca3cc1796563",
        "colab": {
          "base_uri": "https://localhost:8080/"
        },
        "outputId": "957a6295-2f03-43d3-a763-0fb1bc419948"
      },
      "outputs": [
        {
          "output_type": "stream",
          "name": "stderr",
          "text": [
            "[nltk_data] Downloading package wordnet to /root/nltk_data...\n",
            "[nltk_data]   Package wordnet is already up-to-date!\n",
            "[nltk_data] Downloading package stopwords to /root/nltk_data...\n",
            "[nltk_data]   Package stopwords is already up-to-date!\n"
          ]
        }
      ],
      "source": [
        "from google.colab import drive\n",
        "import pandas as pd\n",
        "import numpy as np\n",
        "import json\n",
        "import joblib\n",
        "import os\n",
        "import re\n",
        "import ast\n",
        "\n",
        "from tensorflow.keras.applications.resnet50 import ResNet50, preprocess_input\n",
        "from tensorflow.keras.preprocessing import image\n",
        "from tqdm import tqdm\n",
        "import matplotlib.pyplot as plt\n",
        "import seaborn as sns\n",
        "\n",
        "import nltk\n",
        "nltk.download('wordnet')\n",
        "nltk.download('stopwords')\n",
        "from nltk.stem import WordNetLemmatizer\n",
        "from nltk.corpus import stopwords\n",
        "\n",
        "# from wordcloud import WordCloud\n",
        "# from collections import Counter\n",
        "\n",
        "import gensim.downloader as api\n",
        "from sklearn.metrics.pairwise import cosine_similarity\n",
        "# from sklearn.preprocessing import StandardScaler\n",
        "# from sklearn.preprocessing import OneHotEncoder\n",
        "from sklearn.preprocessing import LabelEncoder\n",
        "\n",
        "from tensorflow.keras.layers import Input, Embedding, Flatten, Concatenate, Dense, Dropout\n",
        "from tensorflow.keras.models import Model\n",
        "from tensorflow.keras.optimizers import Adam\n",
        "\n",
        "import warnings\n",
        "warnings.filterwarnings(\"ignore\")"
      ]
    },
    {
      "cell_type": "code",
      "execution_count": null,
      "id": "NfY7XTcdFKCX",
      "metadata": {
        "colab": {
          "base_uri": "https://localhost:8080/"
        },
        "id": "NfY7XTcdFKCX",
        "outputId": "ce469a33-2005-47d4-c279-8c42b012e902"
      },
      "outputs": [
        {
          "output_type": "stream",
          "name": "stdout",
          "text": [
            "Mounted at /content/drive\n"
          ]
        }
      ],
      "source": [
        "# define my google drive\n",
        "drive.mount(\"/content/drive\", force_remount=True)"
      ]
    },
    {
      "cell_type": "markdown",
      "source": [
        "#### Functions to Use (Must Run)"
      ],
      "metadata": {
        "id": "JqENfxla0BuW"
      },
      "id": "JqENfxla0BuW"
    },
    {
      "cell_type": "code",
      "source": [
        "# Function to load multiple JSON data\n",
        "def load_json(file_path):\n",
        "    if file_path: # Check if file_path is not None\n",
        "        with open(file_path, 'r') as f:\n",
        "            return json.load(f)\n",
        "    else:\n",
        "        return None # or handle the None case differently, like returning an empty dictionary\n",
        "\n",
        "def json_to_pdDf(mcq_file_path, oeq_file_path, answers_file_path):\n",
        "    # Now you can use this function to load multiple JSON files\n",
        "    mcq_json_data = load_json(mcq_file_path)\n",
        "    oeq_json_data = load_json(oeq_file_path)\n",
        "\n",
        "    mcq_df = pd.json_normalize(mcq_json_data['questions'])[['image_id', 'question_id', 'question', 'multiple_choices']]\n",
        "    oeq_df = pd.json_normalize(oeq_json_data['questions'])[['image_id', 'question_id', 'question']]\n",
        "\n",
        "    # Check if answers_file_path is None\n",
        "    if answers_file_path is not None:\n",
        "        answers_json_data = load_json(answers_file_path)\n",
        "        answers_df = pd.json_normalize(answers_json_data['annotations'])[['image_id', 'question_id', 'question_type', 'answers', 'multiple_choice_answer', 'answer_type']]\n",
        "    else:\n",
        "        # Create an empty DataFrame if answers_file_path is None\n",
        "        answers_df = pd.DataFrame(columns=['image_id', 'question_id', 'question_type', 'answers', 'multiple_choice_answer', 'answer_type'])\n",
        "\n",
        "    return mcq_df, oeq_df, answers_df\n",
        "\n",
        "\n",
        "def tabularize_answers_df(answers_df):\n",
        "    # Create a unique identifier for each row to track back after transformations\n",
        "    answers_df['index'] = answers_df.index\n",
        "    # Explode the 'answers' column into separate rows, while keeping other columns intact\n",
        "    answers_expanded_df = answers_df.explode('answers')\n",
        "    # normalization as before\n",
        "    answers_details = pd.json_normalize(answers_expanded_df['answers'])\n",
        "    answers_details['index'] = answers_expanded_df.index\n",
        "    # Concatenate back to the actual answers DataFrame\n",
        "    answers_expanded_df = pd.merge(answers_df, answers_details, on='index', how='left')\n",
        "    answers_merged_df = answers_expanded_df[['image_id', 'question_id', 'question_type',\n",
        "                                              'multiple_choice_answer', 'answer_type',\n",
        "                                              'answer', 'answer_id', 'answer_confidence',\n",
        "                                              'index']]\n",
        "    answers_merged_df = answers_merged_df.rename(columns={'multiple_choice_answer': 'target_answer'})\n",
        "\n",
        "    return answers_merged_df\n",
        "\n",
        "# Function to extract features from multiple JSON files\n",
        "def extract_qna_features(mcq_file_path, oeq_file_path, answers_file_path):\n",
        "\n",
        "    mcq_df, oeq_df, answers_df = json_to_pdDf(mcq_file_path, oeq_file_path, answers_file_path)\n",
        "    answers_merged_df = tabularize_answers_df(answers_df)\n",
        "\n",
        "    questions_merged_df = pd.merge(mcq_df, oeq_df, on=['image_id', 'question_id'], how='left', suffixes=('_oeq', '_mcq'))\n",
        "    final_qna_df = pd.merge(questions_merged_df, answers_merged_df, on=['image_id', 'question_id'], how='left')\n",
        "\n",
        "    return mcq_df, oeq_df, answers_merged_df, final_qna_df\n",
        "\n",
        "\n",
        "# Function to extract last five digits from file names\n",
        "def extract_last_five_digits(filename):\n",
        "    match = re.search(r'(\\d{5})\\.png$', filename)\n",
        "    if match:\n",
        "        return match.group(1)\n",
        "    else:\n",
        "        raise ValueError(f\"Filename {filename} does not match the expected pattern.\")\n",
        "\n",
        "def extract_image_features(model, images_file_path):\n",
        "    images_features_dict = {}\n",
        "    for img_name in tqdm(os.listdir(images_file_path)):\n",
        "        img_path = os.path.join(images_file_path, img_name)\n",
        "\n",
        "        # Extract image_id (adjust slice according to your filename structure)\n",
        "        image_id = img_name[-9:-4]  # Example: extracting last 5 digits before file extension\n",
        "\n",
        "        # Load and preprocess the image\n",
        "        img = image.load_img(img_path, target_size=(224, 224))\n",
        "        x = preprocess_input(np.expand_dims(image.img_to_array(img), axis=0))\n",
        "\n",
        "        # Extract features and store them in the dictionary\n",
        "        features = model.predict(x)\n",
        "        images_features_dict[image_id] = features.flatten()\n",
        "\n",
        "    images_features_df = pd.DataFrame.from_dict(images_features_dict, orient='index')\n",
        "    images_features_df.reset_index(inplace=True)\n",
        "    images_features_df.rename(columns={'index': 'image_id'}, inplace=True)\n",
        "\n",
        "    return images_features_df\n",
        "\n",
        "\n",
        "def complete_datasets(qna_df, images_features_df):\n",
        "    qna_df = qna_df.sort_values(by='image_id').reset_index(drop=True)\n",
        "    images_features_df = images_features_df.sort_values(by='image_id').reset_index(drop=True)\n",
        "    images_features_df['image_id'] = images_features_df['image_id'].astype(int)\n",
        "    # Merge the 3 dataframes into one (base dataset is image_df (unique), left join qna on image id)\n",
        "    complete_training_set = pd.merge(images_features_df, qna_df, on='image_id', how='left')\n",
        "    return complete_training_set\n",
        "\n",
        "def preprocess_text(text):\n",
        "    \"\"\"\n",
        "    Improved text preprocessing function that retains context and meaning.\n",
        "    - Converts text to lowercase.\n",
        "    - Removes non-alphabetic characters.\n",
        "    - Tokenizes, removes only non-essential stopwords, and lemmatizes.\n",
        "    \"\"\"\n",
        "    if pd.isnull(text):\n",
        "        return ''\n",
        "\n",
        "    # Convert text to lowercase\n",
        "    text = text.lower()\n",
        "    # Remove non-alphabetic characters (but keep question marks and spaces)\n",
        "    text = re.sub(r'[^a-z\\s\\?]', '', text)\n",
        "    # Tokenize text into words\n",
        "    words = text.split()\n",
        "    # Create a lemmatizer object\n",
        "    lemmatizer = WordNetLemmatizer()\n",
        "    # Define stop words\n",
        "    stop_words = set(stopwords.words('english')) # Define stop_words here\n",
        "    essential_stopwords = {\"how\", \"how many\", \"what\", \"when\", \"why\", \"which\", \"where\", \"who\"}\n",
        "    # Remove stopwords, but retain essential question words\n",
        "    words = [lemmatizer.lemmatize(word) for word in words if word not in stop_words or word in essential_stopwords]\n",
        "    # Join words back into a single string\n",
        "    return ' '.join(words)\n",
        "\n",
        "\n",
        "def get_sentence_embedding(sentence, model):\n",
        "    \"\"\"\n",
        "    Calculates the sentence embedding by averaging the word embeddings of all words in the sentence.\n",
        "    If a word is not found in the model, it's embedding is considered as a zero vector.\n",
        "    \"\"\"\n",
        "    # Convert series to string\n",
        "    if isinstance(sentence, pd.Series):\n",
        "        sentence = ' '.join(sentence.astype(str).tolist())\n",
        "    words = sentence.split()\n",
        "    # Removed .wv since model is already a KeyedVectors object\n",
        "    word_vectors = [model[word] for word in words if word in model]\n",
        "\n",
        "    if len(word_vectors) == 0:\n",
        "        return np.zeros(model.vector_size)\n",
        "\n",
        "    return np.mean(word_vectors, axis=0)\n",
        "\n",
        " # Function to get embeddings for a list of choices (each choice gets its own embedding)\n",
        "def get_list_of_embeddings(choice_list, model):\n",
        "    \"\"\"\n",
        "    Generates a separate embedding for each element in a list of choices.\n",
        "    If a choice cannot be embedded, its embedding is set as a zero vector.\n",
        "    \"\"\"\n",
        "    embeddings = []\n",
        "    for choice in choice_list:\n",
        "        embedding = get_sentence_embedding(choice, model)\n",
        "        embeddings.append(embedding)\n",
        "    return embeddings\n",
        "\n",
        "\n",
        "# Modified filter_choices_by_cosine_similarity function using Word2Vec\n",
        "def filter_choices_by_word2vec_similarity(row, model):\n",
        "    \"\"\"\n",
        "    Filters multiple-choice options based on their cosine similarity with the question using Word2Vec embeddings.\n",
        "    Args:\n",
        "    - row: A DataFrame row containing a 'question' and 'multiple_choices' columns.\n",
        "    - model: Trained Word2Vec model.\n",
        "\n",
        "    Returns:\n",
        "    - A list of filtered multiple-choice options based on cosine similarity.\n",
        "    \"\"\"\n",
        "    question = row['question']\n",
        "    choices = row['multiple_choices']  # Assume 'multiple_choices' column has a list of answer options\n",
        "\n",
        "    # Step 1: Generate Word2Vec embeddings for the question\n",
        "    question_embedding = get_sentence_embedding(question, model)\n",
        "\n",
        "    # Step 2: Generate Word2Vec embeddings for each choice\n",
        "    choice_embeddings = [get_sentence_embedding(choice, model) for choice in choices]\n",
        "\n",
        "    # Step 3: Calculate cosine similarity between question embedding and each choice embedding\n",
        "    similarity_scores = cosine_similarity([question_embedding], choice_embeddings)[0]\n",
        "\n",
        "    # Step 4: Retain choices with a high similarity score (e.g., > 0.3)\n",
        "    threshold = 0.3\n",
        "    filtered_choices = [choices[i] for i, score in enumerate(similarity_scores) if score >= threshold]\n",
        "\n",
        "    # Step 5: If no choices pass the threshold, keep original choices to avoid empty options\n",
        "    return filtered_choices if filtered_choices else choices"
      ],
      "metadata": {
        "id": "XFIL7w8nz_BF"
      },
      "id": "XFIL7w8nz_BF",
      "execution_count": null,
      "outputs": []
    },
    {
      "cell_type": "markdown",
      "id": "mq3M6CaMGwRV",
      "metadata": {
        "id": "mq3M6CaMGwRV"
      },
      "source": [
        "#### Define Constants"
      ]
    },
    {
      "cell_type": "code",
      "execution_count": null,
      "id": "5ZAVikrzGvS1",
      "metadata": {
        "id": "5ZAVikrzGvS1"
      },
      "outputs": [],
      "source": [
        "### Load the pre-trained model that you wish to use to extract image features ###\n",
        "# model = ResNet50(weights='imagenet', include_top=False, pooling='avg')\n",
        "\n",
        "# wxord2vec_model = api.load('word2vec-google-news-300')\n",
        "# joblib.dump(word2vec_model, \"/content/drive/MyDrive/Colab Notebooks/894/Training/(2)_word2vec_model_for_2.2.joblib\")\n",
        "model = joblib.load(\"/content/drive/MyDrive/Colab Notebooks/894/Training/(2)_word2vec_model_for_2.2.joblib\")"
      ]
    },
    {
      "cell_type": "markdown",
      "id": "QEB6H69uLOY-",
      "metadata": {
        "id": "QEB6H69uLOY-"
      },
      "source": [
        "# Step 1: Data Collection & Feature Extraction"
      ]
    },
    {
      "cell_type": "markdown",
      "id": "cI1E0BnDG7bk",
      "metadata": {
        "id": "cI1E0BnDG7bk"
      },
      "source": [
        "#### Set Directories"
      ]
    },
    {
      "cell_type": "code",
      "source": [
        "# Define the file path (adjust it to match your folder structure)\n",
        "training_mcq_file_path = \"/content/drive/MyDrive/Colab Notebooks/894/Training/Data/MultipleChoice_abstract_v002_train2015_questions.json\"\n",
        "training_oeq_file_path = \"/content/drive/MyDrive/Colab Notebooks/894/Training/Data/OpenEnded_abstract_v002_train2015_questions.json\"\n",
        "training_answers_file_path = \"/content/drive/MyDrive/Colab Notebooks/894/Training/Data/abstract_v002_train2015_annotations.json\"\n",
        "training_images_file_path = \"/content/drive/MyDrive/Colab Notebooks/894/Training/Data/scene_img_abstract_v002_train2015\"\n",
        "\n",
        "validation_mcq_file_path = \"/content/drive/MyDrive/Colab Notebooks/894/Validation/Data/MultipleChoice_abstract_v002_val2015_questions.json\"\n",
        "validation_oeq_file_path = \"/content/drive/MyDrive/Colab Notebooks/894/Validation/Data/OpenEnded_abstract_v002_val2015_questions.json\"\n",
        "validation_answers_file_path = \"/content/drive/MyDrive/Colab Notebooks/894/Validation/Data/abstract_v002_val2015_annotations.json\"\n",
        "validation_images_file_path = \"/content/drive/MyDrive/Colab Notebooks/894/Validation/Data/scene_img_abstract_v002_val2015\"\n",
        "\n",
        "testing_mcq_file_path = \"/content/drive/MyDrive/Colab Notebooks/894/Testing/Data/MultipleChoice_abstract_v002_test2015_questions.json\"\n",
        "testing_oeq_file_path = \"/content/drive/MyDrive/Colab Notebooks/894/Testing/Data/OpenEnded_abstract_v002_test2015_questions.json\"\n",
        "testing_images_file_path = \"/content/drive/MyDrive/Colab Notebooks/894/Testing/Data/scene_img_abstract_v002_test2015\""
      ],
      "metadata": {
        "id": "qHO729Co0PsO"
      },
      "id": "qHO729Co0PsO",
      "execution_count": null,
      "outputs": []
    },
    {
      "cell_type": "markdown",
      "id": "67pkaTrTLT0r",
      "metadata": {
        "id": "67pkaTrTLT0r"
      },
      "source": [
        "### 1.1 Training Datasets"
      ]
    },
    {
      "cell_type": "markdown",
      "id": "bfT1XMxxLeLP",
      "metadata": {
        "id": "bfT1XMxxLeLP"
      },
      "source": [
        "#### 1.1.1 Extracting Questions & Answers & Features"
      ]
    },
    {
      "cell_type": "code",
      "execution_count": null,
      "id": "JoL3pix9BMQ_",
      "metadata": {
        "id": "JoL3pix9BMQ_"
      },
      "outputs": [],
      "source": [
        "train_mcq_df, train_oeq_df, train_answers_merged_df, train_final_qna_df = extract_qna_features(training_mcq_file_path, training_oeq_file_path, training_answers_file_path)\n",
        "train_final_qna_df.head(5)"
      ]
    },
    {
      "cell_type": "markdown",
      "id": "Simpozq0Tk0N",
      "metadata": {
        "id": "Simpozq0Tk0N"
      },
      "source": [
        "##### Save Workspace"
      ]
    },
    {
      "cell_type": "code",
      "execution_count": null,
      "id": "XzizcLGY5iqQ",
      "metadata": {
        "id": "XzizcLGY5iqQ"
      },
      "outputs": [],
      "source": [
        "# Save the dataframes to Google Drive\n",
        "joblib.dump(train_final_qna_df, \"/content/drive/MyDrive/Colab Notebooks/894/Training/questions_answers_features.joblib\")"
      ]
    },
    {
      "cell_type": "markdown",
      "id": "KHi7tEUojGD1",
      "metadata": {
        "id": "KHi7tEUojGD1"
      },
      "source": [
        "#### 1.1.2 Extracting Images' Features\n"
      ]
    },
    {
      "cell_type": "code",
      "execution_count": null,
      "id": "lenwrOQzm2pT",
      "metadata": {
        "id": "lenwrOQzm2pT"
      },
      "outputs": [],
      "source": [
        "train_images_features_df = extract_image_features(model, training_images_file_path)"
      ]
    },
    {
      "cell_type": "markdown",
      "id": "2E-f3B7XTvyv",
      "metadata": {
        "id": "2E-f3B7XTvyv"
      },
      "source": [
        "##### Save Workspace"
      ]
    },
    {
      "cell_type": "code",
      "execution_count": null,
      "id": "818z9tPN-6nA",
      "metadata": {
        "id": "818z9tPN-6nA"
      },
      "outputs": [],
      "source": [
        "joblib.dump(train_images_features_df, \"/content/drive/MyDrive/Colab Notebooks/894/Training/images_features.joblib\")"
      ]
    },
    {
      "cell_type": "markdown",
      "id": "dsnI40JNka76",
      "metadata": {
        "id": "dsnI40JNka76"
      },
      "source": [
        "#### 1.1.3 Complete Training Dataset"
      ]
    },
    {
      "cell_type": "markdown",
      "id": "xKKJ0zZ2T-LX",
      "metadata": {
        "id": "xKKJ0zZ2T-LX"
      },
      "source": [
        "##### Load Workspace"
      ]
    },
    {
      "cell_type": "code",
      "execution_count": null,
      "id": "hVFe_SP5UA9p",
      "metadata": {
        "id": "hVFe_SP5UA9p"
      },
      "outputs": [],
      "source": [
        "train_qna_df = joblib.load(\"/content/drive/MyDrive/Colab Notebooks/894/Training/questions_answers_features.joblib\")\n",
        "train_images_df = joblib.load(\"/content/drive/MyDrive/Colab Notebooks/894/Training/images_features.joblib\")\n",
        "train_images_df.shape"
      ]
    },
    {
      "cell_type": "code",
      "execution_count": null,
      "id": "u5uUg4B2G_Cx",
      "metadata": {
        "id": "u5uUg4B2G_Cx"
      },
      "outputs": [],
      "source": [
        "train_complete_df = complete_datasets(train_qna_df, train_images_df)\n",
        "train_complete_df.head()"
      ]
    },
    {
      "cell_type": "markdown",
      "id": "Ia-YmIhXV_NW",
      "metadata": {
        "id": "Ia-YmIhXV_NW"
      },
      "source": [
        "##### Save Workspace"
      ]
    },
    {
      "cell_type": "code",
      "execution_count": null,
      "id": "0sMp1erBWBUn",
      "metadata": {
        "id": "0sMp1erBWBUn"
      },
      "outputs": [],
      "source": [
        "joblib.dump(train_complete_df, \"/content/drive/MyDrive/Colab Notebooks/894/Training/complete_training_set_tabular.joblib\")"
      ]
    },
    {
      "cell_type": "markdown",
      "id": "YxBCXfZvEh4N",
      "metadata": {
        "id": "YxBCXfZvEh4N"
      },
      "source": [
        "### 1.2 Validation Datasets"
      ]
    },
    {
      "cell_type": "markdown",
      "id": "DEKBb460E6-a",
      "metadata": {
        "id": "DEKBb460E6-a"
      },
      "source": [
        "#### 1.2.1 Extracting Questions & Answers\n"
      ]
    },
    {
      "cell_type": "code",
      "execution_count": null,
      "id": "Ghg64p_OFGMP",
      "metadata": {
        "id": "Ghg64p_OFGMP"
      },
      "outputs": [],
      "source": [
        "valid_mcq_df, valid_oeq_df, valid_answers_merged_df, valid_final_qna_df = extract_qna_features(validation_mcq_file_path, validation_oeq_file_path, validation_answers_file_path)\n",
        "valid_final_qna_df.head()"
      ]
    },
    {
      "cell_type": "markdown",
      "id": "k0Cw6wJZFqss",
      "metadata": {
        "id": "k0Cw6wJZFqss"
      },
      "source": [
        "##### Save Workspace"
      ]
    },
    {
      "cell_type": "code",
      "execution_count": null,
      "id": "ElSsAHlrFfbH",
      "metadata": {
        "id": "ElSsAHlrFfbH"
      },
      "outputs": [],
      "source": [
        "joblib.dump(valid_final_qna_df, \"/content/drive/MyDrive/Colab Notebooks/894/Validation/questions_answers_features.joblib\")"
      ]
    },
    {
      "cell_type": "markdown",
      "id": "QM2K8_a_GXHO",
      "metadata": {
        "id": "QM2K8_a_GXHO"
      },
      "source": [
        "#### 1.2.2 Extracting Images' Features"
      ]
    },
    {
      "cell_type": "code",
      "execution_count": null,
      "id": "UGbene9WGa4a",
      "metadata": {
        "collapsed": true,
        "id": "UGbene9WGa4a"
      },
      "outputs": [],
      "source": [
        "valid_images_features_df = extract_image_features(model, validation_images_file_path)"
      ]
    },
    {
      "cell_type": "code",
      "execution_count": null,
      "id": "PUYpVssHgeHj",
      "metadata": {
        "id": "PUYpVssHgeHj"
      },
      "outputs": [],
      "source": [
        "valid_images_features_df.shape"
      ]
    },
    {
      "cell_type": "markdown",
      "id": "qxw1ofbeGcoW",
      "metadata": {
        "id": "qxw1ofbeGcoW"
      },
      "source": [
        "##### Save Workspace"
      ]
    },
    {
      "cell_type": "code",
      "execution_count": null,
      "id": "GlGFRjaBTu4G",
      "metadata": {
        "id": "GlGFRjaBTu4G"
      },
      "outputs": [],
      "source": [
        "joblib.dump(valid_images_features_df, \"/content/drive/MyDrive/Colab Notebooks/894/Validation/images_features.joblib\")"
      ]
    },
    {
      "cell_type": "markdown",
      "id": "aDBA6K7iWDwe",
      "metadata": {
        "id": "aDBA6K7iWDwe"
      },
      "source": [
        "#### 1.2.3  Complete Validation Dataset"
      ]
    },
    {
      "cell_type": "markdown",
      "id": "L4wIk9c2XcfD",
      "metadata": {
        "id": "L4wIk9c2XcfD"
      },
      "source": [
        "##### Load Workspace"
      ]
    },
    {
      "cell_type": "code",
      "execution_count": null,
      "id": "JKOlMEwlXHXr",
      "metadata": {
        "id": "JKOlMEwlXHXr"
      },
      "outputs": [],
      "source": [
        "valid_qna_df = joblib.load(\"/content/drive/MyDrive/Colab Notebooks/894/Validation/questions_answers_features.joblib\")\n",
        "valid_images_df = joblib.load(\"/content/drive/MyDrive/Colab Notebooks/894/Validation/images_features.joblib\")\n",
        "valid_images_df.shape"
      ]
    },
    {
      "cell_type": "code",
      "execution_count": null,
      "id": "U0NLRsUZXVPW",
      "metadata": {
        "id": "U0NLRsUZXVPW"
      },
      "outputs": [],
      "source": [
        "valid_complete_df = complete_datasets(valid_qna_df, valid_images_df)\n",
        "valid_complete_df.head()"
      ]
    },
    {
      "cell_type": "markdown",
      "id": "ydFJ9dP6Xao1",
      "metadata": {
        "id": "ydFJ9dP6Xao1"
      },
      "source": [
        "##### Save Workspace"
      ]
    },
    {
      "cell_type": "code",
      "execution_count": null,
      "id": "_240VErpXgEV",
      "metadata": {
        "id": "_240VErpXgEV"
      },
      "outputs": [],
      "source": [
        "joblib.dump(valid_complete_df, \"/content/drive/MyDrive/Colab Notebooks/894/Validation/complete_validation_set_tabular.joblib\")"
      ]
    },
    {
      "cell_type": "markdown",
      "id": "k3pAq_F9EzT9",
      "metadata": {
        "id": "k3pAq_F9EzT9"
      },
      "source": [
        "### 1.3 Testing Datasets"
      ]
    },
    {
      "cell_type": "markdown",
      "id": "tPwLG3LRYy0a",
      "metadata": {
        "id": "tPwLG3LRYy0a"
      },
      "source": [
        "#### 1.3.1 Extracting Questions & Answers"
      ]
    },
    {
      "cell_type": "code",
      "execution_count": null,
      "id": "ESNH3E6hYwy8",
      "metadata": {
        "id": "ESNH3E6hYwy8"
      },
      "outputs": [],
      "source": [
        "test_mcq_df, test_oeq_df, test_answers_df = json_to_pdDf(testing_mcq_file_path, testing_oeq_file_path, None)\n",
        "test_final_qna_df = pd.merge(test_mcq_df, test_oeq_df, on=['image_id', 'question_id'], how='left', suffixes=('_oeq', '_mcq'))\n",
        "test_final_qna_df.head()"
      ]
    },
    {
      "cell_type": "markdown",
      "id": "v3zIV0-RcUlB",
      "metadata": {
        "id": "v3zIV0-RcUlB"
      },
      "source": [
        "##### Save Workspace"
      ]
    },
    {
      "cell_type": "code",
      "execution_count": null,
      "id": "EQiJGqmVcW2Y",
      "metadata": {
        "id": "EQiJGqmVcW2Y"
      },
      "outputs": [],
      "source": [
        "joblib.dump(test_final_qna_df, \"/content/drive/MyDrive/Colab Notebooks/894/Testing/questions_answers_features.joblib\")"
      ]
    },
    {
      "cell_type": "markdown",
      "id": "H_DhTgJMY8ar",
      "metadata": {
        "id": "H_DhTgJMY8ar"
      },
      "source": [
        "#### 1.3.2 Extracting Images' Features"
      ]
    },
    {
      "cell_type": "code",
      "execution_count": null,
      "id": "2_uq7USmZEfL",
      "metadata": {
        "id": "2_uq7USmZEfL"
      },
      "outputs": [],
      "source": [
        "test_images_features_df = extract_image_features(model, testing_images_file_path)"
      ]
    },
    {
      "cell_type": "markdown",
      "id": "3Z5IsgPVfUa4",
      "metadata": {
        "id": "3Z5IsgPVfUa4"
      },
      "source": [
        "##### Save Workspace"
      ]
    },
    {
      "cell_type": "code",
      "execution_count": null,
      "id": "WSyv3NqtfWcr",
      "metadata": {
        "id": "WSyv3NqtfWcr"
      },
      "outputs": [],
      "source": [
        "joblib.dump(test_images_features_df, \"/content/drive/MyDrive/Colab Notebooks/894/Testing/images_features.joblib\")"
      ]
    },
    {
      "cell_type": "markdown",
      "id": "Gfe5otnzZART",
      "metadata": {
        "id": "Gfe5otnzZART"
      },
      "source": [
        "#### 1.3.3 Complete Testing Dataset"
      ]
    },
    {
      "cell_type": "markdown",
      "id": "YBj_hjOyfXXD",
      "metadata": {
        "id": "YBj_hjOyfXXD"
      },
      "source": [
        "##### Load Workspace"
      ]
    },
    {
      "cell_type": "code",
      "execution_count": null,
      "id": "DNMtyLiHZaC1",
      "metadata": {
        "id": "DNMtyLiHZaC1"
      },
      "outputs": [],
      "source": [
        "test_qna_df = joblib.load(\"/content/drive/MyDrive/Colab Notebooks/894/Testing/questions_answers_features.joblib\")\n",
        "test_images_df = joblib.load(\"/content/drive/MyDrive/Colab Notebooks/894/Testing/images_features.joblib\")\n",
        "test_images_df.shape"
      ]
    },
    {
      "cell_type": "code",
      "execution_count": null,
      "id": "2zXHef6If8Mz",
      "metadata": {
        "id": "2zXHef6If8Mz"
      },
      "outputs": [],
      "source": [
        "test_complete_df = complete_datasets(valid_qna_df, valid_images_df)\n",
        "test_complete_df.head()"
      ]
    },
    {
      "cell_type": "markdown",
      "id": "zK9QNC3ogAwI",
      "metadata": {
        "id": "zK9QNC3ogAwI"
      },
      "source": [
        "##### Save Workspace"
      ]
    },
    {
      "cell_type": "code",
      "execution_count": null,
      "id": "OBQM--QpgDgH",
      "metadata": {
        "id": "OBQM--QpgDgH"
      },
      "outputs": [],
      "source": [
        "joblib.dump(test_complete_df, \"/content/drive/MyDrive/Colab Notebooks/894/Testing/complete_testing_set_tabular.joblib\")"
      ]
    },
    {
      "cell_type": "markdown",
      "id": "HBKIzj7jYrot",
      "metadata": {
        "id": "HBKIzj7jYrot"
      },
      "source": [
        "\n",
        "\n",
        "\n",
        "\n",
        "\n",
        "\n",
        "\n",
        "\n",
        "<space>"
      ]
    },
    {
      "cell_type": "markdown",
      "id": "CG6_RRVrj904",
      "metadata": {
        "id": "CG6_RRVrj904"
      },
      "source": [
        "# Step 2: Exploratory Data Analysis & Feature Engineering"
      ]
    },
    {
      "cell_type": "markdown",
      "id": "nefD4PWaIkui",
      "metadata": {
        "id": "nefD4PWaIkui"
      },
      "source": [
        "##### Load Workspace"
      ]
    },
    {
      "cell_type": "code",
      "execution_count": null,
      "id": "T7gJA_VDIm9i",
      "metadata": {
        "id": "T7gJA_VDIm9i"
      },
      "outputs": [],
      "source": [
        "df_train = joblib.load(\"/content/drive/MyDrive/Colab Notebooks/894/Training/complete_training_set_tabular.joblib\")\n",
        "df_valid = joblib.load(\"/content/drive/MyDrive/Colab Notebooks/894/Validation/complete_validation_set_tabular.joblib\")\n",
        "df_train.head()"
      ]
    },
    {
      "cell_type": "markdown",
      "id": "dsDEVKcPkyg5",
      "metadata": {
        "id": "dsDEVKcPkyg5"
      },
      "source": [
        "### 2.1 Visualization & Insights"
      ]
    },
    {
      "cell_type": "markdown",
      "source": [
        "##### Keeping only one question column since question_oeq = question_mcq"
      ],
      "metadata": {
        "id": "FvPMWSkMx72Y"
      },
      "id": "FvPMWSkMx72Y"
    },
    {
      "cell_type": "code",
      "execution_count": null,
      "id": "dEE7vmVVJ_6B",
      "metadata": {
        "id": "dEE7vmVVJ_6B"
      },
      "outputs": [],
      "source": [
        "# Check if two specific columns are identical in the DataFrame\n",
        "are_questions_columns_equal = df_train['question_oeq'].equals(df_train['question_mcq'])  # Replace 'question_x' and 'question_y' with your actual column names\n",
        "\n",
        "# Print the result\n",
        "print(\"Are 'question_oeq' and 'question_mcq' identical? : \", \"Yes\" if are_questions_columns_equal else \"No\")"
      ]
    },
    {
      "cell_type": "code",
      "execution_count": null,
      "id": "hNT6oLU3Kk3Y",
      "metadata": {
        "id": "hNT6oLU3Kk3Y"
      },
      "outputs": [],
      "source": [
        "df_train['question'] = df_train['question_oeq']\n",
        "df_valid['question'] = df_valid['question_oeq']\n",
        "\n",
        "df_train = df_train.drop(columns=['question_oeq', 'question_mcq'])\n",
        "df_valid = df_valid.drop(columns=['question_oeq', 'question_mcq'])"
      ]
    },
    {
      "cell_type": "markdown",
      "source": [
        "##### Questions' Length Visualization"
      ],
      "metadata": {
        "id": "4OxsO-E2MxP4"
      },
      "id": "4OxsO-E2MxP4"
    },
    {
      "cell_type": "code",
      "execution_count": null,
      "id": "3uWScLKbC_Fk",
      "metadata": {
        "id": "3uWScLKbC_Fk"
      },
      "outputs": [],
      "source": [
        "# Analyze Question Length\n",
        "df_train['question_length'] = df_train['question'].apply(lambda x: len(x.split()))\n",
        "df_valid['question_length'] = df_valid['question'].apply(lambda x: len(x.split()))\n",
        "plt.figure(figsize=(10, 6))\n",
        "sns.histplot(df_train['question_length'], kde=True, color='skyblue')\n",
        "plt.title('Distribution of Question Length')\n",
        "plt.xlabel('Number of Words in Question')\n",
        "plt.ylabel('Frequency')\n",
        "plt.show()"
      ]
    },
    {
      "cell_type": "markdown",
      "source": [
        "##### Questions' Common Words"
      ],
      "metadata": {
        "id": "H7_kS4wZM1Ah"
      },
      "id": "H7_kS4wZM1Ah"
    },
    {
      "cell_type": "code",
      "source": [
        "# # Most common words in question\n",
        "# question_text = df_train['question']\n",
        "# question_words = question_text.split()\n",
        "# word_counts = Counter(question_words)\n",
        "# common_words = word_counts.most_common(20)\n",
        "# print(\"\\nMost Common Words in Questions:\")\n",
        "# for word, count in common_words:\n",
        "#     print(f\"{word}: {count}\")"
      ],
      "metadata": {
        "id": "ro4tAVh74hfL"
      },
      "id": "ro4tAVh74hfL",
      "execution_count": null,
      "outputs": []
    },
    {
      "cell_type": "markdown",
      "metadata": {
        "id": "gkfz_boHNJV_"
      },
      "source": [
        "##### Save Workspace"
      ],
      "id": "gkfz_boHNJV_"
    },
    {
      "cell_type": "code",
      "source": [
        "joblib.dump(df_train, \"/content/drive/MyDrive/Colab Notebooks/894/Training/(1)_dfTrain_unique_2.1.joblib\")\n",
        "joblib.dump(df_valid, \"/content/drive/MyDrive/Colab Notebooks/894/Validation/(1)_dfValid_unique_2.1.joblib\")"
      ],
      "metadata": {
        "id": "Ii4-REw1NJV_"
      },
      "execution_count": null,
      "outputs": [],
      "id": "Ii4-REw1NJV_"
    },
    {
      "cell_type": "markdown",
      "id": "4Jut1ObrELOa",
      "metadata": {
        "id": "4Jut1ObrELOa"
      },
      "source": [
        "### 2.2 Feature Engineering & Embeddings/Encodings"
      ]
    },
    {
      "cell_type": "markdown",
      "id": "_MYovSLPCwVm",
      "metadata": {
        "id": "_MYovSLPCwVm"
      },
      "source": [
        "##### Load Workspace"
      ]
    },
    {
      "cell_type": "code",
      "execution_count": null,
      "id": "JskWxMsICoU7",
      "metadata": {
        "id": "JskWxMsICoU7"
      },
      "outputs": [],
      "source": [
        "df_train = joblib.load(\"/content/drive/MyDrive/Colab Notebooks/894/Training/(1)_dfTrain_unique_2.1.joblib\")\n",
        "df_valid = joblib.load(\"/content/drive/MyDrive/Colab Notebooks/894/Validation/(1)_dfValid_unique_2.1.joblib\")\n",
        "df_train.head()"
      ]
    },
    {
      "cell_type": "markdown",
      "source": [
        "##### 2.2.1 Questions Text's Features' Engineering"
      ],
      "metadata": {
        "id": "soAmykJVxvyS"
      },
      "id": "soAmykJVxvyS"
    },
    {
      "cell_type": "code",
      "source": [
        "df_train['question_clean'] = df_train['question'].apply(preprocess_text)\n",
        "df_valid['question_clean'] = df_valid['question'].apply(preprocess_text)\n",
        "df_train[['question', 'question_clean']]"
      ],
      "metadata": {
        "id": "JKZ104S0s_s1"
      },
      "id": "JKZ104S0s_s1",
      "execution_count": null,
      "outputs": []
    },
    {
      "cell_type": "code",
      "source": [
        "# Apply the get_sentence_embedding function to each row of the 'question_clean' column\n",
        "df_train['question_embedding'] = df_train['question_clean'].apply(lambda x: get_sentence_embedding(x, model))\n",
        "df_valid['question_embedding'] = df_valid['question_clean'].apply(lambda x: get_sentence_embedding(x, model))\n",
        "df_train.head()"
      ],
      "metadata": {
        "id": "ZymhU96Yv8q_"
      },
      "id": "ZymhU96Yv8q_",
      "execution_count": null,
      "outputs": []
    },
    {
      "cell_type": "markdown",
      "source": [
        "##### 2.2.2 Answers Text's Features' Engineering"
      ],
      "metadata": {
        "id": "pQBL1mcg_hNq"
      },
      "id": "pQBL1mcg_hNq"
    },
    {
      "cell_type": "code",
      "source": [
        "df_train['answer_clean'] = df_train['answer'].apply(preprocess_text)\n",
        "df_valid['answer_clean'] = df_valid['answer'].apply(preprocess_text)\n",
        "df_train[['answer', 'answer_clean']]"
      ],
      "metadata": {
        "id": "OEbf9IT1_vEE"
      },
      "id": "OEbf9IT1_vEE",
      "execution_count": null,
      "outputs": []
    },
    {
      "cell_type": "code",
      "source": [
        "# Apply the get_sentence_embedding function to each row of the 'question_clean' column\n",
        "df_train['answer_embedding'] = df_train['answer_clean'].apply(lambda x: get_sentence_embedding(x, model))\n",
        "df_valid['answer_embedding'] = df_valid['answer_clean'].apply(lambda x: get_sentence_embedding(x, model))\n",
        "df_train.head()"
      ],
      "metadata": {
        "id": "UNNUDClP2ELE"
      },
      "id": "UNNUDClP2ELE",
      "execution_count": null,
      "outputs": []
    },
    {
      "cell_type": "markdown",
      "source": [
        "##### 2.2.3 Multiple Choices List's Features' Engineering"
      ],
      "metadata": {
        "id": "B44W2H3j6yh1"
      },
      "id": "B44W2H3j6yh1"
    },
    {
      "cell_type": "code",
      "source": [
        "df_train['filtered_multiple_choices'] = df_train.apply(lambda row: filter_choices_by_word2vec_similarity(row, model), axis=1)\n",
        "df_valid['filtered_multiple_choices'] = df_valid.apply(lambda row: filter_choices_by_word2vec_similarity(row, model), axis=1)\n",
        "df_train[['multiple_choices', 'filtered_multiple_choices']]"
      ],
      "metadata": {
        "id": "X6Wauxh24gWV"
      },
      "id": "X6Wauxh24gWV",
      "execution_count": null,
      "outputs": []
    },
    {
      "cell_type": "code",
      "source": [
        "df_train['filtered_multiple_choices_embedding'] = df_train['filtered_multiple_choices'].apply(lambda x: get_list_of_embeddings(x, model))\n",
        "df_valid['filtered_multiple_choices_embedding'] = df_valid['filtered_multiple_choices'].apply(lambda x: get_list_of_embeddings(x, model))"
      ],
      "metadata": {
        "id": "7SRwy2OHzQ2y"
      },
      "id": "7SRwy2OHzQ2y",
      "execution_count": null,
      "outputs": []
    },
    {
      "cell_type": "markdown",
      "source": [
        "##### 2.2.4 Encoding Selected Categorical Features"
      ],
      "metadata": {
        "id": "GJC-3fD_xZhs"
      },
      "id": "GJC-3fD_xZhs"
    },
    {
      "cell_type": "code",
      "source": [
        "# Initialize the LabelEncoder\n",
        "label_encoder_answer_type = LabelEncoder()\n",
        "label_encoder_confidence = LabelEncoder()\n",
        "\n",
        "# Encode answer_type and answer_confidence separately\n",
        "df_train['answer_type_encoded'] = label_encoder_answer_type.fit_transform(df_train['answer_type'])\n",
        "df_valid['answer_type_encoded'] = label_encoder_answer_type.transform(df_valid['answer_type'])\n",
        "\n",
        "df_train['answer_confidence_encoded'] = label_encoder_confidence.fit_transform(df_train['answer_confidence'])\n",
        "df_valid['answer_confidence_encoded'] = label_encoder_confidence.transform(df_valid['answer_confidence'])\n",
        "\n",
        "df_train"
      ],
      "metadata": {
        "colab": {
          "base_uri": "https://localhost:8080/",
          "height": 999
        },
        "id": "bS1HgRqDvV2t",
        "outputId": "11880c87-78a6-48ae-9bea-39d637968a21"
      },
      "id": "bS1HgRqDvV2t",
      "execution_count": null,
      "outputs": [
        {
          "output_type": "execute_result",
          "data": {
            "text/plain": [
              "        image_id         0         1         2         3         4         5  \\\n",
              "0              0  0.037811  1.084643  0.125582  2.314969  0.325828  0.302625   \n",
              "1              0  0.037811  1.084643  0.125582  2.314969  0.325828  0.302625   \n",
              "2              0  0.037811  1.084643  0.125582  2.314969  0.325828  0.302625   \n",
              "3              0  0.037811  1.084643  0.125582  2.314969  0.325828  0.302625   \n",
              "4              0  0.037811  1.084643  0.125582  2.314969  0.325828  0.302625   \n",
              "...          ...       ...       ...       ...       ...       ...       ...   \n",
              "599995     19999  0.250376  0.701786  0.103086  1.116810  0.153240  2.554333   \n",
              "599996     19999  0.250376  0.701786  0.103086  1.116810  0.153240  2.554333   \n",
              "599997     19999  0.250376  0.701786  0.103086  1.116810  0.153240  2.554333   \n",
              "599998     19999  0.250376  0.701786  0.103086  1.116810  0.153240  2.554333   \n",
              "599999     19999  0.250376  0.701786  0.103086  1.116810  0.153240  2.554333   \n",
              "\n",
              "               6         7         8  ...  \\\n",
              "0       0.976951  0.753177  0.227697  ...   \n",
              "1       0.976951  0.753177  0.227697  ...   \n",
              "2       0.976951  0.753177  0.227697  ...   \n",
              "3       0.976951  0.753177  0.227697  ...   \n",
              "4       0.976951  0.753177  0.227697  ...   \n",
              "...          ...       ...       ...  ...   \n",
              "599995  0.001655  0.229450  3.276525  ...   \n",
              "599996  0.001655  0.229450  3.276525  ...   \n",
              "599997  0.001655  0.229450  3.276525  ...   \n",
              "599998  0.001655  0.229450  3.276525  ...   \n",
              "599999  0.001655  0.229450  3.276525  ...   \n",
              "\n",
              "                                           question  question_length  \\\n",
              "0                   What color is the ladies pants?                6   \n",
              "1                   What color is the ladies pants?                6   \n",
              "2                   What color is the ladies pants?                6   \n",
              "3                   What color is the ladies pants?                6   \n",
              "4           How is the equipments with bars called?                7   \n",
              "...                                             ...              ...   \n",
              "599995                               Is there a TV?                4   \n",
              "599996                               Is there a TV?                4   \n",
              "599997                               Is there a TV?                4   \n",
              "599998  Why does the boy have his hand on his head?               10   \n",
              "599999  Why does the boy have his hand on his head?               10   \n",
              "\n",
              "                   question_clean  \\\n",
              "0          what color lady pants?   \n",
              "1          what color lady pants?   \n",
              "2          what color lady pants?   \n",
              "3          what color lady pants?   \n",
              "4       how equipment bar called?   \n",
              "...                           ...   \n",
              "599995                        tv?   \n",
              "599996                        tv?   \n",
              "599997                        tv?   \n",
              "599998         why boy hand head?   \n",
              "599999         why boy hand head?   \n",
              "\n",
              "                                       question_embedding  answer_clean  \\\n",
              "0       [0.065460205, 0.088765465, 0.0744222, 0.099446...         brown   \n",
              "1       [0.065460205, 0.088765465, 0.0744222, 0.099446...         beige   \n",
              "2       [0.065460205, 0.088765465, 0.0744222, 0.099446...           tan   \n",
              "3       [0.065460205, 0.088765465, 0.0744222, 0.099446...         brown   \n",
              "4       [-0.017578125, 0.0061683655, 0.07950846, 0.121...    monkey bar   \n",
              "...                                                   ...           ...   \n",
              "599995  [0.0, 0.0, 0.0, 0.0, 0.0, 0.0, 0.0, 0.0, 0.0, ...           yes   \n",
              "599996  [0.0, 0.0, 0.0, 0.0, 0.0, 0.0, 0.0, 0.0, 0.0, ...           yes   \n",
              "599997  [0.0, 0.0, 0.0, 0.0, 0.0, 0.0, 0.0, 0.0, 0.0, ...           yes   \n",
              "599998  [0.15999348, 0.043701172, 0.05908203, -0.01680...      studying   \n",
              "599999  [0.15999348, 0.043701172, 0.05908203, -0.01680...         tired   \n",
              "\n",
              "                                         answer_embedding  \\\n",
              "0       [0.007873535, 0.12890625, 0.02734375, 0.152343...   \n",
              "1       [0.19140625, 0.05126953, -0.055419922, 0.06591...   \n",
              "2       [0.059326172, 0.18457031, -0.029785156, 0.0336...   \n",
              "3       [0.007873535, 0.12890625, 0.02734375, 0.152343...   \n",
              "4       [-0.07119751, -0.01184082, -0.099731445, 0.209...   \n",
              "...                                                   ...   \n",
              "599995  [0.115722656, -0.12988281, 0.06591797, 0.17578...   \n",
              "599996  [0.115722656, -0.12988281, 0.06591797, 0.17578...   \n",
              "599997  [0.115722656, -0.12988281, 0.06591797, 0.17578...   \n",
              "599998  [-0.056152344, 0.171875, 0.09375, 0.068847656,...   \n",
              "599999  [0.22460938, 0.21777344, -0.07324219, 0.125976...   \n",
              "\n",
              "                                filtered_multiple_choices  \\\n",
              "0       [brown, not having tv, yellow, yes, black, it ...   \n",
              "1       [brown, not having tv, yellow, yes, black, it ...   \n",
              "2       [brown, not having tv, yellow, yes, black, it ...   \n",
              "3       [brown, not having tv, yellow, yes, black, it ...   \n",
              "4                                      [yes, monkey bars]   \n",
              "...                                                   ...   \n",
              "599995                         [playing with it, yes, no]   \n",
              "599996                         [playing with it, yes, no]   \n",
              "599997                         [playing with it, yes, no]   \n",
              "599998                  [one for each, yes, no, eats lot]   \n",
              "599999                  [one for each, yes, no, eats lot]   \n",
              "\n",
              "                      filtered_multiple_choices_embedding  \\\n",
              "0       [[0.007873535, 0.12890625, 0.02734375, 0.15234...   \n",
              "1       [[0.007873535, 0.12890625, 0.02734375, 0.15234...   \n",
              "2       [[0.007873535, 0.12890625, 0.02734375, 0.15234...   \n",
              "3       [[0.007873535, 0.12890625, 0.02734375, 0.15234...   \n",
              "4       [[0.115722656, -0.12988281, 0.06591797, 0.1757...   \n",
              "...                                                   ...   \n",
              "599995  [[0.0641276, 0.10290972, 0.036865234, 0.109863...   \n",
              "599996  [[0.0641276, 0.10290972, 0.036865234, 0.109863...   \n",
              "599997  [[0.0641276, 0.10290972, 0.036865234, 0.109863...   \n",
              "599998  [[0.023579916, -0.1336263, 0.08300781, 0.14876...   \n",
              "599999  [[0.023579916, -0.1336263, 0.08300781, 0.14876...   \n",
              "\n",
              "        answer_type_encoded  answer_confidence_encoded  \n",
              "0                         1                          2  \n",
              "1                         1                          2  \n",
              "2                         1                          2  \n",
              "3                         1                          2  \n",
              "4                         1                          2  \n",
              "...                     ...                        ...  \n",
              "599995                    2                          2  \n",
              "599996                    2                          2  \n",
              "599997                    2                          2  \n",
              "599998                    1                          2  \n",
              "599999                    1                          2  \n",
              "\n",
              "[600000 rows x 2068 columns]"
            ],
            "text/html": [
              "\n",
              "  <div id=\"df-d168bde5-52e3-49c4-925e-6d33ae682041\" class=\"colab-df-container\">\n",
              "    <div>\n",
              "<style scoped>\n",
              "    .dataframe tbody tr th:only-of-type {\n",
              "        vertical-align: middle;\n",
              "    }\n",
              "\n",
              "    .dataframe tbody tr th {\n",
              "        vertical-align: top;\n",
              "    }\n",
              "\n",
              "    .dataframe thead th {\n",
              "        text-align: right;\n",
              "    }\n",
              "</style>\n",
              "<table border=\"1\" class=\"dataframe\">\n",
              "  <thead>\n",
              "    <tr style=\"text-align: right;\">\n",
              "      <th></th>\n",
              "      <th>image_id</th>\n",
              "      <th>0</th>\n",
              "      <th>1</th>\n",
              "      <th>2</th>\n",
              "      <th>3</th>\n",
              "      <th>4</th>\n",
              "      <th>5</th>\n",
              "      <th>6</th>\n",
              "      <th>7</th>\n",
              "      <th>8</th>\n",
              "      <th>...</th>\n",
              "      <th>question</th>\n",
              "      <th>question_length</th>\n",
              "      <th>question_clean</th>\n",
              "      <th>question_embedding</th>\n",
              "      <th>answer_clean</th>\n",
              "      <th>answer_embedding</th>\n",
              "      <th>filtered_multiple_choices</th>\n",
              "      <th>filtered_multiple_choices_embedding</th>\n",
              "      <th>answer_type_encoded</th>\n",
              "      <th>answer_confidence_encoded</th>\n",
              "    </tr>\n",
              "  </thead>\n",
              "  <tbody>\n",
              "    <tr>\n",
              "      <th>0</th>\n",
              "      <td>0</td>\n",
              "      <td>0.037811</td>\n",
              "      <td>1.084643</td>\n",
              "      <td>0.125582</td>\n",
              "      <td>2.314969</td>\n",
              "      <td>0.325828</td>\n",
              "      <td>0.302625</td>\n",
              "      <td>0.976951</td>\n",
              "      <td>0.753177</td>\n",
              "      <td>0.227697</td>\n",
              "      <td>...</td>\n",
              "      <td>What color is the ladies pants?</td>\n",
              "      <td>6</td>\n",
              "      <td>what color lady pants?</td>\n",
              "      <td>[0.065460205, 0.088765465, 0.0744222, 0.099446...</td>\n",
              "      <td>brown</td>\n",
              "      <td>[0.007873535, 0.12890625, 0.02734375, 0.152343...</td>\n",
              "      <td>[brown, not having tv, yellow, yes, black, it ...</td>\n",
              "      <td>[[0.007873535, 0.12890625, 0.02734375, 0.15234...</td>\n",
              "      <td>1</td>\n",
              "      <td>2</td>\n",
              "    </tr>\n",
              "    <tr>\n",
              "      <th>1</th>\n",
              "      <td>0</td>\n",
              "      <td>0.037811</td>\n",
              "      <td>1.084643</td>\n",
              "      <td>0.125582</td>\n",
              "      <td>2.314969</td>\n",
              "      <td>0.325828</td>\n",
              "      <td>0.302625</td>\n",
              "      <td>0.976951</td>\n",
              "      <td>0.753177</td>\n",
              "      <td>0.227697</td>\n",
              "      <td>...</td>\n",
              "      <td>What color is the ladies pants?</td>\n",
              "      <td>6</td>\n",
              "      <td>what color lady pants?</td>\n",
              "      <td>[0.065460205, 0.088765465, 0.0744222, 0.099446...</td>\n",
              "      <td>beige</td>\n",
              "      <td>[0.19140625, 0.05126953, -0.055419922, 0.06591...</td>\n",
              "      <td>[brown, not having tv, yellow, yes, black, it ...</td>\n",
              "      <td>[[0.007873535, 0.12890625, 0.02734375, 0.15234...</td>\n",
              "      <td>1</td>\n",
              "      <td>2</td>\n",
              "    </tr>\n",
              "    <tr>\n",
              "      <th>2</th>\n",
              "      <td>0</td>\n",
              "      <td>0.037811</td>\n",
              "      <td>1.084643</td>\n",
              "      <td>0.125582</td>\n",
              "      <td>2.314969</td>\n",
              "      <td>0.325828</td>\n",
              "      <td>0.302625</td>\n",
              "      <td>0.976951</td>\n",
              "      <td>0.753177</td>\n",
              "      <td>0.227697</td>\n",
              "      <td>...</td>\n",
              "      <td>What color is the ladies pants?</td>\n",
              "      <td>6</td>\n",
              "      <td>what color lady pants?</td>\n",
              "      <td>[0.065460205, 0.088765465, 0.0744222, 0.099446...</td>\n",
              "      <td>tan</td>\n",
              "      <td>[0.059326172, 0.18457031, -0.029785156, 0.0336...</td>\n",
              "      <td>[brown, not having tv, yellow, yes, black, it ...</td>\n",
              "      <td>[[0.007873535, 0.12890625, 0.02734375, 0.15234...</td>\n",
              "      <td>1</td>\n",
              "      <td>2</td>\n",
              "    </tr>\n",
              "    <tr>\n",
              "      <th>3</th>\n",
              "      <td>0</td>\n",
              "      <td>0.037811</td>\n",
              "      <td>1.084643</td>\n",
              "      <td>0.125582</td>\n",
              "      <td>2.314969</td>\n",
              "      <td>0.325828</td>\n",
              "      <td>0.302625</td>\n",
              "      <td>0.976951</td>\n",
              "      <td>0.753177</td>\n",
              "      <td>0.227697</td>\n",
              "      <td>...</td>\n",
              "      <td>What color is the ladies pants?</td>\n",
              "      <td>6</td>\n",
              "      <td>what color lady pants?</td>\n",
              "      <td>[0.065460205, 0.088765465, 0.0744222, 0.099446...</td>\n",
              "      <td>brown</td>\n",
              "      <td>[0.007873535, 0.12890625, 0.02734375, 0.152343...</td>\n",
              "      <td>[brown, not having tv, yellow, yes, black, it ...</td>\n",
              "      <td>[[0.007873535, 0.12890625, 0.02734375, 0.15234...</td>\n",
              "      <td>1</td>\n",
              "      <td>2</td>\n",
              "    </tr>\n",
              "    <tr>\n",
              "      <th>4</th>\n",
              "      <td>0</td>\n",
              "      <td>0.037811</td>\n",
              "      <td>1.084643</td>\n",
              "      <td>0.125582</td>\n",
              "      <td>2.314969</td>\n",
              "      <td>0.325828</td>\n",
              "      <td>0.302625</td>\n",
              "      <td>0.976951</td>\n",
              "      <td>0.753177</td>\n",
              "      <td>0.227697</td>\n",
              "      <td>...</td>\n",
              "      <td>How is the equipments with bars called?</td>\n",
              "      <td>7</td>\n",
              "      <td>how equipment bar called?</td>\n",
              "      <td>[-0.017578125, 0.0061683655, 0.07950846, 0.121...</td>\n",
              "      <td>monkey bar</td>\n",
              "      <td>[-0.07119751, -0.01184082, -0.099731445, 0.209...</td>\n",
              "      <td>[yes, monkey bars]</td>\n",
              "      <td>[[0.115722656, -0.12988281, 0.06591797, 0.1757...</td>\n",
              "      <td>1</td>\n",
              "      <td>2</td>\n",
              "    </tr>\n",
              "    <tr>\n",
              "      <th>...</th>\n",
              "      <td>...</td>\n",
              "      <td>...</td>\n",
              "      <td>...</td>\n",
              "      <td>...</td>\n",
              "      <td>...</td>\n",
              "      <td>...</td>\n",
              "      <td>...</td>\n",
              "      <td>...</td>\n",
              "      <td>...</td>\n",
              "      <td>...</td>\n",
              "      <td>...</td>\n",
              "      <td>...</td>\n",
              "      <td>...</td>\n",
              "      <td>...</td>\n",
              "      <td>...</td>\n",
              "      <td>...</td>\n",
              "      <td>...</td>\n",
              "      <td>...</td>\n",
              "      <td>...</td>\n",
              "      <td>...</td>\n",
              "      <td>...</td>\n",
              "    </tr>\n",
              "    <tr>\n",
              "      <th>599995</th>\n",
              "      <td>19999</td>\n",
              "      <td>0.250376</td>\n",
              "      <td>0.701786</td>\n",
              "      <td>0.103086</td>\n",
              "      <td>1.116810</td>\n",
              "      <td>0.153240</td>\n",
              "      <td>2.554333</td>\n",
              "      <td>0.001655</td>\n",
              "      <td>0.229450</td>\n",
              "      <td>3.276525</td>\n",
              "      <td>...</td>\n",
              "      <td>Is there a TV?</td>\n",
              "      <td>4</td>\n",
              "      <td>tv?</td>\n",
              "      <td>[0.0, 0.0, 0.0, 0.0, 0.0, 0.0, 0.0, 0.0, 0.0, ...</td>\n",
              "      <td>yes</td>\n",
              "      <td>[0.115722656, -0.12988281, 0.06591797, 0.17578...</td>\n",
              "      <td>[playing with it, yes, no]</td>\n",
              "      <td>[[0.0641276, 0.10290972, 0.036865234, 0.109863...</td>\n",
              "      <td>2</td>\n",
              "      <td>2</td>\n",
              "    </tr>\n",
              "    <tr>\n",
              "      <th>599996</th>\n",
              "      <td>19999</td>\n",
              "      <td>0.250376</td>\n",
              "      <td>0.701786</td>\n",
              "      <td>0.103086</td>\n",
              "      <td>1.116810</td>\n",
              "      <td>0.153240</td>\n",
              "      <td>2.554333</td>\n",
              "      <td>0.001655</td>\n",
              "      <td>0.229450</td>\n",
              "      <td>3.276525</td>\n",
              "      <td>...</td>\n",
              "      <td>Is there a TV?</td>\n",
              "      <td>4</td>\n",
              "      <td>tv?</td>\n",
              "      <td>[0.0, 0.0, 0.0, 0.0, 0.0, 0.0, 0.0, 0.0, 0.0, ...</td>\n",
              "      <td>yes</td>\n",
              "      <td>[0.115722656, -0.12988281, 0.06591797, 0.17578...</td>\n",
              "      <td>[playing with it, yes, no]</td>\n",
              "      <td>[[0.0641276, 0.10290972, 0.036865234, 0.109863...</td>\n",
              "      <td>2</td>\n",
              "      <td>2</td>\n",
              "    </tr>\n",
              "    <tr>\n",
              "      <th>599997</th>\n",
              "      <td>19999</td>\n",
              "      <td>0.250376</td>\n",
              "      <td>0.701786</td>\n",
              "      <td>0.103086</td>\n",
              "      <td>1.116810</td>\n",
              "      <td>0.153240</td>\n",
              "      <td>2.554333</td>\n",
              "      <td>0.001655</td>\n",
              "      <td>0.229450</td>\n",
              "      <td>3.276525</td>\n",
              "      <td>...</td>\n",
              "      <td>Is there a TV?</td>\n",
              "      <td>4</td>\n",
              "      <td>tv?</td>\n",
              "      <td>[0.0, 0.0, 0.0, 0.0, 0.0, 0.0, 0.0, 0.0, 0.0, ...</td>\n",
              "      <td>yes</td>\n",
              "      <td>[0.115722656, -0.12988281, 0.06591797, 0.17578...</td>\n",
              "      <td>[playing with it, yes, no]</td>\n",
              "      <td>[[0.0641276, 0.10290972, 0.036865234, 0.109863...</td>\n",
              "      <td>2</td>\n",
              "      <td>2</td>\n",
              "    </tr>\n",
              "    <tr>\n",
              "      <th>599998</th>\n",
              "      <td>19999</td>\n",
              "      <td>0.250376</td>\n",
              "      <td>0.701786</td>\n",
              "      <td>0.103086</td>\n",
              "      <td>1.116810</td>\n",
              "      <td>0.153240</td>\n",
              "      <td>2.554333</td>\n",
              "      <td>0.001655</td>\n",
              "      <td>0.229450</td>\n",
              "      <td>3.276525</td>\n",
              "      <td>...</td>\n",
              "      <td>Why does the boy have his hand on his head?</td>\n",
              "      <td>10</td>\n",
              "      <td>why boy hand head?</td>\n",
              "      <td>[0.15999348, 0.043701172, 0.05908203, -0.01680...</td>\n",
              "      <td>studying</td>\n",
              "      <td>[-0.056152344, 0.171875, 0.09375, 0.068847656,...</td>\n",
              "      <td>[one for each, yes, no, eats lot]</td>\n",
              "      <td>[[0.023579916, -0.1336263, 0.08300781, 0.14876...</td>\n",
              "      <td>1</td>\n",
              "      <td>2</td>\n",
              "    </tr>\n",
              "    <tr>\n",
              "      <th>599999</th>\n",
              "      <td>19999</td>\n",
              "      <td>0.250376</td>\n",
              "      <td>0.701786</td>\n",
              "      <td>0.103086</td>\n",
              "      <td>1.116810</td>\n",
              "      <td>0.153240</td>\n",
              "      <td>2.554333</td>\n",
              "      <td>0.001655</td>\n",
              "      <td>0.229450</td>\n",
              "      <td>3.276525</td>\n",
              "      <td>...</td>\n",
              "      <td>Why does the boy have his hand on his head?</td>\n",
              "      <td>10</td>\n",
              "      <td>why boy hand head?</td>\n",
              "      <td>[0.15999348, 0.043701172, 0.05908203, -0.01680...</td>\n",
              "      <td>tired</td>\n",
              "      <td>[0.22460938, 0.21777344, -0.07324219, 0.125976...</td>\n",
              "      <td>[one for each, yes, no, eats lot]</td>\n",
              "      <td>[[0.023579916, -0.1336263, 0.08300781, 0.14876...</td>\n",
              "      <td>1</td>\n",
              "      <td>2</td>\n",
              "    </tr>\n",
              "  </tbody>\n",
              "</table>\n",
              "<p>600000 rows × 2068 columns</p>\n",
              "</div>\n",
              "    <div class=\"colab-df-buttons\">\n",
              "\n",
              "  <div class=\"colab-df-container\">\n",
              "    <button class=\"colab-df-convert\" onclick=\"convertToInteractive('df-d168bde5-52e3-49c4-925e-6d33ae682041')\"\n",
              "            title=\"Convert this dataframe to an interactive table.\"\n",
              "            style=\"display:none;\">\n",
              "\n",
              "  <svg xmlns=\"http://www.w3.org/2000/svg\" height=\"24px\" viewBox=\"0 -960 960 960\">\n",
              "    <path d=\"M120-120v-720h720v720H120Zm60-500h600v-160H180v160Zm220 220h160v-160H400v160Zm0 220h160v-160H400v160ZM180-400h160v-160H180v160Zm440 0h160v-160H620v160ZM180-180h160v-160H180v160Zm440 0h160v-160H620v160Z\"/>\n",
              "  </svg>\n",
              "    </button>\n",
              "\n",
              "  <style>\n",
              "    .colab-df-container {\n",
              "      display:flex;\n",
              "      gap: 12px;\n",
              "    }\n",
              "\n",
              "    .colab-df-convert {\n",
              "      background-color: #E8F0FE;\n",
              "      border: none;\n",
              "      border-radius: 50%;\n",
              "      cursor: pointer;\n",
              "      display: none;\n",
              "      fill: #1967D2;\n",
              "      height: 32px;\n",
              "      padding: 0 0 0 0;\n",
              "      width: 32px;\n",
              "    }\n",
              "\n",
              "    .colab-df-convert:hover {\n",
              "      background-color: #E2EBFA;\n",
              "      box-shadow: 0px 1px 2px rgba(60, 64, 67, 0.3), 0px 1px 3px 1px rgba(60, 64, 67, 0.15);\n",
              "      fill: #174EA6;\n",
              "    }\n",
              "\n",
              "    .colab-df-buttons div {\n",
              "      margin-bottom: 4px;\n",
              "    }\n",
              "\n",
              "    [theme=dark] .colab-df-convert {\n",
              "      background-color: #3B4455;\n",
              "      fill: #D2E3FC;\n",
              "    }\n",
              "\n",
              "    [theme=dark] .colab-df-convert:hover {\n",
              "      background-color: #434B5C;\n",
              "      box-shadow: 0px 1px 3px 1px rgba(0, 0, 0, 0.15);\n",
              "      filter: drop-shadow(0px 1px 2px rgba(0, 0, 0, 0.3));\n",
              "      fill: #FFFFFF;\n",
              "    }\n",
              "  </style>\n",
              "\n",
              "    <script>\n",
              "      const buttonEl =\n",
              "        document.querySelector('#df-d168bde5-52e3-49c4-925e-6d33ae682041 button.colab-df-convert');\n",
              "      buttonEl.style.display =\n",
              "        google.colab.kernel.accessAllowed ? 'block' : 'none';\n",
              "\n",
              "      async function convertToInteractive(key) {\n",
              "        const element = document.querySelector('#df-d168bde5-52e3-49c4-925e-6d33ae682041');\n",
              "        const dataTable =\n",
              "          await google.colab.kernel.invokeFunction('convertToInteractive',\n",
              "                                                    [key], {});\n",
              "        if (!dataTable) return;\n",
              "\n",
              "        const docLinkHtml = 'Like what you see? Visit the ' +\n",
              "          '<a target=\"_blank\" href=https://colab.research.google.com/notebooks/data_table.ipynb>data table notebook</a>'\n",
              "          + ' to learn more about interactive tables.';\n",
              "        element.innerHTML = '';\n",
              "        dataTable['output_type'] = 'display_data';\n",
              "        await google.colab.output.renderOutput(dataTable, element);\n",
              "        const docLink = document.createElement('div');\n",
              "        docLink.innerHTML = docLinkHtml;\n",
              "        element.appendChild(docLink);\n",
              "      }\n",
              "    </script>\n",
              "  </div>\n",
              "\n",
              "\n",
              "<div id=\"df-a462a79b-b5d3-488c-93b4-45644ed3fdc3\">\n",
              "  <button class=\"colab-df-quickchart\" onclick=\"quickchart('df-a462a79b-b5d3-488c-93b4-45644ed3fdc3')\"\n",
              "            title=\"Suggest charts\"\n",
              "            style=\"display:none;\">\n",
              "\n",
              "<svg xmlns=\"http://www.w3.org/2000/svg\" height=\"24px\"viewBox=\"0 0 24 24\"\n",
              "     width=\"24px\">\n",
              "    <g>\n",
              "        <path d=\"M19 3H5c-1.1 0-2 .9-2 2v14c0 1.1.9 2 2 2h14c1.1 0 2-.9 2-2V5c0-1.1-.9-2-2-2zM9 17H7v-7h2v7zm4 0h-2V7h2v10zm4 0h-2v-4h2v4z\"/>\n",
              "    </g>\n",
              "</svg>\n",
              "  </button>\n",
              "\n",
              "<style>\n",
              "  .colab-df-quickchart {\n",
              "      --bg-color: #E8F0FE;\n",
              "      --fill-color: #1967D2;\n",
              "      --hover-bg-color: #E2EBFA;\n",
              "      --hover-fill-color: #174EA6;\n",
              "      --disabled-fill-color: #AAA;\n",
              "      --disabled-bg-color: #DDD;\n",
              "  }\n",
              "\n",
              "  [theme=dark] .colab-df-quickchart {\n",
              "      --bg-color: #3B4455;\n",
              "      --fill-color: #D2E3FC;\n",
              "      --hover-bg-color: #434B5C;\n",
              "      --hover-fill-color: #FFFFFF;\n",
              "      --disabled-bg-color: #3B4455;\n",
              "      --disabled-fill-color: #666;\n",
              "  }\n",
              "\n",
              "  .colab-df-quickchart {\n",
              "    background-color: var(--bg-color);\n",
              "    border: none;\n",
              "    border-radius: 50%;\n",
              "    cursor: pointer;\n",
              "    display: none;\n",
              "    fill: var(--fill-color);\n",
              "    height: 32px;\n",
              "    padding: 0;\n",
              "    width: 32px;\n",
              "  }\n",
              "\n",
              "  .colab-df-quickchart:hover {\n",
              "    background-color: var(--hover-bg-color);\n",
              "    box-shadow: 0 1px 2px rgba(60, 64, 67, 0.3), 0 1px 3px 1px rgba(60, 64, 67, 0.15);\n",
              "    fill: var(--button-hover-fill-color);\n",
              "  }\n",
              "\n",
              "  .colab-df-quickchart-complete:disabled,\n",
              "  .colab-df-quickchart-complete:disabled:hover {\n",
              "    background-color: var(--disabled-bg-color);\n",
              "    fill: var(--disabled-fill-color);\n",
              "    box-shadow: none;\n",
              "  }\n",
              "\n",
              "  .colab-df-spinner {\n",
              "    border: 2px solid var(--fill-color);\n",
              "    border-color: transparent;\n",
              "    border-bottom-color: var(--fill-color);\n",
              "    animation:\n",
              "      spin 1s steps(1) infinite;\n",
              "  }\n",
              "\n",
              "  @keyframes spin {\n",
              "    0% {\n",
              "      border-color: transparent;\n",
              "      border-bottom-color: var(--fill-color);\n",
              "      border-left-color: var(--fill-color);\n",
              "    }\n",
              "    20% {\n",
              "      border-color: transparent;\n",
              "      border-left-color: var(--fill-color);\n",
              "      border-top-color: var(--fill-color);\n",
              "    }\n",
              "    30% {\n",
              "      border-color: transparent;\n",
              "      border-left-color: var(--fill-color);\n",
              "      border-top-color: var(--fill-color);\n",
              "      border-right-color: var(--fill-color);\n",
              "    }\n",
              "    40% {\n",
              "      border-color: transparent;\n",
              "      border-right-color: var(--fill-color);\n",
              "      border-top-color: var(--fill-color);\n",
              "    }\n",
              "    60% {\n",
              "      border-color: transparent;\n",
              "      border-right-color: var(--fill-color);\n",
              "    }\n",
              "    80% {\n",
              "      border-color: transparent;\n",
              "      border-right-color: var(--fill-color);\n",
              "      border-bottom-color: var(--fill-color);\n",
              "    }\n",
              "    90% {\n",
              "      border-color: transparent;\n",
              "      border-bottom-color: var(--fill-color);\n",
              "    }\n",
              "  }\n",
              "</style>\n",
              "\n",
              "  <script>\n",
              "    async function quickchart(key) {\n",
              "      const quickchartButtonEl =\n",
              "        document.querySelector('#' + key + ' button');\n",
              "      quickchartButtonEl.disabled = true;  // To prevent multiple clicks.\n",
              "      quickchartButtonEl.classList.add('colab-df-spinner');\n",
              "      try {\n",
              "        const charts = await google.colab.kernel.invokeFunction(\n",
              "            'suggestCharts', [key], {});\n",
              "      } catch (error) {\n",
              "        console.error('Error during call to suggestCharts:', error);\n",
              "      }\n",
              "      quickchartButtonEl.classList.remove('colab-df-spinner');\n",
              "      quickchartButtonEl.classList.add('colab-df-quickchart-complete');\n",
              "    }\n",
              "    (() => {\n",
              "      let quickchartButtonEl =\n",
              "        document.querySelector('#df-a462a79b-b5d3-488c-93b4-45644ed3fdc3 button');\n",
              "      quickchartButtonEl.style.display =\n",
              "        google.colab.kernel.accessAllowed ? 'block' : 'none';\n",
              "    })();\n",
              "  </script>\n",
              "</div>\n",
              "\n",
              "  <div id=\"id_b35a7607-b44c-4022-8b97-5887406658e2\">\n",
              "    <style>\n",
              "      .colab-df-generate {\n",
              "        background-color: #E8F0FE;\n",
              "        border: none;\n",
              "        border-radius: 50%;\n",
              "        cursor: pointer;\n",
              "        display: none;\n",
              "        fill: #1967D2;\n",
              "        height: 32px;\n",
              "        padding: 0 0 0 0;\n",
              "        width: 32px;\n",
              "      }\n",
              "\n",
              "      .colab-df-generate:hover {\n",
              "        background-color: #E2EBFA;\n",
              "        box-shadow: 0px 1px 2px rgba(60, 64, 67, 0.3), 0px 1px 3px 1px rgba(60, 64, 67, 0.15);\n",
              "        fill: #174EA6;\n",
              "      }\n",
              "\n",
              "      [theme=dark] .colab-df-generate {\n",
              "        background-color: #3B4455;\n",
              "        fill: #D2E3FC;\n",
              "      }\n",
              "\n",
              "      [theme=dark] .colab-df-generate:hover {\n",
              "        background-color: #434B5C;\n",
              "        box-shadow: 0px 1px 3px 1px rgba(0, 0, 0, 0.15);\n",
              "        filter: drop-shadow(0px 1px 2px rgba(0, 0, 0, 0.3));\n",
              "        fill: #FFFFFF;\n",
              "      }\n",
              "    </style>\n",
              "    <button class=\"colab-df-generate\" onclick=\"generateWithVariable('df_train')\"\n",
              "            title=\"Generate code using this dataframe.\"\n",
              "            style=\"display:none;\">\n",
              "\n",
              "  <svg xmlns=\"http://www.w3.org/2000/svg\" height=\"24px\"viewBox=\"0 0 24 24\"\n",
              "       width=\"24px\">\n",
              "    <path d=\"M7,19H8.4L18.45,9,17,7.55,7,17.6ZM5,21V16.75L18.45,3.32a2,2,0,0,1,2.83,0l1.4,1.43a1.91,1.91,0,0,1,.58,1.4,1.91,1.91,0,0,1-.58,1.4L9.25,21ZM18.45,9,17,7.55Zm-12,3A5.31,5.31,0,0,0,4.9,8.1,5.31,5.31,0,0,0,1,6.5,5.31,5.31,0,0,0,4.9,4.9,5.31,5.31,0,0,0,6.5,1,5.31,5.31,0,0,0,8.1,4.9,5.31,5.31,0,0,0,12,6.5,5.46,5.46,0,0,0,6.5,12Z\"/>\n",
              "  </svg>\n",
              "    </button>\n",
              "    <script>\n",
              "      (() => {\n",
              "      const buttonEl =\n",
              "        document.querySelector('#id_b35a7607-b44c-4022-8b97-5887406658e2 button.colab-df-generate');\n",
              "      buttonEl.style.display =\n",
              "        google.colab.kernel.accessAllowed ? 'block' : 'none';\n",
              "\n",
              "      buttonEl.onclick = () => {\n",
              "        google.colab.notebook.generateWithVariable('df_train');\n",
              "      }\n",
              "      })();\n",
              "    </script>\n",
              "  </div>\n",
              "\n",
              "    </div>\n",
              "  </div>\n"
            ],
            "application/vnd.google.colaboratory.intrinsic+json": {
              "type": "dataframe",
              "variable_name": "df_train"
            }
          },
          "metadata": {},
          "execution_count": 5
        }
      ]
    },
    {
      "cell_type": "markdown",
      "id": "TRJnmDuyMf-I",
      "metadata": {
        "id": "TRJnmDuyMf-I"
      },
      "source": [
        "##### Save Workspace"
      ]
    },
    {
      "cell_type": "code",
      "source": [
        "joblib.dump(df_train, \"/content/drive/MyDrive/Colab Notebooks/894/Training/(2)_dfTrain_2.2.joblib\")\n",
        "joblib.dump(df_valid, \"/content/drive/MyDrive/Colab Notebooks/894/Validation/(2)_dfValid_2.2.joblib\")"
      ],
      "metadata": {
        "colab": {
          "base_uri": "https://localhost:8080/"
        },
        "id": "z93IqQdNLrWT",
        "outputId": "e6b085ff-b3d7-4ffd-b778-f59954bbe1d0"
      },
      "id": "z93IqQdNLrWT",
      "execution_count": null,
      "outputs": [
        {
          "output_type": "execute_result",
          "data": {
            "text/plain": [
              "['/content/drive/MyDrive/Colab Notebooks/894/Validation/(2)_dfValid_2.2.joblib']"
            ]
          },
          "metadata": {},
          "execution_count": 6
        }
      ]
    },
    {
      "cell_type": "markdown",
      "source": [
        "# Step 3: Model Architecture, Training & Hyperparameter Tuning"
      ],
      "metadata": {
        "id": "zm8NnHf0XPKR"
      },
      "id": "zm8NnHf0XPKR"
    },
    {
      "cell_type": "markdown",
      "source": [
        "##### Load Workspace"
      ],
      "metadata": {
        "id": "jFBmJy5jXjJZ"
      },
      "id": "jFBmJy5jXjJZ"
    },
    {
      "cell_type": "code",
      "source": [
        "df_train = joblib.load(\"/content/drive/MyDrive/Colab Notebooks/894/Training/(2)_dfTrain_2.2.joblib\")\n",
        "df_valid = joblib.load(\"/content/drive/MyDrive/Colab Notebooks/894/Validation/(2)_dfValid_2.2.joblib\")\n",
        "\n",
        "df_train.head()"
      ],
      "metadata": {
        "colab": {
          "base_uri": "https://localhost:8080/",
          "height": 515
        },
        "id": "MHJdgAx_qmZI",
        "outputId": "f0a45c49-afb9-46d3-ec33-32175b1bb0bb"
      },
      "id": "MHJdgAx_qmZI",
      "execution_count": null,
      "outputs": [
        {
          "output_type": "execute_result",
          "data": {
            "text/plain": [
              "   image_id         0         1         2         3         4         5  \\\n",
              "0         0  0.037811  1.084643  0.125582  2.314969  0.325828  0.302625   \n",
              "1         0  0.037811  1.084643  0.125582  2.314969  0.325828  0.302625   \n",
              "2         0  0.037811  1.084643  0.125582  2.314969  0.325828  0.302625   \n",
              "3         0  0.037811  1.084643  0.125582  2.314969  0.325828  0.302625   \n",
              "4         0  0.037811  1.084643  0.125582  2.314969  0.325828  0.302625   \n",
              "\n",
              "          6         7         8  ...                                 question  \\\n",
              "0  0.976951  0.753177  0.227697  ...          What color is the ladies pants?   \n",
              "1  0.976951  0.753177  0.227697  ...          What color is the ladies pants?   \n",
              "2  0.976951  0.753177  0.227697  ...          What color is the ladies pants?   \n",
              "3  0.976951  0.753177  0.227697  ...          What color is the ladies pants?   \n",
              "4  0.976951  0.753177  0.227697  ...  How is the equipments with bars called?   \n",
              "\n",
              "   question_length             question_clean  \\\n",
              "0                6     what color lady pants?   \n",
              "1                6     what color lady pants?   \n",
              "2                6     what color lady pants?   \n",
              "3                6     what color lady pants?   \n",
              "4                7  how equipment bar called?   \n",
              "\n",
              "                                  question_embedding  answer_clean  \\\n",
              "0  [0.065460205, 0.088765465, 0.0744222, 0.099446...         brown   \n",
              "1  [0.065460205, 0.088765465, 0.0744222, 0.099446...         beige   \n",
              "2  [0.065460205, 0.088765465, 0.0744222, 0.099446...           tan   \n",
              "3  [0.065460205, 0.088765465, 0.0744222, 0.099446...         brown   \n",
              "4  [-0.017578125, 0.0061683655, 0.07950846, 0.121...    monkey bar   \n",
              "\n",
              "                                    answer_embedding  \\\n",
              "0  [0.007873535, 0.12890625, 0.02734375, 0.152343...   \n",
              "1  [0.19140625, 0.05126953, -0.055419922, 0.06591...   \n",
              "2  [0.059326172, 0.18457031, -0.029785156, 0.0336...   \n",
              "3  [0.007873535, 0.12890625, 0.02734375, 0.152343...   \n",
              "4  [-0.07119751, -0.01184082, -0.099731445, 0.209...   \n",
              "\n",
              "                           filtered_multiple_choices  \\\n",
              "0  [brown, not having tv, yellow, yes, black, it ...   \n",
              "1  [brown, not having tv, yellow, yes, black, it ...   \n",
              "2  [brown, not having tv, yellow, yes, black, it ...   \n",
              "3  [brown, not having tv, yellow, yes, black, it ...   \n",
              "4                                 [yes, monkey bars]   \n",
              "\n",
              "                 filtered_multiple_choices_embedding  answer_type_encoded  \\\n",
              "0  [[0.007873535, 0.12890625, 0.02734375, 0.15234...                    1   \n",
              "1  [[0.007873535, 0.12890625, 0.02734375, 0.15234...                    1   \n",
              "2  [[0.007873535, 0.12890625, 0.02734375, 0.15234...                    1   \n",
              "3  [[0.007873535, 0.12890625, 0.02734375, 0.15234...                    1   \n",
              "4  [[0.115722656, -0.12988281, 0.06591797, 0.1757...                    1   \n",
              "\n",
              "   answer_confidence_encoded  \n",
              "0                          2  \n",
              "1                          2  \n",
              "2                          2  \n",
              "3                          2  \n",
              "4                          2  \n",
              "\n",
              "[5 rows x 2068 columns]"
            ],
            "text/html": [
              "\n",
              "  <div id=\"df-b09b5e52-bec3-4ff6-81c8-46af87a91dcd\" class=\"colab-df-container\">\n",
              "    <div>\n",
              "<style scoped>\n",
              "    .dataframe tbody tr th:only-of-type {\n",
              "        vertical-align: middle;\n",
              "    }\n",
              "\n",
              "    .dataframe tbody tr th {\n",
              "        vertical-align: top;\n",
              "    }\n",
              "\n",
              "    .dataframe thead th {\n",
              "        text-align: right;\n",
              "    }\n",
              "</style>\n",
              "<table border=\"1\" class=\"dataframe\">\n",
              "  <thead>\n",
              "    <tr style=\"text-align: right;\">\n",
              "      <th></th>\n",
              "      <th>image_id</th>\n",
              "      <th>0</th>\n",
              "      <th>1</th>\n",
              "      <th>2</th>\n",
              "      <th>3</th>\n",
              "      <th>4</th>\n",
              "      <th>5</th>\n",
              "      <th>6</th>\n",
              "      <th>7</th>\n",
              "      <th>8</th>\n",
              "      <th>...</th>\n",
              "      <th>question</th>\n",
              "      <th>question_length</th>\n",
              "      <th>question_clean</th>\n",
              "      <th>question_embedding</th>\n",
              "      <th>answer_clean</th>\n",
              "      <th>answer_embedding</th>\n",
              "      <th>filtered_multiple_choices</th>\n",
              "      <th>filtered_multiple_choices_embedding</th>\n",
              "      <th>answer_type_encoded</th>\n",
              "      <th>answer_confidence_encoded</th>\n",
              "    </tr>\n",
              "  </thead>\n",
              "  <tbody>\n",
              "    <tr>\n",
              "      <th>0</th>\n",
              "      <td>0</td>\n",
              "      <td>0.037811</td>\n",
              "      <td>1.084643</td>\n",
              "      <td>0.125582</td>\n",
              "      <td>2.314969</td>\n",
              "      <td>0.325828</td>\n",
              "      <td>0.302625</td>\n",
              "      <td>0.976951</td>\n",
              "      <td>0.753177</td>\n",
              "      <td>0.227697</td>\n",
              "      <td>...</td>\n",
              "      <td>What color is the ladies pants?</td>\n",
              "      <td>6</td>\n",
              "      <td>what color lady pants?</td>\n",
              "      <td>[0.065460205, 0.088765465, 0.0744222, 0.099446...</td>\n",
              "      <td>brown</td>\n",
              "      <td>[0.007873535, 0.12890625, 0.02734375, 0.152343...</td>\n",
              "      <td>[brown, not having tv, yellow, yes, black, it ...</td>\n",
              "      <td>[[0.007873535, 0.12890625, 0.02734375, 0.15234...</td>\n",
              "      <td>1</td>\n",
              "      <td>2</td>\n",
              "    </tr>\n",
              "    <tr>\n",
              "      <th>1</th>\n",
              "      <td>0</td>\n",
              "      <td>0.037811</td>\n",
              "      <td>1.084643</td>\n",
              "      <td>0.125582</td>\n",
              "      <td>2.314969</td>\n",
              "      <td>0.325828</td>\n",
              "      <td>0.302625</td>\n",
              "      <td>0.976951</td>\n",
              "      <td>0.753177</td>\n",
              "      <td>0.227697</td>\n",
              "      <td>...</td>\n",
              "      <td>What color is the ladies pants?</td>\n",
              "      <td>6</td>\n",
              "      <td>what color lady pants?</td>\n",
              "      <td>[0.065460205, 0.088765465, 0.0744222, 0.099446...</td>\n",
              "      <td>beige</td>\n",
              "      <td>[0.19140625, 0.05126953, -0.055419922, 0.06591...</td>\n",
              "      <td>[brown, not having tv, yellow, yes, black, it ...</td>\n",
              "      <td>[[0.007873535, 0.12890625, 0.02734375, 0.15234...</td>\n",
              "      <td>1</td>\n",
              "      <td>2</td>\n",
              "    </tr>\n",
              "    <tr>\n",
              "      <th>2</th>\n",
              "      <td>0</td>\n",
              "      <td>0.037811</td>\n",
              "      <td>1.084643</td>\n",
              "      <td>0.125582</td>\n",
              "      <td>2.314969</td>\n",
              "      <td>0.325828</td>\n",
              "      <td>0.302625</td>\n",
              "      <td>0.976951</td>\n",
              "      <td>0.753177</td>\n",
              "      <td>0.227697</td>\n",
              "      <td>...</td>\n",
              "      <td>What color is the ladies pants?</td>\n",
              "      <td>6</td>\n",
              "      <td>what color lady pants?</td>\n",
              "      <td>[0.065460205, 0.088765465, 0.0744222, 0.099446...</td>\n",
              "      <td>tan</td>\n",
              "      <td>[0.059326172, 0.18457031, -0.029785156, 0.0336...</td>\n",
              "      <td>[brown, not having tv, yellow, yes, black, it ...</td>\n",
              "      <td>[[0.007873535, 0.12890625, 0.02734375, 0.15234...</td>\n",
              "      <td>1</td>\n",
              "      <td>2</td>\n",
              "    </tr>\n",
              "    <tr>\n",
              "      <th>3</th>\n",
              "      <td>0</td>\n",
              "      <td>0.037811</td>\n",
              "      <td>1.084643</td>\n",
              "      <td>0.125582</td>\n",
              "      <td>2.314969</td>\n",
              "      <td>0.325828</td>\n",
              "      <td>0.302625</td>\n",
              "      <td>0.976951</td>\n",
              "      <td>0.753177</td>\n",
              "      <td>0.227697</td>\n",
              "      <td>...</td>\n",
              "      <td>What color is the ladies pants?</td>\n",
              "      <td>6</td>\n",
              "      <td>what color lady pants?</td>\n",
              "      <td>[0.065460205, 0.088765465, 0.0744222, 0.099446...</td>\n",
              "      <td>brown</td>\n",
              "      <td>[0.007873535, 0.12890625, 0.02734375, 0.152343...</td>\n",
              "      <td>[brown, not having tv, yellow, yes, black, it ...</td>\n",
              "      <td>[[0.007873535, 0.12890625, 0.02734375, 0.15234...</td>\n",
              "      <td>1</td>\n",
              "      <td>2</td>\n",
              "    </tr>\n",
              "    <tr>\n",
              "      <th>4</th>\n",
              "      <td>0</td>\n",
              "      <td>0.037811</td>\n",
              "      <td>1.084643</td>\n",
              "      <td>0.125582</td>\n",
              "      <td>2.314969</td>\n",
              "      <td>0.325828</td>\n",
              "      <td>0.302625</td>\n",
              "      <td>0.976951</td>\n",
              "      <td>0.753177</td>\n",
              "      <td>0.227697</td>\n",
              "      <td>...</td>\n",
              "      <td>How is the equipments with bars called?</td>\n",
              "      <td>7</td>\n",
              "      <td>how equipment bar called?</td>\n",
              "      <td>[-0.017578125, 0.0061683655, 0.07950846, 0.121...</td>\n",
              "      <td>monkey bar</td>\n",
              "      <td>[-0.07119751, -0.01184082, -0.099731445, 0.209...</td>\n",
              "      <td>[yes, monkey bars]</td>\n",
              "      <td>[[0.115722656, -0.12988281, 0.06591797, 0.1757...</td>\n",
              "      <td>1</td>\n",
              "      <td>2</td>\n",
              "    </tr>\n",
              "  </tbody>\n",
              "</table>\n",
              "<p>5 rows × 2068 columns</p>\n",
              "</div>\n",
              "    <div class=\"colab-df-buttons\">\n",
              "\n",
              "  <div class=\"colab-df-container\">\n",
              "    <button class=\"colab-df-convert\" onclick=\"convertToInteractive('df-b09b5e52-bec3-4ff6-81c8-46af87a91dcd')\"\n",
              "            title=\"Convert this dataframe to an interactive table.\"\n",
              "            style=\"display:none;\">\n",
              "\n",
              "  <svg xmlns=\"http://www.w3.org/2000/svg\" height=\"24px\" viewBox=\"0 -960 960 960\">\n",
              "    <path d=\"M120-120v-720h720v720H120Zm60-500h600v-160H180v160Zm220 220h160v-160H400v160Zm0 220h160v-160H400v160ZM180-400h160v-160H180v160Zm440 0h160v-160H620v160ZM180-180h160v-160H180v160Zm440 0h160v-160H620v160Z\"/>\n",
              "  </svg>\n",
              "    </button>\n",
              "\n",
              "  <style>\n",
              "    .colab-df-container {\n",
              "      display:flex;\n",
              "      gap: 12px;\n",
              "    }\n",
              "\n",
              "    .colab-df-convert {\n",
              "      background-color: #E8F0FE;\n",
              "      border: none;\n",
              "      border-radius: 50%;\n",
              "      cursor: pointer;\n",
              "      display: none;\n",
              "      fill: #1967D2;\n",
              "      height: 32px;\n",
              "      padding: 0 0 0 0;\n",
              "      width: 32px;\n",
              "    }\n",
              "\n",
              "    .colab-df-convert:hover {\n",
              "      background-color: #E2EBFA;\n",
              "      box-shadow: 0px 1px 2px rgba(60, 64, 67, 0.3), 0px 1px 3px 1px rgba(60, 64, 67, 0.15);\n",
              "      fill: #174EA6;\n",
              "    }\n",
              "\n",
              "    .colab-df-buttons div {\n",
              "      margin-bottom: 4px;\n",
              "    }\n",
              "\n",
              "    [theme=dark] .colab-df-convert {\n",
              "      background-color: #3B4455;\n",
              "      fill: #D2E3FC;\n",
              "    }\n",
              "\n",
              "    [theme=dark] .colab-df-convert:hover {\n",
              "      background-color: #434B5C;\n",
              "      box-shadow: 0px 1px 3px 1px rgba(0, 0, 0, 0.15);\n",
              "      filter: drop-shadow(0px 1px 2px rgba(0, 0, 0, 0.3));\n",
              "      fill: #FFFFFF;\n",
              "    }\n",
              "  </style>\n",
              "\n",
              "    <script>\n",
              "      const buttonEl =\n",
              "        document.querySelector('#df-b09b5e52-bec3-4ff6-81c8-46af87a91dcd button.colab-df-convert');\n",
              "      buttonEl.style.display =\n",
              "        google.colab.kernel.accessAllowed ? 'block' : 'none';\n",
              "\n",
              "      async function convertToInteractive(key) {\n",
              "        const element = document.querySelector('#df-b09b5e52-bec3-4ff6-81c8-46af87a91dcd');\n",
              "        const dataTable =\n",
              "          await google.colab.kernel.invokeFunction('convertToInteractive',\n",
              "                                                    [key], {});\n",
              "        if (!dataTable) return;\n",
              "\n",
              "        const docLinkHtml = 'Like what you see? Visit the ' +\n",
              "          '<a target=\"_blank\" href=https://colab.research.google.com/notebooks/data_table.ipynb>data table notebook</a>'\n",
              "          + ' to learn more about interactive tables.';\n",
              "        element.innerHTML = '';\n",
              "        dataTable['output_type'] = 'display_data';\n",
              "        await google.colab.output.renderOutput(dataTable, element);\n",
              "        const docLink = document.createElement('div');\n",
              "        docLink.innerHTML = docLinkHtml;\n",
              "        element.appendChild(docLink);\n",
              "      }\n",
              "    </script>\n",
              "  </div>\n",
              "\n",
              "\n",
              "<div id=\"df-89a22cf0-dbf4-4736-91a4-e8df3e3a8afa\">\n",
              "  <button class=\"colab-df-quickchart\" onclick=\"quickchart('df-89a22cf0-dbf4-4736-91a4-e8df3e3a8afa')\"\n",
              "            title=\"Suggest charts\"\n",
              "            style=\"display:none;\">\n",
              "\n",
              "<svg xmlns=\"http://www.w3.org/2000/svg\" height=\"24px\"viewBox=\"0 0 24 24\"\n",
              "     width=\"24px\">\n",
              "    <g>\n",
              "        <path d=\"M19 3H5c-1.1 0-2 .9-2 2v14c0 1.1.9 2 2 2h14c1.1 0 2-.9 2-2V5c0-1.1-.9-2-2-2zM9 17H7v-7h2v7zm4 0h-2V7h2v10zm4 0h-2v-4h2v4z\"/>\n",
              "    </g>\n",
              "</svg>\n",
              "  </button>\n",
              "\n",
              "<style>\n",
              "  .colab-df-quickchart {\n",
              "      --bg-color: #E8F0FE;\n",
              "      --fill-color: #1967D2;\n",
              "      --hover-bg-color: #E2EBFA;\n",
              "      --hover-fill-color: #174EA6;\n",
              "      --disabled-fill-color: #AAA;\n",
              "      --disabled-bg-color: #DDD;\n",
              "  }\n",
              "\n",
              "  [theme=dark] .colab-df-quickchart {\n",
              "      --bg-color: #3B4455;\n",
              "      --fill-color: #D2E3FC;\n",
              "      --hover-bg-color: #434B5C;\n",
              "      --hover-fill-color: #FFFFFF;\n",
              "      --disabled-bg-color: #3B4455;\n",
              "      --disabled-fill-color: #666;\n",
              "  }\n",
              "\n",
              "  .colab-df-quickchart {\n",
              "    background-color: var(--bg-color);\n",
              "    border: none;\n",
              "    border-radius: 50%;\n",
              "    cursor: pointer;\n",
              "    display: none;\n",
              "    fill: var(--fill-color);\n",
              "    height: 32px;\n",
              "    padding: 0;\n",
              "    width: 32px;\n",
              "  }\n",
              "\n",
              "  .colab-df-quickchart:hover {\n",
              "    background-color: var(--hover-bg-color);\n",
              "    box-shadow: 0 1px 2px rgba(60, 64, 67, 0.3), 0 1px 3px 1px rgba(60, 64, 67, 0.15);\n",
              "    fill: var(--button-hover-fill-color);\n",
              "  }\n",
              "\n",
              "  .colab-df-quickchart-complete:disabled,\n",
              "  .colab-df-quickchart-complete:disabled:hover {\n",
              "    background-color: var(--disabled-bg-color);\n",
              "    fill: var(--disabled-fill-color);\n",
              "    box-shadow: none;\n",
              "  }\n",
              "\n",
              "  .colab-df-spinner {\n",
              "    border: 2px solid var(--fill-color);\n",
              "    border-color: transparent;\n",
              "    border-bottom-color: var(--fill-color);\n",
              "    animation:\n",
              "      spin 1s steps(1) infinite;\n",
              "  }\n",
              "\n",
              "  @keyframes spin {\n",
              "    0% {\n",
              "      border-color: transparent;\n",
              "      border-bottom-color: var(--fill-color);\n",
              "      border-left-color: var(--fill-color);\n",
              "    }\n",
              "    20% {\n",
              "      border-color: transparent;\n",
              "      border-left-color: var(--fill-color);\n",
              "      border-top-color: var(--fill-color);\n",
              "    }\n",
              "    30% {\n",
              "      border-color: transparent;\n",
              "      border-left-color: var(--fill-color);\n",
              "      border-top-color: var(--fill-color);\n",
              "      border-right-color: var(--fill-color);\n",
              "    }\n",
              "    40% {\n",
              "      border-color: transparent;\n",
              "      border-right-color: var(--fill-color);\n",
              "      border-top-color: var(--fill-color);\n",
              "    }\n",
              "    60% {\n",
              "      border-color: transparent;\n",
              "      border-right-color: var(--fill-color);\n",
              "    }\n",
              "    80% {\n",
              "      border-color: transparent;\n",
              "      border-right-color: var(--fill-color);\n",
              "      border-bottom-color: var(--fill-color);\n",
              "    }\n",
              "    90% {\n",
              "      border-color: transparent;\n",
              "      border-bottom-color: var(--fill-color);\n",
              "    }\n",
              "  }\n",
              "</style>\n",
              "\n",
              "  <script>\n",
              "    async function quickchart(key) {\n",
              "      const quickchartButtonEl =\n",
              "        document.querySelector('#' + key + ' button');\n",
              "      quickchartButtonEl.disabled = true;  // To prevent multiple clicks.\n",
              "      quickchartButtonEl.classList.add('colab-df-spinner');\n",
              "      try {\n",
              "        const charts = await google.colab.kernel.invokeFunction(\n",
              "            'suggestCharts', [key], {});\n",
              "      } catch (error) {\n",
              "        console.error('Error during call to suggestCharts:', error);\n",
              "      }\n",
              "      quickchartButtonEl.classList.remove('colab-df-spinner');\n",
              "      quickchartButtonEl.classList.add('colab-df-quickchart-complete');\n",
              "    }\n",
              "    (() => {\n",
              "      let quickchartButtonEl =\n",
              "        document.querySelector('#df-89a22cf0-dbf4-4736-91a4-e8df3e3a8afa button');\n",
              "      quickchartButtonEl.style.display =\n",
              "        google.colab.kernel.accessAllowed ? 'block' : 'none';\n",
              "    })();\n",
              "  </script>\n",
              "</div>\n",
              "\n",
              "    </div>\n",
              "  </div>\n"
            ],
            "application/vnd.google.colaboratory.intrinsic+json": {
              "type": "dataframe",
              "variable_name": "df_train"
            }
          },
          "metadata": {},
          "execution_count": 4
        }
      ]
    },
    {
      "cell_type": "code",
      "source": [
        "# df_train.head().to_csv(\"/content/drive/MyDrive/Colab Notebooks/894/Training/(2)_dfTrain_2.2.csv\", index=False)"
      ],
      "metadata": {
        "id": "_upQ_mRGySuz"
      },
      "id": "_upQ_mRGySuz",
      "execution_count": null,
      "outputs": []
    },
    {
      "cell_type": "markdown",
      "source": [
        "### 3.1 Remove ID & Transformed Features"
      ],
      "metadata": {
        "id": "BAsXr8d4-vbD"
      },
      "id": "BAsXr8d4-vbD"
    },
    {
      "cell_type": "code",
      "source": [
        "id_features = ['index', 'image_id', 'question_id', 'answer_id', 'question_length']\n",
        "\n",
        "categorical_features = [  'question', 'question_clean', 'question_type',\n",
        "                          'multiple_choices',  'filtered_multiple_choices',\n",
        "                          'answer', 'answer_clean', 'answer_confidence', 'answer_type']\n",
        "\n",
        "numerical_features = [col for col in df_train.columns if col not in categorical_features + id_features]"
      ],
      "metadata": {
        "id": "x5tD308562H7"
      },
      "id": "x5tD308562H7",
      "execution_count": null,
      "outputs": []
    },
    {
      "cell_type": "code",
      "source": [
        "df_train = df_train.drop(columns=id_features + categorical_features)\n",
        "df_valid = df_valid.drop(columns=id_features + categorical_features)"
      ],
      "metadata": {
        "id": "8bOZFO_i8Nk2"
      },
      "id": "8bOZFO_i8Nk2",
      "execution_count": null,
      "outputs": []
    },
    {
      "cell_type": "code",
      "source": [
        "df_train.head()"
      ],
      "metadata": {
        "colab": {
          "base_uri": "https://localhost:8080/",
          "height": 515
        },
        "id": "Wplk20PP9i6o",
        "outputId": "4e391159-bcf0-4598-8150-817d54a16d78"
      },
      "id": "Wplk20PP9i6o",
      "execution_count": null,
      "outputs": [
        {
          "output_type": "execute_result",
          "data": {
            "text/plain": [
              "          0         1         2         3         4         5         6  \\\n",
              "0  0.037811  1.084643  0.125582  2.314969  0.325828  0.302625  0.976951   \n",
              "1  0.037811  1.084643  0.125582  2.314969  0.325828  0.302625  0.976951   \n",
              "2  0.037811  1.084643  0.125582  2.314969  0.325828  0.302625  0.976951   \n",
              "3  0.037811  1.084643  0.125582  2.314969  0.325828  0.302625  0.976951   \n",
              "4  0.037811  1.084643  0.125582  2.314969  0.325828  0.302625  0.976951   \n",
              "\n",
              "          7         8         9  ...      2044      2045    2046      2047  \\\n",
              "0  0.753177  0.227697  0.383851  ...  3.750608  4.098589  1.6235  0.379023   \n",
              "1  0.753177  0.227697  0.383851  ...  3.750608  4.098589  1.6235  0.379023   \n",
              "2  0.753177  0.227697  0.383851  ...  3.750608  4.098589  1.6235  0.379023   \n",
              "3  0.753177  0.227697  0.383851  ...  3.750608  4.098589  1.6235  0.379023   \n",
              "4  0.753177  0.227697  0.383851  ...  3.750608  4.098589  1.6235  0.379023   \n",
              "\n",
              "   target_answer                                 question_embedding  \\\n",
              "0            tan  [0.065460205, 0.088765465, 0.0744222, 0.099446...   \n",
              "1            tan  [0.065460205, 0.088765465, 0.0744222, 0.099446...   \n",
              "2            tan  [0.065460205, 0.088765465, 0.0744222, 0.099446...   \n",
              "3            tan  [0.065460205, 0.088765465, 0.0744222, 0.099446...   \n",
              "4    monkey bars  [-0.017578125, 0.0061683655, 0.07950846, 0.121...   \n",
              "\n",
              "                                    answer_embedding  \\\n",
              "0  [0.007873535, 0.12890625, 0.02734375, 0.152343...   \n",
              "1  [0.19140625, 0.05126953, -0.055419922, 0.06591...   \n",
              "2  [0.059326172, 0.18457031, -0.029785156, 0.0336...   \n",
              "3  [0.007873535, 0.12890625, 0.02734375, 0.152343...   \n",
              "4  [-0.07119751, -0.01184082, -0.099731445, 0.209...   \n",
              "\n",
              "                 filtered_multiple_choices_embedding  answer_type_encoded  \\\n",
              "0  [[0.007873535, 0.12890625, 0.02734375, 0.15234...                    1   \n",
              "1  [[0.007873535, 0.12890625, 0.02734375, 0.15234...                    1   \n",
              "2  [[0.007873535, 0.12890625, 0.02734375, 0.15234...                    1   \n",
              "3  [[0.007873535, 0.12890625, 0.02734375, 0.15234...                    1   \n",
              "4  [[0.115722656, -0.12988281, 0.06591797, 0.1757...                    1   \n",
              "\n",
              "   answer_confidence_encoded  \n",
              "0                          2  \n",
              "1                          2  \n",
              "2                          2  \n",
              "3                          2  \n",
              "4                          2  \n",
              "\n",
              "[5 rows x 2054 columns]"
            ],
            "text/html": [
              "\n",
              "  <div id=\"df-6b24f1cb-86ce-40bc-9578-69efceda99a8\" class=\"colab-df-container\">\n",
              "    <div>\n",
              "<style scoped>\n",
              "    .dataframe tbody tr th:only-of-type {\n",
              "        vertical-align: middle;\n",
              "    }\n",
              "\n",
              "    .dataframe tbody tr th {\n",
              "        vertical-align: top;\n",
              "    }\n",
              "\n",
              "    .dataframe thead th {\n",
              "        text-align: right;\n",
              "    }\n",
              "</style>\n",
              "<table border=\"1\" class=\"dataframe\">\n",
              "  <thead>\n",
              "    <tr style=\"text-align: right;\">\n",
              "      <th></th>\n",
              "      <th>0</th>\n",
              "      <th>1</th>\n",
              "      <th>2</th>\n",
              "      <th>3</th>\n",
              "      <th>4</th>\n",
              "      <th>5</th>\n",
              "      <th>6</th>\n",
              "      <th>7</th>\n",
              "      <th>8</th>\n",
              "      <th>9</th>\n",
              "      <th>...</th>\n",
              "      <th>2044</th>\n",
              "      <th>2045</th>\n",
              "      <th>2046</th>\n",
              "      <th>2047</th>\n",
              "      <th>target_answer</th>\n",
              "      <th>question_embedding</th>\n",
              "      <th>answer_embedding</th>\n",
              "      <th>filtered_multiple_choices_embedding</th>\n",
              "      <th>answer_type_encoded</th>\n",
              "      <th>answer_confidence_encoded</th>\n",
              "    </tr>\n",
              "  </thead>\n",
              "  <tbody>\n",
              "    <tr>\n",
              "      <th>0</th>\n",
              "      <td>0.037811</td>\n",
              "      <td>1.084643</td>\n",
              "      <td>0.125582</td>\n",
              "      <td>2.314969</td>\n",
              "      <td>0.325828</td>\n",
              "      <td>0.302625</td>\n",
              "      <td>0.976951</td>\n",
              "      <td>0.753177</td>\n",
              "      <td>0.227697</td>\n",
              "      <td>0.383851</td>\n",
              "      <td>...</td>\n",
              "      <td>3.750608</td>\n",
              "      <td>4.098589</td>\n",
              "      <td>1.6235</td>\n",
              "      <td>0.379023</td>\n",
              "      <td>tan</td>\n",
              "      <td>[0.065460205, 0.088765465, 0.0744222, 0.099446...</td>\n",
              "      <td>[0.007873535, 0.12890625, 0.02734375, 0.152343...</td>\n",
              "      <td>[[0.007873535, 0.12890625, 0.02734375, 0.15234...</td>\n",
              "      <td>1</td>\n",
              "      <td>2</td>\n",
              "    </tr>\n",
              "    <tr>\n",
              "      <th>1</th>\n",
              "      <td>0.037811</td>\n",
              "      <td>1.084643</td>\n",
              "      <td>0.125582</td>\n",
              "      <td>2.314969</td>\n",
              "      <td>0.325828</td>\n",
              "      <td>0.302625</td>\n",
              "      <td>0.976951</td>\n",
              "      <td>0.753177</td>\n",
              "      <td>0.227697</td>\n",
              "      <td>0.383851</td>\n",
              "      <td>...</td>\n",
              "      <td>3.750608</td>\n",
              "      <td>4.098589</td>\n",
              "      <td>1.6235</td>\n",
              "      <td>0.379023</td>\n",
              "      <td>tan</td>\n",
              "      <td>[0.065460205, 0.088765465, 0.0744222, 0.099446...</td>\n",
              "      <td>[0.19140625, 0.05126953, -0.055419922, 0.06591...</td>\n",
              "      <td>[[0.007873535, 0.12890625, 0.02734375, 0.15234...</td>\n",
              "      <td>1</td>\n",
              "      <td>2</td>\n",
              "    </tr>\n",
              "    <tr>\n",
              "      <th>2</th>\n",
              "      <td>0.037811</td>\n",
              "      <td>1.084643</td>\n",
              "      <td>0.125582</td>\n",
              "      <td>2.314969</td>\n",
              "      <td>0.325828</td>\n",
              "      <td>0.302625</td>\n",
              "      <td>0.976951</td>\n",
              "      <td>0.753177</td>\n",
              "      <td>0.227697</td>\n",
              "      <td>0.383851</td>\n",
              "      <td>...</td>\n",
              "      <td>3.750608</td>\n",
              "      <td>4.098589</td>\n",
              "      <td>1.6235</td>\n",
              "      <td>0.379023</td>\n",
              "      <td>tan</td>\n",
              "      <td>[0.065460205, 0.088765465, 0.0744222, 0.099446...</td>\n",
              "      <td>[0.059326172, 0.18457031, -0.029785156, 0.0336...</td>\n",
              "      <td>[[0.007873535, 0.12890625, 0.02734375, 0.15234...</td>\n",
              "      <td>1</td>\n",
              "      <td>2</td>\n",
              "    </tr>\n",
              "    <tr>\n",
              "      <th>3</th>\n",
              "      <td>0.037811</td>\n",
              "      <td>1.084643</td>\n",
              "      <td>0.125582</td>\n",
              "      <td>2.314969</td>\n",
              "      <td>0.325828</td>\n",
              "      <td>0.302625</td>\n",
              "      <td>0.976951</td>\n",
              "      <td>0.753177</td>\n",
              "      <td>0.227697</td>\n",
              "      <td>0.383851</td>\n",
              "      <td>...</td>\n",
              "      <td>3.750608</td>\n",
              "      <td>4.098589</td>\n",
              "      <td>1.6235</td>\n",
              "      <td>0.379023</td>\n",
              "      <td>tan</td>\n",
              "      <td>[0.065460205, 0.088765465, 0.0744222, 0.099446...</td>\n",
              "      <td>[0.007873535, 0.12890625, 0.02734375, 0.152343...</td>\n",
              "      <td>[[0.007873535, 0.12890625, 0.02734375, 0.15234...</td>\n",
              "      <td>1</td>\n",
              "      <td>2</td>\n",
              "    </tr>\n",
              "    <tr>\n",
              "      <th>4</th>\n",
              "      <td>0.037811</td>\n",
              "      <td>1.084643</td>\n",
              "      <td>0.125582</td>\n",
              "      <td>2.314969</td>\n",
              "      <td>0.325828</td>\n",
              "      <td>0.302625</td>\n",
              "      <td>0.976951</td>\n",
              "      <td>0.753177</td>\n",
              "      <td>0.227697</td>\n",
              "      <td>0.383851</td>\n",
              "      <td>...</td>\n",
              "      <td>3.750608</td>\n",
              "      <td>4.098589</td>\n",
              "      <td>1.6235</td>\n",
              "      <td>0.379023</td>\n",
              "      <td>monkey bars</td>\n",
              "      <td>[-0.017578125, 0.0061683655, 0.07950846, 0.121...</td>\n",
              "      <td>[-0.07119751, -0.01184082, -0.099731445, 0.209...</td>\n",
              "      <td>[[0.115722656, -0.12988281, 0.06591797, 0.1757...</td>\n",
              "      <td>1</td>\n",
              "      <td>2</td>\n",
              "    </tr>\n",
              "  </tbody>\n",
              "</table>\n",
              "<p>5 rows × 2054 columns</p>\n",
              "</div>\n",
              "    <div class=\"colab-df-buttons\">\n",
              "\n",
              "  <div class=\"colab-df-container\">\n",
              "    <button class=\"colab-df-convert\" onclick=\"convertToInteractive('df-6b24f1cb-86ce-40bc-9578-69efceda99a8')\"\n",
              "            title=\"Convert this dataframe to an interactive table.\"\n",
              "            style=\"display:none;\">\n",
              "\n",
              "  <svg xmlns=\"http://www.w3.org/2000/svg\" height=\"24px\" viewBox=\"0 -960 960 960\">\n",
              "    <path d=\"M120-120v-720h720v720H120Zm60-500h600v-160H180v160Zm220 220h160v-160H400v160Zm0 220h160v-160H400v160ZM180-400h160v-160H180v160Zm440 0h160v-160H620v160ZM180-180h160v-160H180v160Zm440 0h160v-160H620v160Z\"/>\n",
              "  </svg>\n",
              "    </button>\n",
              "\n",
              "  <style>\n",
              "    .colab-df-container {\n",
              "      display:flex;\n",
              "      gap: 12px;\n",
              "    }\n",
              "\n",
              "    .colab-df-convert {\n",
              "      background-color: #E8F0FE;\n",
              "      border: none;\n",
              "      border-radius: 50%;\n",
              "      cursor: pointer;\n",
              "      display: none;\n",
              "      fill: #1967D2;\n",
              "      height: 32px;\n",
              "      padding: 0 0 0 0;\n",
              "      width: 32px;\n",
              "    }\n",
              "\n",
              "    .colab-df-convert:hover {\n",
              "      background-color: #E2EBFA;\n",
              "      box-shadow: 0px 1px 2px rgba(60, 64, 67, 0.3), 0px 1px 3px 1px rgba(60, 64, 67, 0.15);\n",
              "      fill: #174EA6;\n",
              "    }\n",
              "\n",
              "    .colab-df-buttons div {\n",
              "      margin-bottom: 4px;\n",
              "    }\n",
              "\n",
              "    [theme=dark] .colab-df-convert {\n",
              "      background-color: #3B4455;\n",
              "      fill: #D2E3FC;\n",
              "    }\n",
              "\n",
              "    [theme=dark] .colab-df-convert:hover {\n",
              "      background-color: #434B5C;\n",
              "      box-shadow: 0px 1px 3px 1px rgba(0, 0, 0, 0.15);\n",
              "      filter: drop-shadow(0px 1px 2px rgba(0, 0, 0, 0.3));\n",
              "      fill: #FFFFFF;\n",
              "    }\n",
              "  </style>\n",
              "\n",
              "    <script>\n",
              "      const buttonEl =\n",
              "        document.querySelector('#df-6b24f1cb-86ce-40bc-9578-69efceda99a8 button.colab-df-convert');\n",
              "      buttonEl.style.display =\n",
              "        google.colab.kernel.accessAllowed ? 'block' : 'none';\n",
              "\n",
              "      async function convertToInteractive(key) {\n",
              "        const element = document.querySelector('#df-6b24f1cb-86ce-40bc-9578-69efceda99a8');\n",
              "        const dataTable =\n",
              "          await google.colab.kernel.invokeFunction('convertToInteractive',\n",
              "                                                    [key], {});\n",
              "        if (!dataTable) return;\n",
              "\n",
              "        const docLinkHtml = 'Like what you see? Visit the ' +\n",
              "          '<a target=\"_blank\" href=https://colab.research.google.com/notebooks/data_table.ipynb>data table notebook</a>'\n",
              "          + ' to learn more about interactive tables.';\n",
              "        element.innerHTML = '';\n",
              "        dataTable['output_type'] = 'display_data';\n",
              "        await google.colab.output.renderOutput(dataTable, element);\n",
              "        const docLink = document.createElement('div');\n",
              "        docLink.innerHTML = docLinkHtml;\n",
              "        element.appendChild(docLink);\n",
              "      }\n",
              "    </script>\n",
              "  </div>\n",
              "\n",
              "\n",
              "<div id=\"df-83f1c845-2bb7-408a-bae2-a274a9cdd814\">\n",
              "  <button class=\"colab-df-quickchart\" onclick=\"quickchart('df-83f1c845-2bb7-408a-bae2-a274a9cdd814')\"\n",
              "            title=\"Suggest charts\"\n",
              "            style=\"display:none;\">\n",
              "\n",
              "<svg xmlns=\"http://www.w3.org/2000/svg\" height=\"24px\"viewBox=\"0 0 24 24\"\n",
              "     width=\"24px\">\n",
              "    <g>\n",
              "        <path d=\"M19 3H5c-1.1 0-2 .9-2 2v14c0 1.1.9 2 2 2h14c1.1 0 2-.9 2-2V5c0-1.1-.9-2-2-2zM9 17H7v-7h2v7zm4 0h-2V7h2v10zm4 0h-2v-4h2v4z\"/>\n",
              "    </g>\n",
              "</svg>\n",
              "  </button>\n",
              "\n",
              "<style>\n",
              "  .colab-df-quickchart {\n",
              "      --bg-color: #E8F0FE;\n",
              "      --fill-color: #1967D2;\n",
              "      --hover-bg-color: #E2EBFA;\n",
              "      --hover-fill-color: #174EA6;\n",
              "      --disabled-fill-color: #AAA;\n",
              "      --disabled-bg-color: #DDD;\n",
              "  }\n",
              "\n",
              "  [theme=dark] .colab-df-quickchart {\n",
              "      --bg-color: #3B4455;\n",
              "      --fill-color: #D2E3FC;\n",
              "      --hover-bg-color: #434B5C;\n",
              "      --hover-fill-color: #FFFFFF;\n",
              "      --disabled-bg-color: #3B4455;\n",
              "      --disabled-fill-color: #666;\n",
              "  }\n",
              "\n",
              "  .colab-df-quickchart {\n",
              "    background-color: var(--bg-color);\n",
              "    border: none;\n",
              "    border-radius: 50%;\n",
              "    cursor: pointer;\n",
              "    display: none;\n",
              "    fill: var(--fill-color);\n",
              "    height: 32px;\n",
              "    padding: 0;\n",
              "    width: 32px;\n",
              "  }\n",
              "\n",
              "  .colab-df-quickchart:hover {\n",
              "    background-color: var(--hover-bg-color);\n",
              "    box-shadow: 0 1px 2px rgba(60, 64, 67, 0.3), 0 1px 3px 1px rgba(60, 64, 67, 0.15);\n",
              "    fill: var(--button-hover-fill-color);\n",
              "  }\n",
              "\n",
              "  .colab-df-quickchart-complete:disabled,\n",
              "  .colab-df-quickchart-complete:disabled:hover {\n",
              "    background-color: var(--disabled-bg-color);\n",
              "    fill: var(--disabled-fill-color);\n",
              "    box-shadow: none;\n",
              "  }\n",
              "\n",
              "  .colab-df-spinner {\n",
              "    border: 2px solid var(--fill-color);\n",
              "    border-color: transparent;\n",
              "    border-bottom-color: var(--fill-color);\n",
              "    animation:\n",
              "      spin 1s steps(1) infinite;\n",
              "  }\n",
              "\n",
              "  @keyframes spin {\n",
              "    0% {\n",
              "      border-color: transparent;\n",
              "      border-bottom-color: var(--fill-color);\n",
              "      border-left-color: var(--fill-color);\n",
              "    }\n",
              "    20% {\n",
              "      border-color: transparent;\n",
              "      border-left-color: var(--fill-color);\n",
              "      border-top-color: var(--fill-color);\n",
              "    }\n",
              "    30% {\n",
              "      border-color: transparent;\n",
              "      border-left-color: var(--fill-color);\n",
              "      border-top-color: var(--fill-color);\n",
              "      border-right-color: var(--fill-color);\n",
              "    }\n",
              "    40% {\n",
              "      border-color: transparent;\n",
              "      border-right-color: var(--fill-color);\n",
              "      border-top-color: var(--fill-color);\n",
              "    }\n",
              "    60% {\n",
              "      border-color: transparent;\n",
              "      border-right-color: var(--fill-color);\n",
              "    }\n",
              "    80% {\n",
              "      border-color: transparent;\n",
              "      border-right-color: var(--fill-color);\n",
              "      border-bottom-color: var(--fill-color);\n",
              "    }\n",
              "    90% {\n",
              "      border-color: transparent;\n",
              "      border-bottom-color: var(--fill-color);\n",
              "    }\n",
              "  }\n",
              "</style>\n",
              "\n",
              "  <script>\n",
              "    async function quickchart(key) {\n",
              "      const quickchartButtonEl =\n",
              "        document.querySelector('#' + key + ' button');\n",
              "      quickchartButtonEl.disabled = true;  // To prevent multiple clicks.\n",
              "      quickchartButtonEl.classList.add('colab-df-spinner');\n",
              "      try {\n",
              "        const charts = await google.colab.kernel.invokeFunction(\n",
              "            'suggestCharts', [key], {});\n",
              "      } catch (error) {\n",
              "        console.error('Error during call to suggestCharts:', error);\n",
              "      }\n",
              "      quickchartButtonEl.classList.remove('colab-df-spinner');\n",
              "      quickchartButtonEl.classList.add('colab-df-quickchart-complete');\n",
              "    }\n",
              "    (() => {\n",
              "      let quickchartButtonEl =\n",
              "        document.querySelector('#df-83f1c845-2bb7-408a-bae2-a274a9cdd814 button');\n",
              "      quickchartButtonEl.style.display =\n",
              "        google.colab.kernel.accessAllowed ? 'block' : 'none';\n",
              "    })();\n",
              "  </script>\n",
              "</div>\n",
              "\n",
              "    </div>\n",
              "  </div>\n"
            ],
            "application/vnd.google.colaboratory.intrinsic+json": {
              "type": "dataframe",
              "variable_name": "df_train"
            }
          },
          "metadata": {},
          "execution_count": 13
        }
      ]
    },
    {
      "cell_type": "markdown",
      "source": [
        "##### Save Workspace"
      ],
      "metadata": {
        "id": "xVAU86BkIe4Z"
      },
      "id": "xVAU86BkIe4Z"
    },
    {
      "cell_type": "code",
      "source": [
        "joblib.dump(df_train, \"/content/drive/MyDrive/Colab Notebooks/894/Training/(3)_dfTrain_3.1.joblib\")\n",
        "joblib.dump(df_valid, \"/content/drive/MyDrive/Colab Notebooks/894/Validation/(3)_dfValid_3.1.joblib\")"
      ],
      "metadata": {
        "colab": {
          "base_uri": "https://localhost:8080/"
        },
        "id": "kvKEysUyIGTA",
        "outputId": "e41408b2-28a2-498b-fa73-a3c2dc74f496"
      },
      "id": "kvKEysUyIGTA",
      "execution_count": null,
      "outputs": [
        {
          "output_type": "execute_result",
          "data": {
            "text/plain": [
              "['/content/drive/MyDrive/Colab Notebooks/894/Validation/(3)_dfValid_3.1.joblib']"
            ]
          },
          "metadata": {},
          "execution_count": 9
        }
      ]
    },
    {
      "cell_type": "markdown",
      "source": [
        "### 3.2 Model Architecture"
      ],
      "metadata": {
        "id": "xTrSQUP32wZn"
      },
      "id": "xTrSQUP32wZn"
    },
    {
      "cell_type": "markdown",
      "source": [
        "##### Load Workspace"
      ],
      "metadata": {
        "id": "WhIHsMWtIhBy"
      },
      "id": "WhIHsMWtIhBy"
    },
    {
      "cell_type": "code",
      "source": [
        "df_train = joblib.load(\"/content/drive/MyDrive/Colab Notebooks/894/Training/(3)_dfTrain_3.1.joblib\")\n",
        "df_valid = joblib.load(\"/content/drive/MyDrive/Colab Notebooks/894/Validation/(3)_dfValid_3.1.joblib\")\n",
        "df_train.head()"
      ],
      "metadata": {
        "id": "fUH3b-rDIirq"
      },
      "id": "fUH3b-rDIirq",
      "execution_count": null,
      "outputs": []
    },
    {
      "cell_type": "markdown",
      "source": [
        "##### Multi-Input Neural Network"
      ],
      "metadata": {
        "id": "5zq76B2I47b6"
      },
      "id": "5zq76B2I47b6"
    },
    {
      "cell_type": "code",
      "source": [
        "# Set the number of unique categories in each categorical feature\n",
        "num_answer_types = df_train['answer_type_encoded'].nunique()\n",
        "num_confidence_levels = df_train['answer_confidence_encoded'].nunique()\n",
        "\n",
        "answer_type_input = Input(shape=(1,), name='answer_type_input')\n",
        "answer_type_embedding = Embedding(input_dim=num_answer_types, output_dim=16)(answer_type_input)\n",
        "answer_type_embedding = Flatten()(answer_type_embedding)  # Flatten to get a 1D vector\n",
        "\n",
        "answer_confidence_input = Input(shape=(1,), name='answer_confidence_input')\n",
        "answer_confidence_embedding = Embedding(input_dim=num_confidence_levels, output_dim=8)(answer_confidence_input)\n",
        "answer_confidence_embedding = Flatten()(answer_confidence_embedding)"
      ],
      "metadata": {
        "id": "5W4ry16JzfCA"
      },
      "id": "5W4ry16JzfCA",
      "execution_count": null,
      "outputs": []
    },
    {
      "cell_type": "code",
      "source": [
        "question_embedding_input = Input(shape=(df_train['question_embedding'].iloc[0].shape[0],), name='question_embedding_input')\n",
        "answer_embedding_input = Input(shape=(df_train['answer_embedding'].iloc[0].shape[0],), name='answer_embedding_input')\n",
        "\n",
        "# Convert the list to a NumPy array before accessing shape\n",
        "filtered_choices_input = Input(shape=(np.array(df_train['filtered_multiple_choices_embedding'].iloc[0]).shape[0],), name='filtered_multiple_choices_input')\n",
        "\n",
        "image_input = Input(shape=(df_train.iloc[0, :2048].shape[0],), name='image_input')"
      ],
      "metadata": {
        "id": "dufBbzUdz8PQ"
      },
      "id": "dufBbzUdz8PQ",
      "execution_count": null,
      "outputs": []
    },
    {
      "cell_type": "code",
      "source": [
        "combined = Concatenate()([question_embedding_input, answer_embedding_input,\n",
        "                          image_input, answer_type_embedding,\n",
        "                          answer_confidence_embedding,filtered_choices_input])"
      ],
      "metadata": {
        "id": "K7xzISe_0Cwi"
      },
      "id": "K7xzISe_0Cwi",
      "execution_count": null,
      "outputs": []
    },
    {
      "cell_type": "code",
      "source": [
        "x = Dense(128, activation='relu')(combined)\n",
        "x = Dense(64, activation='relu')(x)"
      ],
      "metadata": {
        "id": "qp4m7WMB1Mx2"
      },
      "id": "qp4m7WMB1Mx2",
      "execution_count": null,
      "outputs": []
    },
    {
      "cell_type": "code",
      "source": [
        "num_classes = len(df_train['target_answer'].unique())  # Adjust as needed\n",
        "output = Dense(num_classes, activation='softmax')(x)"
      ],
      "metadata": {
        "id": "DbXlB4vy1Gx0"
      },
      "id": "DbXlB4vy1Gx0",
      "execution_count": null,
      "outputs": []
    },
    {
      "cell_type": "code",
      "source": [
        "model = Model(inputs=[question_embedding_input, answer_embedding_input, image_input,\n",
        "                      answer_type_input, answer_confidence_input, filtered_choices_input],  # Include `filtered_choices_input`\n",
        "              outputs=output)\n",
        "\n",
        "model.compile(optimizer=Adam(learning_rate=0.001), loss='categorical_crossentropy', metrics=['accuracy'])\n",
        "\n",
        "print(model.summary())"
      ],
      "metadata": {
        "colab": {
          "base_uri": "https://localhost:8080/",
          "height": 759
        },
        "id": "GM3agXsv1Rj6",
        "outputId": "707de3c6-53e6-4070-d2cd-72e079247f71"
      },
      "id": "GM3agXsv1Rj6",
      "execution_count": null,
      "outputs": [
        {
          "output_type": "display_data",
          "data": {
            "text/plain": [
              "\u001b[1mModel: \"functional\"\u001b[0m\n"
            ],
            "text/html": [
              "<pre style=\"white-space:pre;overflow-x:auto;line-height:normal;font-family:Menlo,'DejaVu Sans Mono',consolas,'Courier New',monospace\"><span style=\"font-weight: bold\">Model: \"functional\"</span>\n",
              "</pre>\n"
            ]
          },
          "metadata": {}
        },
        {
          "output_type": "display_data",
          "data": {
            "text/plain": [
              "┏━━━━━━━━━━━━━━━━━━━━━━━━━━━┳━━━━━━━━━━━━━━━━━━━━━━━━┳━━━━━━━━━━━━━━━━┳━━━━━━━━━━━━━━━━━━━━━━━━┓\n",
              "┃\u001b[1m \u001b[0m\u001b[1mLayer (type)             \u001b[0m\u001b[1m \u001b[0m┃\u001b[1m \u001b[0m\u001b[1mOutput Shape          \u001b[0m\u001b[1m \u001b[0m┃\u001b[1m \u001b[0m\u001b[1m       Param #\u001b[0m\u001b[1m \u001b[0m┃\u001b[1m \u001b[0m\u001b[1mConnected to          \u001b[0m\u001b[1m \u001b[0m┃\n",
              "┡━━━━━━━━━━━━━━━━━━━━━━━━━━━╇━━━━━━━━━━━━━━━━━━━━━━━━╇━━━━━━━━━━━━━━━━╇━━━━━━━━━━━━━━━━━━━━━━━━┩\n",
              "│ answer_type_input         │ (\u001b[38;5;45mNone\u001b[0m, \u001b[38;5;34m1\u001b[0m)              │              \u001b[38;5;34m0\u001b[0m │ -                      │\n",
              "│ (\u001b[38;5;33mInputLayer\u001b[0m)              │                        │                │                        │\n",
              "├───────────────────────────┼────────────────────────┼────────────────┼────────────────────────┤\n",
              "│ answer_confidence_input   │ (\u001b[38;5;45mNone\u001b[0m, \u001b[38;5;34m1\u001b[0m)              │              \u001b[38;5;34m0\u001b[0m │ -                      │\n",
              "│ (\u001b[38;5;33mInputLayer\u001b[0m)              │                        │                │                        │\n",
              "├───────────────────────────┼────────────────────────┼────────────────┼────────────────────────┤\n",
              "│ embedding (\u001b[38;5;33mEmbedding\u001b[0m)     │ (\u001b[38;5;45mNone\u001b[0m, \u001b[38;5;34m1\u001b[0m, \u001b[38;5;34m16\u001b[0m)          │             \u001b[38;5;34m48\u001b[0m │ answer_type_input[\u001b[38;5;34m0\u001b[0m][\u001b[38;5;34m…\u001b[0m │\n",
              "├───────────────────────────┼────────────────────────┼────────────────┼────────────────────────┤\n",
              "│ embedding_1 (\u001b[38;5;33mEmbedding\u001b[0m)   │ (\u001b[38;5;45mNone\u001b[0m, \u001b[38;5;34m1\u001b[0m, \u001b[38;5;34m8\u001b[0m)           │             \u001b[38;5;34m24\u001b[0m │ answer_confidence_inp… │\n",
              "├───────────────────────────┼────────────────────────┼────────────────┼────────────────────────┤\n",
              "│ question_embedding_input  │ (\u001b[38;5;45mNone\u001b[0m, \u001b[38;5;34m300\u001b[0m)            │              \u001b[38;5;34m0\u001b[0m │ -                      │\n",
              "│ (\u001b[38;5;33mInputLayer\u001b[0m)              │                        │                │                        │\n",
              "├───────────────────────────┼────────────────────────┼────────────────┼────────────────────────┤\n",
              "│ answer_embedding_input    │ (\u001b[38;5;45mNone\u001b[0m, \u001b[38;5;34m300\u001b[0m)            │              \u001b[38;5;34m0\u001b[0m │ -                      │\n",
              "│ (\u001b[38;5;33mInputLayer\u001b[0m)              │                        │                │                        │\n",
              "├───────────────────────────┼────────────────────────┼────────────────┼────────────────────────┤\n",
              "│ image_input (\u001b[38;5;33mInputLayer\u001b[0m)  │ (\u001b[38;5;45mNone\u001b[0m, \u001b[38;5;34m2048\u001b[0m)           │              \u001b[38;5;34m0\u001b[0m │ -                      │\n",
              "├───────────────────────────┼────────────────────────┼────────────────┼────────────────────────┤\n",
              "│ flatten (\u001b[38;5;33mFlatten\u001b[0m)         │ (\u001b[38;5;45mNone\u001b[0m, \u001b[38;5;34m16\u001b[0m)             │              \u001b[38;5;34m0\u001b[0m │ embedding[\u001b[38;5;34m0\u001b[0m][\u001b[38;5;34m0\u001b[0m]        │\n",
              "├───────────────────────────┼────────────────────────┼────────────────┼────────────────────────┤\n",
              "│ flatten_1 (\u001b[38;5;33mFlatten\u001b[0m)       │ (\u001b[38;5;45mNone\u001b[0m, \u001b[38;5;34m8\u001b[0m)              │              \u001b[38;5;34m0\u001b[0m │ embedding_1[\u001b[38;5;34m0\u001b[0m][\u001b[38;5;34m0\u001b[0m]      │\n",
              "├───────────────────────────┼────────────────────────┼────────────────┼────────────────────────┤\n",
              "│ filtered_multiple_choice… │ (\u001b[38;5;45mNone\u001b[0m, \u001b[38;5;34m12\u001b[0m)             │              \u001b[38;5;34m0\u001b[0m │ -                      │\n",
              "│ (\u001b[38;5;33mInputLayer\u001b[0m)              │                        │                │                        │\n",
              "├───────────────────────────┼────────────────────────┼────────────────┼────────────────────────┤\n",
              "│ concatenate (\u001b[38;5;33mConcatenate\u001b[0m) │ (\u001b[38;5;45mNone\u001b[0m, \u001b[38;5;34m2684\u001b[0m)           │              \u001b[38;5;34m0\u001b[0m │ question_embedding_in… │\n",
              "│                           │                        │                │ answer_embedding_inpu… │\n",
              "│                           │                        │                │ image_input[\u001b[38;5;34m0\u001b[0m][\u001b[38;5;34m0\u001b[0m],     │\n",
              "│                           │                        │                │ flatten[\u001b[38;5;34m0\u001b[0m][\u001b[38;5;34m0\u001b[0m],         │\n",
              "│                           │                        │                │ flatten_1[\u001b[38;5;34m0\u001b[0m][\u001b[38;5;34m0\u001b[0m],       │\n",
              "│                           │                        │                │ filtered_multiple_cho… │\n",
              "├───────────────────────────┼────────────────────────┼────────────────┼────────────────────────┤\n",
              "│ dense (\u001b[38;5;33mDense\u001b[0m)             │ (\u001b[38;5;45mNone\u001b[0m, \u001b[38;5;34m128\u001b[0m)            │        \u001b[38;5;34m343,680\u001b[0m │ concatenate[\u001b[38;5;34m0\u001b[0m][\u001b[38;5;34m0\u001b[0m]      │\n",
              "├───────────────────────────┼────────────────────────┼────────────────┼────────────────────────┤\n",
              "│ dense_1 (\u001b[38;5;33mDense\u001b[0m)           │ (\u001b[38;5;45mNone\u001b[0m, \u001b[38;5;34m64\u001b[0m)             │          \u001b[38;5;34m8,256\u001b[0m │ dense[\u001b[38;5;34m0\u001b[0m][\u001b[38;5;34m0\u001b[0m]            │\n",
              "├───────────────────────────┼────────────────────────┼────────────────┼────────────────────────┤\n",
              "│ dense_2 (\u001b[38;5;33mDense\u001b[0m)           │ (\u001b[38;5;45mNone\u001b[0m, \u001b[38;5;34m2521\u001b[0m)           │        \u001b[38;5;34m163,865\u001b[0m │ dense_1[\u001b[38;5;34m0\u001b[0m][\u001b[38;5;34m0\u001b[0m]          │\n",
              "└───────────────────────────┴────────────────────────┴────────────────┴────────────────────────┘\n"
            ],
            "text/html": [
              "<pre style=\"white-space:pre;overflow-x:auto;line-height:normal;font-family:Menlo,'DejaVu Sans Mono',consolas,'Courier New',monospace\">┏━━━━━━━━━━━━━━━━━━━━━━━━━━━┳━━━━━━━━━━━━━━━━━━━━━━━━┳━━━━━━━━━━━━━━━━┳━━━━━━━━━━━━━━━━━━━━━━━━┓\n",
              "┃<span style=\"font-weight: bold\"> Layer (type)              </span>┃<span style=\"font-weight: bold\"> Output Shape           </span>┃<span style=\"font-weight: bold\">        Param # </span>┃<span style=\"font-weight: bold\"> Connected to           </span>┃\n",
              "┡━━━━━━━━━━━━━━━━━━━━━━━━━━━╇━━━━━━━━━━━━━━━━━━━━━━━━╇━━━━━━━━━━━━━━━━╇━━━━━━━━━━━━━━━━━━━━━━━━┩\n",
              "│ answer_type_input         │ (<span style=\"color: #00d7ff; text-decoration-color: #00d7ff\">None</span>, <span style=\"color: #00af00; text-decoration-color: #00af00\">1</span>)              │              <span style=\"color: #00af00; text-decoration-color: #00af00\">0</span> │ -                      │\n",
              "│ (<span style=\"color: #0087ff; text-decoration-color: #0087ff\">InputLayer</span>)              │                        │                │                        │\n",
              "├───────────────────────────┼────────────────────────┼────────────────┼────────────────────────┤\n",
              "│ answer_confidence_input   │ (<span style=\"color: #00d7ff; text-decoration-color: #00d7ff\">None</span>, <span style=\"color: #00af00; text-decoration-color: #00af00\">1</span>)              │              <span style=\"color: #00af00; text-decoration-color: #00af00\">0</span> │ -                      │\n",
              "│ (<span style=\"color: #0087ff; text-decoration-color: #0087ff\">InputLayer</span>)              │                        │                │                        │\n",
              "├───────────────────────────┼────────────────────────┼────────────────┼────────────────────────┤\n",
              "│ embedding (<span style=\"color: #0087ff; text-decoration-color: #0087ff\">Embedding</span>)     │ (<span style=\"color: #00d7ff; text-decoration-color: #00d7ff\">None</span>, <span style=\"color: #00af00; text-decoration-color: #00af00\">1</span>, <span style=\"color: #00af00; text-decoration-color: #00af00\">16</span>)          │             <span style=\"color: #00af00; text-decoration-color: #00af00\">48</span> │ answer_type_input[<span style=\"color: #00af00; text-decoration-color: #00af00\">0</span>][<span style=\"color: #00af00; text-decoration-color: #00af00\">…</span> │\n",
              "├───────────────────────────┼────────────────────────┼────────────────┼────────────────────────┤\n",
              "│ embedding_1 (<span style=\"color: #0087ff; text-decoration-color: #0087ff\">Embedding</span>)   │ (<span style=\"color: #00d7ff; text-decoration-color: #00d7ff\">None</span>, <span style=\"color: #00af00; text-decoration-color: #00af00\">1</span>, <span style=\"color: #00af00; text-decoration-color: #00af00\">8</span>)           │             <span style=\"color: #00af00; text-decoration-color: #00af00\">24</span> │ answer_confidence_inp… │\n",
              "├───────────────────────────┼────────────────────────┼────────────────┼────────────────────────┤\n",
              "│ question_embedding_input  │ (<span style=\"color: #00d7ff; text-decoration-color: #00d7ff\">None</span>, <span style=\"color: #00af00; text-decoration-color: #00af00\">300</span>)            │              <span style=\"color: #00af00; text-decoration-color: #00af00\">0</span> │ -                      │\n",
              "│ (<span style=\"color: #0087ff; text-decoration-color: #0087ff\">InputLayer</span>)              │                        │                │                        │\n",
              "├───────────────────────────┼────────────────────────┼────────────────┼────────────────────────┤\n",
              "│ answer_embedding_input    │ (<span style=\"color: #00d7ff; text-decoration-color: #00d7ff\">None</span>, <span style=\"color: #00af00; text-decoration-color: #00af00\">300</span>)            │              <span style=\"color: #00af00; text-decoration-color: #00af00\">0</span> │ -                      │\n",
              "│ (<span style=\"color: #0087ff; text-decoration-color: #0087ff\">InputLayer</span>)              │                        │                │                        │\n",
              "├───────────────────────────┼────────────────────────┼────────────────┼────────────────────────┤\n",
              "│ image_input (<span style=\"color: #0087ff; text-decoration-color: #0087ff\">InputLayer</span>)  │ (<span style=\"color: #00d7ff; text-decoration-color: #00d7ff\">None</span>, <span style=\"color: #00af00; text-decoration-color: #00af00\">2048</span>)           │              <span style=\"color: #00af00; text-decoration-color: #00af00\">0</span> │ -                      │\n",
              "├───────────────────────────┼────────────────────────┼────────────────┼────────────────────────┤\n",
              "│ flatten (<span style=\"color: #0087ff; text-decoration-color: #0087ff\">Flatten</span>)         │ (<span style=\"color: #00d7ff; text-decoration-color: #00d7ff\">None</span>, <span style=\"color: #00af00; text-decoration-color: #00af00\">16</span>)             │              <span style=\"color: #00af00; text-decoration-color: #00af00\">0</span> │ embedding[<span style=\"color: #00af00; text-decoration-color: #00af00\">0</span>][<span style=\"color: #00af00; text-decoration-color: #00af00\">0</span>]        │\n",
              "├───────────────────────────┼────────────────────────┼────────────────┼────────────────────────┤\n",
              "│ flatten_1 (<span style=\"color: #0087ff; text-decoration-color: #0087ff\">Flatten</span>)       │ (<span style=\"color: #00d7ff; text-decoration-color: #00d7ff\">None</span>, <span style=\"color: #00af00; text-decoration-color: #00af00\">8</span>)              │              <span style=\"color: #00af00; text-decoration-color: #00af00\">0</span> │ embedding_1[<span style=\"color: #00af00; text-decoration-color: #00af00\">0</span>][<span style=\"color: #00af00; text-decoration-color: #00af00\">0</span>]      │\n",
              "├───────────────────────────┼────────────────────────┼────────────────┼────────────────────────┤\n",
              "│ filtered_multiple_choice… │ (<span style=\"color: #00d7ff; text-decoration-color: #00d7ff\">None</span>, <span style=\"color: #00af00; text-decoration-color: #00af00\">12</span>)             │              <span style=\"color: #00af00; text-decoration-color: #00af00\">0</span> │ -                      │\n",
              "│ (<span style=\"color: #0087ff; text-decoration-color: #0087ff\">InputLayer</span>)              │                        │                │                        │\n",
              "├───────────────────────────┼────────────────────────┼────────────────┼────────────────────────┤\n",
              "│ concatenate (<span style=\"color: #0087ff; text-decoration-color: #0087ff\">Concatenate</span>) │ (<span style=\"color: #00d7ff; text-decoration-color: #00d7ff\">None</span>, <span style=\"color: #00af00; text-decoration-color: #00af00\">2684</span>)           │              <span style=\"color: #00af00; text-decoration-color: #00af00\">0</span> │ question_embedding_in… │\n",
              "│                           │                        │                │ answer_embedding_inpu… │\n",
              "│                           │                        │                │ image_input[<span style=\"color: #00af00; text-decoration-color: #00af00\">0</span>][<span style=\"color: #00af00; text-decoration-color: #00af00\">0</span>],     │\n",
              "│                           │                        │                │ flatten[<span style=\"color: #00af00; text-decoration-color: #00af00\">0</span>][<span style=\"color: #00af00; text-decoration-color: #00af00\">0</span>],         │\n",
              "│                           │                        │                │ flatten_1[<span style=\"color: #00af00; text-decoration-color: #00af00\">0</span>][<span style=\"color: #00af00; text-decoration-color: #00af00\">0</span>],       │\n",
              "│                           │                        │                │ filtered_multiple_cho… │\n",
              "├───────────────────────────┼────────────────────────┼────────────────┼────────────────────────┤\n",
              "│ dense (<span style=\"color: #0087ff; text-decoration-color: #0087ff\">Dense</span>)             │ (<span style=\"color: #00d7ff; text-decoration-color: #00d7ff\">None</span>, <span style=\"color: #00af00; text-decoration-color: #00af00\">128</span>)            │        <span style=\"color: #00af00; text-decoration-color: #00af00\">343,680</span> │ concatenate[<span style=\"color: #00af00; text-decoration-color: #00af00\">0</span>][<span style=\"color: #00af00; text-decoration-color: #00af00\">0</span>]      │\n",
              "├───────────────────────────┼────────────────────────┼────────────────┼────────────────────────┤\n",
              "│ dense_1 (<span style=\"color: #0087ff; text-decoration-color: #0087ff\">Dense</span>)           │ (<span style=\"color: #00d7ff; text-decoration-color: #00d7ff\">None</span>, <span style=\"color: #00af00; text-decoration-color: #00af00\">64</span>)             │          <span style=\"color: #00af00; text-decoration-color: #00af00\">8,256</span> │ dense[<span style=\"color: #00af00; text-decoration-color: #00af00\">0</span>][<span style=\"color: #00af00; text-decoration-color: #00af00\">0</span>]            │\n",
              "├───────────────────────────┼────────────────────────┼────────────────┼────────────────────────┤\n",
              "│ dense_2 (<span style=\"color: #0087ff; text-decoration-color: #0087ff\">Dense</span>)           │ (<span style=\"color: #00d7ff; text-decoration-color: #00d7ff\">None</span>, <span style=\"color: #00af00; text-decoration-color: #00af00\">2521</span>)           │        <span style=\"color: #00af00; text-decoration-color: #00af00\">163,865</span> │ dense_1[<span style=\"color: #00af00; text-decoration-color: #00af00\">0</span>][<span style=\"color: #00af00; text-decoration-color: #00af00\">0</span>]          │\n",
              "└───────────────────────────┴────────────────────────┴────────────────┴────────────────────────┘\n",
              "</pre>\n"
            ]
          },
          "metadata": {}
        },
        {
          "output_type": "display_data",
          "data": {
            "text/plain": [
              "\u001b[1m Total params: \u001b[0m\u001b[38;5;34m515,873\u001b[0m (1.97 MB)\n"
            ],
            "text/html": [
              "<pre style=\"white-space:pre;overflow-x:auto;line-height:normal;font-family:Menlo,'DejaVu Sans Mono',consolas,'Courier New',monospace\"><span style=\"font-weight: bold\"> Total params: </span><span style=\"color: #00af00; text-decoration-color: #00af00\">515,873</span> (1.97 MB)\n",
              "</pre>\n"
            ]
          },
          "metadata": {}
        },
        {
          "output_type": "display_data",
          "data": {
            "text/plain": [
              "\u001b[1m Trainable params: \u001b[0m\u001b[38;5;34m515,873\u001b[0m (1.97 MB)\n"
            ],
            "text/html": [
              "<pre style=\"white-space:pre;overflow-x:auto;line-height:normal;font-family:Menlo,'DejaVu Sans Mono',consolas,'Courier New',monospace\"><span style=\"font-weight: bold\"> Trainable params: </span><span style=\"color: #00af00; text-decoration-color: #00af00\">515,873</span> (1.97 MB)\n",
              "</pre>\n"
            ]
          },
          "metadata": {}
        },
        {
          "output_type": "display_data",
          "data": {
            "text/plain": [
              "\u001b[1m Non-trainable params: \u001b[0m\u001b[38;5;34m0\u001b[0m (0.00 B)\n"
            ],
            "text/html": [
              "<pre style=\"white-space:pre;overflow-x:auto;line-height:normal;font-family:Menlo,'DejaVu Sans Mono',consolas,'Courier New',monospace\"><span style=\"font-weight: bold\"> Non-trainable params: </span><span style=\"color: #00af00; text-decoration-color: #00af00\">0</span> (0.00 B)\n",
              "</pre>\n"
            ]
          },
          "metadata": {}
        },
        {
          "output_type": "stream",
          "name": "stdout",
          "text": [
            "None\n"
          ]
        }
      ]
    },
    {
      "source": [
        "# Training inputs\n",
        "train_inputs = {\n",
        "    'question_embedding_input': np.vstack(df_train['question_embedding'].values),\n",
        "    'answer_embedding_input': np.vstack(df_train['answer_embedding'].values),\n",
        "    'image_input': df_train.iloc[:, :2048].values,\n",
        "    'answer_type_input': df_train['answer_type_encoded'].values,\n",
        "    'answer_confidence_input': df_train['answer_confidence_encoded'].values\n",
        "}\n",
        "\n",
        "# One-hot encode the target labels (assumes `target_answer` is the target column)\n",
        "train_labels = pd.get_dummies(df_train['target_answer']).values\n",
        "\n",
        "# Validation inputs\n",
        "valid_inputs = {\n",
        "    'question_embedding_input': np.vstack(df_valid['question_embedding'].values),\n",
        "    'answer_embedding_input': np.vstack(df_valid['answer_embedding'].values),\n",
        "    'image_input': df_valid.iloc[:, :2048].values,\n",
        "    'answer_type_input': df_valid['answer_type_encoded'].values,\n",
        "    'answer_confidence_input': df_valid['answer_confidence_encoded'].values\n",
        "}\n",
        "\n",
        "# One-hot encode validation labels\n",
        "valid_labels = pd.get_dummies(df_valid['target_answer']).values"
      ],
      "cell_type": "code",
      "metadata": {
        "id": "wWcGnXu1GrIF"
      },
      "id": "wWcGnXu1GrIF",
      "execution_count": null,
      "outputs": []
    },
    {
      "cell_type": "code",
      "source": [
        "history = model.fit(train_inputs, train_labels, validation_data=(valid_inputs, valid_labels), epochs=10, batch_size=32)"
      ],
      "metadata": {
        "colab": {
          "base_uri": "https://localhost:8080/",
          "height": 408
        },
        "id": "rzaLxznY6VHx",
        "outputId": "b113d448-cfa2-4ecb-b4ba-948d2ff4fb76"
      },
      "id": "rzaLxznY6VHx",
      "execution_count": null,
      "outputs": [
        {
          "output_type": "stream",
          "name": "stdout",
          "text": [
            "Epoch 1/10\n"
          ]
        },
        {
          "output_type": "error",
          "ename": "ValueError",
          "evalue": "Missing data for input \"filtered_multiple_choices_input\". You passed a data dictionary with keys ['question_embedding_input', 'answer_embedding_input', 'image_input', 'answer_type_input', 'answer_confidence_input']. Expected the following keys: ['question_embedding_input', 'answer_embedding_input', 'image_input', 'answer_type_input', 'answer_confidence_input', 'filtered_multiple_choices_input']",
          "traceback": [
            "\u001b[0;31m---------------------------------------------------------------------------\u001b[0m",
            "\u001b[0;31mValueError\u001b[0m                                Traceback (most recent call last)",
            "\u001b[0;32m<ipython-input-19-ebf9381a2d47>\u001b[0m in \u001b[0;36m<cell line: 1>\u001b[0;34m()\u001b[0m\n\u001b[0;32m----> 1\u001b[0;31m \u001b[0mhistory\u001b[0m \u001b[0;34m=\u001b[0m \u001b[0mmodel\u001b[0m\u001b[0;34m.\u001b[0m\u001b[0mfit\u001b[0m\u001b[0;34m(\u001b[0m\u001b[0mtrain_inputs\u001b[0m\u001b[0;34m,\u001b[0m \u001b[0mtrain_labels\u001b[0m\u001b[0;34m,\u001b[0m \u001b[0mvalidation_data\u001b[0m\u001b[0;34m=\u001b[0m\u001b[0;34m(\u001b[0m\u001b[0mvalid_inputs\u001b[0m\u001b[0;34m,\u001b[0m \u001b[0mvalid_labels\u001b[0m\u001b[0;34m)\u001b[0m\u001b[0;34m,\u001b[0m \u001b[0mepochs\u001b[0m\u001b[0;34m=\u001b[0m\u001b[0;36m10\u001b[0m\u001b[0;34m,\u001b[0m \u001b[0mbatch_size\u001b[0m\u001b[0;34m=\u001b[0m\u001b[0;36m32\u001b[0m\u001b[0;34m)\u001b[0m  \u001b[0;31m# Train for 10 epochs with a batch size of 32\u001b[0m\u001b[0;34m\u001b[0m\u001b[0;34m\u001b[0m\u001b[0m\n\u001b[0m",
            "\u001b[0;32m/usr/local/lib/python3.10/dist-packages/keras/src/utils/traceback_utils.py\u001b[0m in \u001b[0;36merror_handler\u001b[0;34m(*args, **kwargs)\u001b[0m\n\u001b[1;32m    120\u001b[0m             \u001b[0;31m# To get the full stack trace, call:\u001b[0m\u001b[0;34m\u001b[0m\u001b[0;34m\u001b[0m\u001b[0m\n\u001b[1;32m    121\u001b[0m             \u001b[0;31m# `keras.config.disable_traceback_filtering()`\u001b[0m\u001b[0;34m\u001b[0m\u001b[0;34m\u001b[0m\u001b[0m\n\u001b[0;32m--> 122\u001b[0;31m             \u001b[0;32mraise\u001b[0m \u001b[0me\u001b[0m\u001b[0;34m.\u001b[0m\u001b[0mwith_traceback\u001b[0m\u001b[0;34m(\u001b[0m\u001b[0mfiltered_tb\u001b[0m\u001b[0;34m)\u001b[0m \u001b[0;32mfrom\u001b[0m \u001b[0;32mNone\u001b[0m\u001b[0;34m\u001b[0m\u001b[0;34m\u001b[0m\u001b[0m\n\u001b[0m\u001b[1;32m    123\u001b[0m         \u001b[0;32mfinally\u001b[0m\u001b[0;34m:\u001b[0m\u001b[0;34m\u001b[0m\u001b[0;34m\u001b[0m\u001b[0m\n\u001b[1;32m    124\u001b[0m             \u001b[0;32mdel\u001b[0m \u001b[0mfiltered_tb\u001b[0m\u001b[0;34m\u001b[0m\u001b[0;34m\u001b[0m\u001b[0m\n",
            "\u001b[0;32m/usr/local/lib/python3.10/dist-packages/keras/src/layers/input_spec.py\u001b[0m in \u001b[0;36massert_input_compatibility\u001b[0;34m(input_spec, inputs, layer_name)\u001b[0m\n\u001b[1;32m    147\u001b[0m             \u001b[0;32mfor\u001b[0m \u001b[0mname\u001b[0m \u001b[0;32min\u001b[0m \u001b[0mnames\u001b[0m\u001b[0;34m:\u001b[0m\u001b[0;34m\u001b[0m\u001b[0;34m\u001b[0m\u001b[0m\n\u001b[1;32m    148\u001b[0m                 \u001b[0;32mif\u001b[0m \u001b[0mname\u001b[0m \u001b[0;32mnot\u001b[0m \u001b[0;32min\u001b[0m \u001b[0minputs\u001b[0m\u001b[0;34m:\u001b[0m\u001b[0;34m\u001b[0m\u001b[0;34m\u001b[0m\u001b[0m\n\u001b[0;32m--> 149\u001b[0;31m                     raise ValueError(\n\u001b[0m\u001b[1;32m    150\u001b[0m                         \u001b[0;34mf'Missing data for input \"{name}\". '\u001b[0m\u001b[0;34m\u001b[0m\u001b[0;34m\u001b[0m\u001b[0m\n\u001b[1;32m    151\u001b[0m                         \u001b[0;34m\"You passed a data dictionary with keys \"\u001b[0m\u001b[0;34m\u001b[0m\u001b[0;34m\u001b[0m\u001b[0m\n",
            "\u001b[0;31mValueError\u001b[0m: Missing data for input \"filtered_multiple_choices_input\". You passed a data dictionary with keys ['question_embedding_input', 'answer_embedding_input', 'image_input', 'answer_type_input', 'answer_confidence_input']. Expected the following keys: ['question_embedding_input', 'answer_embedding_input', 'image_input', 'answer_type_input', 'answer_confidence_input', 'filtered_multiple_choices_input']"
          ]
        }
      ]
    },
    {
      "cell_type": "code",
      "source": [
        "validation_loss, validation_accuracy = model.evaluate(valid_inputs, valid_labels)\n",
        "print(f'Validation Loss: {validation_loss}, Validation Accuracy: {validation_accuracy}')\n"
      ],
      "metadata": {
        "id": "J7P3MTYTH6tS"
      },
      "id": "J7P3MTYTH6tS",
      "execution_count": null,
      "outputs": []
    }
  ],
  "metadata": {
    "accelerator": "GPU",
    "colab": {
      "gpuType": "A100",
      "machine_shape": "hm",
      "provenance": [],
      "collapsed_sections": [
        "k3pAq_F9EzT9"
      ],
      "include_colab_link": true
    },
    "kernelspec": {
      "display_name": "Python 3",
      "name": "python3"
    },
    "language_info": {
      "codemirror_mode": {
        "name": "ipython",
        "version": 3
      },
      "file_extension": ".py",
      "mimetype": "text/x-python",
      "name": "python",
      "nbconvert_exporter": "python",
      "pygments_lexer": "ipython3",
      "version": "3.11.7"
    }
  },
  "nbformat": 4,
  "nbformat_minor": 5
}